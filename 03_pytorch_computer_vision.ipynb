{
  "nbformat": 4,
  "nbformat_minor": 0,
  "metadata": {
    "colab": {
      "provenance": [],
      "gpuType": "T4"
    },
    "kernelspec": {
      "name": "python3",
      "display_name": "Python 3"
    },
    "language_info": {
      "name": "python"
    },
    "widgets": {
      "application/vnd.jupyter.widget-state+json": {
        "2ef4b40cda7f4a5c875113e01f069d5c": {
          "model_module": "@jupyter-widgets/controls",
          "model_name": "HBoxModel",
          "model_module_version": "1.5.0",
          "state": {
            "_dom_classes": [],
            "_model_module": "@jupyter-widgets/controls",
            "_model_module_version": "1.5.0",
            "_model_name": "HBoxModel",
            "_view_count": null,
            "_view_module": "@jupyter-widgets/controls",
            "_view_module_version": "1.5.0",
            "_view_name": "HBoxView",
            "box_style": "",
            "children": [
              "IPY_MODEL_62b64f6f847a411b83084b15ef339aea",
              "IPY_MODEL_bd4ff69f698444858f9deccf69b96deb",
              "IPY_MODEL_2659a2b1debf4d6e891f596c0b50530e"
            ],
            "layout": "IPY_MODEL_0bf9739c6f5b4f3787c773c4d775d5fd"
          }
        },
        "62b64f6f847a411b83084b15ef339aea": {
          "model_module": "@jupyter-widgets/controls",
          "model_name": "HTMLModel",
          "model_module_version": "1.5.0",
          "state": {
            "_dom_classes": [],
            "_model_module": "@jupyter-widgets/controls",
            "_model_module_version": "1.5.0",
            "_model_name": "HTMLModel",
            "_view_count": null,
            "_view_module": "@jupyter-widgets/controls",
            "_view_module_version": "1.5.0",
            "_view_name": "HTMLView",
            "description": "",
            "description_tooltip": null,
            "layout": "IPY_MODEL_6a4d3b7261a342378c5c917f10f91266",
            "placeholder": "​",
            "style": "IPY_MODEL_71cf3849bbc643a1bfbaafb920cd6787",
            "value": "100%"
          }
        },
        "bd4ff69f698444858f9deccf69b96deb": {
          "model_module": "@jupyter-widgets/controls",
          "model_name": "FloatProgressModel",
          "model_module_version": "1.5.0",
          "state": {
            "_dom_classes": [],
            "_model_module": "@jupyter-widgets/controls",
            "_model_module_version": "1.5.0",
            "_model_name": "FloatProgressModel",
            "_view_count": null,
            "_view_module": "@jupyter-widgets/controls",
            "_view_module_version": "1.5.0",
            "_view_name": "ProgressView",
            "bar_style": "success",
            "description": "",
            "description_tooltip": null,
            "layout": "IPY_MODEL_60c4532540f747508341921481b918e9",
            "max": 3,
            "min": 0,
            "orientation": "horizontal",
            "style": "IPY_MODEL_899d08afe6a84ee88a560adbde1d52a3",
            "value": 3
          }
        },
        "2659a2b1debf4d6e891f596c0b50530e": {
          "model_module": "@jupyter-widgets/controls",
          "model_name": "HTMLModel",
          "model_module_version": "1.5.0",
          "state": {
            "_dom_classes": [],
            "_model_module": "@jupyter-widgets/controls",
            "_model_module_version": "1.5.0",
            "_model_name": "HTMLModel",
            "_view_count": null,
            "_view_module": "@jupyter-widgets/controls",
            "_view_module_version": "1.5.0",
            "_view_name": "HTMLView",
            "description": "",
            "description_tooltip": null,
            "layout": "IPY_MODEL_e5840bbe78c74850aa7d083bc5b6e20e",
            "placeholder": "​",
            "style": "IPY_MODEL_33de57bd25c746c48ba320349f7bdfb2",
            "value": " 3/3 [00:36&lt;00:00, 11.42s/it]"
          }
        },
        "0bf9739c6f5b4f3787c773c4d775d5fd": {
          "model_module": "@jupyter-widgets/base",
          "model_name": "LayoutModel",
          "model_module_version": "1.2.0",
          "state": {
            "_model_module": "@jupyter-widgets/base",
            "_model_module_version": "1.2.0",
            "_model_name": "LayoutModel",
            "_view_count": null,
            "_view_module": "@jupyter-widgets/base",
            "_view_module_version": "1.2.0",
            "_view_name": "LayoutView",
            "align_content": null,
            "align_items": null,
            "align_self": null,
            "border": null,
            "bottom": null,
            "display": null,
            "flex": null,
            "flex_flow": null,
            "grid_area": null,
            "grid_auto_columns": null,
            "grid_auto_flow": null,
            "grid_auto_rows": null,
            "grid_column": null,
            "grid_gap": null,
            "grid_row": null,
            "grid_template_areas": null,
            "grid_template_columns": null,
            "grid_template_rows": null,
            "height": null,
            "justify_content": null,
            "justify_items": null,
            "left": null,
            "margin": null,
            "max_height": null,
            "max_width": null,
            "min_height": null,
            "min_width": null,
            "object_fit": null,
            "object_position": null,
            "order": null,
            "overflow": null,
            "overflow_x": null,
            "overflow_y": null,
            "padding": null,
            "right": null,
            "top": null,
            "visibility": null,
            "width": null
          }
        },
        "6a4d3b7261a342378c5c917f10f91266": {
          "model_module": "@jupyter-widgets/base",
          "model_name": "LayoutModel",
          "model_module_version": "1.2.0",
          "state": {
            "_model_module": "@jupyter-widgets/base",
            "_model_module_version": "1.2.0",
            "_model_name": "LayoutModel",
            "_view_count": null,
            "_view_module": "@jupyter-widgets/base",
            "_view_module_version": "1.2.0",
            "_view_name": "LayoutView",
            "align_content": null,
            "align_items": null,
            "align_self": null,
            "border": null,
            "bottom": null,
            "display": null,
            "flex": null,
            "flex_flow": null,
            "grid_area": null,
            "grid_auto_columns": null,
            "grid_auto_flow": null,
            "grid_auto_rows": null,
            "grid_column": null,
            "grid_gap": null,
            "grid_row": null,
            "grid_template_areas": null,
            "grid_template_columns": null,
            "grid_template_rows": null,
            "height": null,
            "justify_content": null,
            "justify_items": null,
            "left": null,
            "margin": null,
            "max_height": null,
            "max_width": null,
            "min_height": null,
            "min_width": null,
            "object_fit": null,
            "object_position": null,
            "order": null,
            "overflow": null,
            "overflow_x": null,
            "overflow_y": null,
            "padding": null,
            "right": null,
            "top": null,
            "visibility": null,
            "width": null
          }
        },
        "71cf3849bbc643a1bfbaafb920cd6787": {
          "model_module": "@jupyter-widgets/controls",
          "model_name": "DescriptionStyleModel",
          "model_module_version": "1.5.0",
          "state": {
            "_model_module": "@jupyter-widgets/controls",
            "_model_module_version": "1.5.0",
            "_model_name": "DescriptionStyleModel",
            "_view_count": null,
            "_view_module": "@jupyter-widgets/base",
            "_view_module_version": "1.2.0",
            "_view_name": "StyleView",
            "description_width": ""
          }
        },
        "60c4532540f747508341921481b918e9": {
          "model_module": "@jupyter-widgets/base",
          "model_name": "LayoutModel",
          "model_module_version": "1.2.0",
          "state": {
            "_model_module": "@jupyter-widgets/base",
            "_model_module_version": "1.2.0",
            "_model_name": "LayoutModel",
            "_view_count": null,
            "_view_module": "@jupyter-widgets/base",
            "_view_module_version": "1.2.0",
            "_view_name": "LayoutView",
            "align_content": null,
            "align_items": null,
            "align_self": null,
            "border": null,
            "bottom": null,
            "display": null,
            "flex": null,
            "flex_flow": null,
            "grid_area": null,
            "grid_auto_columns": null,
            "grid_auto_flow": null,
            "grid_auto_rows": null,
            "grid_column": null,
            "grid_gap": null,
            "grid_row": null,
            "grid_template_areas": null,
            "grid_template_columns": null,
            "grid_template_rows": null,
            "height": null,
            "justify_content": null,
            "justify_items": null,
            "left": null,
            "margin": null,
            "max_height": null,
            "max_width": null,
            "min_height": null,
            "min_width": null,
            "object_fit": null,
            "object_position": null,
            "order": null,
            "overflow": null,
            "overflow_x": null,
            "overflow_y": null,
            "padding": null,
            "right": null,
            "top": null,
            "visibility": null,
            "width": null
          }
        },
        "899d08afe6a84ee88a560adbde1d52a3": {
          "model_module": "@jupyter-widgets/controls",
          "model_name": "ProgressStyleModel",
          "model_module_version": "1.5.0",
          "state": {
            "_model_module": "@jupyter-widgets/controls",
            "_model_module_version": "1.5.0",
            "_model_name": "ProgressStyleModel",
            "_view_count": null,
            "_view_module": "@jupyter-widgets/base",
            "_view_module_version": "1.2.0",
            "_view_name": "StyleView",
            "bar_color": null,
            "description_width": ""
          }
        },
        "e5840bbe78c74850aa7d083bc5b6e20e": {
          "model_module": "@jupyter-widgets/base",
          "model_name": "LayoutModel",
          "model_module_version": "1.2.0",
          "state": {
            "_model_module": "@jupyter-widgets/base",
            "_model_module_version": "1.2.0",
            "_model_name": "LayoutModel",
            "_view_count": null,
            "_view_module": "@jupyter-widgets/base",
            "_view_module_version": "1.2.0",
            "_view_name": "LayoutView",
            "align_content": null,
            "align_items": null,
            "align_self": null,
            "border": null,
            "bottom": null,
            "display": null,
            "flex": null,
            "flex_flow": null,
            "grid_area": null,
            "grid_auto_columns": null,
            "grid_auto_flow": null,
            "grid_auto_rows": null,
            "grid_column": null,
            "grid_gap": null,
            "grid_row": null,
            "grid_template_areas": null,
            "grid_template_columns": null,
            "grid_template_rows": null,
            "height": null,
            "justify_content": null,
            "justify_items": null,
            "left": null,
            "margin": null,
            "max_height": null,
            "max_width": null,
            "min_height": null,
            "min_width": null,
            "object_fit": null,
            "object_position": null,
            "order": null,
            "overflow": null,
            "overflow_x": null,
            "overflow_y": null,
            "padding": null,
            "right": null,
            "top": null,
            "visibility": null,
            "width": null
          }
        },
        "33de57bd25c746c48ba320349f7bdfb2": {
          "model_module": "@jupyter-widgets/controls",
          "model_name": "DescriptionStyleModel",
          "model_module_version": "1.5.0",
          "state": {
            "_model_module": "@jupyter-widgets/controls",
            "_model_module_version": "1.5.0",
            "_model_name": "DescriptionStyleModel",
            "_view_count": null,
            "_view_module": "@jupyter-widgets/base",
            "_view_module_version": "1.2.0",
            "_view_name": "StyleView",
            "description_width": ""
          }
        },
        "9a381f44b84e43a69b3ef19b38ad7485": {
          "model_module": "@jupyter-widgets/controls",
          "model_name": "HBoxModel",
          "model_module_version": "1.5.0",
          "state": {
            "_dom_classes": [],
            "_model_module": "@jupyter-widgets/controls",
            "_model_module_version": "1.5.0",
            "_model_name": "HBoxModel",
            "_view_count": null,
            "_view_module": "@jupyter-widgets/controls",
            "_view_module_version": "1.5.0",
            "_view_name": "HBoxView",
            "box_style": "",
            "children": [
              "IPY_MODEL_20d4776d1c53465ba9bf511d937dd976",
              "IPY_MODEL_b9857fd6a6cf47318ca5387e7af3be77",
              "IPY_MODEL_81f99a03e19a4b2995ce1c10ab8f6d1a"
            ],
            "layout": "IPY_MODEL_76be3f5e30f94b5cbb885b264b576c89"
          }
        },
        "20d4776d1c53465ba9bf511d937dd976": {
          "model_module": "@jupyter-widgets/controls",
          "model_name": "HTMLModel",
          "model_module_version": "1.5.0",
          "state": {
            "_dom_classes": [],
            "_model_module": "@jupyter-widgets/controls",
            "_model_module_version": "1.5.0",
            "_model_name": "HTMLModel",
            "_view_count": null,
            "_view_module": "@jupyter-widgets/controls",
            "_view_module_version": "1.5.0",
            "_view_name": "HTMLView",
            "description": "",
            "description_tooltip": null,
            "layout": "IPY_MODEL_3600172942ae40c3a2006ac8d23ff08c",
            "placeholder": "​",
            "style": "IPY_MODEL_116bc46fa9c04a07baa7daf1c99e43a8",
            "value": "100%"
          }
        },
        "b9857fd6a6cf47318ca5387e7af3be77": {
          "model_module": "@jupyter-widgets/controls",
          "model_name": "FloatProgressModel",
          "model_module_version": "1.5.0",
          "state": {
            "_dom_classes": [],
            "_model_module": "@jupyter-widgets/controls",
            "_model_module_version": "1.5.0",
            "_model_name": "FloatProgressModel",
            "_view_count": null,
            "_view_module": "@jupyter-widgets/controls",
            "_view_module_version": "1.5.0",
            "_view_name": "ProgressView",
            "bar_style": "success",
            "description": "",
            "description_tooltip": null,
            "layout": "IPY_MODEL_9093407aac4d4af59ee85b394bbe2395",
            "max": 313,
            "min": 0,
            "orientation": "horizontal",
            "style": "IPY_MODEL_bb663b5460a949aab2f46fb98d106bbd",
            "value": 313
          }
        },
        "81f99a03e19a4b2995ce1c10ab8f6d1a": {
          "model_module": "@jupyter-widgets/controls",
          "model_name": "HTMLModel",
          "model_module_version": "1.5.0",
          "state": {
            "_dom_classes": [],
            "_model_module": "@jupyter-widgets/controls",
            "_model_module_version": "1.5.0",
            "_model_name": "HTMLModel",
            "_view_count": null,
            "_view_module": "@jupyter-widgets/controls",
            "_view_module_version": "1.5.0",
            "_view_name": "HTMLView",
            "description": "",
            "description_tooltip": null,
            "layout": "IPY_MODEL_50cec87f87964bfba6c53f25145c88f1",
            "placeholder": "​",
            "style": "IPY_MODEL_0bf7d728340c4e9e9a8bfcaf4a5eea61",
            "value": " 313/313 [00:01&lt;00:00, 267.84it/s]"
          }
        },
        "76be3f5e30f94b5cbb885b264b576c89": {
          "model_module": "@jupyter-widgets/base",
          "model_name": "LayoutModel",
          "model_module_version": "1.2.0",
          "state": {
            "_model_module": "@jupyter-widgets/base",
            "_model_module_version": "1.2.0",
            "_model_name": "LayoutModel",
            "_view_count": null,
            "_view_module": "@jupyter-widgets/base",
            "_view_module_version": "1.2.0",
            "_view_name": "LayoutView",
            "align_content": null,
            "align_items": null,
            "align_self": null,
            "border": null,
            "bottom": null,
            "display": null,
            "flex": null,
            "flex_flow": null,
            "grid_area": null,
            "grid_auto_columns": null,
            "grid_auto_flow": null,
            "grid_auto_rows": null,
            "grid_column": null,
            "grid_gap": null,
            "grid_row": null,
            "grid_template_areas": null,
            "grid_template_columns": null,
            "grid_template_rows": null,
            "height": null,
            "justify_content": null,
            "justify_items": null,
            "left": null,
            "margin": null,
            "max_height": null,
            "max_width": null,
            "min_height": null,
            "min_width": null,
            "object_fit": null,
            "object_position": null,
            "order": null,
            "overflow": null,
            "overflow_x": null,
            "overflow_y": null,
            "padding": null,
            "right": null,
            "top": null,
            "visibility": null,
            "width": null
          }
        },
        "3600172942ae40c3a2006ac8d23ff08c": {
          "model_module": "@jupyter-widgets/base",
          "model_name": "LayoutModel",
          "model_module_version": "1.2.0",
          "state": {
            "_model_module": "@jupyter-widgets/base",
            "_model_module_version": "1.2.0",
            "_model_name": "LayoutModel",
            "_view_count": null,
            "_view_module": "@jupyter-widgets/base",
            "_view_module_version": "1.2.0",
            "_view_name": "LayoutView",
            "align_content": null,
            "align_items": null,
            "align_self": null,
            "border": null,
            "bottom": null,
            "display": null,
            "flex": null,
            "flex_flow": null,
            "grid_area": null,
            "grid_auto_columns": null,
            "grid_auto_flow": null,
            "grid_auto_rows": null,
            "grid_column": null,
            "grid_gap": null,
            "grid_row": null,
            "grid_template_areas": null,
            "grid_template_columns": null,
            "grid_template_rows": null,
            "height": null,
            "justify_content": null,
            "justify_items": null,
            "left": null,
            "margin": null,
            "max_height": null,
            "max_width": null,
            "min_height": null,
            "min_width": null,
            "object_fit": null,
            "object_position": null,
            "order": null,
            "overflow": null,
            "overflow_x": null,
            "overflow_y": null,
            "padding": null,
            "right": null,
            "top": null,
            "visibility": null,
            "width": null
          }
        },
        "116bc46fa9c04a07baa7daf1c99e43a8": {
          "model_module": "@jupyter-widgets/controls",
          "model_name": "DescriptionStyleModel",
          "model_module_version": "1.5.0",
          "state": {
            "_model_module": "@jupyter-widgets/controls",
            "_model_module_version": "1.5.0",
            "_model_name": "DescriptionStyleModel",
            "_view_count": null,
            "_view_module": "@jupyter-widgets/base",
            "_view_module_version": "1.2.0",
            "_view_name": "StyleView",
            "description_width": ""
          }
        },
        "9093407aac4d4af59ee85b394bbe2395": {
          "model_module": "@jupyter-widgets/base",
          "model_name": "LayoutModel",
          "model_module_version": "1.2.0",
          "state": {
            "_model_module": "@jupyter-widgets/base",
            "_model_module_version": "1.2.0",
            "_model_name": "LayoutModel",
            "_view_count": null,
            "_view_module": "@jupyter-widgets/base",
            "_view_module_version": "1.2.0",
            "_view_name": "LayoutView",
            "align_content": null,
            "align_items": null,
            "align_self": null,
            "border": null,
            "bottom": null,
            "display": null,
            "flex": null,
            "flex_flow": null,
            "grid_area": null,
            "grid_auto_columns": null,
            "grid_auto_flow": null,
            "grid_auto_rows": null,
            "grid_column": null,
            "grid_gap": null,
            "grid_row": null,
            "grid_template_areas": null,
            "grid_template_columns": null,
            "grid_template_rows": null,
            "height": null,
            "justify_content": null,
            "justify_items": null,
            "left": null,
            "margin": null,
            "max_height": null,
            "max_width": null,
            "min_height": null,
            "min_width": null,
            "object_fit": null,
            "object_position": null,
            "order": null,
            "overflow": null,
            "overflow_x": null,
            "overflow_y": null,
            "padding": null,
            "right": null,
            "top": null,
            "visibility": null,
            "width": null
          }
        },
        "bb663b5460a949aab2f46fb98d106bbd": {
          "model_module": "@jupyter-widgets/controls",
          "model_name": "ProgressStyleModel",
          "model_module_version": "1.5.0",
          "state": {
            "_model_module": "@jupyter-widgets/controls",
            "_model_module_version": "1.5.0",
            "_model_name": "ProgressStyleModel",
            "_view_count": null,
            "_view_module": "@jupyter-widgets/base",
            "_view_module_version": "1.2.0",
            "_view_name": "StyleView",
            "bar_color": null,
            "description_width": ""
          }
        },
        "50cec87f87964bfba6c53f25145c88f1": {
          "model_module": "@jupyter-widgets/base",
          "model_name": "LayoutModel",
          "model_module_version": "1.2.0",
          "state": {
            "_model_module": "@jupyter-widgets/base",
            "_model_module_version": "1.2.0",
            "_model_name": "LayoutModel",
            "_view_count": null,
            "_view_module": "@jupyter-widgets/base",
            "_view_module_version": "1.2.0",
            "_view_name": "LayoutView",
            "align_content": null,
            "align_items": null,
            "align_self": null,
            "border": null,
            "bottom": null,
            "display": null,
            "flex": null,
            "flex_flow": null,
            "grid_area": null,
            "grid_auto_columns": null,
            "grid_auto_flow": null,
            "grid_auto_rows": null,
            "grid_column": null,
            "grid_gap": null,
            "grid_row": null,
            "grid_template_areas": null,
            "grid_template_columns": null,
            "grid_template_rows": null,
            "height": null,
            "justify_content": null,
            "justify_items": null,
            "left": null,
            "margin": null,
            "max_height": null,
            "max_width": null,
            "min_height": null,
            "min_width": null,
            "object_fit": null,
            "object_position": null,
            "order": null,
            "overflow": null,
            "overflow_x": null,
            "overflow_y": null,
            "padding": null,
            "right": null,
            "top": null,
            "visibility": null,
            "width": null
          }
        },
        "0bf7d728340c4e9e9a8bfcaf4a5eea61": {
          "model_module": "@jupyter-widgets/controls",
          "model_name": "DescriptionStyleModel",
          "model_module_version": "1.5.0",
          "state": {
            "_model_module": "@jupyter-widgets/controls",
            "_model_module_version": "1.5.0",
            "_model_name": "DescriptionStyleModel",
            "_view_count": null,
            "_view_module": "@jupyter-widgets/base",
            "_view_module_version": "1.2.0",
            "_view_name": "StyleView",
            "description_width": ""
          }
        },
        "2e60e086e93d4cc096c9ad1511ae16b0": {
          "model_module": "@jupyter-widgets/controls",
          "model_name": "HBoxModel",
          "model_module_version": "1.5.0",
          "state": {
            "_dom_classes": [],
            "_model_module": "@jupyter-widgets/controls",
            "_model_module_version": "1.5.0",
            "_model_name": "HBoxModel",
            "_view_count": null,
            "_view_module": "@jupyter-widgets/controls",
            "_view_module_version": "1.5.0",
            "_view_name": "HBoxView",
            "box_style": "",
            "children": [
              "IPY_MODEL_273fd7af71ea423c8caa9889188b6659",
              "IPY_MODEL_4631819f3a784b03ad468cb671fab8fd",
              "IPY_MODEL_23a20ced572e4bb9bd96b7b196b937ef"
            ],
            "layout": "IPY_MODEL_af3d95ddd13c4a6c8582610212277c80"
          }
        },
        "273fd7af71ea423c8caa9889188b6659": {
          "model_module": "@jupyter-widgets/controls",
          "model_name": "HTMLModel",
          "model_module_version": "1.5.0",
          "state": {
            "_dom_classes": [],
            "_model_module": "@jupyter-widgets/controls",
            "_model_module_version": "1.5.0",
            "_model_name": "HTMLModel",
            "_view_count": null,
            "_view_module": "@jupyter-widgets/controls",
            "_view_module_version": "1.5.0",
            "_view_name": "HTMLView",
            "description": "",
            "description_tooltip": null,
            "layout": "IPY_MODEL_2a2ee13ac8424392ab3a63081f6fe51b",
            "placeholder": "​",
            "style": "IPY_MODEL_74a1c44cd11c4e2897eaa89678c18806",
            "value": "100%"
          }
        },
        "4631819f3a784b03ad468cb671fab8fd": {
          "model_module": "@jupyter-widgets/controls",
          "model_name": "FloatProgressModel",
          "model_module_version": "1.5.0",
          "state": {
            "_dom_classes": [],
            "_model_module": "@jupyter-widgets/controls",
            "_model_module_version": "1.5.0",
            "_model_name": "FloatProgressModel",
            "_view_count": null,
            "_view_module": "@jupyter-widgets/controls",
            "_view_module_version": "1.5.0",
            "_view_name": "ProgressView",
            "bar_style": "success",
            "description": "",
            "description_tooltip": null,
            "layout": "IPY_MODEL_769addc7c13649a9a0bb72971bee91bb",
            "max": 3,
            "min": 0,
            "orientation": "horizontal",
            "style": "IPY_MODEL_95991162ac1f4d7cb31addd8f2732362",
            "value": 3
          }
        },
        "23a20ced572e4bb9bd96b7b196b937ef": {
          "model_module": "@jupyter-widgets/controls",
          "model_name": "HTMLModel",
          "model_module_version": "1.5.0",
          "state": {
            "_dom_classes": [],
            "_model_module": "@jupyter-widgets/controls",
            "_model_module_version": "1.5.0",
            "_model_name": "HTMLModel",
            "_view_count": null,
            "_view_module": "@jupyter-widgets/controls",
            "_view_module_version": "1.5.0",
            "_view_name": "HTMLView",
            "description": "",
            "description_tooltip": null,
            "layout": "IPY_MODEL_137ee6f432f640bcadbdf1cde6678ed0",
            "placeholder": "​",
            "style": "IPY_MODEL_0387870796504c788a1cde684e931032",
            "value": " 3/3 [00:35&lt;00:00, 11.32s/it]"
          }
        },
        "af3d95ddd13c4a6c8582610212277c80": {
          "model_module": "@jupyter-widgets/base",
          "model_name": "LayoutModel",
          "model_module_version": "1.2.0",
          "state": {
            "_model_module": "@jupyter-widgets/base",
            "_model_module_version": "1.2.0",
            "_model_name": "LayoutModel",
            "_view_count": null,
            "_view_module": "@jupyter-widgets/base",
            "_view_module_version": "1.2.0",
            "_view_name": "LayoutView",
            "align_content": null,
            "align_items": null,
            "align_self": null,
            "border": null,
            "bottom": null,
            "display": null,
            "flex": null,
            "flex_flow": null,
            "grid_area": null,
            "grid_auto_columns": null,
            "grid_auto_flow": null,
            "grid_auto_rows": null,
            "grid_column": null,
            "grid_gap": null,
            "grid_row": null,
            "grid_template_areas": null,
            "grid_template_columns": null,
            "grid_template_rows": null,
            "height": null,
            "justify_content": null,
            "justify_items": null,
            "left": null,
            "margin": null,
            "max_height": null,
            "max_width": null,
            "min_height": null,
            "min_width": null,
            "object_fit": null,
            "object_position": null,
            "order": null,
            "overflow": null,
            "overflow_x": null,
            "overflow_y": null,
            "padding": null,
            "right": null,
            "top": null,
            "visibility": null,
            "width": null
          }
        },
        "2a2ee13ac8424392ab3a63081f6fe51b": {
          "model_module": "@jupyter-widgets/base",
          "model_name": "LayoutModel",
          "model_module_version": "1.2.0",
          "state": {
            "_model_module": "@jupyter-widgets/base",
            "_model_module_version": "1.2.0",
            "_model_name": "LayoutModel",
            "_view_count": null,
            "_view_module": "@jupyter-widgets/base",
            "_view_module_version": "1.2.0",
            "_view_name": "LayoutView",
            "align_content": null,
            "align_items": null,
            "align_self": null,
            "border": null,
            "bottom": null,
            "display": null,
            "flex": null,
            "flex_flow": null,
            "grid_area": null,
            "grid_auto_columns": null,
            "grid_auto_flow": null,
            "grid_auto_rows": null,
            "grid_column": null,
            "grid_gap": null,
            "grid_row": null,
            "grid_template_areas": null,
            "grid_template_columns": null,
            "grid_template_rows": null,
            "height": null,
            "justify_content": null,
            "justify_items": null,
            "left": null,
            "margin": null,
            "max_height": null,
            "max_width": null,
            "min_height": null,
            "min_width": null,
            "object_fit": null,
            "object_position": null,
            "order": null,
            "overflow": null,
            "overflow_x": null,
            "overflow_y": null,
            "padding": null,
            "right": null,
            "top": null,
            "visibility": null,
            "width": null
          }
        },
        "74a1c44cd11c4e2897eaa89678c18806": {
          "model_module": "@jupyter-widgets/controls",
          "model_name": "DescriptionStyleModel",
          "model_module_version": "1.5.0",
          "state": {
            "_model_module": "@jupyter-widgets/controls",
            "_model_module_version": "1.5.0",
            "_model_name": "DescriptionStyleModel",
            "_view_count": null,
            "_view_module": "@jupyter-widgets/base",
            "_view_module_version": "1.2.0",
            "_view_name": "StyleView",
            "description_width": ""
          }
        },
        "769addc7c13649a9a0bb72971bee91bb": {
          "model_module": "@jupyter-widgets/base",
          "model_name": "LayoutModel",
          "model_module_version": "1.2.0",
          "state": {
            "_model_module": "@jupyter-widgets/base",
            "_model_module_version": "1.2.0",
            "_model_name": "LayoutModel",
            "_view_count": null,
            "_view_module": "@jupyter-widgets/base",
            "_view_module_version": "1.2.0",
            "_view_name": "LayoutView",
            "align_content": null,
            "align_items": null,
            "align_self": null,
            "border": null,
            "bottom": null,
            "display": null,
            "flex": null,
            "flex_flow": null,
            "grid_area": null,
            "grid_auto_columns": null,
            "grid_auto_flow": null,
            "grid_auto_rows": null,
            "grid_column": null,
            "grid_gap": null,
            "grid_row": null,
            "grid_template_areas": null,
            "grid_template_columns": null,
            "grid_template_rows": null,
            "height": null,
            "justify_content": null,
            "justify_items": null,
            "left": null,
            "margin": null,
            "max_height": null,
            "max_width": null,
            "min_height": null,
            "min_width": null,
            "object_fit": null,
            "object_position": null,
            "order": null,
            "overflow": null,
            "overflow_x": null,
            "overflow_y": null,
            "padding": null,
            "right": null,
            "top": null,
            "visibility": null,
            "width": null
          }
        },
        "95991162ac1f4d7cb31addd8f2732362": {
          "model_module": "@jupyter-widgets/controls",
          "model_name": "ProgressStyleModel",
          "model_module_version": "1.5.0",
          "state": {
            "_model_module": "@jupyter-widgets/controls",
            "_model_module_version": "1.5.0",
            "_model_name": "ProgressStyleModel",
            "_view_count": null,
            "_view_module": "@jupyter-widgets/base",
            "_view_module_version": "1.2.0",
            "_view_name": "StyleView",
            "bar_color": null,
            "description_width": ""
          }
        },
        "137ee6f432f640bcadbdf1cde6678ed0": {
          "model_module": "@jupyter-widgets/base",
          "model_name": "LayoutModel",
          "model_module_version": "1.2.0",
          "state": {
            "_model_module": "@jupyter-widgets/base",
            "_model_module_version": "1.2.0",
            "_model_name": "LayoutModel",
            "_view_count": null,
            "_view_module": "@jupyter-widgets/base",
            "_view_module_version": "1.2.0",
            "_view_name": "LayoutView",
            "align_content": null,
            "align_items": null,
            "align_self": null,
            "border": null,
            "bottom": null,
            "display": null,
            "flex": null,
            "flex_flow": null,
            "grid_area": null,
            "grid_auto_columns": null,
            "grid_auto_flow": null,
            "grid_auto_rows": null,
            "grid_column": null,
            "grid_gap": null,
            "grid_row": null,
            "grid_template_areas": null,
            "grid_template_columns": null,
            "grid_template_rows": null,
            "height": null,
            "justify_content": null,
            "justify_items": null,
            "left": null,
            "margin": null,
            "max_height": null,
            "max_width": null,
            "min_height": null,
            "min_width": null,
            "object_fit": null,
            "object_position": null,
            "order": null,
            "overflow": null,
            "overflow_x": null,
            "overflow_y": null,
            "padding": null,
            "right": null,
            "top": null,
            "visibility": null,
            "width": null
          }
        },
        "0387870796504c788a1cde684e931032": {
          "model_module": "@jupyter-widgets/controls",
          "model_name": "DescriptionStyleModel",
          "model_module_version": "1.5.0",
          "state": {
            "_model_module": "@jupyter-widgets/controls",
            "_model_module_version": "1.5.0",
            "_model_name": "DescriptionStyleModel",
            "_view_count": null,
            "_view_module": "@jupyter-widgets/base",
            "_view_module_version": "1.2.0",
            "_view_name": "StyleView",
            "description_width": ""
          }
        },
        "2301d29518ed45fd908690680c4aa18a": {
          "model_module": "@jupyter-widgets/controls",
          "model_name": "HBoxModel",
          "model_module_version": "1.5.0",
          "state": {
            "_dom_classes": [],
            "_model_module": "@jupyter-widgets/controls",
            "_model_module_version": "1.5.0",
            "_model_name": "HBoxModel",
            "_view_count": null,
            "_view_module": "@jupyter-widgets/controls",
            "_view_module_version": "1.5.0",
            "_view_name": "HBoxView",
            "box_style": "",
            "children": [
              "IPY_MODEL_b4fb1d052261485c9309a10d7e19f59e",
              "IPY_MODEL_28c7fb903ead4570954995530c144a53",
              "IPY_MODEL_faad47c372d74c9f8f78835a0f3dbb60"
            ],
            "layout": "IPY_MODEL_22562d8352044a83a8dbf6d385acccae"
          }
        },
        "b4fb1d052261485c9309a10d7e19f59e": {
          "model_module": "@jupyter-widgets/controls",
          "model_name": "HTMLModel",
          "model_module_version": "1.5.0",
          "state": {
            "_dom_classes": [],
            "_model_module": "@jupyter-widgets/controls",
            "_model_module_version": "1.5.0",
            "_model_name": "HTMLModel",
            "_view_count": null,
            "_view_module": "@jupyter-widgets/controls",
            "_view_module_version": "1.5.0",
            "_view_name": "HTMLView",
            "description": "",
            "description_tooltip": null,
            "layout": "IPY_MODEL_eb23de157be2453bbde530361d5bcc12",
            "placeholder": "​",
            "style": "IPY_MODEL_38af96ba697e42de9d3e0f8a4d71b1ed",
            "value": "100%"
          }
        },
        "28c7fb903ead4570954995530c144a53": {
          "model_module": "@jupyter-widgets/controls",
          "model_name": "FloatProgressModel",
          "model_module_version": "1.5.0",
          "state": {
            "_dom_classes": [],
            "_model_module": "@jupyter-widgets/controls",
            "_model_module_version": "1.5.0",
            "_model_name": "FloatProgressModel",
            "_view_count": null,
            "_view_module": "@jupyter-widgets/controls",
            "_view_module_version": "1.5.0",
            "_view_name": "ProgressView",
            "bar_style": "success",
            "description": "",
            "description_tooltip": null,
            "layout": "IPY_MODEL_6a6cbf6014214e7d95d0c7e3e615c65b",
            "max": 313,
            "min": 0,
            "orientation": "horizontal",
            "style": "IPY_MODEL_5ef3619731d747da9fad06736251ef5a",
            "value": 313
          }
        },
        "faad47c372d74c9f8f78835a0f3dbb60": {
          "model_module": "@jupyter-widgets/controls",
          "model_name": "HTMLModel",
          "model_module_version": "1.5.0",
          "state": {
            "_dom_classes": [],
            "_model_module": "@jupyter-widgets/controls",
            "_model_module_version": "1.5.0",
            "_model_name": "HTMLModel",
            "_view_count": null,
            "_view_module": "@jupyter-widgets/controls",
            "_view_module_version": "1.5.0",
            "_view_name": "HTMLView",
            "description": "",
            "description_tooltip": null,
            "layout": "IPY_MODEL_db2b5b55ca784d4986929eb104fe1820",
            "placeholder": "​",
            "style": "IPY_MODEL_ce087039e29a44d1b35d95909da2f0bc",
            "value": " 313/313 [00:01&lt;00:00, 266.69it/s]"
          }
        },
        "22562d8352044a83a8dbf6d385acccae": {
          "model_module": "@jupyter-widgets/base",
          "model_name": "LayoutModel",
          "model_module_version": "1.2.0",
          "state": {
            "_model_module": "@jupyter-widgets/base",
            "_model_module_version": "1.2.0",
            "_model_name": "LayoutModel",
            "_view_count": null,
            "_view_module": "@jupyter-widgets/base",
            "_view_module_version": "1.2.0",
            "_view_name": "LayoutView",
            "align_content": null,
            "align_items": null,
            "align_self": null,
            "border": null,
            "bottom": null,
            "display": null,
            "flex": null,
            "flex_flow": null,
            "grid_area": null,
            "grid_auto_columns": null,
            "grid_auto_flow": null,
            "grid_auto_rows": null,
            "grid_column": null,
            "grid_gap": null,
            "grid_row": null,
            "grid_template_areas": null,
            "grid_template_columns": null,
            "grid_template_rows": null,
            "height": null,
            "justify_content": null,
            "justify_items": null,
            "left": null,
            "margin": null,
            "max_height": null,
            "max_width": null,
            "min_height": null,
            "min_width": null,
            "object_fit": null,
            "object_position": null,
            "order": null,
            "overflow": null,
            "overflow_x": null,
            "overflow_y": null,
            "padding": null,
            "right": null,
            "top": null,
            "visibility": null,
            "width": null
          }
        },
        "eb23de157be2453bbde530361d5bcc12": {
          "model_module": "@jupyter-widgets/base",
          "model_name": "LayoutModel",
          "model_module_version": "1.2.0",
          "state": {
            "_model_module": "@jupyter-widgets/base",
            "_model_module_version": "1.2.0",
            "_model_name": "LayoutModel",
            "_view_count": null,
            "_view_module": "@jupyter-widgets/base",
            "_view_module_version": "1.2.0",
            "_view_name": "LayoutView",
            "align_content": null,
            "align_items": null,
            "align_self": null,
            "border": null,
            "bottom": null,
            "display": null,
            "flex": null,
            "flex_flow": null,
            "grid_area": null,
            "grid_auto_columns": null,
            "grid_auto_flow": null,
            "grid_auto_rows": null,
            "grid_column": null,
            "grid_gap": null,
            "grid_row": null,
            "grid_template_areas": null,
            "grid_template_columns": null,
            "grid_template_rows": null,
            "height": null,
            "justify_content": null,
            "justify_items": null,
            "left": null,
            "margin": null,
            "max_height": null,
            "max_width": null,
            "min_height": null,
            "min_width": null,
            "object_fit": null,
            "object_position": null,
            "order": null,
            "overflow": null,
            "overflow_x": null,
            "overflow_y": null,
            "padding": null,
            "right": null,
            "top": null,
            "visibility": null,
            "width": null
          }
        },
        "38af96ba697e42de9d3e0f8a4d71b1ed": {
          "model_module": "@jupyter-widgets/controls",
          "model_name": "DescriptionStyleModel",
          "model_module_version": "1.5.0",
          "state": {
            "_model_module": "@jupyter-widgets/controls",
            "_model_module_version": "1.5.0",
            "_model_name": "DescriptionStyleModel",
            "_view_count": null,
            "_view_module": "@jupyter-widgets/base",
            "_view_module_version": "1.2.0",
            "_view_name": "StyleView",
            "description_width": ""
          }
        },
        "6a6cbf6014214e7d95d0c7e3e615c65b": {
          "model_module": "@jupyter-widgets/base",
          "model_name": "LayoutModel",
          "model_module_version": "1.2.0",
          "state": {
            "_model_module": "@jupyter-widgets/base",
            "_model_module_version": "1.2.0",
            "_model_name": "LayoutModel",
            "_view_count": null,
            "_view_module": "@jupyter-widgets/base",
            "_view_module_version": "1.2.0",
            "_view_name": "LayoutView",
            "align_content": null,
            "align_items": null,
            "align_self": null,
            "border": null,
            "bottom": null,
            "display": null,
            "flex": null,
            "flex_flow": null,
            "grid_area": null,
            "grid_auto_columns": null,
            "grid_auto_flow": null,
            "grid_auto_rows": null,
            "grid_column": null,
            "grid_gap": null,
            "grid_row": null,
            "grid_template_areas": null,
            "grid_template_columns": null,
            "grid_template_rows": null,
            "height": null,
            "justify_content": null,
            "justify_items": null,
            "left": null,
            "margin": null,
            "max_height": null,
            "max_width": null,
            "min_height": null,
            "min_width": null,
            "object_fit": null,
            "object_position": null,
            "order": null,
            "overflow": null,
            "overflow_x": null,
            "overflow_y": null,
            "padding": null,
            "right": null,
            "top": null,
            "visibility": null,
            "width": null
          }
        },
        "5ef3619731d747da9fad06736251ef5a": {
          "model_module": "@jupyter-widgets/controls",
          "model_name": "ProgressStyleModel",
          "model_module_version": "1.5.0",
          "state": {
            "_model_module": "@jupyter-widgets/controls",
            "_model_module_version": "1.5.0",
            "_model_name": "ProgressStyleModel",
            "_view_count": null,
            "_view_module": "@jupyter-widgets/base",
            "_view_module_version": "1.2.0",
            "_view_name": "StyleView",
            "bar_color": null,
            "description_width": ""
          }
        },
        "db2b5b55ca784d4986929eb104fe1820": {
          "model_module": "@jupyter-widgets/base",
          "model_name": "LayoutModel",
          "model_module_version": "1.2.0",
          "state": {
            "_model_module": "@jupyter-widgets/base",
            "_model_module_version": "1.2.0",
            "_model_name": "LayoutModel",
            "_view_count": null,
            "_view_module": "@jupyter-widgets/base",
            "_view_module_version": "1.2.0",
            "_view_name": "LayoutView",
            "align_content": null,
            "align_items": null,
            "align_self": null,
            "border": null,
            "bottom": null,
            "display": null,
            "flex": null,
            "flex_flow": null,
            "grid_area": null,
            "grid_auto_columns": null,
            "grid_auto_flow": null,
            "grid_auto_rows": null,
            "grid_column": null,
            "grid_gap": null,
            "grid_row": null,
            "grid_template_areas": null,
            "grid_template_columns": null,
            "grid_template_rows": null,
            "height": null,
            "justify_content": null,
            "justify_items": null,
            "left": null,
            "margin": null,
            "max_height": null,
            "max_width": null,
            "min_height": null,
            "min_width": null,
            "object_fit": null,
            "object_position": null,
            "order": null,
            "overflow": null,
            "overflow_x": null,
            "overflow_y": null,
            "padding": null,
            "right": null,
            "top": null,
            "visibility": null,
            "width": null
          }
        },
        "ce087039e29a44d1b35d95909da2f0bc": {
          "model_module": "@jupyter-widgets/controls",
          "model_name": "DescriptionStyleModel",
          "model_module_version": "1.5.0",
          "state": {
            "_model_module": "@jupyter-widgets/controls",
            "_model_module_version": "1.5.0",
            "_model_name": "DescriptionStyleModel",
            "_view_count": null,
            "_view_module": "@jupyter-widgets/base",
            "_view_module_version": "1.2.0",
            "_view_name": "StyleView",
            "description_width": ""
          }
        },
        "2feada07a30344c692703c7d74b41860": {
          "model_module": "@jupyter-widgets/controls",
          "model_name": "HBoxModel",
          "model_module_version": "1.5.0",
          "state": {
            "_dom_classes": [],
            "_model_module": "@jupyter-widgets/controls",
            "_model_module_version": "1.5.0",
            "_model_name": "HBoxModel",
            "_view_count": null,
            "_view_module": "@jupyter-widgets/controls",
            "_view_module_version": "1.5.0",
            "_view_name": "HBoxView",
            "box_style": "",
            "children": [
              "IPY_MODEL_7d5b647bddb2445a8b5e6714c3db4c7d",
              "IPY_MODEL_08e28a41c52042e49225ec90f43f3dfa",
              "IPY_MODEL_67c8d7008bcc4bc7a536bcb6149005a8"
            ],
            "layout": "IPY_MODEL_bfcc4497ec704889bebe87f3ef7de197"
          }
        },
        "7d5b647bddb2445a8b5e6714c3db4c7d": {
          "model_module": "@jupyter-widgets/controls",
          "model_name": "HTMLModel",
          "model_module_version": "1.5.0",
          "state": {
            "_dom_classes": [],
            "_model_module": "@jupyter-widgets/controls",
            "_model_module_version": "1.5.0",
            "_model_name": "HTMLModel",
            "_view_count": null,
            "_view_module": "@jupyter-widgets/controls",
            "_view_module_version": "1.5.0",
            "_view_name": "HTMLView",
            "description": "",
            "description_tooltip": null,
            "layout": "IPY_MODEL_76b1c02c2ff846fe8d09263b1c832105",
            "placeholder": "​",
            "style": "IPY_MODEL_fd5d71527dd8402dbe9fe054d70ff243",
            "value": "100%"
          }
        },
        "08e28a41c52042e49225ec90f43f3dfa": {
          "model_module": "@jupyter-widgets/controls",
          "model_name": "FloatProgressModel",
          "model_module_version": "1.5.0",
          "state": {
            "_dom_classes": [],
            "_model_module": "@jupyter-widgets/controls",
            "_model_module_version": "1.5.0",
            "_model_name": "FloatProgressModel",
            "_view_count": null,
            "_view_module": "@jupyter-widgets/controls",
            "_view_module_version": "1.5.0",
            "_view_name": "ProgressView",
            "bar_style": "success",
            "description": "",
            "description_tooltip": null,
            "layout": "IPY_MODEL_9e2f44c2800e405f813fb17c2c965cd7",
            "max": 3,
            "min": 0,
            "orientation": "horizontal",
            "style": "IPY_MODEL_4dee367107bc4d58a04a9ab8d1294ef0",
            "value": 3
          }
        },
        "67c8d7008bcc4bc7a536bcb6149005a8": {
          "model_module": "@jupyter-widgets/controls",
          "model_name": "HTMLModel",
          "model_module_version": "1.5.0",
          "state": {
            "_dom_classes": [],
            "_model_module": "@jupyter-widgets/controls",
            "_model_module_version": "1.5.0",
            "_model_name": "HTMLModel",
            "_view_count": null,
            "_view_module": "@jupyter-widgets/controls",
            "_view_module_version": "1.5.0",
            "_view_name": "HTMLView",
            "description": "",
            "description_tooltip": null,
            "layout": "IPY_MODEL_a882d12653a54cdbb9759d5486f5e67a",
            "placeholder": "​",
            "style": "IPY_MODEL_3aa12caba6db4576886c918d0219088b",
            "value": " 3/3 [00:36&lt;00:00, 12.23s/it]"
          }
        },
        "bfcc4497ec704889bebe87f3ef7de197": {
          "model_module": "@jupyter-widgets/base",
          "model_name": "LayoutModel",
          "model_module_version": "1.2.0",
          "state": {
            "_model_module": "@jupyter-widgets/base",
            "_model_module_version": "1.2.0",
            "_model_name": "LayoutModel",
            "_view_count": null,
            "_view_module": "@jupyter-widgets/base",
            "_view_module_version": "1.2.0",
            "_view_name": "LayoutView",
            "align_content": null,
            "align_items": null,
            "align_self": null,
            "border": null,
            "bottom": null,
            "display": null,
            "flex": null,
            "flex_flow": null,
            "grid_area": null,
            "grid_auto_columns": null,
            "grid_auto_flow": null,
            "grid_auto_rows": null,
            "grid_column": null,
            "grid_gap": null,
            "grid_row": null,
            "grid_template_areas": null,
            "grid_template_columns": null,
            "grid_template_rows": null,
            "height": null,
            "justify_content": null,
            "justify_items": null,
            "left": null,
            "margin": null,
            "max_height": null,
            "max_width": null,
            "min_height": null,
            "min_width": null,
            "object_fit": null,
            "object_position": null,
            "order": null,
            "overflow": null,
            "overflow_x": null,
            "overflow_y": null,
            "padding": null,
            "right": null,
            "top": null,
            "visibility": null,
            "width": null
          }
        },
        "76b1c02c2ff846fe8d09263b1c832105": {
          "model_module": "@jupyter-widgets/base",
          "model_name": "LayoutModel",
          "model_module_version": "1.2.0",
          "state": {
            "_model_module": "@jupyter-widgets/base",
            "_model_module_version": "1.2.0",
            "_model_name": "LayoutModel",
            "_view_count": null,
            "_view_module": "@jupyter-widgets/base",
            "_view_module_version": "1.2.0",
            "_view_name": "LayoutView",
            "align_content": null,
            "align_items": null,
            "align_self": null,
            "border": null,
            "bottom": null,
            "display": null,
            "flex": null,
            "flex_flow": null,
            "grid_area": null,
            "grid_auto_columns": null,
            "grid_auto_flow": null,
            "grid_auto_rows": null,
            "grid_column": null,
            "grid_gap": null,
            "grid_row": null,
            "grid_template_areas": null,
            "grid_template_columns": null,
            "grid_template_rows": null,
            "height": null,
            "justify_content": null,
            "justify_items": null,
            "left": null,
            "margin": null,
            "max_height": null,
            "max_width": null,
            "min_height": null,
            "min_width": null,
            "object_fit": null,
            "object_position": null,
            "order": null,
            "overflow": null,
            "overflow_x": null,
            "overflow_y": null,
            "padding": null,
            "right": null,
            "top": null,
            "visibility": null,
            "width": null
          }
        },
        "fd5d71527dd8402dbe9fe054d70ff243": {
          "model_module": "@jupyter-widgets/controls",
          "model_name": "DescriptionStyleModel",
          "model_module_version": "1.5.0",
          "state": {
            "_model_module": "@jupyter-widgets/controls",
            "_model_module_version": "1.5.0",
            "_model_name": "DescriptionStyleModel",
            "_view_count": null,
            "_view_module": "@jupyter-widgets/base",
            "_view_module_version": "1.2.0",
            "_view_name": "StyleView",
            "description_width": ""
          }
        },
        "9e2f44c2800e405f813fb17c2c965cd7": {
          "model_module": "@jupyter-widgets/base",
          "model_name": "LayoutModel",
          "model_module_version": "1.2.0",
          "state": {
            "_model_module": "@jupyter-widgets/base",
            "_model_module_version": "1.2.0",
            "_model_name": "LayoutModel",
            "_view_count": null,
            "_view_module": "@jupyter-widgets/base",
            "_view_module_version": "1.2.0",
            "_view_name": "LayoutView",
            "align_content": null,
            "align_items": null,
            "align_self": null,
            "border": null,
            "bottom": null,
            "display": null,
            "flex": null,
            "flex_flow": null,
            "grid_area": null,
            "grid_auto_columns": null,
            "grid_auto_flow": null,
            "grid_auto_rows": null,
            "grid_column": null,
            "grid_gap": null,
            "grid_row": null,
            "grid_template_areas": null,
            "grid_template_columns": null,
            "grid_template_rows": null,
            "height": null,
            "justify_content": null,
            "justify_items": null,
            "left": null,
            "margin": null,
            "max_height": null,
            "max_width": null,
            "min_height": null,
            "min_width": null,
            "object_fit": null,
            "object_position": null,
            "order": null,
            "overflow": null,
            "overflow_x": null,
            "overflow_y": null,
            "padding": null,
            "right": null,
            "top": null,
            "visibility": null,
            "width": null
          }
        },
        "4dee367107bc4d58a04a9ab8d1294ef0": {
          "model_module": "@jupyter-widgets/controls",
          "model_name": "ProgressStyleModel",
          "model_module_version": "1.5.0",
          "state": {
            "_model_module": "@jupyter-widgets/controls",
            "_model_module_version": "1.5.0",
            "_model_name": "ProgressStyleModel",
            "_view_count": null,
            "_view_module": "@jupyter-widgets/base",
            "_view_module_version": "1.2.0",
            "_view_name": "StyleView",
            "bar_color": null,
            "description_width": ""
          }
        },
        "a882d12653a54cdbb9759d5486f5e67a": {
          "model_module": "@jupyter-widgets/base",
          "model_name": "LayoutModel",
          "model_module_version": "1.2.0",
          "state": {
            "_model_module": "@jupyter-widgets/base",
            "_model_module_version": "1.2.0",
            "_model_name": "LayoutModel",
            "_view_count": null,
            "_view_module": "@jupyter-widgets/base",
            "_view_module_version": "1.2.0",
            "_view_name": "LayoutView",
            "align_content": null,
            "align_items": null,
            "align_self": null,
            "border": null,
            "bottom": null,
            "display": null,
            "flex": null,
            "flex_flow": null,
            "grid_area": null,
            "grid_auto_columns": null,
            "grid_auto_flow": null,
            "grid_auto_rows": null,
            "grid_column": null,
            "grid_gap": null,
            "grid_row": null,
            "grid_template_areas": null,
            "grid_template_columns": null,
            "grid_template_rows": null,
            "height": null,
            "justify_content": null,
            "justify_items": null,
            "left": null,
            "margin": null,
            "max_height": null,
            "max_width": null,
            "min_height": null,
            "min_width": null,
            "object_fit": null,
            "object_position": null,
            "order": null,
            "overflow": null,
            "overflow_x": null,
            "overflow_y": null,
            "padding": null,
            "right": null,
            "top": null,
            "visibility": null,
            "width": null
          }
        },
        "3aa12caba6db4576886c918d0219088b": {
          "model_module": "@jupyter-widgets/controls",
          "model_name": "DescriptionStyleModel",
          "model_module_version": "1.5.0",
          "state": {
            "_model_module": "@jupyter-widgets/controls",
            "_model_module_version": "1.5.0",
            "_model_name": "DescriptionStyleModel",
            "_view_count": null,
            "_view_module": "@jupyter-widgets/base",
            "_view_module_version": "1.2.0",
            "_view_name": "StyleView",
            "description_width": ""
          }
        },
        "d9aba095dba24aca8135edf52e683072": {
          "model_module": "@jupyter-widgets/controls",
          "model_name": "HBoxModel",
          "model_module_version": "1.5.0",
          "state": {
            "_dom_classes": [],
            "_model_module": "@jupyter-widgets/controls",
            "_model_module_version": "1.5.0",
            "_model_name": "HBoxModel",
            "_view_count": null,
            "_view_module": "@jupyter-widgets/controls",
            "_view_module_version": "1.5.0",
            "_view_name": "HBoxView",
            "box_style": "",
            "children": [
              "IPY_MODEL_c76c881c00e44933be8f20498091bdac",
              "IPY_MODEL_18ffd527c8e24bae8ac64e208dd303f2",
              "IPY_MODEL_4b56199f067848698278e07b5ec1b70a"
            ],
            "layout": "IPY_MODEL_8953bd92878f4542ad21c04ef995d912"
          }
        },
        "c76c881c00e44933be8f20498091bdac": {
          "model_module": "@jupyter-widgets/controls",
          "model_name": "HTMLModel",
          "model_module_version": "1.5.0",
          "state": {
            "_dom_classes": [],
            "_model_module": "@jupyter-widgets/controls",
            "_model_module_version": "1.5.0",
            "_model_name": "HTMLModel",
            "_view_count": null,
            "_view_module": "@jupyter-widgets/controls",
            "_view_module_version": "1.5.0",
            "_view_name": "HTMLView",
            "description": "",
            "description_tooltip": null,
            "layout": "IPY_MODEL_7adf049822824a648e0a745993aeec59",
            "placeholder": "​",
            "style": "IPY_MODEL_9531bcce2c334b06949ffb20db7e1d52",
            "value": "100%"
          }
        },
        "18ffd527c8e24bae8ac64e208dd303f2": {
          "model_module": "@jupyter-widgets/controls",
          "model_name": "FloatProgressModel",
          "model_module_version": "1.5.0",
          "state": {
            "_dom_classes": [],
            "_model_module": "@jupyter-widgets/controls",
            "_model_module_version": "1.5.0",
            "_model_name": "FloatProgressModel",
            "_view_count": null,
            "_view_module": "@jupyter-widgets/controls",
            "_view_module_version": "1.5.0",
            "_view_name": "ProgressView",
            "bar_style": "success",
            "description": "",
            "description_tooltip": null,
            "layout": "IPY_MODEL_2966b2c7c99e44149160e6d4a6c50702",
            "max": 313,
            "min": 0,
            "orientation": "horizontal",
            "style": "IPY_MODEL_69530d67d2154ae798e26458be388d7c",
            "value": 313
          }
        },
        "4b56199f067848698278e07b5ec1b70a": {
          "model_module": "@jupyter-widgets/controls",
          "model_name": "HTMLModel",
          "model_module_version": "1.5.0",
          "state": {
            "_dom_classes": [],
            "_model_module": "@jupyter-widgets/controls",
            "_model_module_version": "1.5.0",
            "_model_name": "HTMLModel",
            "_view_count": null,
            "_view_module": "@jupyter-widgets/controls",
            "_view_module_version": "1.5.0",
            "_view_name": "HTMLView",
            "description": "",
            "description_tooltip": null,
            "layout": "IPY_MODEL_97a5f1d4a0c44f8a814ed4e75304008b",
            "placeholder": "​",
            "style": "IPY_MODEL_d792458444ac421f95337909be61582a",
            "value": " 313/313 [00:01&lt;00:00, 151.29it/s]"
          }
        },
        "8953bd92878f4542ad21c04ef995d912": {
          "model_module": "@jupyter-widgets/base",
          "model_name": "LayoutModel",
          "model_module_version": "1.2.0",
          "state": {
            "_model_module": "@jupyter-widgets/base",
            "_model_module_version": "1.2.0",
            "_model_name": "LayoutModel",
            "_view_count": null,
            "_view_module": "@jupyter-widgets/base",
            "_view_module_version": "1.2.0",
            "_view_name": "LayoutView",
            "align_content": null,
            "align_items": null,
            "align_self": null,
            "border": null,
            "bottom": null,
            "display": null,
            "flex": null,
            "flex_flow": null,
            "grid_area": null,
            "grid_auto_columns": null,
            "grid_auto_flow": null,
            "grid_auto_rows": null,
            "grid_column": null,
            "grid_gap": null,
            "grid_row": null,
            "grid_template_areas": null,
            "grid_template_columns": null,
            "grid_template_rows": null,
            "height": null,
            "justify_content": null,
            "justify_items": null,
            "left": null,
            "margin": null,
            "max_height": null,
            "max_width": null,
            "min_height": null,
            "min_width": null,
            "object_fit": null,
            "object_position": null,
            "order": null,
            "overflow": null,
            "overflow_x": null,
            "overflow_y": null,
            "padding": null,
            "right": null,
            "top": null,
            "visibility": null,
            "width": null
          }
        },
        "7adf049822824a648e0a745993aeec59": {
          "model_module": "@jupyter-widgets/base",
          "model_name": "LayoutModel",
          "model_module_version": "1.2.0",
          "state": {
            "_model_module": "@jupyter-widgets/base",
            "_model_module_version": "1.2.0",
            "_model_name": "LayoutModel",
            "_view_count": null,
            "_view_module": "@jupyter-widgets/base",
            "_view_module_version": "1.2.0",
            "_view_name": "LayoutView",
            "align_content": null,
            "align_items": null,
            "align_self": null,
            "border": null,
            "bottom": null,
            "display": null,
            "flex": null,
            "flex_flow": null,
            "grid_area": null,
            "grid_auto_columns": null,
            "grid_auto_flow": null,
            "grid_auto_rows": null,
            "grid_column": null,
            "grid_gap": null,
            "grid_row": null,
            "grid_template_areas": null,
            "grid_template_columns": null,
            "grid_template_rows": null,
            "height": null,
            "justify_content": null,
            "justify_items": null,
            "left": null,
            "margin": null,
            "max_height": null,
            "max_width": null,
            "min_height": null,
            "min_width": null,
            "object_fit": null,
            "object_position": null,
            "order": null,
            "overflow": null,
            "overflow_x": null,
            "overflow_y": null,
            "padding": null,
            "right": null,
            "top": null,
            "visibility": null,
            "width": null
          }
        },
        "9531bcce2c334b06949ffb20db7e1d52": {
          "model_module": "@jupyter-widgets/controls",
          "model_name": "DescriptionStyleModel",
          "model_module_version": "1.5.0",
          "state": {
            "_model_module": "@jupyter-widgets/controls",
            "_model_module_version": "1.5.0",
            "_model_name": "DescriptionStyleModel",
            "_view_count": null,
            "_view_module": "@jupyter-widgets/base",
            "_view_module_version": "1.2.0",
            "_view_name": "StyleView",
            "description_width": ""
          }
        },
        "2966b2c7c99e44149160e6d4a6c50702": {
          "model_module": "@jupyter-widgets/base",
          "model_name": "LayoutModel",
          "model_module_version": "1.2.0",
          "state": {
            "_model_module": "@jupyter-widgets/base",
            "_model_module_version": "1.2.0",
            "_model_name": "LayoutModel",
            "_view_count": null,
            "_view_module": "@jupyter-widgets/base",
            "_view_module_version": "1.2.0",
            "_view_name": "LayoutView",
            "align_content": null,
            "align_items": null,
            "align_self": null,
            "border": null,
            "bottom": null,
            "display": null,
            "flex": null,
            "flex_flow": null,
            "grid_area": null,
            "grid_auto_columns": null,
            "grid_auto_flow": null,
            "grid_auto_rows": null,
            "grid_column": null,
            "grid_gap": null,
            "grid_row": null,
            "grid_template_areas": null,
            "grid_template_columns": null,
            "grid_template_rows": null,
            "height": null,
            "justify_content": null,
            "justify_items": null,
            "left": null,
            "margin": null,
            "max_height": null,
            "max_width": null,
            "min_height": null,
            "min_width": null,
            "object_fit": null,
            "object_position": null,
            "order": null,
            "overflow": null,
            "overflow_x": null,
            "overflow_y": null,
            "padding": null,
            "right": null,
            "top": null,
            "visibility": null,
            "width": null
          }
        },
        "69530d67d2154ae798e26458be388d7c": {
          "model_module": "@jupyter-widgets/controls",
          "model_name": "ProgressStyleModel",
          "model_module_version": "1.5.0",
          "state": {
            "_model_module": "@jupyter-widgets/controls",
            "_model_module_version": "1.5.0",
            "_model_name": "ProgressStyleModel",
            "_view_count": null,
            "_view_module": "@jupyter-widgets/base",
            "_view_module_version": "1.2.0",
            "_view_name": "StyleView",
            "bar_color": null,
            "description_width": ""
          }
        },
        "97a5f1d4a0c44f8a814ed4e75304008b": {
          "model_module": "@jupyter-widgets/base",
          "model_name": "LayoutModel",
          "model_module_version": "1.2.0",
          "state": {
            "_model_module": "@jupyter-widgets/base",
            "_model_module_version": "1.2.0",
            "_model_name": "LayoutModel",
            "_view_count": null,
            "_view_module": "@jupyter-widgets/base",
            "_view_module_version": "1.2.0",
            "_view_name": "LayoutView",
            "align_content": null,
            "align_items": null,
            "align_self": null,
            "border": null,
            "bottom": null,
            "display": null,
            "flex": null,
            "flex_flow": null,
            "grid_area": null,
            "grid_auto_columns": null,
            "grid_auto_flow": null,
            "grid_auto_rows": null,
            "grid_column": null,
            "grid_gap": null,
            "grid_row": null,
            "grid_template_areas": null,
            "grid_template_columns": null,
            "grid_template_rows": null,
            "height": null,
            "justify_content": null,
            "justify_items": null,
            "left": null,
            "margin": null,
            "max_height": null,
            "max_width": null,
            "min_height": null,
            "min_width": null,
            "object_fit": null,
            "object_position": null,
            "order": null,
            "overflow": null,
            "overflow_x": null,
            "overflow_y": null,
            "padding": null,
            "right": null,
            "top": null,
            "visibility": null,
            "width": null
          }
        },
        "d792458444ac421f95337909be61582a": {
          "model_module": "@jupyter-widgets/controls",
          "model_name": "DescriptionStyleModel",
          "model_module_version": "1.5.0",
          "state": {
            "_model_module": "@jupyter-widgets/controls",
            "_model_module_version": "1.5.0",
            "_model_name": "DescriptionStyleModel",
            "_view_count": null,
            "_view_module": "@jupyter-widgets/base",
            "_view_module_version": "1.2.0",
            "_view_name": "StyleView",
            "description_width": ""
          }
        },
        "f5dedf1da26947e9a13918130e6d45f5": {
          "model_module": "@jupyter-widgets/controls",
          "model_name": "HBoxModel",
          "model_module_version": "1.5.0",
          "state": {
            "_dom_classes": [],
            "_model_module": "@jupyter-widgets/controls",
            "_model_module_version": "1.5.0",
            "_model_name": "HBoxModel",
            "_view_count": null,
            "_view_module": "@jupyter-widgets/controls",
            "_view_module_version": "1.5.0",
            "_view_name": "HBoxView",
            "box_style": "",
            "children": [
              "IPY_MODEL_13a1e948527846f5bcabd2be8196efc7",
              "IPY_MODEL_b4f0466de17a4a1da7e013a3f5262148",
              "IPY_MODEL_cd860ecd0f344a5384a03cd7cf387f86"
            ],
            "layout": "IPY_MODEL_4f484fdb671147f79971bbdee648ebca"
          }
        },
        "13a1e948527846f5bcabd2be8196efc7": {
          "model_module": "@jupyter-widgets/controls",
          "model_name": "HTMLModel",
          "model_module_version": "1.5.0",
          "state": {
            "_dom_classes": [],
            "_model_module": "@jupyter-widgets/controls",
            "_model_module_version": "1.5.0",
            "_model_name": "HTMLModel",
            "_view_count": null,
            "_view_module": "@jupyter-widgets/controls",
            "_view_module_version": "1.5.0",
            "_view_name": "HTMLView",
            "description": "",
            "description_tooltip": null,
            "layout": "IPY_MODEL_9fb26f41bb43448bb3d4cadedd0fb820",
            "placeholder": "​",
            "style": "IPY_MODEL_55a07fc4057641a3b8e895676fa798dd",
            "value": "Making predictions...: 100%"
          }
        },
        "b4f0466de17a4a1da7e013a3f5262148": {
          "model_module": "@jupyter-widgets/controls",
          "model_name": "FloatProgressModel",
          "model_module_version": "1.5.0",
          "state": {
            "_dom_classes": [],
            "_model_module": "@jupyter-widgets/controls",
            "_model_module_version": "1.5.0",
            "_model_name": "FloatProgressModel",
            "_view_count": null,
            "_view_module": "@jupyter-widgets/controls",
            "_view_module_version": "1.5.0",
            "_view_name": "ProgressView",
            "bar_style": "success",
            "description": "",
            "description_tooltip": null,
            "layout": "IPY_MODEL_df1e77fb4c8240709886d3be7d0ff1ed",
            "max": 313,
            "min": 0,
            "orientation": "horizontal",
            "style": "IPY_MODEL_09347ba1d03b40bd96e854f13f0413f0",
            "value": 313
          }
        },
        "cd860ecd0f344a5384a03cd7cf387f86": {
          "model_module": "@jupyter-widgets/controls",
          "model_name": "HTMLModel",
          "model_module_version": "1.5.0",
          "state": {
            "_dom_classes": [],
            "_model_module": "@jupyter-widgets/controls",
            "_model_module_version": "1.5.0",
            "_model_name": "HTMLModel",
            "_view_count": null,
            "_view_module": "@jupyter-widgets/controls",
            "_view_module_version": "1.5.0",
            "_view_name": "HTMLView",
            "description": "",
            "description_tooltip": null,
            "layout": "IPY_MODEL_77a058d5a9cf4848a948b7ec49bd481f",
            "placeholder": "​",
            "style": "IPY_MODEL_53f6d81dcdde45c582b58206d6df16ba",
            "value": " 313/313 [00:01&lt;00:00, 241.49it/s]"
          }
        },
        "4f484fdb671147f79971bbdee648ebca": {
          "model_module": "@jupyter-widgets/base",
          "model_name": "LayoutModel",
          "model_module_version": "1.2.0",
          "state": {
            "_model_module": "@jupyter-widgets/base",
            "_model_module_version": "1.2.0",
            "_model_name": "LayoutModel",
            "_view_count": null,
            "_view_module": "@jupyter-widgets/base",
            "_view_module_version": "1.2.0",
            "_view_name": "LayoutView",
            "align_content": null,
            "align_items": null,
            "align_self": null,
            "border": null,
            "bottom": null,
            "display": null,
            "flex": null,
            "flex_flow": null,
            "grid_area": null,
            "grid_auto_columns": null,
            "grid_auto_flow": null,
            "grid_auto_rows": null,
            "grid_column": null,
            "grid_gap": null,
            "grid_row": null,
            "grid_template_areas": null,
            "grid_template_columns": null,
            "grid_template_rows": null,
            "height": null,
            "justify_content": null,
            "justify_items": null,
            "left": null,
            "margin": null,
            "max_height": null,
            "max_width": null,
            "min_height": null,
            "min_width": null,
            "object_fit": null,
            "object_position": null,
            "order": null,
            "overflow": null,
            "overflow_x": null,
            "overflow_y": null,
            "padding": null,
            "right": null,
            "top": null,
            "visibility": null,
            "width": null
          }
        },
        "9fb26f41bb43448bb3d4cadedd0fb820": {
          "model_module": "@jupyter-widgets/base",
          "model_name": "LayoutModel",
          "model_module_version": "1.2.0",
          "state": {
            "_model_module": "@jupyter-widgets/base",
            "_model_module_version": "1.2.0",
            "_model_name": "LayoutModel",
            "_view_count": null,
            "_view_module": "@jupyter-widgets/base",
            "_view_module_version": "1.2.0",
            "_view_name": "LayoutView",
            "align_content": null,
            "align_items": null,
            "align_self": null,
            "border": null,
            "bottom": null,
            "display": null,
            "flex": null,
            "flex_flow": null,
            "grid_area": null,
            "grid_auto_columns": null,
            "grid_auto_flow": null,
            "grid_auto_rows": null,
            "grid_column": null,
            "grid_gap": null,
            "grid_row": null,
            "grid_template_areas": null,
            "grid_template_columns": null,
            "grid_template_rows": null,
            "height": null,
            "justify_content": null,
            "justify_items": null,
            "left": null,
            "margin": null,
            "max_height": null,
            "max_width": null,
            "min_height": null,
            "min_width": null,
            "object_fit": null,
            "object_position": null,
            "order": null,
            "overflow": null,
            "overflow_x": null,
            "overflow_y": null,
            "padding": null,
            "right": null,
            "top": null,
            "visibility": null,
            "width": null
          }
        },
        "55a07fc4057641a3b8e895676fa798dd": {
          "model_module": "@jupyter-widgets/controls",
          "model_name": "DescriptionStyleModel",
          "model_module_version": "1.5.0",
          "state": {
            "_model_module": "@jupyter-widgets/controls",
            "_model_module_version": "1.5.0",
            "_model_name": "DescriptionStyleModel",
            "_view_count": null,
            "_view_module": "@jupyter-widgets/base",
            "_view_module_version": "1.2.0",
            "_view_name": "StyleView",
            "description_width": ""
          }
        },
        "df1e77fb4c8240709886d3be7d0ff1ed": {
          "model_module": "@jupyter-widgets/base",
          "model_name": "LayoutModel",
          "model_module_version": "1.2.0",
          "state": {
            "_model_module": "@jupyter-widgets/base",
            "_model_module_version": "1.2.0",
            "_model_name": "LayoutModel",
            "_view_count": null,
            "_view_module": "@jupyter-widgets/base",
            "_view_module_version": "1.2.0",
            "_view_name": "LayoutView",
            "align_content": null,
            "align_items": null,
            "align_self": null,
            "border": null,
            "bottom": null,
            "display": null,
            "flex": null,
            "flex_flow": null,
            "grid_area": null,
            "grid_auto_columns": null,
            "grid_auto_flow": null,
            "grid_auto_rows": null,
            "grid_column": null,
            "grid_gap": null,
            "grid_row": null,
            "grid_template_areas": null,
            "grid_template_columns": null,
            "grid_template_rows": null,
            "height": null,
            "justify_content": null,
            "justify_items": null,
            "left": null,
            "margin": null,
            "max_height": null,
            "max_width": null,
            "min_height": null,
            "min_width": null,
            "object_fit": null,
            "object_position": null,
            "order": null,
            "overflow": null,
            "overflow_x": null,
            "overflow_y": null,
            "padding": null,
            "right": null,
            "top": null,
            "visibility": null,
            "width": null
          }
        },
        "09347ba1d03b40bd96e854f13f0413f0": {
          "model_module": "@jupyter-widgets/controls",
          "model_name": "ProgressStyleModel",
          "model_module_version": "1.5.0",
          "state": {
            "_model_module": "@jupyter-widgets/controls",
            "_model_module_version": "1.5.0",
            "_model_name": "ProgressStyleModel",
            "_view_count": null,
            "_view_module": "@jupyter-widgets/base",
            "_view_module_version": "1.2.0",
            "_view_name": "StyleView",
            "bar_color": null,
            "description_width": ""
          }
        },
        "77a058d5a9cf4848a948b7ec49bd481f": {
          "model_module": "@jupyter-widgets/base",
          "model_name": "LayoutModel",
          "model_module_version": "1.2.0",
          "state": {
            "_model_module": "@jupyter-widgets/base",
            "_model_module_version": "1.2.0",
            "_model_name": "LayoutModel",
            "_view_count": null,
            "_view_module": "@jupyter-widgets/base",
            "_view_module_version": "1.2.0",
            "_view_name": "LayoutView",
            "align_content": null,
            "align_items": null,
            "align_self": null,
            "border": null,
            "bottom": null,
            "display": null,
            "flex": null,
            "flex_flow": null,
            "grid_area": null,
            "grid_auto_columns": null,
            "grid_auto_flow": null,
            "grid_auto_rows": null,
            "grid_column": null,
            "grid_gap": null,
            "grid_row": null,
            "grid_template_areas": null,
            "grid_template_columns": null,
            "grid_template_rows": null,
            "height": null,
            "justify_content": null,
            "justify_items": null,
            "left": null,
            "margin": null,
            "max_height": null,
            "max_width": null,
            "min_height": null,
            "min_width": null,
            "object_fit": null,
            "object_position": null,
            "order": null,
            "overflow": null,
            "overflow_x": null,
            "overflow_y": null,
            "padding": null,
            "right": null,
            "top": null,
            "visibility": null,
            "width": null
          }
        },
        "53f6d81dcdde45c582b58206d6df16ba": {
          "model_module": "@jupyter-widgets/controls",
          "model_name": "DescriptionStyleModel",
          "model_module_version": "1.5.0",
          "state": {
            "_model_module": "@jupyter-widgets/controls",
            "_model_module_version": "1.5.0",
            "_model_name": "DescriptionStyleModel",
            "_view_count": null,
            "_view_module": "@jupyter-widgets/base",
            "_view_module_version": "1.2.0",
            "_view_name": "StyleView",
            "description_width": ""
          }
        },
        "2962afc9c17a4633a013f6c70b577890": {
          "model_module": "@jupyter-widgets/controls",
          "model_name": "HBoxModel",
          "model_module_version": "1.5.0",
          "state": {
            "_dom_classes": [],
            "_model_module": "@jupyter-widgets/controls",
            "_model_module_version": "1.5.0",
            "_model_name": "HBoxModel",
            "_view_count": null,
            "_view_module": "@jupyter-widgets/controls",
            "_view_module_version": "1.5.0",
            "_view_name": "HBoxView",
            "box_style": "",
            "children": [
              "IPY_MODEL_1c466eb072a8414080bdf686f7eaadfa",
              "IPY_MODEL_cda67ab6bae24670884bddbeb664830f",
              "IPY_MODEL_4b5343b9522f4a73b58aed3f382c7325"
            ],
            "layout": "IPY_MODEL_11439c0ceec24d1fb8c2ec58c87e4323"
          }
        },
        "1c466eb072a8414080bdf686f7eaadfa": {
          "model_module": "@jupyter-widgets/controls",
          "model_name": "HTMLModel",
          "model_module_version": "1.5.0",
          "state": {
            "_dom_classes": [],
            "_model_module": "@jupyter-widgets/controls",
            "_model_module_version": "1.5.0",
            "_model_name": "HTMLModel",
            "_view_count": null,
            "_view_module": "@jupyter-widgets/controls",
            "_view_module_version": "1.5.0",
            "_view_name": "HTMLView",
            "description": "",
            "description_tooltip": null,
            "layout": "IPY_MODEL_e1d0e7dc3f8f4ebdbac839444acf0d0e",
            "placeholder": "​",
            "style": "IPY_MODEL_b5367e660e7a49a3bc6c599033b3be13",
            "value": "100%"
          }
        },
        "cda67ab6bae24670884bddbeb664830f": {
          "model_module": "@jupyter-widgets/controls",
          "model_name": "FloatProgressModel",
          "model_module_version": "1.5.0",
          "state": {
            "_dom_classes": [],
            "_model_module": "@jupyter-widgets/controls",
            "_model_module_version": "1.5.0",
            "_model_name": "FloatProgressModel",
            "_view_count": null,
            "_view_module": "@jupyter-widgets/controls",
            "_view_module_version": "1.5.0",
            "_view_name": "ProgressView",
            "bar_style": "success",
            "description": "",
            "description_tooltip": null,
            "layout": "IPY_MODEL_50a0254ed5e64f11bd06c091cc7dc66d",
            "max": 313,
            "min": 0,
            "orientation": "horizontal",
            "style": "IPY_MODEL_7b96617f7d2c458785af568a422f8a3f",
            "value": 313
          }
        },
        "4b5343b9522f4a73b58aed3f382c7325": {
          "model_module": "@jupyter-widgets/controls",
          "model_name": "HTMLModel",
          "model_module_version": "1.5.0",
          "state": {
            "_dom_classes": [],
            "_model_module": "@jupyter-widgets/controls",
            "_model_module_version": "1.5.0",
            "_model_name": "HTMLModel",
            "_view_count": null,
            "_view_module": "@jupyter-widgets/controls",
            "_view_module_version": "1.5.0",
            "_view_name": "HTMLView",
            "description": "",
            "description_tooltip": null,
            "layout": "IPY_MODEL_c178306be5b24594932b5a4d3012ba4a",
            "placeholder": "​",
            "style": "IPY_MODEL_906f60dd5d754735b2f3636da54e88a4",
            "value": " 313/313 [00:02&lt;00:00, 213.10it/s]"
          }
        },
        "11439c0ceec24d1fb8c2ec58c87e4323": {
          "model_module": "@jupyter-widgets/base",
          "model_name": "LayoutModel",
          "model_module_version": "1.2.0",
          "state": {
            "_model_module": "@jupyter-widgets/base",
            "_model_module_version": "1.2.0",
            "_model_name": "LayoutModel",
            "_view_count": null,
            "_view_module": "@jupyter-widgets/base",
            "_view_module_version": "1.2.0",
            "_view_name": "LayoutView",
            "align_content": null,
            "align_items": null,
            "align_self": null,
            "border": null,
            "bottom": null,
            "display": null,
            "flex": null,
            "flex_flow": null,
            "grid_area": null,
            "grid_auto_columns": null,
            "grid_auto_flow": null,
            "grid_auto_rows": null,
            "grid_column": null,
            "grid_gap": null,
            "grid_row": null,
            "grid_template_areas": null,
            "grid_template_columns": null,
            "grid_template_rows": null,
            "height": null,
            "justify_content": null,
            "justify_items": null,
            "left": null,
            "margin": null,
            "max_height": null,
            "max_width": null,
            "min_height": null,
            "min_width": null,
            "object_fit": null,
            "object_position": null,
            "order": null,
            "overflow": null,
            "overflow_x": null,
            "overflow_y": null,
            "padding": null,
            "right": null,
            "top": null,
            "visibility": null,
            "width": null
          }
        },
        "e1d0e7dc3f8f4ebdbac839444acf0d0e": {
          "model_module": "@jupyter-widgets/base",
          "model_name": "LayoutModel",
          "model_module_version": "1.2.0",
          "state": {
            "_model_module": "@jupyter-widgets/base",
            "_model_module_version": "1.2.0",
            "_model_name": "LayoutModel",
            "_view_count": null,
            "_view_module": "@jupyter-widgets/base",
            "_view_module_version": "1.2.0",
            "_view_name": "LayoutView",
            "align_content": null,
            "align_items": null,
            "align_self": null,
            "border": null,
            "bottom": null,
            "display": null,
            "flex": null,
            "flex_flow": null,
            "grid_area": null,
            "grid_auto_columns": null,
            "grid_auto_flow": null,
            "grid_auto_rows": null,
            "grid_column": null,
            "grid_gap": null,
            "grid_row": null,
            "grid_template_areas": null,
            "grid_template_columns": null,
            "grid_template_rows": null,
            "height": null,
            "justify_content": null,
            "justify_items": null,
            "left": null,
            "margin": null,
            "max_height": null,
            "max_width": null,
            "min_height": null,
            "min_width": null,
            "object_fit": null,
            "object_position": null,
            "order": null,
            "overflow": null,
            "overflow_x": null,
            "overflow_y": null,
            "padding": null,
            "right": null,
            "top": null,
            "visibility": null,
            "width": null
          }
        },
        "b5367e660e7a49a3bc6c599033b3be13": {
          "model_module": "@jupyter-widgets/controls",
          "model_name": "DescriptionStyleModel",
          "model_module_version": "1.5.0",
          "state": {
            "_model_module": "@jupyter-widgets/controls",
            "_model_module_version": "1.5.0",
            "_model_name": "DescriptionStyleModel",
            "_view_count": null,
            "_view_module": "@jupyter-widgets/base",
            "_view_module_version": "1.2.0",
            "_view_name": "StyleView",
            "description_width": ""
          }
        },
        "50a0254ed5e64f11bd06c091cc7dc66d": {
          "model_module": "@jupyter-widgets/base",
          "model_name": "LayoutModel",
          "model_module_version": "1.2.0",
          "state": {
            "_model_module": "@jupyter-widgets/base",
            "_model_module_version": "1.2.0",
            "_model_name": "LayoutModel",
            "_view_count": null,
            "_view_module": "@jupyter-widgets/base",
            "_view_module_version": "1.2.0",
            "_view_name": "LayoutView",
            "align_content": null,
            "align_items": null,
            "align_self": null,
            "border": null,
            "bottom": null,
            "display": null,
            "flex": null,
            "flex_flow": null,
            "grid_area": null,
            "grid_auto_columns": null,
            "grid_auto_flow": null,
            "grid_auto_rows": null,
            "grid_column": null,
            "grid_gap": null,
            "grid_row": null,
            "grid_template_areas": null,
            "grid_template_columns": null,
            "grid_template_rows": null,
            "height": null,
            "justify_content": null,
            "justify_items": null,
            "left": null,
            "margin": null,
            "max_height": null,
            "max_width": null,
            "min_height": null,
            "min_width": null,
            "object_fit": null,
            "object_position": null,
            "order": null,
            "overflow": null,
            "overflow_x": null,
            "overflow_y": null,
            "padding": null,
            "right": null,
            "top": null,
            "visibility": null,
            "width": null
          }
        },
        "7b96617f7d2c458785af568a422f8a3f": {
          "model_module": "@jupyter-widgets/controls",
          "model_name": "ProgressStyleModel",
          "model_module_version": "1.5.0",
          "state": {
            "_model_module": "@jupyter-widgets/controls",
            "_model_module_version": "1.5.0",
            "_model_name": "ProgressStyleModel",
            "_view_count": null,
            "_view_module": "@jupyter-widgets/base",
            "_view_module_version": "1.2.0",
            "_view_name": "StyleView",
            "bar_color": null,
            "description_width": ""
          }
        },
        "c178306be5b24594932b5a4d3012ba4a": {
          "model_module": "@jupyter-widgets/base",
          "model_name": "LayoutModel",
          "model_module_version": "1.2.0",
          "state": {
            "_model_module": "@jupyter-widgets/base",
            "_model_module_version": "1.2.0",
            "_model_name": "LayoutModel",
            "_view_count": null,
            "_view_module": "@jupyter-widgets/base",
            "_view_module_version": "1.2.0",
            "_view_name": "LayoutView",
            "align_content": null,
            "align_items": null,
            "align_self": null,
            "border": null,
            "bottom": null,
            "display": null,
            "flex": null,
            "flex_flow": null,
            "grid_area": null,
            "grid_auto_columns": null,
            "grid_auto_flow": null,
            "grid_auto_rows": null,
            "grid_column": null,
            "grid_gap": null,
            "grid_row": null,
            "grid_template_areas": null,
            "grid_template_columns": null,
            "grid_template_rows": null,
            "height": null,
            "justify_content": null,
            "justify_items": null,
            "left": null,
            "margin": null,
            "max_height": null,
            "max_width": null,
            "min_height": null,
            "min_width": null,
            "object_fit": null,
            "object_position": null,
            "order": null,
            "overflow": null,
            "overflow_x": null,
            "overflow_y": null,
            "padding": null,
            "right": null,
            "top": null,
            "visibility": null,
            "width": null
          }
        },
        "906f60dd5d754735b2f3636da54e88a4": {
          "model_module": "@jupyter-widgets/controls",
          "model_name": "DescriptionStyleModel",
          "model_module_version": "1.5.0",
          "state": {
            "_model_module": "@jupyter-widgets/controls",
            "_model_module_version": "1.5.0",
            "_model_name": "DescriptionStyleModel",
            "_view_count": null,
            "_view_module": "@jupyter-widgets/base",
            "_view_module_version": "1.2.0",
            "_view_name": "StyleView",
            "description_width": ""
          }
        }
      }
    },
    "accelerator": "GPU"
  },
  "cells": [
    {
      "cell_type": "markdown",
      "source": [
        "# PyTorch Computer Vision"
      ],
      "metadata": {
        "id": "UgzTczGjiOnQ"
      }
    },
    {
      "cell_type": "markdown",
      "source": [
        "## 0. Computer vision libaries in PyTorch\n",
        "\n",
        "* `torchvision` - base domain library for computer vision\n",
        "* `torchvision.datasets` - get datasets and data loading functions for CV here\n",
        "* `torchvision.models` - get pretrained CV models that you leverage for your own problems\n",
        "* `torchvision.transforms` - functions for manipulating your vision data to be suitable for use with an ML model\n",
        "* `torch.utils.data.Dataset` - Base dataset class for PyTorch\n",
        "* `torch.utils.data.DataLoader` - Creates a Python iterable over a dataset"
      ],
      "metadata": {
        "id": "Wd1PYy2SiXSf"
      }
    },
    {
      "cell_type": "code",
      "execution_count": 1,
      "metadata": {
        "id": "9T4xACXeASoy",
        "colab": {
          "base_uri": "https://localhost:8080/"
        },
        "outputId": "0019c396-d948-468c-ada1-5340fc818372"
      },
      "outputs": [
        {
          "output_type": "stream",
          "name": "stdout",
          "text": [
            "2.4.1+cu121\n",
            "0.19.1+cu121\n"
          ]
        }
      ],
      "source": [
        "import torch\n",
        "from torch import nn\n",
        "\n",
        "import torchvision\n",
        "from torchvision import datasets\n",
        "from torchvision import transforms\n",
        "from torchvision.transforms import ToTensor\n",
        "\n",
        "import matplotlib.pyplot as plt\n",
        "\n",
        "print(torch.__version__)\n",
        "print(torchvision.__version__)"
      ]
    },
    {
      "cell_type": "markdown",
      "source": [
        "## 1. Getting a Dataset\n",
        "\n",
        "FashionMNIST dataset we will be using. Gray-scale images of items and clothes."
      ],
      "metadata": {
        "id": "LCx05AlZkOZ_"
      }
    },
    {
      "cell_type": "code",
      "source": [
        "from logging import root\n",
        "# Setup training data\n",
        "train_data = datasets.FashionMNIST(\n",
        "    root=\"data\", #where to download data to\n",
        "    train=True, # do we want the training data\n",
        "    download=True, # do we want to download\n",
        "    transform=ToTensor(), # how do we want to transform the data\n",
        "    target_transform=None  # how do we want to transfor the target\n",
        ")\n",
        "\n",
        "test_data = datasets.FashionMNIST(\n",
        "    root=\"data\",\n",
        "    train=False,\n",
        "    download=False,\n",
        "    transform=ToTensor(),\n",
        "    target_transform=None\n",
        ")"
      ],
      "metadata": {
        "id": "2fpM97znkN83"
      },
      "execution_count": 2,
      "outputs": []
    },
    {
      "cell_type": "code",
      "source": [
        "len(train_data), len(test_data)"
      ],
      "metadata": {
        "colab": {
          "base_uri": "https://localhost:8080/"
        },
        "id": "nxmKMdBMhHcB",
        "outputId": "284a52f2-6bdb-400a-c030-5c79e7202cfe"
      },
      "execution_count": 3,
      "outputs": [
        {
          "output_type": "execute_result",
          "data": {
            "text/plain": [
              "(60000, 10000)"
            ]
          },
          "metadata": {},
          "execution_count": 3
        }
      ]
    },
    {
      "cell_type": "code",
      "source": [
        "# See the first training example\n",
        "image, label = train_data[0]\n",
        "image, label"
      ],
      "metadata": {
        "colab": {
          "base_uri": "https://localhost:8080/"
        },
        "id": "1cDJ8pPxmmU5",
        "outputId": "2e8e2592-435c-4754-979d-7829581a7f09"
      },
      "execution_count": 4,
      "outputs": [
        {
          "output_type": "execute_result",
          "data": {
            "text/plain": [
              "(tensor([[[0.0000, 0.0000, 0.0000, 0.0000, 0.0000, 0.0000, 0.0000, 0.0000,\n",
              "           0.0000, 0.0000, 0.0000, 0.0000, 0.0000, 0.0000, 0.0000, 0.0000,\n",
              "           0.0000, 0.0000, 0.0000, 0.0000, 0.0000, 0.0000, 0.0000, 0.0000,\n",
              "           0.0000, 0.0000, 0.0000, 0.0000],\n",
              "          [0.0000, 0.0000, 0.0000, 0.0000, 0.0000, 0.0000, 0.0000, 0.0000,\n",
              "           0.0000, 0.0000, 0.0000, 0.0000, 0.0000, 0.0000, 0.0000, 0.0000,\n",
              "           0.0000, 0.0000, 0.0000, 0.0000, 0.0000, 0.0000, 0.0000, 0.0000,\n",
              "           0.0000, 0.0000, 0.0000, 0.0000],\n",
              "          [0.0000, 0.0000, 0.0000, 0.0000, 0.0000, 0.0000, 0.0000, 0.0000,\n",
              "           0.0000, 0.0000, 0.0000, 0.0000, 0.0000, 0.0000, 0.0000, 0.0000,\n",
              "           0.0000, 0.0000, 0.0000, 0.0000, 0.0000, 0.0000, 0.0000, 0.0000,\n",
              "           0.0000, 0.0000, 0.0000, 0.0000],\n",
              "          [0.0000, 0.0000, 0.0000, 0.0000, 0.0000, 0.0000, 0.0000, 0.0000,\n",
              "           0.0000, 0.0000, 0.0000, 0.0000, 0.0039, 0.0000, 0.0000, 0.0510,\n",
              "           0.2863, 0.0000, 0.0000, 0.0039, 0.0157, 0.0000, 0.0000, 0.0000,\n",
              "           0.0000, 0.0039, 0.0039, 0.0000],\n",
              "          [0.0000, 0.0000, 0.0000, 0.0000, 0.0000, 0.0000, 0.0000, 0.0000,\n",
              "           0.0000, 0.0000, 0.0000, 0.0000, 0.0118, 0.0000, 0.1412, 0.5333,\n",
              "           0.4980, 0.2431, 0.2118, 0.0000, 0.0000, 0.0000, 0.0039, 0.0118,\n",
              "           0.0157, 0.0000, 0.0000, 0.0118],\n",
              "          [0.0000, 0.0000, 0.0000, 0.0000, 0.0000, 0.0000, 0.0000, 0.0000,\n",
              "           0.0000, 0.0000, 0.0000, 0.0000, 0.0235, 0.0000, 0.4000, 0.8000,\n",
              "           0.6902, 0.5255, 0.5647, 0.4824, 0.0902, 0.0000, 0.0000, 0.0000,\n",
              "           0.0000, 0.0471, 0.0392, 0.0000],\n",
              "          [0.0000, 0.0000, 0.0000, 0.0000, 0.0000, 0.0000, 0.0000, 0.0000,\n",
              "           0.0000, 0.0000, 0.0000, 0.0000, 0.0000, 0.0000, 0.6078, 0.9255,\n",
              "           0.8118, 0.6980, 0.4196, 0.6118, 0.6314, 0.4275, 0.2510, 0.0902,\n",
              "           0.3020, 0.5098, 0.2824, 0.0588],\n",
              "          [0.0000, 0.0000, 0.0000, 0.0000, 0.0000, 0.0000, 0.0000, 0.0000,\n",
              "           0.0000, 0.0000, 0.0000, 0.0039, 0.0000, 0.2706, 0.8118, 0.8745,\n",
              "           0.8549, 0.8471, 0.8471, 0.6392, 0.4980, 0.4745, 0.4784, 0.5725,\n",
              "           0.5529, 0.3451, 0.6745, 0.2588],\n",
              "          [0.0000, 0.0000, 0.0000, 0.0000, 0.0000, 0.0000, 0.0000, 0.0000,\n",
              "           0.0000, 0.0039, 0.0039, 0.0039, 0.0000, 0.7843, 0.9098, 0.9098,\n",
              "           0.9137, 0.8980, 0.8745, 0.8745, 0.8431, 0.8353, 0.6431, 0.4980,\n",
              "           0.4824, 0.7686, 0.8980, 0.0000],\n",
              "          [0.0000, 0.0000, 0.0000, 0.0000, 0.0000, 0.0000, 0.0000, 0.0000,\n",
              "           0.0000, 0.0000, 0.0000, 0.0000, 0.0000, 0.7176, 0.8824, 0.8471,\n",
              "           0.8745, 0.8941, 0.9216, 0.8902, 0.8784, 0.8706, 0.8784, 0.8667,\n",
              "           0.8745, 0.9608, 0.6784, 0.0000],\n",
              "          [0.0000, 0.0000, 0.0000, 0.0000, 0.0000, 0.0000, 0.0000, 0.0000,\n",
              "           0.0000, 0.0000, 0.0000, 0.0000, 0.0000, 0.7569, 0.8941, 0.8549,\n",
              "           0.8353, 0.7765, 0.7059, 0.8314, 0.8235, 0.8275, 0.8353, 0.8745,\n",
              "           0.8627, 0.9529, 0.7922, 0.0000],\n",
              "          [0.0000, 0.0000, 0.0000, 0.0000, 0.0000, 0.0000, 0.0000, 0.0000,\n",
              "           0.0000, 0.0039, 0.0118, 0.0000, 0.0471, 0.8588, 0.8627, 0.8314,\n",
              "           0.8549, 0.7529, 0.6627, 0.8902, 0.8157, 0.8549, 0.8784, 0.8314,\n",
              "           0.8863, 0.7725, 0.8196, 0.2039],\n",
              "          [0.0000, 0.0000, 0.0000, 0.0000, 0.0000, 0.0000, 0.0000, 0.0000,\n",
              "           0.0000, 0.0000, 0.0235, 0.0000, 0.3882, 0.9569, 0.8706, 0.8627,\n",
              "           0.8549, 0.7961, 0.7765, 0.8667, 0.8431, 0.8353, 0.8706, 0.8627,\n",
              "           0.9608, 0.4667, 0.6549, 0.2196],\n",
              "          [0.0000, 0.0000, 0.0000, 0.0000, 0.0000, 0.0000, 0.0000, 0.0000,\n",
              "           0.0000, 0.0157, 0.0000, 0.0000, 0.2157, 0.9255, 0.8941, 0.9020,\n",
              "           0.8941, 0.9412, 0.9098, 0.8353, 0.8549, 0.8745, 0.9176, 0.8510,\n",
              "           0.8510, 0.8196, 0.3608, 0.0000],\n",
              "          [0.0000, 0.0000, 0.0039, 0.0157, 0.0235, 0.0275, 0.0078, 0.0000,\n",
              "           0.0000, 0.0000, 0.0000, 0.0000, 0.9294, 0.8863, 0.8510, 0.8745,\n",
              "           0.8706, 0.8588, 0.8706, 0.8667, 0.8471, 0.8745, 0.8980, 0.8431,\n",
              "           0.8549, 1.0000, 0.3020, 0.0000],\n",
              "          [0.0000, 0.0118, 0.0000, 0.0000, 0.0000, 0.0000, 0.0000, 0.0000,\n",
              "           0.0000, 0.2431, 0.5686, 0.8000, 0.8941, 0.8118, 0.8353, 0.8667,\n",
              "           0.8549, 0.8157, 0.8275, 0.8549, 0.8784, 0.8745, 0.8588, 0.8431,\n",
              "           0.8784, 0.9569, 0.6235, 0.0000],\n",
              "          [0.0000, 0.0000, 0.0000, 0.0000, 0.0706, 0.1725, 0.3216, 0.4196,\n",
              "           0.7412, 0.8941, 0.8627, 0.8706, 0.8510, 0.8863, 0.7843, 0.8039,\n",
              "           0.8275, 0.9020, 0.8784, 0.9176, 0.6902, 0.7373, 0.9804, 0.9725,\n",
              "           0.9137, 0.9333, 0.8431, 0.0000],\n",
              "          [0.0000, 0.2235, 0.7333, 0.8157, 0.8784, 0.8667, 0.8784, 0.8157,\n",
              "           0.8000, 0.8392, 0.8157, 0.8196, 0.7843, 0.6235, 0.9608, 0.7569,\n",
              "           0.8078, 0.8745, 1.0000, 1.0000, 0.8667, 0.9176, 0.8667, 0.8275,\n",
              "           0.8627, 0.9098, 0.9647, 0.0000],\n",
              "          [0.0118, 0.7922, 0.8941, 0.8784, 0.8667, 0.8275, 0.8275, 0.8392,\n",
              "           0.8039, 0.8039, 0.8039, 0.8627, 0.9412, 0.3137, 0.5882, 1.0000,\n",
              "           0.8980, 0.8667, 0.7373, 0.6039, 0.7490, 0.8235, 0.8000, 0.8196,\n",
              "           0.8706, 0.8941, 0.8824, 0.0000],\n",
              "          [0.3843, 0.9137, 0.7765, 0.8235, 0.8706, 0.8980, 0.8980, 0.9176,\n",
              "           0.9765, 0.8627, 0.7608, 0.8431, 0.8510, 0.9451, 0.2549, 0.2863,\n",
              "           0.4157, 0.4588, 0.6588, 0.8588, 0.8667, 0.8431, 0.8510, 0.8745,\n",
              "           0.8745, 0.8784, 0.8980, 0.1137],\n",
              "          [0.2941, 0.8000, 0.8314, 0.8000, 0.7569, 0.8039, 0.8275, 0.8824,\n",
              "           0.8471, 0.7255, 0.7725, 0.8078, 0.7765, 0.8353, 0.9412, 0.7647,\n",
              "           0.8902, 0.9608, 0.9373, 0.8745, 0.8549, 0.8314, 0.8196, 0.8706,\n",
              "           0.8627, 0.8667, 0.9020, 0.2627],\n",
              "          [0.1882, 0.7961, 0.7176, 0.7608, 0.8353, 0.7725, 0.7255, 0.7451,\n",
              "           0.7608, 0.7529, 0.7922, 0.8392, 0.8588, 0.8667, 0.8627, 0.9255,\n",
              "           0.8824, 0.8471, 0.7804, 0.8078, 0.7294, 0.7098, 0.6941, 0.6745,\n",
              "           0.7098, 0.8039, 0.8078, 0.4510],\n",
              "          [0.0000, 0.4784, 0.8588, 0.7569, 0.7020, 0.6706, 0.7176, 0.7686,\n",
              "           0.8000, 0.8235, 0.8353, 0.8118, 0.8275, 0.8235, 0.7843, 0.7686,\n",
              "           0.7608, 0.7490, 0.7647, 0.7490, 0.7765, 0.7529, 0.6902, 0.6118,\n",
              "           0.6549, 0.6941, 0.8235, 0.3608],\n",
              "          [0.0000, 0.0000, 0.2902, 0.7412, 0.8314, 0.7490, 0.6863, 0.6745,\n",
              "           0.6863, 0.7098, 0.7255, 0.7373, 0.7412, 0.7373, 0.7569, 0.7765,\n",
              "           0.8000, 0.8196, 0.8235, 0.8235, 0.8275, 0.7373, 0.7373, 0.7608,\n",
              "           0.7529, 0.8471, 0.6667, 0.0000],\n",
              "          [0.0078, 0.0000, 0.0000, 0.0000, 0.2588, 0.7843, 0.8706, 0.9294,\n",
              "           0.9373, 0.9490, 0.9647, 0.9529, 0.9569, 0.8667, 0.8627, 0.7569,\n",
              "           0.7490, 0.7020, 0.7137, 0.7137, 0.7098, 0.6902, 0.6510, 0.6588,\n",
              "           0.3882, 0.2275, 0.0000, 0.0000],\n",
              "          [0.0000, 0.0000, 0.0000, 0.0000, 0.0000, 0.0000, 0.0000, 0.1569,\n",
              "           0.2392, 0.1725, 0.2824, 0.1608, 0.1373, 0.0000, 0.0000, 0.0000,\n",
              "           0.0000, 0.0000, 0.0000, 0.0000, 0.0000, 0.0000, 0.0000, 0.0000,\n",
              "           0.0000, 0.0000, 0.0000, 0.0000],\n",
              "          [0.0000, 0.0000, 0.0000, 0.0000, 0.0000, 0.0000, 0.0000, 0.0000,\n",
              "           0.0000, 0.0000, 0.0000, 0.0000, 0.0000, 0.0000, 0.0000, 0.0000,\n",
              "           0.0000, 0.0000, 0.0000, 0.0000, 0.0000, 0.0000, 0.0000, 0.0000,\n",
              "           0.0000, 0.0000, 0.0000, 0.0000],\n",
              "          [0.0000, 0.0000, 0.0000, 0.0000, 0.0000, 0.0000, 0.0000, 0.0000,\n",
              "           0.0000, 0.0000, 0.0000, 0.0000, 0.0000, 0.0000, 0.0000, 0.0000,\n",
              "           0.0000, 0.0000, 0.0000, 0.0000, 0.0000, 0.0000, 0.0000, 0.0000,\n",
              "           0.0000, 0.0000, 0.0000, 0.0000]]]),\n",
              " 9)"
            ]
          },
          "metadata": {},
          "execution_count": 4
        }
      ]
    },
    {
      "cell_type": "markdown",
      "source": [
        "`ToTensor()`, convert PIL Image to torch.FloatTensor of shape (C*H*W) **bold text** in the range **[0,1]**"
      ],
      "metadata": {
        "id": "d22JT_jNmzNc"
      }
    },
    {
      "cell_type": "code",
      "source": [
        "class_names = train_data.classes\n",
        "class_names"
      ],
      "metadata": {
        "colab": {
          "base_uri": "https://localhost:8080/"
        },
        "id": "YF-AUM45mvia",
        "outputId": "614580ed-b3c6-4727-bcbc-a3df03640c21"
      },
      "execution_count": 5,
      "outputs": [
        {
          "output_type": "execute_result",
          "data": {
            "text/plain": [
              "['T-shirt/top',\n",
              " 'Trouser',\n",
              " 'Pullover',\n",
              " 'Dress',\n",
              " 'Coat',\n",
              " 'Sandal',\n",
              " 'Shirt',\n",
              " 'Sneaker',\n",
              " 'Bag',\n",
              " 'Ankle boot']"
            ]
          },
          "metadata": {},
          "execution_count": 5
        }
      ]
    },
    {
      "cell_type": "code",
      "source": [
        "class_to_idx = train_data.class_to_idx\n",
        "class_to_idx"
      ],
      "metadata": {
        "colab": {
          "base_uri": "https://localhost:8080/"
        },
        "id": "uPtI5F9anPUx",
        "outputId": "5d4c9aa9-20f4-402d-8679-8dc4a275cf00"
      },
      "execution_count": 6,
      "outputs": [
        {
          "output_type": "execute_result",
          "data": {
            "text/plain": [
              "{'T-shirt/top': 0,\n",
              " 'Trouser': 1,\n",
              " 'Pullover': 2,\n",
              " 'Dress': 3,\n",
              " 'Coat': 4,\n",
              " 'Sandal': 5,\n",
              " 'Shirt': 6,\n",
              " 'Sneaker': 7,\n",
              " 'Bag': 8,\n",
              " 'Ankle boot': 9}"
            ]
          },
          "metadata": {},
          "execution_count": 6
        }
      ]
    },
    {
      "cell_type": "code",
      "source": [
        "# Check the shape of our image\n",
        "image.shape, label"
      ],
      "metadata": {
        "colab": {
          "base_uri": "https://localhost:8080/"
        },
        "id": "PHSICd5bna9h",
        "outputId": "c79ff186-5cee-4e63-a1d2-2685e09f37f0"
      },
      "execution_count": 7,
      "outputs": [
        {
          "output_type": "execute_result",
          "data": {
            "text/plain": [
              "(torch.Size([1, 28, 28]), 9)"
            ]
          },
          "metadata": {},
          "execution_count": 7
        }
      ]
    },
    {
      "cell_type": "code",
      "source": [
        "print(f'Image shape: {image.shape} -> [color_channels, height, width]')\n",
        "print(f'Image label: {class_names[label]}')"
      ],
      "metadata": {
        "colab": {
          "base_uri": "https://localhost:8080/"
        },
        "id": "CIAD7r-9nehu",
        "outputId": "e1cd8882-a869-4d85-b9aa-0624465a66f6"
      },
      "execution_count": 8,
      "outputs": [
        {
          "output_type": "stream",
          "name": "stdout",
          "text": [
            "Image shape: torch.Size([1, 28, 28]) -> [color_channels, height, width]\n",
            "Image label: Ankle boot\n"
          ]
        }
      ]
    },
    {
      "cell_type": "markdown",
      "source": [
        "### 1.2 Visualizing our data"
      ],
      "metadata": {
        "id": "YfadOlS2omRb"
      }
    },
    {
      "cell_type": "code",
      "source": [
        "image, label = train_data[0]\n",
        "print(f'Image shape: {image.shape}')\n",
        "\n",
        "plt.imshow(image.squeeze())\n",
        "plt.title(label)"
      ],
      "metadata": {
        "colab": {
          "base_uri": "https://localhost:8080/",
          "height": 488
        },
        "id": "CMWhPyt5oS5z",
        "outputId": "1ce99440-c9b8-4bd5-c640-29fa6be2b850"
      },
      "execution_count": 9,
      "outputs": [
        {
          "output_type": "stream",
          "name": "stdout",
          "text": [
            "Image shape: torch.Size([1, 28, 28])\n"
          ]
        },
        {
          "output_type": "execute_result",
          "data": {
            "text/plain": [
              "Text(0.5, 1.0, '9')"
            ]
          },
          "metadata": {},
          "execution_count": 9
        },
        {
          "output_type": "display_data",
          "data": {
            "text/plain": [
              "<Figure size 640x480 with 1 Axes>"
            ],
            "image/png": "[encoded data removed]"
          },
          "metadata": {}
        }
      ]
    },
    {
      "cell_type": "code",
      "source": [
        "plt.imshow(image.squeeze(), cmap='gray')\n",
        "plt.title(class_names[label])\n",
        "plt.axis(False)"
      ],
      "metadata": {
        "colab": {
          "base_uri": "https://localhost:8080/",
          "height": 446
        },
        "id": "976Q29oEo03p",
        "outputId": "5a11ddfd-8949-469d-f7fe-6b11b4d22187"
      },
      "execution_count": 10,
      "outputs": [
        {
          "output_type": "execute_result",
          "data": {
            "text/plain": [
              "(-0.5, 27.5, 27.5, -0.5)"
            ]
          },
          "metadata": {},
          "execution_count": 10
        },
        {
          "output_type": "display_data",
          "data": {
            "text/plain": [
              "<Figure size 640x480 with 1 Axes>"
            ],
            "image/png": "[encoded data removed]"
          },
          "metadata": {}
        }
      ]
    },
    {
      "cell_type": "code",
      "source": [
        "# Plot more images\n",
        "torch.manual_seed(42)\n",
        "fig = plt.figure(figsize=(9,9))\n",
        "rows, cols = 4,4\n",
        "\n",
        "for i in range(1, rows*cols+1):\n",
        "  random_idx = torch.randint(0, len(train_data), size=[1]).item()\n",
        "  img, label = train_data[random_idx]\n",
        "  fig.add_subplot(rows,cols,i)\n",
        "  plt.imshow(img.squeeze(), cmap=\"gray\")\n",
        "  plt.title(class_names[label])\n",
        "  plt.axis(False)"
      ],
      "metadata": {
        "colab": {
          "base_uri": "https://localhost:8080/",
          "height": 752
        },
        "id": "Qz3qdH1HpMeO",
        "outputId": "a6cee47b-de9d-4eea-cff9-ee56f5f9a804"
      },
      "execution_count": 11,
      "outputs": [
        {
          "output_type": "display_data",
          "data": {
            "text/plain": [
              "<Figure size 900x900 with 16 Axes>"
            ],
            "image/png": "[encoded data removed]"
          },
          "metadata": {}
        }
      ]
    },
    {
      "cell_type": "markdown",
      "source": [
        "## 2. Prepare DataLoader\n",
        "\n",
        "Right now, our data is in the form of PyTorch Datasets. DataLoader turns our datasets into a Python iterable.\n",
        "\n",
        "More specifically, we want to turn our data into batches or mini-batches.\n",
        "\n",
        "1. It is more computationally efficient, as in, your computing hardware may not be able to look (store in memory) at 6000 images in one hit. So we break it down to 32 images at a time (batch size of 32).\n",
        "2. It gives our NN more chances to update its gradients per epoch.\n"
      ],
      "metadata": {
        "id": "S13SCD7hquYk"
      }
    },
    {
      "cell_type": "code",
      "source": [
        "from torch.utils.data import DataLoader\n",
        "\n",
        "# Setup the batch size hyperparameter\n",
        "BATCH_SIZE = 32\n",
        "\n",
        "# Turn datasets into iterables (bathces)\n",
        "\n",
        "train_dataloader = DataLoader(dataset=train_data,\n",
        "                              batch_size=BATCH_SIZE,\n",
        "                              shuffle=True)\n",
        "\n",
        "test_dataloader = DataLoader(dataset=test_data,\n",
        "                             batch_size=BATCH_SIZE,\n",
        "                             shuffle=False)\n",
        "\n",
        "train_dataloader, test_dataloader"
      ],
      "metadata": {
        "colab": {
          "base_uri": "https://localhost:8080/"
        },
        "id": "WlWmGp5IqEhK",
        "outputId": "d916defa-97ce-45bc-8334-ad20d62b58eb"
      },
      "execution_count": 12,
      "outputs": [
        {
          "output_type": "execute_result",
          "data": {
            "text/plain": [
              "(<torch.utils.data.dataloader.DataLoader at 0x7b1fd3e4b9d0>,\n",
              " <torch.utils.data.dataloader.DataLoader at 0x7b1fd3e4a050>)"
            ]
          },
          "metadata": {},
          "execution_count": 12
        }
      ]
    },
    {
      "cell_type": "code",
      "source": [
        "# Let's check out what we've created\n",
        "\n",
        "print(f'DataLoaders: {train_dataloader, test_dataloader}')\n",
        "print(f'Length of train_dataloader: {len(train_dataloader)} batches of {BATCH_SIZE}')\n",
        "print(f'Length of test_dataloader: {len(test_dataloader)} batches of {BATCH_SIZE}')"
      ],
      "metadata": {
        "colab": {
          "base_uri": "https://localhost:8080/"
        },
        "id": "6R2vcS5vsNcK",
        "outputId": "6395137f-79b5-4d82-aa4b-0230d22cf26d"
      },
      "execution_count": 13,
      "outputs": [
        {
          "output_type": "stream",
          "name": "stdout",
          "text": [
            "DataLoaders: (<torch.utils.data.dataloader.DataLoader object at 0x7b1fd3e4b9d0>, <torch.utils.data.dataloader.DataLoader object at 0x7b1fd3e4a050>)\n",
            "Length of train_dataloader: 1875 batches of 32\n",
            "Length of test_dataloader: 313 batches of 32\n"
          ]
        }
      ]
    },
    {
      "cell_type": "code",
      "source": [
        "60000/32, 10000/32"
      ],
      "metadata": {
        "colab": {
          "base_uri": "https://localhost:8080/"
        },
        "id": "CiyrDlt5wFdp",
        "outputId": "778319a0-1393-49df-ae69-81dcfb00b74c"
      },
      "execution_count": 14,
      "outputs": [
        {
          "output_type": "execute_result",
          "data": {
            "text/plain": [
              "(1875.0, 312.5)"
            ]
          },
          "metadata": {},
          "execution_count": 14
        }
      ]
    },
    {
      "cell_type": "code",
      "source": [
        "# Check out what's inside the training loader\n",
        "train_features_batch, train_labels_batch = next(iter(train_dataloader))\n",
        "train_features_batch.shape, train_labels_batch.shape"
      ],
      "metadata": {
        "colab": {
          "base_uri": "https://localhost:8080/"
        },
        "id": "3zzdIq-owwlr",
        "outputId": "53fc5276-2655-4b55-8305-c2a949de0350"
      },
      "execution_count": 15,
      "outputs": [
        {
          "output_type": "execute_result",
          "data": {
            "text/plain": [
              "(torch.Size([32, 1, 28, 28]), torch.Size([32]))"
            ]
          },
          "metadata": {},
          "execution_count": 15
        }
      ]
    },
    {
      "cell_type": "code",
      "source": [
        "# Show a sample\n",
        "#torch.manual_seed(42)\n",
        "random_idx = torch.randint(0, len(train_features_batch), size=[1]).item()\n",
        "img, label = train_features_batch[random_idx], train_labels_batch[random_idx]\n",
        "plt.imshow(img.squeeze(), cmap='gray')\n",
        "plt.title(class_names[label])\n",
        "plt.axis('off')\n",
        "print(f'Image size: {img.shape}')\n",
        "print(f'Label: {label}, label size: {label.shape}')"
      ],
      "metadata": {
        "colab": {
          "base_uri": "https://localhost:8080/",
          "height": 464
        },
        "id": "aoRTlej2wbKt",
        "outputId": "df7d50bc-3775-4aa6-aa9c-ddcc8ab9e7a1"
      },
      "execution_count": 16,
      "outputs": [
        {
          "output_type": "stream",
          "name": "stdout",
          "text": [
            "Image size: torch.Size([1, 28, 28])\n",
            "Label: 8, label size: torch.Size([])\n"
          ]
        },
        {
          "output_type": "display_data",
          "data": {
            "text/plain": [
              "<Figure size 640x480 with 1 Axes>"
            ],
            "image/png": "[encoded data removed]"
          },
          "metadata": {}
        }
      ]
    },
    {
      "cell_type": "markdown",
      "source": [
        "## 3. Model_0 : Build a baseline model\n",
        "\n",
        "When starting a build seires of ML modeling experiment, it's best practice to start with a baseline model.\n",
        "\n",
        "A baseline model is a simple model you will try and improve upon with subsequent models/experiments.\n",
        "\n",
        "In other words: start simply and add complexity when necessary"
      ],
      "metadata": {
        "id": "V1_NRuNNyN-5"
      }
    },
    {
      "cell_type": "code",
      "source": [
        "# Create a flatten layer\n",
        "flatten_model = nn.Flatten()\n",
        "\n",
        "# Get a single sample\n",
        "x = train_features_batch[0]\n",
        "\n",
        "# Flatten the sample\n",
        "output = flatten_model(x) # perform forward pass\n",
        "\n",
        "# Print out what happened\n",
        "print(f'Shape before flattening: {x.shape}')\n",
        "print(f'Shape after flattening: {output.shape}')"
      ],
      "metadata": {
        "colab": {
          "base_uri": "https://localhost:8080/"
        },
        "id": "7yL5-mrWxo9_",
        "outputId": "4eb85c2e-a6a2-462d-f455-bd300dd4d81c"
      },
      "execution_count": 17,
      "outputs": [
        {
          "output_type": "stream",
          "name": "stdout",
          "text": [
            "Shape before flattening: torch.Size([1, 28, 28])\n",
            "Shape after flattening: torch.Size([1, 784])\n"
          ]
        }
      ]
    },
    {
      "cell_type": "code",
      "source": [
        "from torch import nn\n",
        "\n",
        "class FashionMNISTV0(nn.Module):\n",
        "  def __init__(self,\n",
        "               input_shape: int,\n",
        "               hidden_units: int,\n",
        "               output_shape: int):\n",
        "    super().__init__()\n",
        "    self.layer_stack = nn.Sequential(\n",
        "        nn.Flatten(),\n",
        "        nn.Linear(in_features=input_shape,\n",
        "                  out_features=hidden_units),\n",
        "        nn.Linear(in_features=hidden_units,\n",
        "                  out_features=output_shape)\n",
        "    )\n",
        "\n",
        "  def forward(self,x):\n",
        "    return self.layer_stack(x)"
      ],
      "metadata": {
        "id": "x0WwEP_qzHLG"
      },
      "execution_count": 18,
      "outputs": []
    },
    {
      "cell_type": "code",
      "source": [
        "torch.manual_seed(42)\n",
        "\n",
        "# Setup model with input parameters\n",
        "model_0 = FashionMNISTV0(\n",
        "    input_shape = 784, #this is 28*28\n",
        "    hidden_units = 10,\n",
        "    output_shape = len(class_names) # one for every class\n",
        ").to(\"cpu\")\n",
        "\n",
        "model_0"
      ],
      "metadata": {
        "colab": {
          "base_uri": "https://localhost:8080/"
        },
        "id": "Ws-A8xRs0VPw",
        "outputId": "6b9c7fba-fa49-454d-d823-093a8d5ac0e7"
      },
      "execution_count": 19,
      "outputs": [
        {
          "output_type": "execute_result",
          "data": {
            "text/plain": [
              "FashionMNISTV0(\n",
              "  (layer_stack): Sequential(\n",
              "    (0): Flatten(start_dim=1, end_dim=-1)\n",
              "    (1): Linear(in_features=784, out_features=10, bias=True)\n",
              "    (2): Linear(in_features=10, out_features=10, bias=True)\n",
              "  )\n",
              ")"
            ]
          },
          "metadata": {},
          "execution_count": 19
        }
      ]
    },
    {
      "cell_type": "code",
      "source": [
        "dummy_x = torch.rand([1,1,28,28])\n",
        "model_0(dummy_x)"
      ],
      "metadata": {
        "colab": {
          "base_uri": "https://localhost:8080/"
        },
        "id": "wDPXOTnt0zqg",
        "outputId": "15e93161-8aa4-4478-f5c5-fc801f09bd98"
      },
      "execution_count": 20,
      "outputs": [
        {
          "output_type": "execute_result",
          "data": {
            "text/plain": [
              "tensor([[-0.0315,  0.3171,  0.0531, -0.2525,  0.5959,  0.2112,  0.3233,  0.2694,\n",
              "         -0.1004,  0.0157]], grad_fn=<AddmmBackward0>)"
            ]
          },
          "metadata": {},
          "execution_count": 20
        }
      ]
    },
    {
      "cell_type": "markdown",
      "source": [
        "### 3.1 Setup loss, optimzer and evaluation metrics\n",
        "\n",
        "* Since we're working with multi-class data, our loss function will be nn.`CrossEntropyLoss()`\n",
        "* `torch.optim.SGD()` will be our optimizer\n",
        "* Evaluation metric since its a classification problem, let's use accuracy as our evaluation metric"
      ],
      "metadata": {
        "id": "ZXRTpuwC13ce"
      }
    },
    {
      "cell_type": "code",
      "source": [
        "import requests\n",
        "from pathlib import Path\n",
        "\n",
        "# Download helper_functions from Learn Pytorch Repo\n",
        "if Path('helper_functions.py').is_file():\n",
        "  print(\"it's already exists\")\n",
        "else:\n",
        "  print('Downloading file')\n",
        "  request = requests.get('https://raw.githubusercontent.com/mrdbourke/pytorch-deep-learning/refs/heads/main/helper_functions.py')\n",
        "  with open('helper_functions.py', 'wb') as f:\n",
        "    f.write(request.content)"
      ],
      "metadata": {
        "colab": {
          "base_uri": "https://localhost:8080/"
        },
        "id": "a0wxu3iR09Kq",
        "outputId": "994d17a4-ae76-4664-df76-8a69b533b1ee"
      },
      "execution_count": 21,
      "outputs": [
        {
          "output_type": "stream",
          "name": "stdout",
          "text": [
            "it's already exists\n"
          ]
        }
      ]
    },
    {
      "cell_type": "code",
      "source": [
        "# Import accuracy metric\n",
        "from helper_functions import accuracy_fn\n",
        "\n",
        "# Setup Loss function and optimizer\n",
        "loss_fn = nn.CrossEntropyLoss()\n",
        "optimizer = torch.optim.SGD(params=model_0.parameters(),\n",
        "                            lr=0.1)"
      ],
      "metadata": {
        "id": "I8NYowXo3eYJ"
      },
      "execution_count": 22,
      "outputs": []
    },
    {
      "cell_type": "markdown",
      "source": [
        "### 3.2 Creating a functiın to time our experiment\n",
        "\n",
        "ML is very experimental. Two of the main things often will track are:\n",
        "- Model's performance\n",
        "- How fast it runs"
      ],
      "metadata": {
        "id": "nm5lP7Ei4Zuz"
      }
    },
    {
      "cell_type": "code",
      "source": [
        "from timeit import default_timer as timer\n",
        "def print_train_time(start: float,\n",
        "                     end: float,\n",
        "                     device: torch.device = None):\n",
        "  total_time = end - start\n",
        "  print(f'Train time on {device}: {total_time:.3f} seconds')\n",
        "  return total_time"
      ],
      "metadata": {
        "id": "aivrPSPN4V0Y"
      },
      "execution_count": 23,
      "outputs": []
    },
    {
      "cell_type": "markdown",
      "source": [
        "### 3.3 Creating a training loop and training a model on batches of data\n",
        "\n",
        "1. Loop through epochs.\n",
        "2. Loop through training batches, perform training steps, calculate the training loss.\n",
        "3. Loop through testing batches, perform testing steps,calculate the test loss per batch\n",
        "4. Print out what's hapenning\n",
        "5. Time it all"
      ],
      "metadata": {
        "id": "TxwPl_UZ8dEd"
      }
    },
    {
      "cell_type": "code",
      "source": [
        "# Import tqdm for progress bar\n",
        "from tqdm.auto import tqdm\n",
        "\n",
        "# Set the seed and start the timer\n",
        "torch.manual_seed(42)\n",
        "train_time_start_on_cpu = timer()\n",
        "\n",
        "# Set the number of epochs (we'll keep this small for faster training time)\n",
        "epochs = 3\n",
        "\n",
        "# Create training and test loop\n",
        "for epoch in tqdm(range(epochs)):\n",
        "  print(f\"Epoch: {epoch}\\n-----\")\n",
        "  ## Training\n",
        "  train_loss = 0\n",
        "  ## Add a loop to loop throught the training batches\n",
        "  for batch, (X,y) in enumerate(train_dataloader):\n",
        "    model_0.train()\n",
        "    # Forward pass\n",
        "    y_pred = model_0(X)\n",
        "    # Calculate the loss\n",
        "    loss = loss_fn(y_pred, y)\n",
        "    train_loss += loss # Accumulate train loss\n",
        "    # Optimizer zero grad\n",
        "    optimizer.zero_grad()\n",
        "    # Loss backward\n",
        "    loss.backward()\n",
        "    # Optimizer step\n",
        "    optimizer.step()\n",
        "    # Print out whats happening\n",
        "    if batch % 400 ==0:\n",
        "      print(f\"Looked at {batch * len(X)}/ {len(train_dataloader.dataset)} samples.\")\n",
        "\n",
        "  # Divede total train loss by length of train dataloader\n",
        "  train_loss /= len(train_dataloader)\n",
        "\n",
        "  ### Testing\n",
        "  test_loss, test_acc = 0, 0\n",
        "  model_0.eval()\n",
        "  with torch.inference_mode():\n",
        "    for X_test,y_test in test_dataloader:\n",
        "      # Forward pass\n",
        "      test_pred = model_0(X_test)\n",
        "      # Calculate the loss\n",
        "      test_loss += loss_fn(test_pred, y_test)\n",
        "      # Calculate accuracy\n",
        "      test_acc += accuracy_fn(y_true=y_test, y_pred=test_pred.argmax(dim=1))\n",
        "\n",
        "    # Calculate the test loss average per batch\n",
        "    test_loss /= len(test_dataloader)\n",
        "    #Calculate the test acc average per batch\n",
        "    test_acc /= len(test_dataloader)\n",
        "\n",
        "  # Print out\n",
        "  print(f\"\\nTrain loss: {train_loss:.4f} | Test loss: {test_loss:.4f}, Test acc: {test_acc:.4f}\")\n",
        "\n",
        "# Calculate the training time\n",
        "train_time_end_on_cpu = timer()\n",
        "total_train_time_model_0 = print_train_time(start=train_time_start_on_cpu,\n",
        "                                            end= train_time_end_on_cpu,\n",
        "                                            device=str(next(model_0.parameters()).device))\n"
      ],
      "metadata": {
        "id": "Kpp_63MF4VsV",
        "colab": {
          "base_uri": "https://localhost:8080/",
          "height": 549,
          "referenced_widgets": [
            "2ef4b40cda7f4a5c875113e01f069d5c",
            "62b64f6f847a411b83084b15ef339aea",
            "bd4ff69f698444858f9deccf69b96deb",
            "2659a2b1debf4d6e891f596c0b50530e",
            "0bf9739c6f5b4f3787c773c4d775d5fd",
            "6a4d3b7261a342378c5c917f10f91266",
            "71cf3849bbc643a1bfbaafb920cd6787",
            "60c4532540f747508341921481b918e9",
            "899d08afe6a84ee88a560adbde1d52a3",
            "e5840bbe78c74850aa7d083bc5b6e20e",
            "33de57bd25c746c48ba320349f7bdfb2"
          ]
        },
        "outputId": "fd948a4e-e9d5-4360-ac4b-d3e6db80799d"
      },
      "execution_count": 24,
      "outputs": [
        {
          "output_type": "display_data",
          "data": {
            "text/plain": [
              "  0%|          | 0/3 [00:00<?, ?it/s]"
            ],
            "application/vnd.jupyter.widget-view+json": {
              "version_major": 2,
              "version_minor": 0,
              "model_id": "2ef4b40cda7f4a5c875113e01f069d5c"
            }
          },
          "metadata": {}
        },
        {
          "output_type": "stream",
          "name": "stdout",
          "text": [
            "Epoch: 0\n",
            "-----\n",
            "Looked at 0/ 60000 samples.\n",
            "Looked at 12800/ 60000 samples.\n",
            "Looked at 25600/ 60000 samples.\n",
            "Looked at 38400/ 60000 samples.\n",
            "Looked at 51200/ 60000 samples.\n",
            "\n",
            "Train loss: 0.5904 | Test loss: 0.5095, Test acc: 82.0387\n",
            "Epoch: 1\n",
            "-----\n",
            "Looked at 0/ 60000 samples.\n",
            "Looked at 12800/ 60000 samples.\n",
            "Looked at 25600/ 60000 samples.\n",
            "Looked at 38400/ 60000 samples.\n",
            "Looked at 51200/ 60000 samples.\n",
            "\n",
            "Train loss: 0.4763 | Test loss: 0.4799, Test acc: 83.1969\n",
            "Epoch: 2\n",
            "-----\n",
            "Looked at 0/ 60000 samples.\n",
            "Looked at 12800/ 60000 samples.\n",
            "Looked at 25600/ 60000 samples.\n",
            "Looked at 38400/ 60000 samples.\n",
            "Looked at 51200/ 60000 samples.\n",
            "\n",
            "Train loss: 0.4550 | Test loss: 0.4766, Test acc: 83.4265\n",
            "Train time on cpu: 36.006 seconds\n"
          ]
        }
      ]
    },
    {
      "cell_type": "code",
      "source": [
        "model_0.parameters()"
      ],
      "metadata": {
        "colab": {
          "base_uri": "https://localhost:8080/"
        },
        "id": "2dhvYNvqGeCz",
        "outputId": "8b01b897-e415-46d4-8f27-8607d6ccde27"
      },
      "execution_count": 25,
      "outputs": [
        {
          "output_type": "execute_result",
          "data": {
            "text/plain": [
              "<generator object Module.parameters at 0x7b1fd33f6880>"
            ]
          },
          "metadata": {},
          "execution_count": 25
        }
      ]
    },
    {
      "cell_type": "markdown",
      "source": [
        "## 4. Make predictions and get Model_0 results"
      ],
      "metadata": {
        "id": "8Z5SENOPHu7D"
      }
    },
    {
      "cell_type": "code",
      "source": [
        "torch.manual_seed(42)\n",
        "\n",
        "def eval_model(model: torch.nn.Module,\n",
        "               data_loader: torch.utils.data.DataLoader,\n",
        "               loss_fn: torch.nn.Module,\n",
        "               accuracy_fn):\n",
        "  loss, acc = 0,0\n",
        "  model.eval()\n",
        "  with torch.inference_mode():\n",
        "    for X, y in tqdm(data_loader):\n",
        "      # Make predictions\n",
        "      y_pred = model(X)\n",
        "\n",
        "      # Accumulate the loss and acc values per batch\n",
        "      loss += loss_fn(y_pred, y)\n",
        "      acc += accuracy_fn(y_true=y,\n",
        "                         y_pred=y_pred.argmax(dim=1))\n",
        "    # Scale loss and acc to find the average loss/acc per batch\n",
        "    loss /= len(data_loader)\n",
        "    acc /= len(data_loader)\n",
        "\n",
        "  return {\"model_name\": model.__class__.__name__, # only works when model was created with class\n",
        "          \"model_loss\": loss.item(),\n",
        "          \"model_acc\": acc}\n",
        "\n",
        "# Calculate model_0 results on test dataset\n",
        "\n",
        "model_0_results = eval_model(model=model_0,\n",
        "                             data_loader=test_dataloader,\n",
        "                             loss_fn=loss_fn,\n",
        "                             accuracy_fn=accuracy_fn)\n",
        "\n",
        "model_0_results"
      ],
      "metadata": {
        "colab": {
          "base_uri": "https://localhost:8080/",
          "height": 103,
          "referenced_widgets": [
            "9a381f44b84e43a69b3ef19b38ad7485",
            "20d4776d1c53465ba9bf511d937dd976",
            "b9857fd6a6cf47318ca5387e7af3be77",
            "81f99a03e19a4b2995ce1c10ab8f6d1a",
            "76be3f5e30f94b5cbb885b264b576c89",
            "3600172942ae40c3a2006ac8d23ff08c",
            "116bc46fa9c04a07baa7daf1c99e43a8",
            "9093407aac4d4af59ee85b394bbe2395",
            "bb663b5460a949aab2f46fb98d106bbd",
            "50cec87f87964bfba6c53f25145c88f1",
            "0bf7d728340c4e9e9a8bfcaf4a5eea61"
          ]
        },
        "id": "8Q8jrChfGh1h",
        "outputId": "4e753a97-c202-43f5-cad4-51a4de549b2b"
      },
      "execution_count": 26,
      "outputs": [
        {
          "output_type": "display_data",
          "data": {
            "text/plain": [
              "  0%|          | 0/313 [00:00<?, ?it/s]"
            ],
            "application/vnd.jupyter.widget-view+json": {
              "version_major": 2,
              "version_minor": 0,
              "model_id": "9a381f44b84e43a69b3ef19b38ad7485"
            }
          },
          "metadata": {}
        },
        {
          "output_type": "execute_result",
          "data": {
            "text/plain": [
              "{'model_name': 'FashionMNISTV0',\n",
              " 'model_loss': 0.47663888335227966,\n",
              " 'model_acc': 83.42651757188499}"
            ]
          },
          "metadata": {},
          "execution_count": 26
        }
      ]
    },
    {
      "cell_type": "code",
      "source": [
        "# Setup device agnostic code\n",
        "\n",
        "device = \"cuda\" if torch.cuda.is_available() else \"cpu\""
      ],
      "metadata": {
        "id": "UjsFid1nJoOv"
      },
      "execution_count": 27,
      "outputs": []
    },
    {
      "cell_type": "code",
      "source": [
        "device"
      ],
      "metadata": {
        "colab": {
          "base_uri": "https://localhost:8080/",
          "height": 35
        },
        "id": "9gLyP2ovK3yZ",
        "outputId": "c83ad34f-904c-4063-b41f-8459450e9c6c"
      },
      "execution_count": 28,
      "outputs": [
        {
          "output_type": "execute_result",
          "data": {
            "text/plain": [
              "'cuda'"
            ],
            "application/vnd.google.colaboratory.intrinsic+json": {
              "type": "string"
            }
          },
          "metadata": {},
          "execution_count": 28
        }
      ]
    },
    {
      "cell_type": "markdown",
      "source": [
        "## 6. Model_1: Building a better model with non-linearity"
      ],
      "metadata": {
        "id": "kTGE8FvoLQCP"
      }
    },
    {
      "cell_type": "code",
      "source": [
        "class FashionMNISTV1(nn.Module):\n",
        "  def __init__(self,\n",
        "               input_shape: int,\n",
        "               hidden_units: int,\n",
        "               output_shape: int):\n",
        "    super().__init__()\n",
        "    self.layer_stack = nn.Sequential(\n",
        "        nn.Flatten(),\n",
        "        nn.Linear(in_features=input_shape,\n",
        "                  out_features=hidden_units),\n",
        "        nn.ReLU(),\n",
        "        nn.Linear(in_features=hidden_units,\n",
        "                  out_features=output_shape),\n",
        "        nn.ReLU()\n",
        "    )\n",
        "\n",
        "  def forward(self,x: torch.Tensor):\n",
        "    return self.layer_stack(x)"
      ],
      "metadata": {
        "id": "xTgFH1OeK4vf"
      },
      "execution_count": 29,
      "outputs": []
    },
    {
      "cell_type": "code",
      "source": [
        "# Create an instance\n",
        "torch.manual_seed(42)\n",
        "model_1 = FashionMNISTV1(input_shape=784,\n",
        "                         hidden_units=10,\n",
        "                         output_shape=len(class_names)).to(device)"
      ],
      "metadata": {
        "id": "DI9dDYpjL3G1"
      },
      "execution_count": 30,
      "outputs": []
    },
    {
      "cell_type": "code",
      "source": [
        "model_1"
      ],
      "metadata": {
        "colab": {
          "base_uri": "https://localhost:8080/"
        },
        "id": "hffopz2qNB2B",
        "outputId": "a7da222d-01d4-4c53-bb4d-29298c73bea6"
      },
      "execution_count": 31,
      "outputs": [
        {
          "output_type": "execute_result",
          "data": {
            "text/plain": [
              "FashionMNISTV1(\n",
              "  (layer_stack): Sequential(\n",
              "    (0): Flatten(start_dim=1, end_dim=-1)\n",
              "    (1): Linear(in_features=784, out_features=10, bias=True)\n",
              "    (2): ReLU()\n",
              "    (3): Linear(in_features=10, out_features=10, bias=True)\n",
              "    (4): ReLU()\n",
              "  )\n",
              ")"
            ]
          },
          "metadata": {},
          "execution_count": 31
        }
      ]
    },
    {
      "cell_type": "code",
      "source": [
        "# Setup Loss function\n",
        "loss_fn = nn.CrossEntropyLoss() # measure how wrong our model is\n",
        "# Setup optimizer\n",
        "optimizer = torch.optim.SGD(params=model_1.parameters(), # tries to update our models parameters to reduce the loss\n",
        "                            lr=0.1)"
      ],
      "metadata": {
        "id": "lo8KVjA-NG1I"
      },
      "execution_count": 32,
      "outputs": []
    },
    {
      "cell_type": "markdown",
      "source": [
        "### 6.2 Functionizing training and evaluation/testing loop\n",
        "\n",
        "- trainin_loop\n",
        "- testing_loop"
      ],
      "metadata": {
        "id": "aa-Y03LV9G_D"
      }
    },
    {
      "cell_type": "code",
      "source": [
        "def train_step(model: torch.nn.Module,\n",
        "                 data_loader: torch.utils.data.DataLoader,\n",
        "                 loss_fn: torch.nn.Module,\n",
        "                 optimizer: torch.optim.Optimizer,\n",
        "                 accuracy_fn,\n",
        "                 device: torch.device = device):\n",
        "    \"\"\"\n",
        "    Performs a training with model trying to learn on data_loader\n",
        "    \"\"\"\n",
        "    train_loss, train_acc = 0,0\n",
        "    # Put model into training mode\n",
        "    model.train()\n",
        "    ## Add a loop to loop throught the training batches\n",
        "    for batch, (X,y) in enumerate(data_loader):\n",
        "      #Put data on target device\n",
        "      X, y = X.to(device), y.to(device)\n",
        "      # Forward pass\n",
        "      y_pred = model(X)\n",
        "      # Calculate the loss and accuracy per batch\n",
        "      loss = loss_fn(y_pred, y)\n",
        "      train_loss += loss # Accumulate train loss\n",
        "      train_acc += accuracy_fn(y_true=y,\n",
        "                               y_pred=y_pred.argmax(dim=1)) # go from logits -> prediction labels\n",
        "      # Optimizer zero grad\n",
        "      optimizer.zero_grad()\n",
        "      # Loss backward\n",
        "      loss.backward()\n",
        "      # Optimizer step\n",
        "      optimizer.step()\n",
        "\n",
        "    # Divede total train loss and accuracy by length of train dataloader\n",
        "    train_loss /= len(data_loader)\n",
        "    train_acc /= len(data_loader)\n",
        "    print(f\"Train loss: {train_loss:.5f} | Train acc: {train_acc:.2f}%\")"
      ],
      "metadata": {
        "id": "W-mKjgTLNjnO"
      },
      "execution_count": 33,
      "outputs": []
    },
    {
      "cell_type": "code",
      "source": [
        "def test_step(model: torch.nn.Module,\n",
        "              data_loader: torch.utils.data.DataLoader,\n",
        "              loss_fn: torch.nn.Module,\n",
        "              accuracy_fn,\n",
        "              device: torch.device = device):\n",
        "  \"\"\"\n",
        "  Performs testing with model going over data_loader\n",
        "  \"\"\"\n",
        "  test_loss, test_acc = 0,0\n",
        "  #Put model on testing mode\n",
        "  model.eval()\n",
        "  with torch.inference_mode():\n",
        "    for X,y in data_loader:\n",
        "      # Send the data to target device\n",
        "      X, y = X.to(device), y.to(device)\n",
        "      # Forward pass\n",
        "      test_pred = model(X)\n",
        "      # Calculate the loss\n",
        "      test_loss += loss_fn(test_pred, y)\n",
        "      # Calculate accuracy\n",
        "      test_acc += accuracy_fn(y_true=y, y_pred=test_pred.argmax(dim=1))\n",
        "\n",
        "    # Calculate the test loss average per batch\n",
        "    test_loss /= len(data_loader)\n",
        "    #Calculate the test acc average per batch\n",
        "    test_acc /= len(data_loader)\n",
        "    # Print out what's happenin\n",
        "    print(f\"Test loss: {test_loss:.5f} | Test acc: {test_acc:.2f}%\\n\")\n"
      ],
      "metadata": {
        "id": "R5SSydzhDG3R"
      },
      "execution_count": 34,
      "outputs": []
    },
    {
      "cell_type": "code",
      "source": [
        "torch.manual_seed(42)\n",
        "\n",
        "# Measure time\n",
        "train_time_start_on_gpu = timer()\n",
        "\n",
        "# Set epochs\n",
        "EPOCHS = 3\n",
        "\n",
        "# Create a optimization and evaluation loop\n",
        "for epoch in tqdm(range(EPOCHS)):\n",
        "  print(f\"Epoch: {EPOCHS}\\n-------\")\n",
        "  train_step(model=model_1,\n",
        "             data_loader=train_dataloader,\n",
        "             loss_fn=loss_fn,\n",
        "             optimizer=optimizer,\n",
        "             accuracy_fn= accuracy_fn,\n",
        "             device=device)\n",
        "  test_step(model=model_1,\n",
        "            data_loader=test_dataloader,\n",
        "            loss_fn=loss_fn,\n",
        "            accuracy_fn=accuracy_fn,\n",
        "            device=device)\n",
        "\n",
        "train_time_end_on_gpu = timer()\n",
        "total_train_time_model_1 = print_train_time(start=train_time_start_on_gpu,\n",
        "                                            end= train_time_end_on_gpu,\n",
        "                                            device=device)"
      ],
      "metadata": {
        "colab": {
          "base_uri": "https://localhost:8080/",
          "height": 335,
          "referenced_widgets": [
            "2e60e086e93d4cc096c9ad1511ae16b0",
            "273fd7af71ea423c8caa9889188b6659",
            "4631819f3a784b03ad468cb671fab8fd",
            "23a20ced572e4bb9bd96b7b196b937ef",
            "af3d95ddd13c4a6c8582610212277c80",
            "2a2ee13ac8424392ab3a63081f6fe51b",
            "74a1c44cd11c4e2897eaa89678c18806",
            "769addc7c13649a9a0bb72971bee91bb",
            "95991162ac1f4d7cb31addd8f2732362",
            "137ee6f432f640bcadbdf1cde6678ed0",
            "0387870796504c788a1cde684e931032"
          ]
        },
        "id": "Pt7Ee7ipFkH0",
        "outputId": "e58cd4b6-af74-4dee-f9f0-6feec99f349d"
      },
      "execution_count": 36,
      "outputs": [
        {
          "output_type": "display_data",
          "data": {
            "text/plain": [
              "  0%|          | 0/3 [00:00<?, ?it/s]"
            ],
            "application/vnd.jupyter.widget-view+json": {
              "version_major": 2,
              "version_minor": 0,
              "model_id": "2e60e086e93d4cc096c9ad1511ae16b0"
            }
          },
          "metadata": {}
        },
        {
          "output_type": "stream",
          "name": "stdout",
          "text": [
            "Epoch: 3\n",
            "-------\n",
            "Train loss: 0.80838 | Train acc: 70.84%\n",
            "Test loss: 0.71562 | Test acc: 74.49%\n",
            "\n",
            "Epoch: 3\n",
            "-------\n",
            "Train loss: 0.67008 | Train acc: 75.81%\n",
            "Test loss: 0.69731 | Test acc: 74.74%\n",
            "\n",
            "Epoch: 3\n",
            "-------\n",
            "Train loss: 0.64269 | Train acc: 76.63%\n",
            "Test loss: 0.66914 | Test acc: 75.87%\n",
            "\n",
            "Train time on cuda: 35.993 seconds\n"
          ]
        }
      ]
    },
    {
      "cell_type": "code",
      "source": [
        "model_0_results"
      ],
      "metadata": {
        "colab": {
          "base_uri": "https://localhost:8080/"
        },
        "id": "8JmUBircHlGD",
        "outputId": "7d9aa95e-1777-41d6-8825-e66fd408f4f8"
      },
      "execution_count": 37,
      "outputs": [
        {
          "output_type": "execute_result",
          "data": {
            "text/plain": [
              "{'model_name': 'FashionMNISTV0',\n",
              " 'model_loss': 0.47663888335227966,\n",
              " 'model_acc': 83.42651757188499}"
            ]
          },
          "metadata": {},
          "execution_count": 37
        }
      ]
    },
    {
      "cell_type": "code",
      "source": [
        "total_train_time_model_0"
      ],
      "metadata": {
        "colab": {
          "base_uri": "https://localhost:8080/"
        },
        "id": "1np_EVyNHwLW",
        "outputId": "9022eaf2-6ee4-4fc6-9212-991f3fe7ef8a"
      },
      "execution_count": 38,
      "outputs": [
        {
          "output_type": "execute_result",
          "data": {
            "text/plain": [
              "36.00569191900013"
            ]
          },
          "metadata": {},
          "execution_count": 38
        }
      ]
    },
    {
      "cell_type": "code",
      "source": [
        "!nvidia-smi"
      ],
      "metadata": {
        "colab": {
          "base_uri": "https://localhost:8080/"
        },
        "id": "lVk5QfJwHxwJ",
        "outputId": "733364b3-1cc3-4644-b718-f7aea966659e"
      },
      "execution_count": 39,
      "outputs": [
        {
          "output_type": "stream",
          "name": "stdout",
          "text": [
            "Mon Oct 21 10:41:27 2024       \n",
            "+---------------------------------------------------------------------------------------+\n",
            "| NVIDIA-SMI 535.104.05             Driver Version: 535.104.05   CUDA Version: 12.2     |\n",
            "|-----------------------------------------+----------------------+----------------------+\n",
            "| GPU  Name                 Persistence-M | Bus-Id        Disp.A | Volatile Uncorr. ECC |\n",
            "| Fan  Temp   Perf          Pwr:Usage/Cap |         Memory-Usage | GPU-Util  Compute M. |\n",
            "|                                         |                      |               MIG M. |\n",
            "|=========================================+======================+======================|\n",
            "|   0  Tesla T4                       Off | 00000000:00:04.0 Off |                    0 |\n",
            "| N/A   58C    P0              28W /  70W |    159MiB / 15360MiB |      3%      Default |\n",
            "|                                         |                      |                  N/A |\n",
            "+-----------------------------------------+----------------------+----------------------+\n",
            "                                                                                         \n",
            "+---------------------------------------------------------------------------------------+\n",
            "| Processes:                                                                            |\n",
            "|  GPU   GI   CI        PID   Type   Process name                            GPU Memory |\n",
            "|        ID   ID                                                             Usage      |\n",
            "|=======================================================================================|\n",
            "+---------------------------------------------------------------------------------------+\n"
          ]
        }
      ]
    },
    {
      "cell_type": "markdown",
      "source": [
        "**Note:** Sometimes, depending on your data/hardware you might find that your model trains faster on CPU than GPU.\n",
        "\n",
        "Why is this?\n",
        "\n",
        "1. It could be that the overhead for copying data/model to and from the GPU outweighs the compute benefits offered by the GPU.\n",
        "\n",
        "2. The hardware you're using has a better CPU in terms compute capability thatn the GPU.\n",
        "\n",
        "[Article About How to Make Models Compute Faster](https://horace.io/brrr_intro.html)"
      ],
      "metadata": {
        "id": "Br3ckpywIbun"
      }
    },
    {
      "cell_type": "code",
      "source": [
        "def eval_model(model: torch.nn.Module,\n",
        "               data_loader: torch.utils.data.DataLoader,\n",
        "               loss_fn: torch.nn.Module,\n",
        "               accuracy_fn,\n",
        "               device=device):\n",
        "  loss, acc = 0,0\n",
        "  model.eval()\n",
        "  with torch.inference_mode():\n",
        "    for X, y in tqdm(data_loader):\n",
        "      # Put data on target device\n",
        "      X,y = X.to(device), y.to(device)\n",
        "      # Make predictions\n",
        "      y_pred = model(X)\n",
        "\n",
        "      # Accumulate the loss and acc values per batch\n",
        "      loss += loss_fn(y_pred, y)\n",
        "      acc += accuracy_fn(y_true=y,\n",
        "                         y_pred=y_pred.argmax(dim=1))\n",
        "    # Scale loss and acc to find the average loss/acc per batch\n",
        "    loss /= len(data_loader)\n",
        "    acc /= len(data_loader)\n",
        "\n",
        "  return {\"model_name\": model.__class__.__name__, # only works when model was created with class\n",
        "          \"model_loss\": loss.item(),\n",
        "          \"model_acc\": acc}\n"
      ],
      "metadata": {
        "id": "5WA2sbFLKD2-"
      },
      "execution_count": 40,
      "outputs": []
    },
    {
      "cell_type": "code",
      "source": [
        "# Get model_1 results dictionary\n",
        "model_1_results = eval_model(model=model_1,\n",
        "                             data_loader=test_dataloader,\n",
        "                             loss_fn=loss_fn,\n",
        "                             accuracy_fn=accuracy_fn,\n",
        "                             device=device)\n",
        "\n",
        "model_1_results"
      ],
      "metadata": {
        "colab": {
          "base_uri": "https://localhost:8080/",
          "height": 103,
          "referenced_widgets": [
            "2301d29518ed45fd908690680c4aa18a",
            "b4fb1d052261485c9309a10d7e19f59e",
            "28c7fb903ead4570954995530c144a53",
            "faad47c372d74c9f8f78835a0f3dbb60",
            "22562d8352044a83a8dbf6d385acccae",
            "eb23de157be2453bbde530361d5bcc12",
            "38af96ba697e42de9d3e0f8a4d71b1ed",
            "6a6cbf6014214e7d95d0c7e3e615c65b",
            "5ef3619731d747da9fad06736251ef5a",
            "db2b5b55ca784d4986929eb104fe1820",
            "ce087039e29a44d1b35d95909da2f0bc"
          ]
        },
        "id": "3JYIYhXqIBte",
        "outputId": "c1d2fcab-4ec8-4c84-b086-532f9a044362"
      },
      "execution_count": 41,
      "outputs": [
        {
          "output_type": "display_data",
          "data": {
            "text/plain": [
              "  0%|          | 0/313 [00:00<?, ?it/s]"
            ],
            "application/vnd.jupyter.widget-view+json": {
              "version_major": 2,
              "version_minor": 0,
              "model_id": "2301d29518ed45fd908690680c4aa18a"
            }
          },
          "metadata": {}
        },
        {
          "output_type": "execute_result",
          "data": {
            "text/plain": [
              "{'model_name': 'FashionMNISTV1',\n",
              " 'model_loss': 0.6691395044326782,\n",
              " 'model_acc': 75.86861022364218}"
            ]
          },
          "metadata": {},
          "execution_count": 41
        }
      ]
    },
    {
      "cell_type": "markdown",
      "source": [
        "## Model 2: Building a Convolutional Neural Network (CNN)\n",
        "\n",
        "CNN's are also known as ConvNets.\n",
        "\n",
        "CNN's are known for their capabilities to find patterns in visual data\n",
        "\n",
        "[More information about CNN](https://poloclub.github.io/cnn-explainer/)"
      ],
      "metadata": {
        "id": "wHRGcc3yKgYX"
      }
    },
    {
      "cell_type": "markdown",
      "source": [
        "Understanding hyperparameters:\n",
        "\n",
        "![Screenshot 2024-10-17 at 15.08.21.png](data:image/png;base64,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)\n",
        "\n",
        "**Padding:** Padding conserves data at the borders of activation maps, it can help preserve the input's spatial size, which allows an architecture designer to build deeper, higher performing networks.\n",
        "\n",
        "**Kernel Size:** Refered as filter size, also known as **filter**, refers to the dimensions of the sliding window over the input. Choosing this hyperparameter has a massive impact on the image classification task. For example, ***small kernel*** sizes are able to extract a much larger amount of information containing highly local features from the input. Smaller kernel size also leads to a smaller reduction in layer dimensions, which allows for a **deeper architecture**. Conversely, a ***large kernel*** size extracts less information, which leads to a faster reduction in layer dimensions, often leading to **worse performance**. Large kernels are better suited to extract features that are larger.\n",
        "\n",
        "**Stride:** Indicates how many pixels the kernel should be shifted over at a time. The impact stride has on a CNN is similar to kernel size. As stride is **decreased**, more features are learned because more data is extracted, which also leads to larger output layers. On the contrary, as stride is **increased**, this leads to more limited feature extraction and smaller output layer dimensions."
      ],
      "metadata": {
        "id": "nF2JxPtnVhJ8"
      }
    },
    {
      "cell_type": "code",
      "source": [
        "# Create a CNN\n",
        "class FashionMNISTModelV2(nn.Module):\n",
        "  \"\"\"\n",
        "  Model architecture that replicates the TinyVGG\n",
        "  Model from CNN explainer website.\n",
        "  \"\"\"\n",
        "  def __init__(self,input_shape:int, hidden_units:int, output_shape:int):\n",
        "    super().__init__()\n",
        "    self.conv_block_1 = nn.Sequential(\n",
        "        nn.Conv2d(in_channels=input_shape,\n",
        "                  out_channels=hidden_units,\n",
        "                  kernel_size=3,\n",
        "                  stride=1,\n",
        "                  padding=1),\n",
        "        nn.ReLU(),\n",
        "        nn.Conv2d(in_channels=hidden_units,\n",
        "                  out_channels=hidden_units,\n",
        "                  kernel_size=3,\n",
        "                  stride=1,\n",
        "                  padding=1),\n",
        "        nn.ReLU(),\n",
        "        nn.MaxPool2d(kernel_size=2)\n",
        "    )\n",
        "    self.conv_block_2 = nn.Sequential(\n",
        "        nn.Conv2d(in_channels=hidden_units,\n",
        "                  out_channels=hidden_units,\n",
        "                  kernel_size=3,\n",
        "                  stride=1,\n",
        "                  padding=1),\n",
        "        nn.ReLU(),\n",
        "        nn.Conv2d(in_channels=hidden_units,\n",
        "                  out_channels=hidden_units,\n",
        "                  kernel_size=3,\n",
        "                  stride=1,\n",
        "                  padding=1),\n",
        "        nn.ReLU(),\n",
        "        nn.MaxPool2d(kernel_size=2)\n",
        "    )\n",
        "    self.classifier = nn.Sequential(\n",
        "        nn.Flatten(),\n",
        "        nn.Linear(in_features=hidden_units*7*7,\n",
        "                  out_features=output_shape)\n",
        "    )\n",
        "\n",
        "  def forward(self,x):\n",
        "    x= self.conv_block_1(x)\n",
        "    #print(x.shape)\n",
        "    x= self.conv_block_2(x)\n",
        "    #print(x.shape)\n",
        "    x= self.classifier(x)\n",
        "    return x"
      ],
      "metadata": {
        "id": "DSlf1W4RQ6vY"
      },
      "execution_count": 42,
      "outputs": []
    },
    {
      "cell_type": "code",
      "source": [
        "torch.manual_seed(42)\n",
        "model_2 = FashionMNISTModelV2(input_shape=1, # Color channels of our image\n",
        "                              hidden_units=10,\n",
        "                              output_shape= len(class_names)).to(device)"
      ],
      "metadata": {
        "id": "A-rbYxOwQ9kf"
      },
      "execution_count": 43,
      "outputs": []
    },
    {
      "cell_type": "markdown",
      "source": [
        "We create the dummy tensor and dummy tensor to pass through model to see what will be the output shape."
      ],
      "metadata": {
        "id": "SzhQd95MgLcS"
      }
    },
    {
      "cell_type": "code",
      "source": [
        "rand_image_tensor = torch.randn(size=(1,28,28))\n",
        "rand_image_tensor.shape"
      ],
      "metadata": {
        "colab": {
          "base_uri": "https://localhost:8080/"
        },
        "id": "ug62XVRtfcg9",
        "outputId": "a8400552-0869-415a-ba12-2ca75966d2d0"
      },
      "execution_count": 46,
      "outputs": [
        {
          "output_type": "execute_result",
          "data": {
            "text/plain": [
              "torch.Size([1, 28, 28])"
            ]
          },
          "metadata": {},
          "execution_count": 46
        }
      ]
    },
    {
      "cell_type": "code",
      "source": [
        "10*7*7 # Flattened of Conv Block 2"
      ],
      "metadata": {
        "colab": {
          "base_uri": "https://localhost:8080/"
        },
        "id": "c-KUoMlIg-uS",
        "outputId": "a7b589eb-f6d6-4d93-9af9-b68b87cd3453"
      },
      "execution_count": 47,
      "outputs": [
        {
          "output_type": "execute_result",
          "data": {
            "text/plain": [
              "490"
            ]
          },
          "metadata": {},
          "execution_count": 47
        }
      ]
    },
    {
      "cell_type": "code",
      "source": [
        "model_2(rand_image_tensor.unsqueeze(0).to(device))"
      ],
      "metadata": {
        "colab": {
          "base_uri": "https://localhost:8080/"
        },
        "id": "lylllrIxfl-a",
        "outputId": "17c7e638-071d-4ade-ddf1-5b34bbfd98ec"
      },
      "execution_count": 48,
      "outputs": [
        {
          "output_type": "execute_result",
          "data": {
            "text/plain": [
              "tensor([[ 0.0366, -0.0940,  0.0686, -0.0485,  0.0068,  0.0290,  0.0132,  0.0084,\n",
              "         -0.0030, -0.0185]], device='cuda:0', grad_fn=<AddmmBackward0>)"
            ]
          },
          "metadata": {},
          "execution_count": 48
        }
      ]
    },
    {
      "cell_type": "code",
      "source": [
        "model_2"
      ],
      "metadata": {
        "colab": {
          "base_uri": "https://localhost:8080/"
        },
        "id": "rDWBp2qMQ9hn",
        "outputId": "7b517389-17c7-487d-a6d2-df7594b0e10b"
      },
      "execution_count": 49,
      "outputs": [
        {
          "output_type": "execute_result",
          "data": {
            "text/plain": [
              "FashionMNISTModelV2(\n",
              "  (conv_block_1): Sequential(\n",
              "    (0): Conv2d(1, 10, kernel_size=(3, 3), stride=(1, 1), padding=(1, 1))\n",
              "    (1): ReLU()\n",
              "    (2): Conv2d(10, 10, kernel_size=(3, 3), stride=(1, 1), padding=(1, 1))\n",
              "    (3): ReLU()\n",
              "    (4): MaxPool2d(kernel_size=2, stride=2, padding=0, dilation=1, ceil_mode=False)\n",
              "  )\n",
              "  (conv_block_2): Sequential(\n",
              "    (0): Conv2d(10, 10, kernel_size=(3, 3), stride=(1, 1), padding=(1, 1))\n",
              "    (1): ReLU()\n",
              "    (2): Conv2d(10, 10, kernel_size=(3, 3), stride=(1, 1), padding=(1, 1))\n",
              "    (3): ReLU()\n",
              "    (4): MaxPool2d(kernel_size=2, stride=2, padding=0, dilation=1, ceil_mode=False)\n",
              "  )\n",
              "  (classifier): Sequential(\n",
              "    (0): Flatten(start_dim=1, end_dim=-1)\n",
              "    (1): Linear(in_features=490, out_features=10, bias=True)\n",
              "  )\n",
              ")"
            ]
          },
          "metadata": {},
          "execution_count": 49
        }
      ]
    },
    {
      "cell_type": "markdown",
      "source": [
        "### 7.1 Stepping through `nn.Conv2d()`"
      ],
      "metadata": {
        "id": "IUTftg1Ve7Ce"
      }
    },
    {
      "cell_type": "code",
      "source": [
        "torch.manual_seed(42)\n",
        "\n",
        "# Create a batch of images\n",
        "images = torch.randn(size=(32,3,64,64))\n",
        "test_image = images[0]\n",
        "\n",
        "print(f\"Image batch shape: {images.shape}\")\n",
        "print(f\"Single image shape: {test_image.shape}\")\n",
        "print(f\"Test image:\\n {test_image}\")"
      ],
      "metadata": {
        "colab": {
          "base_uri": "https://localhost:8080/"
        },
        "id": "eu3IF80qQ9el",
        "outputId": "c416c6a9-f5b1-4011-d151-2d69360ff098"
      },
      "execution_count": 50,
      "outputs": [
        {
          "output_type": "stream",
          "name": "stdout",
          "text": [
            "Image batch shape: torch.Size([32, 3, 64, 64])\n",
            "Single image shape: torch.Size([3, 64, 64])\n",
            "Test image:\n",
            " tensor([[[ 1.9269,  1.4873,  0.9007,  ...,  1.8446, -1.1845,  1.3835],\n",
            "         [ 1.4451,  0.8564,  2.2181,  ...,  0.3399,  0.7200,  0.4114],\n",
            "         [ 1.9312,  1.0119, -1.4364,  ..., -0.5558,  0.7043,  0.7099],\n",
            "         ...,\n",
            "         [-0.5610, -0.4830,  0.4770,  ..., -0.2713, -0.9537, -0.6737],\n",
            "         [ 0.3076, -0.1277,  0.0366,  ..., -2.0060,  0.2824, -0.8111],\n",
            "         [-1.5486,  0.0485, -0.7712,  ..., -0.1403,  0.9416, -0.0118]],\n",
            "\n",
            "        [[-0.5197,  1.8524,  1.8365,  ...,  0.8935, -1.5114, -0.8515],\n",
            "         [ 2.0818,  1.0677, -1.4277,  ...,  1.6612, -2.6223, -0.4319],\n",
            "         [-0.1010, -0.4388, -1.9775,  ...,  0.2106,  0.2536, -0.7318],\n",
            "         ...,\n",
            "         [ 0.2779,  0.7342, -0.3736,  ..., -0.4601,  0.1815,  0.1850],\n",
            "         [ 0.7205, -0.2833,  0.0937,  ..., -0.1002, -2.3609,  2.2465],\n",
            "         [-1.3242, -0.1973,  0.2920,  ...,  0.5409,  0.6940,  1.8563]],\n",
            "\n",
            "        [[-0.7978,  1.0261,  1.1465,  ...,  1.2134,  0.9354, -0.0780],\n",
            "         [-1.4647, -1.9571,  0.1017,  ..., -1.9986, -0.7409,  0.7011],\n",
            "         [-1.3938,  0.8466, -1.7191,  ..., -1.1867,  0.1320,  0.3407],\n",
            "         ...,\n",
            "         [ 0.8206, -0.3745,  1.2499,  ..., -0.0676,  0.0385,  0.6335],\n",
            "         [-0.5589, -0.3393,  0.2347,  ...,  2.1181,  2.4569,  1.3083],\n",
            "         [-0.4092,  1.5199,  0.2401,  ..., -0.2558,  0.7870,  0.9924]]])\n"
          ]
        }
      ]
    },
    {
      "cell_type": "code",
      "source": [
        "test_image.shape"
      ],
      "metadata": {
        "colab": {
          "base_uri": "https://localhost:8080/"
        },
        "id": "pzPSScAciJ7z",
        "outputId": "c567d618-671a-45cd-ce67-f9587419dfc5"
      },
      "execution_count": 51,
      "outputs": [
        {
          "output_type": "execute_result",
          "data": {
            "text/plain": [
              "torch.Size([3, 64, 64])"
            ]
          },
          "metadata": {},
          "execution_count": 51
        }
      ]
    },
    {
      "cell_type": "code",
      "source": [
        "torch.manual_seed(42)\n",
        "# Create a single conv2d layer\n",
        "conv_layer = nn.Conv2d(in_channels=3,\n",
        "                       out_channels=10,\n",
        "                       kernel_size=3,\n",
        "                       stride=1,\n",
        "                       padding=0)\n",
        "\n",
        "# Pass the data through the convolutional layer\n",
        "conv_output = conv_layer(test_image)\n",
        "conv_output.shape"
      ],
      "metadata": {
        "colab": {
          "base_uri": "https://localhost:8080/"
        },
        "id": "05pl6v0GQ9bk",
        "outputId": "2665f03d-5fc4-4ae0-f7eb-099958541f93"
      },
      "execution_count": 52,
      "outputs": [
        {
          "output_type": "execute_result",
          "data": {
            "text/plain": [
              "torch.Size([10, 62, 62])"
            ]
          },
          "metadata": {},
          "execution_count": 52
        }
      ]
    },
    {
      "cell_type": "markdown",
      "source": [
        "Change padding look how shape changes"
      ],
      "metadata": {
        "id": "-Wv08VMKia7M"
      }
    },
    {
      "cell_type": "code",
      "source": [
        "torch.manual_seed(42)\n",
        "# Create a single conv2d layer\n",
        "conv_layer = nn.Conv2d(in_channels=3,\n",
        "                       out_channels=10,\n",
        "                       kernel_size=3,\n",
        "                       stride=1,\n",
        "                       padding=1)\n",
        "\n",
        "# Pass the data through the convolutional layer\n",
        "conv_output = conv_layer(test_image)\n",
        "conv_output.shape"
      ],
      "metadata": {
        "colab": {
          "base_uri": "https://localhost:8080/"
        },
        "id": "DsirtP-oiZif",
        "outputId": "f9ef1f70-c5ea-483f-f2eb-e0c1c95a5c36"
      },
      "execution_count": 53,
      "outputs": [
        {
          "output_type": "execute_result",
          "data": {
            "text/plain": [
              "torch.Size([10, 64, 64])"
            ]
          },
          "metadata": {},
          "execution_count": 53
        }
      ]
    },
    {
      "cell_type": "markdown",
      "source": [
        "Change kernel_size look how shape changes"
      ],
      "metadata": {
        "id": "eSmtPtwBidfP"
      }
    },
    {
      "cell_type": "code",
      "source": [
        "torch.manual_seed(42)\n",
        "# Create a single conv2d layer\n",
        "conv_layer = nn.Conv2d(in_channels=3,\n",
        "                       out_channels=10,\n",
        "                       kernel_size=6,\n",
        "                       stride=1,\n",
        "                       padding=0)\n",
        "\n",
        "# Pass the data through the convolutional layer\n",
        "conv_output = conv_layer(test_image)\n",
        "conv_output.shape"
      ],
      "metadata": {
        "colab": {
          "base_uri": "https://localhost:8080/"
        },
        "id": "U1NTje_-icqa",
        "outputId": "c8be740a-40b8-4596-a777-3e8834ae669b"
      },
      "execution_count": 54,
      "outputs": [
        {
          "output_type": "execute_result",
          "data": {
            "text/plain": [
              "torch.Size([10, 59, 59])"
            ]
          },
          "metadata": {},
          "execution_count": 54
        }
      ]
    },
    {
      "cell_type": "markdown",
      "source": [
        "Change stride look how shape changes"
      ],
      "metadata": {
        "id": "mWHx5PUmij1D"
      }
    },
    {
      "cell_type": "code",
      "source": [
        "torch.manual_seed(42)\n",
        "# Create a single conv2d layer\n",
        "conv_layer = nn.Conv2d(in_channels=3,\n",
        "                       out_channels=10,\n",
        "                       kernel_size=3,\n",
        "                       stride=2,\n",
        "                       padding=0)\n",
        "\n",
        "# Pass the data through the convolutional layer\n",
        "conv_output = conv_layer(test_image)\n",
        "conv_output.shape"
      ],
      "metadata": {
        "colab": {
          "base_uri": "https://localhost:8080/"
        },
        "id": "6ss6C0igihS9",
        "outputId": "7a824b40-9448-4dc6-ea40-30bf0ac80918"
      },
      "execution_count": 55,
      "outputs": [
        {
          "output_type": "execute_result",
          "data": {
            "text/plain": [
              "torch.Size([10, 31, 31])"
            ]
          },
          "metadata": {},
          "execution_count": 55
        }
      ]
    },
    {
      "cell_type": "code",
      "source": [
        "# Get back to original one\n",
        "torch.manual_seed(42)\n",
        "# Create a single conv2d layer\n",
        "conv_layer = nn.Conv2d(in_channels=3,\n",
        "                       out_channels=10,\n",
        "                       kernel_size=3,\n",
        "                       stride=1,\n",
        "                       padding=0)\n",
        "\n",
        "# Pass the data through the convolutional layer\n",
        "conv_output = conv_layer(test_image)\n",
        "conv_output.shape"
      ],
      "metadata": {
        "colab": {
          "base_uri": "https://localhost:8080/"
        },
        "id": "pJXaCpsBba6E",
        "outputId": "ada42ad0-db5b-465c-cbec-2c64bdb49ca1"
      },
      "execution_count": 56,
      "outputs": [
        {
          "output_type": "execute_result",
          "data": {
            "text/plain": [
              "torch.Size([10, 62, 62])"
            ]
          },
          "metadata": {},
          "execution_count": 56
        }
      ]
    },
    {
      "cell_type": "markdown",
      "source": [
        "### 7.2 Stepping through `nn.MaxPool2d()`\n",
        "\n",
        "---\n",
        "\n",
        "Takes max output from filter.\n"
      ],
      "metadata": {
        "id": "kA2k_6kTi1-C"
      }
    },
    {
      "cell_type": "code",
      "source": [
        "test_image.shape"
      ],
      "metadata": {
        "id": "JB_e60LKiyqA",
        "colab": {
          "base_uri": "https://localhost:8080/"
        },
        "outputId": "87bdf9a6-9e7e-44bf-fe62-4fc742198701"
      },
      "execution_count": 57,
      "outputs": [
        {
          "output_type": "execute_result",
          "data": {
            "text/plain": [
              "torch.Size([3, 64, 64])"
            ]
          },
          "metadata": {},
          "execution_count": 57
        }
      ]
    },
    {
      "cell_type": "code",
      "source": [
        "# Print out original image shape without unsqueezed dim.\n",
        "print(f\"Test Image Original Shapa: {test_image.shape}\")\n",
        "print(f\"Test Image Unsqueezed Dim: {test_image.unsqueeze(0).shape}\")\n",
        "\n",
        "# Create a sample nn.MaxPool2d layer\n",
        "max_pool_layer = nn.MaxPool2d(kernel_size=2)\n",
        "\n",
        "# Pass data through just the conv_layer\n",
        "test_image_through_conv = conv_layer(test_image.unsqueeze(dim=0))\n",
        "print(f\"Shape after going through conv_layer(): {test_image_through_conv.shape}\")\n",
        "\n",
        "# Pass data through the max pool layer\n",
        "test_image_through_conv_and_max_pool = max_pool_layer(test_image_through_conv)\n",
        "print(f\"Shape after going through conv_layer() and max_pool_layer(): {test_image_through_conv_and_max_pool.shape}\")"
      ],
      "metadata": {
        "colab": {
          "base_uri": "https://localhost:8080/"
        },
        "id": "SbADZZk6Z23Q",
        "outputId": "2e904f1b-37d0-4034-95bf-f94385032b31"
      },
      "execution_count": 58,
      "outputs": [
        {
          "output_type": "stream",
          "name": "stdout",
          "text": [
            "Test Image Original Shapa: torch.Size([3, 64, 64])\n",
            "Test Image Unsqueezed Dim: torch.Size([1, 3, 64, 64])\n",
            "Shape after going through conv_layer(): torch.Size([1, 10, 62, 62])\n",
            "Shape after going through conv_layer() and max_pool_layer(): torch.Size([1, 10, 31, 31])\n"
          ]
        }
      ]
    },
    {
      "cell_type": "code",
      "source": [
        "torch.manual_seed(42)\n",
        "\n",
        "# Create a random tensor with a similar number of dimensions to out images\n",
        "random_tensor = torch.randn(size=(1,1,2,2))\n",
        "print(f\"\\nRandom tensor:\\n{random_tensor}\")\n",
        "print(f\"Random tensor shape: {random_tensor.shape}\")\n",
        "# Create a man pool layer\n",
        "max_pool_layer = nn.MaxPool2d(kernel_size=2)\n",
        "# Pass the random tensor through the max pool layer\n",
        "max_pool_tensor = max_pool_layer(random_tensor)\n",
        "print(f\"\\nMax pool tensor:\\n {max_pool_tensor}\")\n",
        "print(f\"Max pool tensor shape: {max_pool_tensor.shape}\")\n"
      ],
      "metadata": {
        "colab": {
          "base_uri": "https://localhost:8080/"
        },
        "id": "yR2332v4bJ6A",
        "outputId": "6d496030-07e9-46da-8eae-ec742ca07232"
      },
      "execution_count": 59,
      "outputs": [
        {
          "output_type": "stream",
          "name": "stdout",
          "text": [
            "\n",
            "Random tensor:\n",
            "tensor([[[[0.3367, 0.1288],\n",
            "          [0.2345, 0.2303]]]])\n",
            "Random tensor shape: torch.Size([1, 1, 2, 2])\n",
            "\n",
            "Max pool tensor:\n",
            " tensor([[[[0.3367]]]])\n",
            "Max pool tensor shape: torch.Size([1, 1, 1, 1])\n"
          ]
        }
      ]
    },
    {
      "cell_type": "markdown",
      "source": [
        "### 7.3 Setup a loss function adn optimizer for `model_2`"
      ],
      "metadata": {
        "id": "qhcdXymwimJj"
      }
    },
    {
      "cell_type": "code",
      "source": [
        "# Setup loss/eval/optimizer\n",
        "\n",
        "loss_fn = nn.CrossEntropyLoss()\n",
        "optimizer = torch.optim.SGD(params=model_2.parameters(),\n",
        "                            lr=0.1)"
      ],
      "metadata": {
        "id": "lZT4vSw8dnG8"
      },
      "execution_count": 60,
      "outputs": []
    },
    {
      "cell_type": "code",
      "source": [
        "model_2.state_dict()"
      ],
      "metadata": {
        "colab": {
          "base_uri": "https://localhost:8080/"
        },
        "id": "zHnlZDj6jAM8",
        "outputId": "63fa6082-dbb6-46ac-d48e-6c51d4b9cfc9"
      },
      "execution_count": 61,
      "outputs": [
        {
          "output_type": "execute_result",
          "data": {
            "text/plain": [
              "OrderedDict([('conv_block_1.0.weight',\n",
              "              tensor([[[[ 0.2548,  0.2767, -0.0781],\n",
              "                        [ 0.3062, -0.0730,  0.0673],\n",
              "                        [-0.1623,  0.1958,  0.2938]]],\n",
              "              \n",
              "              \n",
              "                      [[[-0.2445,  0.2897,  0.0624],\n",
              "                        [ 0.2463,  0.0451,  0.1607],\n",
              "                        [-0.0471,  0.2570,  0.0493]]],\n",
              "              \n",
              "              \n",
              "                      [[[-0.1556,  0.0850, -0.1536],\n",
              "                        [-0.0391, -0.1354,  0.2211],\n",
              "                        [-0.2631, -0.1537, -0.0941]]],\n",
              "              \n",
              "              \n",
              "                      [[[-0.2004,  0.0315, -0.3292],\n",
              "                        [ 0.3010, -0.2832,  0.2573],\n",
              "                        [ 0.0555, -0.1082,  0.2060]]],\n",
              "              \n",
              "              \n",
              "                      [[[ 0.0520,  0.2693,  0.0364],\n",
              "                        [-0.1051,  0.0896, -0.0904],\n",
              "                        [ 0.1403,  0.2976,  0.1927]]],\n",
              "              \n",
              "              \n",
              "                      [[[-0.1457,  0.1924,  0.0596],\n",
              "                        [ 0.1693, -0.2032, -0.3300],\n",
              "                        [-0.1288, -0.2557,  0.2735]]],\n",
              "              \n",
              "              \n",
              "                      [[[ 0.0960,  0.1381,  0.1054],\n",
              "                        [-0.0058,  0.2609, -0.2368],\n",
              "                        [ 0.0210, -0.2275,  0.1028]]],\n",
              "              \n",
              "              \n",
              "                      [[[-0.1148,  0.1021, -0.0694],\n",
              "                        [ 0.2765, -0.1976, -0.1988],\n",
              "                        [-0.1988,  0.2998,  0.1111]]],\n",
              "              \n",
              "              \n",
              "                      [[[ 0.3208, -0.2751, -0.3306],\n",
              "                        [-0.2608, -0.2242,  0.1350],\n",
              "                        [ 0.1194,  0.2770, -0.1721]]],\n",
              "              \n",
              "              \n",
              "                      [[[-0.2272,  0.1769, -0.1347],\n",
              "                        [ 0.2023, -0.0791,  0.1907],\n",
              "                        [-0.2590, -0.1682,  0.1016]]]], device='cuda:0')),\n",
              "             ('conv_block_1.0.bias',\n",
              "              tensor([ 0.0705, -0.0850,  0.1987,  0.2266, -0.2417, -0.1780,  0.3052, -0.1125,\n",
              "                      -0.1182, -0.3225], device='cuda:0')),\n",
              "             ('conv_block_1.2.weight',\n",
              "              tensor([[[[-0.0604,  0.0263, -0.0139],\n",
              "                        [-0.0765,  0.0025, -0.0720],\n",
              "                        [-0.0894, -0.0580, -0.0923]],\n",
              "              \n",
              "                       [[-0.0671,  0.1054,  0.0199],\n",
              "                        [ 0.0325, -0.0983, -0.0692],\n",
              "                        [-0.0351,  0.0165, -0.0928]],\n",
              "              \n",
              "                       [[-0.0454, -0.0631,  0.0003],\n",
              "                        [-0.0392, -0.0073, -0.0714],\n",
              "                        [-0.0724, -0.0615, -0.0361]],\n",
              "              \n",
              "                       [[-0.0832,  0.0884, -0.0209],\n",
              "                        [ 0.0907,  0.0328, -0.0893],\n",
              "                        [ 0.0729, -0.0290, -0.0404]],\n",
              "              \n",
              "                       [[-0.0875, -0.1048,  0.0302],\n",
              "                        [-0.0230,  0.0410, -0.0865],\n",
              "                        [ 0.0783, -0.0774, -0.0182]],\n",
              "              \n",
              "                       [[ 0.0220,  0.0544,  0.0851],\n",
              "                        [ 0.0960, -0.0836,  0.0265],\n",
              "                        [-0.0453, -0.0116, -0.0789]],\n",
              "              \n",
              "                       [[ 0.0960, -0.0774,  0.0563],\n",
              "                        [ 0.0370,  0.0343, -0.0570],\n",
              "                        [ 0.0958,  0.0232,  0.0136]],\n",
              "              \n",
              "                       [[-0.0929,  0.0442, -0.0158],\n",
              "                        [-0.0483,  0.0905,  0.0235],\n",
              "                        [-0.0583, -0.0534, -0.0050]],\n",
              "              \n",
              "                       [[ 0.0589, -0.0269, -0.0601],\n",
              "                        [-0.0361, -0.0787,  0.0376],\n",
              "                        [ 0.0816, -0.0992,  0.0245]],\n",
              "              \n",
              "                       [[ 0.0545,  0.0191, -0.0375],\n",
              "                        [ 0.0550,  0.0554,  0.0394],\n",
              "                        [-0.0185, -0.0279,  0.0113]]],\n",
              "              \n",
              "              \n",
              "                      [[[-0.0186, -0.0314,  0.0674],\n",
              "                        [ 0.0906, -0.0104, -0.0236],\n",
              "                        [ 0.0015, -0.0063,  0.0253]],\n",
              "              \n",
              "                       [[ 0.0295, -0.0957, -0.0389],\n",
              "                        [ 0.0888,  0.0411, -0.0052],\n",
              "                        [-0.0636, -0.0645, -0.0944]],\n",
              "              \n",
              "                       [[-0.0344,  0.0356,  0.0672],\n",
              "                        [ 0.0487, -0.0932, -0.0634],\n",
              "                        [-0.0166,  0.1020,  0.0152]],\n",
              "              \n",
              "                       [[-0.0273,  0.0436, -0.0401],\n",
              "                        [-0.0682,  0.0769, -0.0479],\n",
              "                        [-0.0211, -0.1049,  0.0705]],\n",
              "              \n",
              "                       [[ 0.0799,  0.0384, -0.0735],\n",
              "                        [-0.1040, -0.0856,  0.0786],\n",
              "                        [ 0.0506,  0.0887,  0.0552]],\n",
              "              \n",
              "                       [[ 0.0267, -0.0010, -0.0802],\n",
              "                        [-0.0903, -0.0986,  0.0432],\n",
              "                        [-0.0518, -0.0212, -0.0607]],\n",
              "              \n",
              "                       [[-0.0192, -0.0742, -0.0689],\n",
              "                        [ 0.0350, -0.0313,  0.0651],\n",
              "                        [-0.0338, -0.0773, -0.0186]],\n",
              "              \n",
              "                       [[-0.0511, -0.0322, -0.1003],\n",
              "                        [ 0.0590, -0.0734,  0.0530],\n",
              "                        [ 0.0478,  0.0753, -0.0809]],\n",
              "              \n",
              "                       [[ 0.0758, -0.0498,  0.0391],\n",
              "                        [ 0.0990, -0.0149, -0.0008],\n",
              "                        [-0.0243, -0.0880,  0.0506]],\n",
              "              \n",
              "                       [[-0.1046,  0.0654,  0.0789],\n",
              "                        [ 0.0997, -0.0249, -0.0866],\n",
              "                        [ 0.0237,  0.0582, -0.1049]]],\n",
              "              \n",
              "              \n",
              "                      [[[-0.0239, -0.0632, -0.0092],\n",
              "                        [-0.0519, -0.0431, -0.0335],\n",
              "                        [-0.1002,  0.0865,  0.0884]],\n",
              "              \n",
              "                       [[-0.0165, -0.0120, -0.0430],\n",
              "                        [-0.0952, -0.1026,  0.0392],\n",
              "                        [-0.0579, -0.0678, -0.0082]],\n",
              "              \n",
              "                       [[-0.0351, -0.0341,  0.0034],\n",
              "                        [-0.0224, -0.0363, -0.0505],\n",
              "                        [-0.0858,  0.0884, -0.0422]],\n",
              "              \n",
              "                       [[ 0.0279, -0.0366,  0.0086],\n",
              "                        [ 0.0983,  0.0486, -0.0913],\n",
              "                        [ 0.0418,  0.1001,  0.0277]],\n",
              "              \n",
              "                       [[ 0.0707,  0.1039, -0.0162],\n",
              "                        [ 0.0219, -0.0733, -0.0217],\n",
              "                        [ 0.0781,  0.0540, -0.0667]],\n",
              "              \n",
              "                       [[-0.0845, -0.0720, -0.1040],\n",
              "                        [-0.0813, -0.0261,  0.0711],\n",
              "                        [ 0.0176, -0.0802, -0.0846]],\n",
              "              \n",
              "                       [[ 0.0524, -0.0784, -0.0130],\n",
              "                        [ 0.0506, -0.0488, -0.0115],\n",
              "                        [-0.0092, -0.0249, -0.0534]],\n",
              "              \n",
              "                       [[-0.0940, -0.0852, -0.0564],\n",
              "                        [ 0.1018, -0.0509, -0.0708],\n",
              "                        [ 0.0256,  0.0291,  0.0578]],\n",
              "              \n",
              "                       [[ 0.0801,  0.0587, -0.1045],\n",
              "                        [ 0.0093,  0.0639, -0.0097],\n",
              "                        [-0.0621,  0.1005, -0.0394]],\n",
              "              \n",
              "                       [[-0.0600, -0.0950,  0.0047],\n",
              "                        [ 0.0467,  0.0233,  0.0208],\n",
              "                        [-0.0799, -0.0984,  0.0019]]],\n",
              "              \n",
              "              \n",
              "                      [[[ 0.0961,  0.0608, -0.0614],\n",
              "                        [-0.0137, -0.0777, -0.0509],\n",
              "                        [ 0.0191,  0.0574,  0.0873]],\n",
              "              \n",
              "                       [[-0.0968,  0.0705, -0.0743],\n",
              "                        [ 0.0395,  0.0892,  0.0015],\n",
              "                        [ 0.0959, -0.0898, -0.0403]],\n",
              "              \n",
              "                       [[ 0.0615, -0.0230, -0.0216],\n",
              "                        [-0.0439,  0.0727,  0.0517],\n",
              "                        [ 0.0338, -0.0592, -0.0856]],\n",
              "              \n",
              "                       [[ 0.0114,  0.0312, -0.0487],\n",
              "                        [-0.0295,  0.0712,  0.0084],\n",
              "                        [ 0.0048, -0.0259, -0.0955]],\n",
              "              \n",
              "                       [[-0.0991, -0.0504, -0.0536],\n",
              "                        [ 0.0328, -0.0307, -0.0412],\n",
              "                        [ 0.1005,  0.0367,  0.0751]],\n",
              "              \n",
              "                       [[-0.0510, -0.0431,  0.0387],\n",
              "                        [-0.0702, -0.0689, -0.0051],\n",
              "                        [-0.0386, -0.0790,  0.0625]],\n",
              "              \n",
              "                       [[ 0.0848,  0.0171, -0.0184],\n",
              "                        [-0.0976, -0.0384,  0.0268],\n",
              "                        [ 0.0497, -0.0133, -0.0417]],\n",
              "              \n",
              "                       [[ 0.0587, -0.0839,  0.0666],\n",
              "                        [-0.0409,  0.0016, -0.0208],\n",
              "                        [ 0.0128, -0.0319,  0.0766]],\n",
              "              \n",
              "                       [[-0.0027,  0.0823,  0.1013],\n",
              "                        [-0.0514, -0.0769,  0.0846],\n",
              "                        [ 0.0826, -0.0805, -0.0081]],\n",
              "              \n",
              "                       [[-0.1039, -0.0863,  0.0204],\n",
              "                        [ 0.0280,  0.0223, -0.0287],\n",
              "                        [ 0.0972,  0.0151, -0.0622]]],\n",
              "              \n",
              "              \n",
              "                      [[[-0.0060,  0.0253,  0.0369],\n",
              "                        [-0.0745,  0.0395, -0.0539],\n",
              "                        [-0.0876, -0.0576,  0.1017]],\n",
              "              \n",
              "                       [[ 0.0901,  0.0944,  0.0619],\n",
              "                        [ 0.0796, -0.0141, -0.0580],\n",
              "                        [ 0.0527, -0.0546, -0.0711]],\n",
              "              \n",
              "                       [[-0.0337,  0.0221,  0.0543],\n",
              "                        [-0.0409, -0.0620,  0.0142],\n",
              "                        [-0.0621, -0.0686,  0.0549]],\n",
              "              \n",
              "                       [[-0.0177,  0.0963,  0.1025],\n",
              "                        [ 0.0315,  0.0363,  0.0243],\n",
              "                        [ 0.0017, -0.0077,  0.0014]],\n",
              "              \n",
              "                       [[ 0.0394,  0.0980, -0.0273],\n",
              "                        [-0.0446, -0.0255, -0.0509],\n",
              "                        [ 0.0179,  0.0787,  0.0824]],\n",
              "              \n",
              "                       [[ 0.0484, -0.0776, -0.0566],\n",
              "                        [-0.0232, -0.0194,  0.0087],\n",
              "                        [-0.0968,  0.0328, -0.0804]],\n",
              "              \n",
              "                       [[-0.0667, -0.0876,  0.0918],\n",
              "                        [-0.0998,  0.0795, -0.0035],\n",
              "                        [-0.0123,  0.0659, -0.0097]],\n",
              "              \n",
              "                       [[ 0.0661,  0.0762, -0.0915],\n",
              "                        [ 0.0406,  0.0199,  0.0227],\n",
              "                        [ 0.0154,  0.0288, -0.0507]],\n",
              "              \n",
              "                       [[-0.0135,  0.1002,  0.0708],\n",
              "                        [-0.0040, -0.0991,  0.0046],\n",
              "                        [-0.0718,  0.0857, -0.0640]],\n",
              "              \n",
              "                       [[-0.0076, -0.0234,  0.0188],\n",
              "                        [ 0.0992,  0.0100,  0.0610],\n",
              "                        [ 0.0818,  0.0851, -0.0364]]],\n",
              "              \n",
              "              \n",
              "                      [[[-0.0236,  0.0508, -0.0288],\n",
              "                        [ 0.0494, -0.0230, -0.0715],\n",
              "                        [ 0.0429,  0.0162,  0.0470]],\n",
              "              \n",
              "                       [[ 0.1047,  0.0720,  0.0999],\n",
              "                        [ 0.0056, -0.0907, -0.0739],\n",
              "                        [-0.0655, -0.0929, -0.0528]],\n",
              "              \n",
              "                       [[-0.0970, -0.0973, -0.0630],\n",
              "                        [-0.1039, -0.0647,  0.0402],\n",
              "                        [ 0.0879, -0.0314, -0.0307]],\n",
              "              \n",
              "                       [[ 0.0563, -0.0520, -0.0498],\n",
              "                        [ 0.0649, -0.0918,  0.0129],\n",
              "                        [ 0.0931,  0.0181,  0.0287]],\n",
              "              \n",
              "                       [[-0.0614, -0.0015,  0.0058],\n",
              "                        [ 0.0259,  0.0410,  0.0916],\n",
              "                        [-0.0805,  0.0032, -0.0527]],\n",
              "              \n",
              "                       [[-0.0834, -0.0084, -0.0928],\n",
              "                        [ 0.0736,  0.0122, -0.0568],\n",
              "                        [ 0.0551, -0.0998, -0.0408]],\n",
              "              \n",
              "                       [[-0.0205, -0.0896, -0.0670],\n",
              "                        [-0.0172,  0.0800,  0.1018],\n",
              "                        [ 0.0671, -0.0629, -0.0690]],\n",
              "              \n",
              "                       [[ 0.0920,  0.0373,  0.0028],\n",
              "                        [ 0.0143, -0.0847, -0.0352],\n",
              "                        [ 0.1015, -0.0260, -0.0053]],\n",
              "              \n",
              "                       [[-0.0875, -0.0590, -0.0022],\n",
              "                        [-0.0655, -0.0131,  0.0429],\n",
              "                        [-0.1031,  0.0313, -0.0697]],\n",
              "              \n",
              "                       [[-0.0514,  0.0405,  0.0838],\n",
              "                        [-0.0288, -0.0433, -0.0953],\n",
              "                        [-0.0544, -0.0923, -0.0241]]],\n",
              "              \n",
              "              \n",
              "                      [[[ 0.0215, -0.0988,  0.0920],\n",
              "                        [ 0.0661, -0.1032, -0.0503],\n",
              "                        [ 0.0344, -0.0217, -0.0115]],\n",
              "              \n",
              "                       [[-0.0476,  0.0847, -0.0589],\n",
              "                        [ 0.0874,  0.0068,  0.0212],\n",
              "                        [ 0.0822, -0.0174, -0.0600]],\n",
              "              \n",
              "                       [[-0.0170,  0.0855, -0.0782],\n",
              "                        [ 0.0239, -0.1036,  0.0553],\n",
              "                        [ 0.0389,  0.0045,  0.0452]],\n",
              "              \n",
              "                       [[ 0.0001,  0.0583, -0.0834],\n",
              "                        [-0.0155,  0.0468,  0.1050],\n",
              "                        [ 0.0537, -0.0767,  0.0811]],\n",
              "              \n",
              "                       [[-0.0235, -0.0225, -0.0958],\n",
              "                        [-0.0166,  0.0746,  0.0147],\n",
              "                        [-0.0614,  0.0324, -0.0338]],\n",
              "              \n",
              "                       [[ 0.0962, -0.0915, -0.0333],\n",
              "                        [-0.1018, -0.0415,  0.0332],\n",
              "                        [ 0.1015,  0.0177,  0.1033]],\n",
              "              \n",
              "                       [[ 0.0206,  0.0609,  0.0845],\n",
              "                        [ 0.0881, -0.0590,  0.0969],\n",
              "                        [ 0.0639, -0.0493, -0.0503]],\n",
              "              \n",
              "                       [[-0.0884,  0.0265, -0.0854],\n",
              "                        [ 0.0445,  0.0333, -0.0916],\n",
              "                        [ 0.0287, -0.0086,  0.0482]],\n",
              "              \n",
              "                       [[ 0.0605, -0.1048,  0.0967],\n",
              "                        [ 0.0884,  0.0419, -0.0963],\n",
              "                        [-0.0377, -0.0305, -0.0271]],\n",
              "              \n",
              "                       [[ 0.0594,  0.0383,  0.0835],\n",
              "                        [-0.0395,  0.0355,  0.0375],\n",
              "                        [-0.0878, -0.1022, -0.0547]]],\n",
              "              \n",
              "              \n",
              "                      [[[ 0.0722, -0.0992, -0.0918],\n",
              "                        [ 0.0591,  0.0569,  0.0867],\n",
              "                        [-0.0796, -0.0771,  0.0541]],\n",
              "              \n",
              "                       [[ 0.0917,  0.0631,  0.0165],\n",
              "                        [ 0.0347,  0.1000, -0.0680],\n",
              "                        [-0.0479,  0.0737, -0.0721]],\n",
              "              \n",
              "                       [[-0.0581,  0.0769,  0.0333],\n",
              "                        [ 0.0341, -0.0447, -0.0015],\n",
              "                        [ 0.0965, -0.0633,  0.0008]],\n",
              "              \n",
              "                       [[ 0.0501, -0.0728,  0.1024],\n",
              "                        [-0.0527, -0.0253, -0.0285],\n",
              "                        [-0.0687, -0.1034,  0.0594]],\n",
              "              \n",
              "                       [[ 0.0280, -0.0987, -0.0678],\n",
              "                        [ 0.1042,  0.0403,  0.0423],\n",
              "                        [-0.0631, -0.0462, -0.0159]],\n",
              "              \n",
              "                       [[-0.0193, -0.0722,  0.0087],\n",
              "                        [ 0.0105, -0.0133,  0.0146],\n",
              "                        [-0.0418,  0.0274,  0.0398]],\n",
              "              \n",
              "                       [[-0.0555, -0.1045,  0.0552],\n",
              "                        [ 0.0251, -0.0536,  0.1016],\n",
              "                        [-0.0477,  0.0712,  0.0535]],\n",
              "              \n",
              "                       [[-0.0884,  0.0680, -0.0969],\n",
              "                        [-0.0584, -0.0176, -0.0711],\n",
              "                        [ 0.1030, -0.0211,  0.0419]],\n",
              "              \n",
              "                       [[-0.0941,  0.0607, -0.0328],\n",
              "                        [-0.0802,  0.0154,  0.0511],\n",
              "                        [ 0.0912, -0.0644, -0.0519]],\n",
              "              \n",
              "                       [[ 0.0203,  0.0286,  0.0405],\n",
              "                        [ 0.0579, -0.0239,  0.0586],\n",
              "                        [ 0.0777, -0.0275,  0.0750]]],\n",
              "              \n",
              "              \n",
              "                      [[[ 0.0515,  0.0930, -0.0599],\n",
              "                        [-0.0521, -0.0305,  0.0053],\n",
              "                        [ 0.0633, -0.0602,  0.0528]],\n",
              "              \n",
              "                       [[-0.0378,  0.0637, -0.0050],\n",
              "                        [-0.0923, -0.0580, -0.0763],\n",
              "                        [ 0.0523, -0.0707, -0.0088]],\n",
              "              \n",
              "                       [[ 0.0227, -0.0578,  0.0304],\n",
              "                        [-0.1029, -0.0754, -0.0955],\n",
              "                        [-0.0319, -0.0384,  0.0151]],\n",
              "              \n",
              "                       [[-0.0195,  0.0496,  0.0966],\n",
              "                        [ 0.0378, -0.0415, -0.0987],\n",
              "                        [ 0.0382, -0.0522,  0.0536]],\n",
              "              \n",
              "                       [[ 0.0705,  0.0407,  0.0989],\n",
              "                        [ 0.1001,  0.0223, -0.0768],\n",
              "                        [ 0.0942, -0.0500, -0.0498]],\n",
              "              \n",
              "                       [[ 0.0882,  0.0817,  0.0318],\n",
              "                        [ 0.0066, -0.0887, -0.0109],\n",
              "                        [ 0.1011,  0.0268,  0.0090]],\n",
              "              \n",
              "                       [[-0.0219, -0.0368,  0.0628],\n",
              "                        [ 0.0065,  0.0686, -0.0187],\n",
              "                        [ 0.0461,  0.0435,  0.0168]],\n",
              "              \n",
              "                       [[ 0.0662,  0.0661,  0.0977],\n",
              "                        [ 0.0810, -0.0270, -0.0892],\n",
              "                        [ 0.0193, -0.0009, -0.0275]],\n",
              "              \n",
              "                       [[-0.0177,  0.0050,  0.0769],\n",
              "                        [ 0.0329, -0.0374, -0.0433],\n",
              "                        [-0.0261, -0.0407,  0.0948]],\n",
              "              \n",
              "                       [[ 0.0558,  0.0952,  0.0003],\n",
              "                        [ 0.0213,  0.0366, -0.0998],\n",
              "                        [ 0.0094, -0.0071, -0.0591]]],\n",
              "              \n",
              "              \n",
              "                      [[[-0.0818,  0.0933,  0.0857],\n",
              "                        [ 0.0489,  0.1006, -0.0428],\n",
              "                        [-0.0182,  0.0399, -0.0174]],\n",
              "              \n",
              "                       [[-0.0207, -0.0871,  0.0283],\n",
              "                        [-0.0637,  0.0038,  0.1028],\n",
              "                        [-0.0324, -0.0332,  0.0636]],\n",
              "              \n",
              "                       [[-0.0388, -0.0091,  0.0984],\n",
              "                        [-0.0432, -0.0754, -0.0590],\n",
              "                        [-0.0292, -0.0500, -0.0547]],\n",
              "              \n",
              "                       [[ 0.0426,  0.0179, -0.0337],\n",
              "                        [-0.0819, -0.0332, -0.0445],\n",
              "                        [-0.0343, -0.0951,  0.0227]],\n",
              "              \n",
              "                       [[-0.0774, -0.0821, -0.0861],\n",
              "                        [ 0.0440, -0.0635, -0.0435],\n",
              "                        [ 0.0826,  0.0560,  0.0604]],\n",
              "              \n",
              "                       [[-0.1001, -0.0756, -0.0398],\n",
              "                        [ 0.0871,  0.0108, -0.0788],\n",
              "                        [ 0.0007, -0.0819, -0.0231]],\n",
              "              \n",
              "                       [[-0.0290,  0.0912,  0.0326],\n",
              "                        [-0.0184,  0.0178, -0.0304],\n",
              "                        [ 0.0414,  0.0417,  0.0283]],\n",
              "              \n",
              "                       [[-0.0411,  0.0899, -0.0152],\n",
              "                        [-0.0410,  0.0660,  0.0859],\n",
              "                        [ 0.1049,  0.0312, -0.0359]],\n",
              "              \n",
              "                       [[ 0.0535,  0.0904, -0.1034],\n",
              "                        [-0.0131, -0.0719,  0.0196],\n",
              "                        [ 0.0436, -0.0218, -0.0088]],\n",
              "              \n",
              "                       [[ 0.0474, -0.0177, -0.0885],\n",
              "                        [ 0.0843, -0.0531, -0.0116],\n",
              "                        [ 0.0099, -0.0063, -0.0992]]]], device='cuda:0')),\n",
              "             ('conv_block_1.2.bias',\n",
              "              tensor([ 0.0484, -0.0479, -0.0547,  0.0252, -0.0550, -0.0487, -0.0355, -0.0396,\n",
              "                      -0.0440, -0.0284], device='cuda:0')),\n",
              "             ('conv_block_2.0.weight',\n",
              "              tensor([[[[ 2.7393e-02, -8.5299e-02, -6.3802e-02],\n",
              "                        [ 1.5381e-03,  1.4659e-02,  5.8217e-02],\n",
              "                        [-7.4044e-02,  3.3646e-02,  5.9914e-02]],\n",
              "              \n",
              "                       [[ 5.8530e-02, -9.8180e-02, -4.0225e-02],\n",
              "                        [-9.0606e-02, -6.6704e-02,  5.8711e-02],\n",
              "                        [-1.5740e-02,  4.4769e-02, -6.1876e-02]],\n",
              "              \n",
              "                       [[ 1.6018e-02, -6.3758e-02,  5.2693e-02],\n",
              "                        [-4.6104e-02, -2.6432e-02, -9.1456e-02],\n",
              "                        [ 3.4822e-04,  1.0008e-01,  5.1163e-02]],\n",
              "              \n",
              "                       [[-5.6240e-02,  1.4176e-03, -1.1558e-02],\n",
              "                        [-8.4862e-02,  8.2650e-02,  1.6993e-03],\n",
              "                        [ 2.2199e-02, -4.2567e-02, -4.9323e-02]],\n",
              "              \n",
              "                       [[ 1.7381e-02,  3.8971e-02,  2.3643e-02],\n",
              "                        [-5.0801e-02,  1.0234e-01, -1.5517e-02],\n",
              "                        [-6.4554e-02, -4.9301e-02,  1.0377e-01]],\n",
              "              \n",
              "                       [[ 5.0766e-06, -1.4309e-02, -4.3867e-02],\n",
              "                        [-2.7633e-02, -8.8779e-02, -8.3767e-02],\n",
              "                        [ 6.1695e-02,  9.0172e-02,  1.0059e-01]],\n",
              "              \n",
              "                       [[-7.6099e-02,  5.7012e-02, -6.5245e-02],\n",
              "                        [ 6.2883e-02,  7.6058e-02,  8.1573e-02],\n",
              "                        [ 7.5900e-02,  6.5941e-02,  2.0516e-03]],\n",
              "              \n",
              "                       [[ 4.8434e-02, -3.7712e-02,  4.5899e-02],\n",
              "                        [-3.3879e-02, -1.7700e-03, -9.1746e-02],\n",
              "                        [-2.7562e-02, -5.5432e-02, -3.5557e-02]],\n",
              "              \n",
              "                       [[-6.7313e-02, -9.4810e-02,  6.8639e-03],\n",
              "                        [ 6.8408e-02,  9.6001e-02,  6.1512e-02],\n",
              "                        [-5.4638e-02, -1.0425e-01,  3.9983e-02]],\n",
              "              \n",
              "                       [[ 5.9062e-02, -9.0495e-02,  3.7798e-02],\n",
              "                        [ 8.9121e-02,  6.3853e-03, -6.3505e-02],\n",
              "                        [ 8.6423e-02,  4.5011e-02,  6.9802e-02]]],\n",
              "              \n",
              "              \n",
              "                      [[[-7.1287e-02,  6.1342e-02, -7.2002e-02],\n",
              "                        [ 1.0430e-01, -4.4662e-02,  6.3516e-02],\n",
              "                        [ 2.1107e-02,  2.7935e-02, -1.6165e-02]],\n",
              "              \n",
              "                       [[ 4.3295e-02, -4.3932e-02, -9.9357e-02],\n",
              "                        [-4.0499e-02,  8.2592e-02, -2.7751e-02],\n",
              "                        [ 3.3132e-02, -3.8973e-02,  7.9073e-02]],\n",
              "              \n",
              "                       [[ 6.3086e-02,  3.7211e-02, -5.3881e-02],\n",
              "                        [-8.6133e-02,  3.9686e-03, -6.1839e-02],\n",
              "                        [ 8.6667e-02, -1.0130e-01,  4.7104e-02]],\n",
              "              \n",
              "                       [[ 1.0508e-01,  5.2792e-02,  3.5942e-02],\n",
              "                        [-1.0142e-01,  1.0139e-01, -1.8030e-02],\n",
              "                        [-9.8495e-02,  1.0406e-01, -4.2894e-02]],\n",
              "              \n",
              "                       [[-7.4575e-03,  9.6479e-02, -7.3070e-02],\n",
              "                        [-7.4576e-02,  1.7141e-02, -1.4109e-02],\n",
              "                        [ 2.4280e-02, -8.8407e-02,  3.1524e-03]],\n",
              "              \n",
              "                       [[-4.6882e-02, -5.1820e-02, -9.6517e-02],\n",
              "                        [ 5.5890e-02,  2.0306e-02, -8.9118e-02],\n",
              "                        [ 8.3648e-02,  3.1794e-02,  1.9560e-02]],\n",
              "              \n",
              "                       [[-6.1890e-02,  1.5896e-02,  1.0157e-01],\n",
              "                        [ 7.2299e-02, -8.2100e-02,  9.6220e-02],\n",
              "                        [ 8.1702e-03,  5.0698e-02,  8.1869e-02]],\n",
              "              \n",
              "                       [[ 8.9862e-02, -8.2170e-02,  9.2303e-02],\n",
              "                        [-7.1591e-02,  7.9021e-03, -7.3656e-02],\n",
              "                        [-2.3109e-02, -4.7901e-03, -1.2611e-02]],\n",
              "              \n",
              "                       [[-1.6652e-02,  8.3137e-03,  1.0398e-01],\n",
              "                        [ 6.1244e-02,  5.8973e-02,  4.2190e-02],\n",
              "                        [ 8.1606e-02, -4.8645e-03,  8.3813e-03]],\n",
              "              \n",
              "                       [[ 2.1693e-02, -9.1931e-02, -8.4913e-02],\n",
              "                        [ 1.2923e-02, -4.1241e-02, -1.9342e-03],\n",
              "                        [-2.4187e-02,  1.6408e-02,  6.8581e-02]]],\n",
              "              \n",
              "              \n",
              "                      [[[-3.4958e-02,  8.4418e-02,  8.3227e-02],\n",
              "                        [-8.0901e-02, -8.1400e-02, -8.5284e-02],\n",
              "                        [-5.7766e-02, -4.1033e-02, -7.9341e-03]],\n",
              "              \n",
              "                       [[-2.5635e-02, -5.3258e-02, -3.3488e-02],\n",
              "                        [-3.8131e-02,  1.0341e-01, -3.9068e-02],\n",
              "                        [-7.5473e-02,  4.3818e-02, -6.0886e-03]],\n",
              "              \n",
              "                       [[ 8.0698e-02,  6.5863e-02,  9.6843e-02],\n",
              "                        [-7.7197e-02,  6.7764e-02,  8.8464e-02],\n",
              "                        [-5.2054e-02,  9.6890e-02,  7.9019e-02]],\n",
              "              \n",
              "                       [[ 1.1544e-03,  5.0823e-02, -3.6853e-02],\n",
              "                        [-9.1936e-02,  2.6645e-02,  3.1425e-02],\n",
              "                        [-6.8891e-02,  5.1123e-02, -9.0043e-02]],\n",
              "              \n",
              "                       [[ 9.0718e-02,  1.0208e-01,  2.8699e-02],\n",
              "                        [-6.6137e-02,  5.1300e-02,  1.7963e-02],\n",
              "                        [ 2.8663e-02,  3.4643e-02,  8.0254e-02]],\n",
              "              \n",
              "                       [[-4.5309e-02, -2.3711e-02,  2.8746e-02],\n",
              "                        [ 1.1486e-02,  8.5000e-02, -5.5365e-02],\n",
              "                        [-3.8387e-03,  1.9696e-02, -2.7996e-02]],\n",
              "              \n",
              "                       [[ 7.1859e-02,  1.1530e-02, -9.7422e-02],\n",
              "                        [-1.1420e-02, -4.7809e-02,  1.0243e-02],\n",
              "                        [-1.2250e-02, -1.0456e-01, -1.9208e-02]],\n",
              "              \n",
              "                       [[-1.0096e-02, -3.1083e-02,  9.6848e-02],\n",
              "                        [-2.3000e-02,  6.7717e-02,  2.6112e-02],\n",
              "                        [-8.8979e-02,  2.4770e-02,  8.7356e-02]],\n",
              "              \n",
              "                       [[-6.8948e-02, -6.8134e-02,  1.0318e-01],\n",
              "                        [ 8.4697e-02, -5.8807e-02,  6.3429e-02],\n",
              "                        [-1.3485e-02, -1.0393e-01,  7.9198e-03]],\n",
              "              \n",
              "                       [[ 3.4057e-02, -3.1619e-02,  3.6670e-02],\n",
              "                        [-9.0136e-02,  7.3050e-02,  8.9865e-02],\n",
              "                        [ 5.8130e-02,  1.7866e-02,  3.4716e-02]]],\n",
              "              \n",
              "              \n",
              "                      [[[-7.6269e-02, -2.6339e-02, -1.0063e-02],\n",
              "                        [-5.8659e-02, -7.7857e-02,  7.0900e-02],\n",
              "                        [ 7.1535e-02, -9.5731e-02,  3.3542e-02]],\n",
              "              \n",
              "                       [[ 4.2881e-02,  1.0014e-01,  6.0985e-02],\n",
              "                        [ 9.6907e-02, -3.4510e-02,  7.3827e-02],\n",
              "                        [ 8.5740e-02, -9.9541e-02, -8.4613e-02]],\n",
              "              \n",
              "                       [[ 2.1335e-02,  5.7557e-02, -5.2369e-02],\n",
              "                        [ 1.1609e-02, -1.5303e-04,  2.6680e-02],\n",
              "                        [-5.6642e-02,  5.9455e-02,  7.0098e-02]],\n",
              "              \n",
              "                       [[-7.3139e-02,  1.0211e-03,  2.9247e-04],\n",
              "                        [ 3.3849e-02,  9.8198e-02,  3.0913e-02],\n",
              "                        [-2.3951e-02,  9.4672e-02, -4.0112e-02]],\n",
              "              \n",
              "                       [[-3.0608e-02,  7.1969e-03, -8.0270e-02],\n",
              "                        [ 1.1470e-02, -7.1518e-02,  1.0838e-02],\n",
              "                        [ 1.0099e-02,  1.4591e-02, -8.8891e-02]],\n",
              "              \n",
              "                       [[-1.0012e-01,  4.8501e-02,  9.0399e-02],\n",
              "                        [-9.3537e-02,  3.9043e-02, -7.7594e-02],\n",
              "                        [ 6.6082e-03,  9.8068e-02,  7.9965e-02]],\n",
              "              \n",
              "                       [[-7.7069e-02,  6.5203e-02,  5.5057e-02],\n",
              "                        [-1.6168e-04,  1.0211e-01, -4.1866e-02],\n",
              "                        [-2.4530e-02, -5.3275e-02,  1.5168e-02]],\n",
              "              \n",
              "                       [[ 2.7911e-02,  8.3990e-03, -5.9307e-02],\n",
              "                        [-4.7452e-02,  3.5855e-02, -9.2426e-02],\n",
              "                        [-1.6416e-02, -2.3350e-03, -4.2708e-02]],\n",
              "              \n",
              "                       [[ 3.8360e-02,  6.7940e-03,  7.4004e-02],\n",
              "                        [-9.3616e-03, -6.6528e-02,  7.4477e-02],\n",
              "                        [ 1.4720e-02, -3.0189e-02, -6.9476e-02]],\n",
              "              \n",
              "                       [[ 2.4707e-02, -1.0053e-01,  2.7762e-02],\n",
              "                        [ 5.2119e-02, -9.2465e-02, -6.9009e-02],\n",
              "                        [-7.5781e-02,  8.8597e-02,  8.9611e-02]]],\n",
              "              \n",
              "              \n",
              "                      [[[ 6.5987e-03,  9.8959e-02, -3.5239e-02],\n",
              "                        [-1.0233e-01,  3.6819e-02,  3.7343e-02],\n",
              "                        [ 1.0334e-01, -3.0510e-05,  8.0785e-02]],\n",
              "              \n",
              "                       [[ 6.4612e-02,  7.6292e-02, -1.0460e-01],\n",
              "                        [ 8.6800e-02, -8.9856e-02,  9.4501e-02],\n",
              "                        [-4.3682e-03, -9.3415e-02,  2.9314e-02]],\n",
              "              \n",
              "                       [[-2.1456e-02, -9.4678e-02, -3.8215e-02],\n",
              "                        [ 1.0868e-02,  8.2098e-02, -3.2406e-02],\n",
              "                        [ 6.2610e-02,  1.3200e-02,  3.5531e-03]],\n",
              "              \n",
              "                       [[ 2.0170e-02, -6.9177e-02, -8.7616e-02],\n",
              "                        [-3.3121e-02, -9.8226e-02, -4.9158e-02],\n",
              "                        [ 4.8494e-03, -6.9424e-02, -4.3723e-02]],\n",
              "              \n",
              "                       [[-1.8941e-02, -1.2144e-02, -5.8187e-02],\n",
              "                        [ 5.0650e-03, -1.4795e-02,  3.0147e-02],\n",
              "                        [ 4.7611e-03, -5.2638e-02, -3.6291e-02]],\n",
              "              \n",
              "                       [[-1.2149e-03, -6.5774e-02,  8.2520e-03],\n",
              "                        [-7.4425e-03,  4.0897e-02,  2.4947e-02],\n",
              "                        [ 7.8887e-02, -3.4749e-03, -7.7887e-02]],\n",
              "              \n",
              "                       [[ 4.7119e-02, -7.1240e-02, -1.4489e-02],\n",
              "                        [-3.4132e-02, -3.9997e-02, -3.9000e-02],\n",
              "                        [ 9.6863e-02,  6.0342e-02,  2.9213e-02]],\n",
              "              \n",
              "                       [[ 9.8975e-02, -9.5524e-02,  1.7010e-02],\n",
              "                        [ 6.7481e-02,  7.0022e-02, -8.3890e-02],\n",
              "                        [ 3.7514e-02, -6.0050e-02, -4.1187e-03]],\n",
              "              \n",
              "                       [[-2.1996e-02, -8.8013e-02, -1.0055e-01],\n",
              "                        [-6.9349e-02,  4.7832e-02,  4.8218e-02],\n",
              "                        [-9.1681e-02, -3.9586e-02,  1.7218e-03]],\n",
              "              \n",
              "                       [[-9.1135e-02,  5.9393e-02,  9.5473e-02],\n",
              "                        [ 1.8643e-02, -7.8321e-02,  2.4580e-02],\n",
              "                        [ 3.8265e-02,  8.3468e-02, -5.6085e-02]]],\n",
              "              \n",
              "              \n",
              "                      [[[-9.4437e-02,  4.6312e-02,  6.5624e-03],\n",
              "                        [-3.4345e-02, -4.4169e-02, -5.4351e-02],\n",
              "                        [ 8.5328e-02, -1.8187e-02,  7.6022e-02]],\n",
              "              \n",
              "                       [[ 9.4094e-02,  1.3353e-02,  2.2454e-02],\n",
              "                        [-7.1789e-03,  7.2397e-02, -9.4983e-02],\n",
              "                        [ 4.1919e-02, -1.7174e-02,  4.8132e-02]],\n",
              "              \n",
              "                       [[-4.6949e-04, -3.9029e-02, -1.1379e-02],\n",
              "                        [ 5.6920e-02, -7.3210e-02, -6.6629e-02],\n",
              "                        [-2.3611e-02, -3.8235e-02,  4.1409e-02]],\n",
              "              \n",
              "                       [[ 7.0937e-02, -1.1289e-02,  9.9672e-02],\n",
              "                        [-4.4042e-02, -5.9151e-02, -4.7191e-02],\n",
              "                        [-7.2624e-02, -7.3885e-02, -9.3921e-02]],\n",
              "              \n",
              "                       [[-9.3422e-02,  2.7512e-02,  6.4284e-02],\n",
              "                        [ 9.8963e-02,  8.9787e-02, -6.0709e-03],\n",
              "                        [ 2.0454e-02, -6.3068e-02,  4.0743e-02]],\n",
              "              \n",
              "                       [[-1.0107e-01,  4.9719e-02,  1.9334e-02],\n",
              "                        [ 3.2393e-02,  3.8595e-02, -4.8394e-02],\n",
              "                        [ 9.0452e-02,  5.0307e-02,  6.9243e-02]],\n",
              "              \n",
              "                       [[ 1.3922e-02,  6.6196e-02,  7.0941e-02],\n",
              "                        [ 4.7775e-02,  8.0297e-02, -1.9119e-02],\n",
              "                        [ 6.9310e-02,  2.4286e-02,  6.3424e-02]],\n",
              "              \n",
              "                       [[ 1.0267e-01,  2.3869e-02, -3.9124e-02],\n",
              "                        [-1.0488e-02,  2.9676e-02,  1.7773e-02],\n",
              "                        [-2.8795e-02,  8.2590e-02,  6.3331e-02]],\n",
              "              \n",
              "                       [[-6.5475e-02, -8.5889e-03, -1.0119e-02],\n",
              "                        [-6.6063e-02,  1.5374e-02, -3.2360e-02],\n",
              "                        [-5.4419e-02, -3.3894e-02, -3.7584e-02]],\n",
              "              \n",
              "                       [[ 1.0084e-01,  4.0432e-02,  1.0373e-01],\n",
              "                        [ 2.8903e-02,  2.3868e-02,  4.3333e-02],\n",
              "                        [ 1.8092e-02, -8.2722e-02, -6.2334e-02]]],\n",
              "              \n",
              "              \n",
              "                      [[[-2.5538e-02,  1.5846e-03,  3.9709e-02],\n",
              "                        [ 4.0588e-02,  8.3623e-02,  2.1458e-02],\n",
              "                        [-3.5975e-02, -7.9271e-02, -7.7203e-02]],\n",
              "              \n",
              "                       [[-6.2965e-02,  3.1792e-02,  5.6950e-02],\n",
              "                        [ 9.2224e-02, -3.3342e-02, -8.3150e-03],\n",
              "                        [-3.1303e-02, -3.8517e-04,  3.3837e-02]],\n",
              "              \n",
              "                       [[-2.3160e-03,  4.8799e-03,  1.3354e-02],\n",
              "                        [ 3.9256e-02, -3.1981e-02, -6.2855e-02],\n",
              "                        [ 2.4869e-02, -1.2481e-02, -4.7753e-02]],\n",
              "              \n",
              "                       [[ 4.4268e-02,  9.5597e-04, -1.5333e-02],\n",
              "                        [-5.1027e-02, -1.3868e-02, -8.9632e-02],\n",
              "                        [ 2.3980e-02,  1.5818e-03,  6.3966e-02]],\n",
              "              \n",
              "                       [[ 6.8063e-03,  8.4277e-03,  2.8715e-02],\n",
              "                        [ 8.0210e-02, -4.9812e-02,  6.2930e-02],\n",
              "                        [ 2.5779e-02, -7.0320e-02,  3.6702e-02]],\n",
              "              \n",
              "                       [[-6.3217e-02, -3.3181e-02, -5.0245e-02],\n",
              "                        [-7.1711e-02,  8.3017e-02, -9.4217e-02],\n",
              "                        [ 5.2706e-02, -9.4870e-02, -1.2829e-02]],\n",
              "              \n",
              "                       [[ 6.2868e-03,  7.4937e-02, -3.8147e-02],\n",
              "                        [ 3.0340e-02,  1.6329e-02,  6.2021e-02],\n",
              "                        [ 6.2667e-03,  3.9470e-02, -6.3677e-02]],\n",
              "              \n",
              "                       [[-7.3250e-02,  9.3928e-02, -7.6808e-02],\n",
              "                        [-1.7945e-02, -1.2742e-02,  1.0308e-01],\n",
              "                        [-2.2780e-02, -8.0249e-02, -2.6721e-02]],\n",
              "              \n",
              "                       [[ 5.4372e-02,  4.1773e-02,  8.7204e-02],\n",
              "                        [-2.1579e-02,  4.9653e-02, -9.9194e-02],\n",
              "                        [ 4.0787e-02,  4.8432e-02,  6.7998e-02]],\n",
              "              \n",
              "                       [[-6.0446e-02, -2.8142e-02,  2.5502e-02],\n",
              "                        [-7.4905e-02, -8.3851e-02, -1.0141e-01],\n",
              "                        [ 5.8842e-03,  6.5458e-02,  2.7075e-02]]],\n",
              "              \n",
              "              \n",
              "                      [[[ 6.4263e-03,  3.6727e-02, -6.6240e-02],\n",
              "                        [ 1.1113e-02, -2.6186e-02, -5.2193e-02],\n",
              "                        [ 9.0902e-02, -8.1550e-02,  1.5448e-02]],\n",
              "              \n",
              "                       [[-9.2624e-02, -3.5762e-03, -4.6840e-02],\n",
              "                        [ 3.4695e-02, -5.9191e-02,  6.7466e-02],\n",
              "                        [-8.5536e-02,  6.3313e-02, -7.9181e-02]],\n",
              "              \n",
              "                       [[ 5.6456e-02, -4.4384e-02, -2.4556e-04],\n",
              "                        [-1.9238e-02,  6.8414e-02,  3.4546e-02],\n",
              "                        [-9.2887e-02,  9.6914e-03, -7.2718e-02]],\n",
              "              \n",
              "                       [[ 7.8800e-02,  1.7319e-02, -2.7109e-02],\n",
              "                        [-5.3777e-02,  3.6485e-02, -6.3129e-02],\n",
              "                        [ 4.9992e-02,  5.7519e-02,  6.4701e-02]],\n",
              "              \n",
              "                       [[ 2.7537e-02, -9.2272e-02,  7.5823e-02],\n",
              "                        [-3.2700e-02, -3.1163e-02, -1.1325e-02],\n",
              "                        [ 7.7068e-02,  8.1052e-02,  1.6276e-02]],\n",
              "              \n",
              "                       [[ 5.0296e-02, -9.8241e-02,  2.4900e-04],\n",
              "                        [-9.3254e-02,  3.5876e-02, -7.5099e-02],\n",
              "                        [-3.7568e-02,  7.3684e-02,  1.0074e-01]],\n",
              "              \n",
              "                       [[-6.3286e-02, -5.8503e-02,  1.3055e-02],\n",
              "                        [ 4.1437e-02, -1.7168e-02, -3.2918e-02],\n",
              "                        [-6.9237e-02,  4.4997e-02,  1.0328e-01]],\n",
              "              \n",
              "                       [[-5.1026e-02,  4.9718e-02,  5.1481e-02],\n",
              "                        [ 8.4728e-02, -1.2001e-02,  3.3202e-03],\n",
              "                        [ 7.7444e-02,  6.6631e-02,  1.0411e-01]],\n",
              "              \n",
              "                       [[-3.0207e-02,  4.1709e-02,  7.3605e-02],\n",
              "                        [-7.1553e-02,  2.0940e-02, -2.3586e-02],\n",
              "                        [ 6.7760e-02, -4.7342e-02,  7.3933e-03]],\n",
              "              \n",
              "                       [[ 6.3067e-02, -9.6567e-02, -8.9004e-02],\n",
              "                        [-5.3989e-02,  6.7611e-02,  7.0680e-02],\n",
              "                        [-7.1991e-02,  2.0100e-02, -5.5854e-02]]],\n",
              "              \n",
              "              \n",
              "                      [[[-4.8926e-02,  9.0907e-02,  5.0914e-02],\n",
              "                        [-2.8828e-02,  1.5516e-02,  2.0424e-02],\n",
              "                        [ 2.4691e-02, -3.6079e-02, -6.2074e-02]],\n",
              "              \n",
              "                       [[ 6.9788e-02,  1.4164e-02,  4.4119e-02],\n",
              "                        [-3.9922e-02,  5.1057e-02,  7.6713e-02],\n",
              "                        [ 6.4107e-02,  2.8660e-02,  1.0371e-01]],\n",
              "              \n",
              "                       [[-2.3053e-04,  2.2441e-02,  1.0015e-01],\n",
              "                        [ 1.0245e-01, -4.4506e-02,  9.4953e-02],\n",
              "                        [ 3.8902e-02, -1.1799e-02,  9.2038e-02]],\n",
              "              \n",
              "                       [[-5.4605e-02,  6.8490e-02,  1.0445e-01],\n",
              "                        [-7.2701e-02, -6.2201e-02, -1.0445e-01],\n",
              "                        [-1.8970e-02, -9.5733e-02, -3.5304e-02]],\n",
              "              \n",
              "                       [[ 3.2002e-02,  7.4511e-02,  5.8717e-02],\n",
              "                        [ 5.8511e-02,  4.3730e-02, -6.5378e-02],\n",
              "                        [-8.3694e-02,  4.3696e-03,  1.0009e-01]],\n",
              "              \n",
              "                       [[ 5.9351e-03, -9.0662e-03, -7.1545e-02],\n",
              "                        [-5.2266e-02, -8.1256e-02,  8.4398e-02],\n",
              "                        [-1.7174e-02, -9.3119e-02,  1.1308e-02]],\n",
              "              \n",
              "                       [[ 7.6494e-03, -1.3023e-02,  3.7733e-02],\n",
              "                        [ 5.6687e-02, -9.9128e-02, -8.0753e-02],\n",
              "                        [-5.0639e-03, -9.7729e-02, -9.5750e-02]],\n",
              "              \n",
              "                       [[ 9.3067e-02, -8.0174e-03, -5.2113e-02],\n",
              "                        [-3.6157e-02, -8.2295e-02,  8.2258e-02],\n",
              "                        [-2.2857e-02, -5.9265e-02, -7.9944e-02]],\n",
              "              \n",
              "                       [[ 6.1611e-02, -1.4571e-02, -1.1074e-02],\n",
              "                        [-2.7473e-02, -5.0883e-02,  1.8751e-02],\n",
              "                        [ 8.1099e-02, -6.1093e-02,  5.0504e-03]],\n",
              "              \n",
              "                       [[-8.0165e-02, -4.9426e-02,  9.2525e-02],\n",
              "                        [ 1.1052e-03,  1.0154e-01, -1.8468e-02],\n",
              "                        [-5.7453e-02, -6.2981e-02,  9.3426e-02]]],\n",
              "              \n",
              "              \n",
              "                      [[[-8.1058e-02,  5.5318e-02,  2.6203e-02],\n",
              "                        [ 3.1107e-02,  5.9476e-02, -2.7577e-02],\n",
              "                        [ 6.5223e-02, -8.3982e-02, -3.7087e-02]],\n",
              "              \n",
              "                       [[ 7.7164e-02,  3.1283e-02, -1.4038e-02],\n",
              "                        [-2.4616e-02, -6.4364e-02,  6.4098e-02],\n",
              "                        [-3.3520e-03, -3.5664e-03,  2.4929e-02]],\n",
              "              \n",
              "                       [[ 7.7787e-02, -5.3778e-02, -3.6303e-02],\n",
              "                        [ 7.1429e-02,  5.9532e-02, -5.1855e-02],\n",
              "                        [-1.0428e-01,  1.9555e-02,  5.5434e-02]],\n",
              "              \n",
              "                       [[ 2.5178e-02,  7.4768e-02, -8.3640e-02],\n",
              "                        [ 5.3156e-02, -6.5531e-02,  5.9325e-02],\n",
              "                        [ 7.8394e-02,  3.3385e-02,  8.5284e-02]],\n",
              "              \n",
              "                       [[-6.9481e-02, -9.4275e-02, -1.0135e-01],\n",
              "                        [ 6.6179e-02,  3.6926e-02, -7.7188e-02],\n",
              "                        [ 5.1048e-02,  9.6177e-02, -1.0394e-01]],\n",
              "              \n",
              "                       [[ 7.6466e-02,  1.6167e-02,  9.8053e-03],\n",
              "                        [ 9.4847e-02,  9.5458e-02,  4.4414e-02],\n",
              "                        [ 8.3288e-02,  4.3853e-02,  1.7176e-02]],\n",
              "              \n",
              "                       [[-9.2656e-02,  1.9689e-02, -7.4993e-02],\n",
              "                        [ 3.2452e-02,  1.8598e-02,  2.3681e-03],\n",
              "                        [-7.2071e-02, -6.3899e-02,  7.7912e-02]],\n",
              "              \n",
              "                       [[ 5.1336e-02,  5.5576e-02, -3.1410e-02],\n",
              "                        [-1.8151e-02, -2.7014e-02,  7.2489e-02],\n",
              "                        [-4.5504e-02,  6.6394e-02,  7.2679e-02]],\n",
              "              \n",
              "                       [[-9.6403e-02,  6.4369e-04, -2.0076e-02],\n",
              "                        [-5.8273e-02,  4.5507e-02, -1.2807e-02],\n",
              "                        [ 9.2287e-02, -6.5976e-02,  4.8976e-02]],\n",
              "              \n",
              "                       [[-8.9998e-02, -5.2833e-02,  7.1903e-03],\n",
              "                        [ 8.3283e-02,  5.5521e-02, -8.6550e-02],\n",
              "                        [ 1.1676e-02, -6.2138e-02,  4.5674e-03]]]], device='cuda:0')),\n",
              "             ('conv_block_2.0.bias',\n",
              "              tensor([-0.0878, -0.0309,  0.0723, -0.0967, -0.1005,  0.0192,  0.0144, -0.0193,\n",
              "                       0.0920, -0.0635], device='cuda:0')),\n",
              "             ('conv_block_2.2.weight',\n",
              "              tensor([[[[-6.3992e-02, -7.8791e-02, -1.9619e-02],\n",
              "                        [-2.6901e-02,  6.5222e-02, -5.9186e-03],\n",
              "                        [ 3.3663e-02, -4.3804e-02,  8.5507e-02]],\n",
              "              \n",
              "                       [[ 8.8862e-02, -9.4401e-02, -2.7090e-02],\n",
              "                        [-8.9439e-02,  4.4781e-02, -9.2094e-02],\n",
              "                        [-4.9839e-02,  1.0532e-01, -1.0066e-01]],\n",
              "              \n",
              "                       [[ 7.7771e-02,  8.9049e-03,  8.4289e-02],\n",
              "                        [-5.3494e-02,  6.9236e-02,  1.2718e-02],\n",
              "                        [ 8.1073e-03,  7.1945e-02, -1.0019e-01]],\n",
              "              \n",
              "                       [[-8.4902e-02,  1.0180e-01, -6.3298e-02],\n",
              "                        [-7.5980e-02, -5.1539e-03, -3.3742e-02],\n",
              "                        [-1.4421e-02, -7.0623e-02,  3.8034e-02]],\n",
              "              \n",
              "                       [[-9.0703e-02,  8.5374e-03,  6.1510e-02],\n",
              "                        [ 2.0253e-02,  1.4006e-02,  1.5418e-02],\n",
              "                        [-3.0880e-02, -2.0080e-02, -4.4450e-02]],\n",
              "              \n",
              "                       [[-7.1207e-02, -5.5810e-02,  1.0420e-01],\n",
              "                        [-1.7641e-02,  3.6924e-02,  7.2896e-02],\n",
              "                        [-8.2343e-03, -5.6707e-02, -7.1419e-02]],\n",
              "              \n",
              "                       [[-3.8833e-02,  3.7624e-02, -8.8771e-02],\n",
              "                        [-1.2870e-02,  4.0096e-02,  8.5999e-02],\n",
              "                        [ 3.1721e-02,  2.0846e-02,  7.2162e-02]],\n",
              "              \n",
              "                       [[ 4.8708e-02,  3.5661e-02, -3.2682e-02],\n",
              "                        [-8.4528e-02, -2.2769e-02, -1.9117e-02],\n",
              "                        [ 7.7410e-03, -1.1593e-02,  4.2616e-02]],\n",
              "              \n",
              "                       [[ 7.0050e-02, -4.2735e-02, -1.0002e-01],\n",
              "                        [-5.4081e-02, -5.0436e-02,  5.9750e-02],\n",
              "                        [-6.7994e-02, -9.9145e-03, -2.2340e-02]],\n",
              "              \n",
              "                       [[-6.3976e-02,  4.7780e-02, -4.3909e-02],\n",
              "                        [-5.4531e-03, -7.4112e-02, -1.0632e-02],\n",
              "                        [ 1.4977e-02, -4.2894e-03, -3.9386e-02]]],\n",
              "              \n",
              "              \n",
              "                      [[[ 3.1315e-02, -2.7311e-02, -5.8439e-02],\n",
              "                        [-7.7732e-02, -2.2329e-02, -9.9578e-02],\n",
              "                        [ 8.7492e-02, -5.0357e-02, -4.3684e-02]],\n",
              "              \n",
              "                       [[ 9.7439e-03,  2.7326e-02, -9.9393e-03],\n",
              "                        [ 7.2313e-02, -6.1448e-02,  3.7777e-02],\n",
              "                        [-2.3773e-04, -8.5747e-02, -4.0824e-02]],\n",
              "              \n",
              "                       [[ 2.6825e-02,  2.0138e-02,  7.6647e-02],\n",
              "                        [ 7.0518e-02, -5.7493e-02, -4.5013e-02],\n",
              "                        [-2.2351e-02, -7.5517e-02, -2.8459e-02]],\n",
              "              \n",
              "                       [[-8.6258e-02,  4.0092e-02,  7.4583e-02],\n",
              "                        [ 8.3459e-03, -7.5460e-02, -7.9827e-02],\n",
              "                        [-4.1036e-02,  3.0659e-02,  2.5711e-03]],\n",
              "              \n",
              "                       [[ 1.9166e-02,  9.9346e-02,  4.8956e-02],\n",
              "                        [ 2.2665e-02, -2.1327e-02,  4.9864e-02],\n",
              "                        [ 3.8563e-02, -9.4879e-02, -6.2266e-02]],\n",
              "              \n",
              "                       [[ 3.5381e-03,  3.9997e-02,  5.1282e-02],\n",
              "                        [-6.2748e-02, -1.0458e-01, -5.4909e-03],\n",
              "                        [-1.2050e-02,  3.0588e-02, -2.8988e-02]],\n",
              "              \n",
              "                       [[ 8.0588e-02,  7.0333e-03,  7.6975e-02],\n",
              "                        [-7.3398e-02,  4.2167e-02,  1.2560e-02],\n",
              "                        [-5.2720e-02,  5.2256e-02, -1.0372e-01]],\n",
              "              \n",
              "                       [[ 8.5220e-02,  8.4947e-03,  1.0178e-02],\n",
              "                        [ 4.8746e-02,  8.7503e-03,  4.5184e-02],\n",
              "                        [ 6.7063e-02, -8.2268e-02,  6.9735e-02]],\n",
              "              \n",
              "                       [[-1.5784e-02, -2.4513e-02,  2.1217e-02],\n",
              "                        [ 8.2446e-02, -5.7302e-02, -7.1039e-02],\n",
              "                        [ 6.5418e-02, -4.9507e-02,  3.3937e-02]],\n",
              "              \n",
              "                       [[-1.5530e-02,  2.9014e-02,  8.0439e-02],\n",
              "                        [-5.3421e-02, -5.1151e-02,  5.1716e-02],\n",
              "                        [ 5.7714e-03, -1.1601e-02, -9.2590e-02]]],\n",
              "              \n",
              "              \n",
              "                      [[[ 8.9309e-02, -3.9919e-03, -1.9415e-02],\n",
              "                        [-4.3269e-02, -2.0801e-02,  5.1233e-02],\n",
              "                        [-2.4227e-03,  9.0147e-02, -6.0858e-03]],\n",
              "              \n",
              "                       [[-1.5122e-02,  5.9498e-02, -2.7275e-03],\n",
              "                        [-2.1039e-02,  3.5231e-02,  8.3129e-02],\n",
              "                        [ 2.6305e-02,  7.3398e-02,  6.8309e-02]],\n",
              "              \n",
              "                       [[ 2.9810e-02,  3.6650e-02,  3.4014e-02],\n",
              "                        [ 1.0934e-02,  8.9675e-02,  9.7308e-02],\n",
              "                        [ 3.7524e-02, -5.2640e-03,  9.4509e-02]],\n",
              "              \n",
              "                       [[-8.2042e-02,  7.7453e-02,  5.5849e-02],\n",
              "                        [ 6.7687e-02, -8.0992e-03, -7.8646e-02],\n",
              "                        [ 7.5193e-02, -4.6091e-02,  2.7734e-02]],\n",
              "              \n",
              "                       [[ 5.9719e-02, -9.8508e-02,  6.9954e-03],\n",
              "                        [-3.7444e-02,  7.4815e-02, -6.7114e-02],\n",
              "                        [ 6.4001e-02,  6.5730e-02,  5.8156e-02]],\n",
              "              \n",
              "                       [[ 1.0119e-01,  1.5964e-02, -9.5541e-02],\n",
              "                        [ 7.5248e-02,  9.6499e-03,  2.0918e-03],\n",
              "                        [-1.0041e-01, -2.3691e-02, -5.1162e-02]],\n",
              "              \n",
              "                       [[ 1.0324e-01,  7.5054e-02,  7.8634e-02],\n",
              "                        [ 7.2188e-02, -6.5340e-02, -4.5270e-02],\n",
              "                        [-4.1252e-02, -4.2257e-02,  8.2054e-02]],\n",
              "              \n",
              "                       [[ 3.5815e-02,  8.4470e-02, -4.9309e-03],\n",
              "                        [-9.3965e-02, -3.0582e-02,  7.4081e-02],\n",
              "                        [ 6.4174e-02,  3.2632e-02, -3.0919e-02]],\n",
              "              \n",
              "                       [[-9.8386e-02, -5.6639e-02,  5.4958e-02],\n",
              "                        [-4.2518e-02,  5.0421e-02,  2.8781e-02],\n",
              "                        [-4.0486e-02,  6.4202e-02, -3.3871e-02]],\n",
              "              \n",
              "                       [[-3.5020e-03, -4.0152e-02, -9.9988e-02],\n",
              "                        [ 1.6996e-02,  3.0460e-02, -5.3072e-02],\n",
              "                        [ 6.4663e-02, -9.4558e-02, -1.0161e-01]]],\n",
              "              \n",
              "              \n",
              "                      [[[-6.5106e-02, -3.6430e-02, -1.1707e-02],\n",
              "                        [-2.0370e-02,  4.8108e-02, -9.2510e-02],\n",
              "                        [ 1.5521e-02,  1.8254e-03,  2.7842e-02]],\n",
              "              \n",
              "                       [[ 1.0479e-01,  6.4874e-02, -5.8366e-02],\n",
              "                        [-8.6378e-02, -2.5520e-02, -5.2876e-02],\n",
              "                        [ 3.6820e-02,  9.6628e-04,  8.4783e-02]],\n",
              "              \n",
              "                       [[ 4.1405e-02, -1.9382e-02,  3.6229e-03],\n",
              "                        [ 2.5244e-02, -1.3080e-02,  8.5058e-02],\n",
              "                        [-8.2420e-02,  5.1377e-02, -6.7192e-02]],\n",
              "              \n",
              "                       [[-9.2347e-02, -2.1640e-02,  5.1366e-02],\n",
              "                        [ 7.4478e-02,  2.6452e-02, -9.1104e-03],\n",
              "                        [-5.9092e-03, -4.2731e-02, -9.4592e-03]],\n",
              "              \n",
              "                       [[-7.2831e-03,  8.9699e-02,  6.1690e-02],\n",
              "                        [-8.4351e-02,  4.3604e-04, -6.4834e-02],\n",
              "                        [-1.6733e-02, -8.3776e-02,  2.7402e-02]],\n",
              "              \n",
              "                       [[-7.6008e-02,  1.0406e-01,  7.9605e-02],\n",
              "                        [-7.2559e-02, -9.9239e-02,  4.1128e-03],\n",
              "                        [-2.9425e-02,  3.0945e-02, -7.1353e-02]],\n",
              "              \n",
              "                       [[ 4.3148e-02, -9.1047e-02, -5.5632e-02],\n",
              "                        [-5.5414e-02,  5.1007e-02, -2.7597e-03],\n",
              "                        [-1.0130e-01, -6.0201e-02, -4.8781e-02]],\n",
              "              \n",
              "                       [[-9.7802e-02,  1.3497e-02,  3.7561e-02],\n",
              "                        [-1.9340e-02, -4.1947e-02, -6.3926e-04],\n",
              "                        [-8.3725e-02, -6.4184e-02, -2.4040e-03]],\n",
              "              \n",
              "                       [[ 9.3643e-02, -3.2414e-02,  5.2247e-02],\n",
              "                        [-4.1484e-02, -2.8060e-02, -1.0034e-01],\n",
              "                        [ 8.7330e-02,  1.0264e-01, -2.2139e-03]],\n",
              "              \n",
              "                       [[ 6.6974e-02,  8.6219e-02,  5.2359e-02],\n",
              "                        [ 5.4288e-02, -1.0035e-01, -9.9050e-02],\n",
              "                        [-8.0906e-02,  3.2970e-02, -9.1177e-02]]],\n",
              "              \n",
              "              \n",
              "                      [[[-8.0464e-02, -5.1092e-02, -9.7154e-02],\n",
              "                        [ 1.4203e-04,  1.5207e-02, -6.1686e-02],\n",
              "                        [ 6.9018e-02, -4.0018e-02, -2.9676e-02]],\n",
              "              \n",
              "                       [[ 8.0309e-02,  9.0499e-02, -1.2093e-02],\n",
              "                        [-7.5671e-02, -5.2881e-02,  1.3423e-02],\n",
              "                        [ 6.1790e-02,  5.2477e-02, -4.6547e-02]],\n",
              "              \n",
              "                       [[-9.9650e-02, -9.2249e-02, -3.3537e-02],\n",
              "                        [ 1.3223e-03, -4.7347e-02, -8.3348e-02],\n",
              "                        [ 1.1109e-02, -8.3668e-02, -8.0946e-02]],\n",
              "              \n",
              "                       [[-8.5692e-02, -2.8563e-02,  9.3104e-02],\n",
              "                        [ 4.1207e-02, -1.2498e-02,  2.1694e-02],\n",
              "                        [ 4.1975e-02,  6.1414e-04, -8.5020e-02]],\n",
              "              \n",
              "                       [[-6.4944e-02, -7.1610e-02, -2.6766e-03],\n",
              "                        [-9.6492e-02, -1.9166e-02, -3.8545e-02],\n",
              "                        [ 1.0345e-01,  8.5679e-02,  6.1227e-02]],\n",
              "              \n",
              "                       [[ 5.9116e-03, -3.4129e-02,  2.6887e-02],\n",
              "                        [-7.2830e-02, -4.4957e-02, -2.1175e-02],\n",
              "                        [-2.4766e-02, -9.9854e-02,  4.1903e-02]],\n",
              "              \n",
              "                       [[ 8.6803e-02, -5.8141e-02,  2.8415e-02],\n",
              "                        [-1.2225e-02, -3.8445e-03,  6.1443e-03],\n",
              "                        [ 9.1346e-02,  1.4124e-02, -6.6690e-02]],\n",
              "              \n",
              "                       [[-3.7917e-02,  5.1495e-02,  3.2893e-02],\n",
              "                        [ 2.0487e-03, -1.3912e-02, -4.1012e-02],\n",
              "                        [-3.7413e-02, -5.5602e-02,  1.7273e-02]],\n",
              "              \n",
              "                       [[ 2.9603e-02,  8.0717e-02, -2.3813e-02],\n",
              "                        [ 7.5461e-03,  6.8125e-02,  4.5852e-02],\n",
              "                        [ 1.3544e-02,  3.2390e-02,  5.4714e-03]],\n",
              "              \n",
              "                       [[-9.0419e-02,  4.0636e-03, -2.3040e-02],\n",
              "                        [ 9.5123e-02,  9.5145e-02,  2.0912e-02],\n",
              "                        [ 9.4215e-02, -5.4288e-02,  9.1619e-02]]],\n",
              "              \n",
              "              \n",
              "                      [[[ 9.0756e-02, -4.0288e-03, -8.4592e-02],\n",
              "                        [-3.4015e-02, -2.8189e-02,  1.7411e-03],\n",
              "                        [-9.5569e-02,  1.9535e-02, -4.3839e-02]],\n",
              "              \n",
              "                       [[-2.6989e-02, -5.4443e-02, -2.2255e-02],\n",
              "                        [-9.7896e-02, -5.5885e-02,  9.7108e-03],\n",
              "                        [ 6.9072e-02,  9.5790e-02, -7.9737e-02]],\n",
              "              \n",
              "                       [[ 4.4264e-02, -5.9419e-02, -8.1498e-02],\n",
              "                        [-4.6417e-03, -6.0468e-02, -9.0783e-02],\n",
              "                        [-9.8509e-02, -7.0556e-02,  8.6619e-02]],\n",
              "              \n",
              "                       [[ 5.8788e-02, -4.1726e-02, -7.0553e-02],\n",
              "                        [-8.1085e-02, -6.2246e-02, -4.3376e-02],\n",
              "                        [ 6.3308e-02,  3.4496e-02, -4.0622e-02]],\n",
              "              \n",
              "                       [[ 7.2567e-02, -6.5484e-02, -8.5876e-02],\n",
              "                        [ 2.3006e-02, -5.8123e-02,  2.9987e-02],\n",
              "                        [ 8.9306e-02, -4.9849e-02, -7.3556e-02]],\n",
              "              \n",
              "                       [[ 3.9676e-02, -9.5200e-02,  9.4044e-02],\n",
              "                        [-4.9780e-02,  5.0961e-02, -8.3818e-02],\n",
              "                        [-7.1348e-02,  1.1611e-02,  3.7463e-02]],\n",
              "              \n",
              "                       [[ 8.1734e-02,  8.8158e-02, -6.0623e-03],\n",
              "                        [-1.3552e-02,  1.7424e-02, -2.4486e-02],\n",
              "                        [ 3.5882e-03, -9.9828e-02, -8.6531e-02]],\n",
              "              \n",
              "                       [[ 7.2233e-02, -6.1597e-02,  8.3008e-02],\n",
              "                        [ 1.1568e-02,  2.5676e-02,  9.5804e-02],\n",
              "                        [-5.8628e-02, -1.6640e-02,  1.8675e-02]],\n",
              "              \n",
              "                       [[ 3.6012e-02, -1.0259e-01,  3.7464e-02],\n",
              "                        [-6.2163e-02,  1.3846e-02,  7.1315e-02],\n",
              "                        [-1.0500e-02, -3.3346e-03, -7.8757e-03]],\n",
              "              \n",
              "                       [[ 8.7962e-02,  5.9907e-02,  1.7727e-02],\n",
              "                        [-6.3437e-02, -5.7241e-02,  8.3964e-02],\n",
              "                        [ 7.5834e-02,  6.1033e-02, -8.2189e-02]]],\n",
              "              \n",
              "              \n",
              "                      [[[ 8.2092e-02, -1.0076e-02,  7.7661e-02],\n",
              "                        [ 9.1553e-02,  1.1554e-02, -4.3863e-02],\n",
              "                        [ 9.9153e-02, -5.4931e-02,  6.8876e-02]],\n",
              "              \n",
              "                       [[-1.0108e-01, -3.3153e-02, -9.1902e-02],\n",
              "                        [-4.7284e-02,  4.4759e-02, -7.5529e-02],\n",
              "                        [-9.1158e-02,  7.5371e-02,  5.6270e-02]],\n",
              "              \n",
              "                       [[-1.1527e-03, -7.4309e-02, -2.7927e-02],\n",
              "                        [-3.4129e-02,  6.5100e-02, -3.4478e-02],\n",
              "                        [-3.0360e-02, -7.4720e-02, -4.9646e-02]],\n",
              "              \n",
              "                       [[ 5.7074e-02,  6.7914e-02,  1.5315e-02],\n",
              "                        [-3.9549e-02,  1.0124e-01,  2.0806e-02],\n",
              "                        [-4.0688e-02, -3.6535e-02, -1.4752e-02]],\n",
              "              \n",
              "                       [[ 4.9974e-02,  3.8555e-02,  7.6418e-02],\n",
              "                        [-4.7494e-03,  8.7183e-02, -4.2816e-02],\n",
              "                        [-4.8547e-02, -3.8927e-02, -9.8896e-02]],\n",
              "              \n",
              "                       [[-6.9195e-02, -9.5382e-02, -6.2294e-03],\n",
              "                        [ 9.9374e-04, -2.7358e-02, -7.2035e-02],\n",
              "                        [ 9.5637e-02, -3.4926e-02,  5.0233e-02]],\n",
              "              \n",
              "                       [[ 7.3408e-02, -6.9291e-02, -1.3179e-02],\n",
              "                        [ 6.0923e-02,  1.0218e-01, -1.3299e-02],\n",
              "                        [ 7.6382e-02, -8.2732e-02, -6.8489e-02]],\n",
              "              \n",
              "                       [[ 8.6682e-02, -9.9801e-03,  1.0414e-01],\n",
              "                        [ 7.6651e-03, -4.3714e-02,  1.0011e-01],\n",
              "                        [ 9.2179e-02,  9.7826e-03, -6.3900e-02]],\n",
              "              \n",
              "                       [[-4.5639e-03, -5.0693e-02,  7.6810e-02],\n",
              "                        [ 4.8829e-03,  2.2191e-02,  6.3927e-02],\n",
              "                        [ 3.4916e-02, -6.5803e-02,  8.7566e-02]],\n",
              "              \n",
              "                       [[ 6.4758e-02, -6.5073e-02,  7.9700e-02],\n",
              "                        [ 2.9905e-02, -2.0750e-02, -7.5385e-02],\n",
              "                        [-1.7490e-02, -1.0335e-01,  6.0163e-02]]],\n",
              "              \n",
              "              \n",
              "                      [[[ 7.6343e-02, -3.0347e-02,  9.7720e-02],\n",
              "                        [-3.9032e-02,  1.8051e-02, -7.3459e-02],\n",
              "                        [-4.4565e-03,  4.2610e-02,  4.5403e-02]],\n",
              "              \n",
              "                       [[-3.5346e-03, -5.3154e-02,  7.3680e-02],\n",
              "                        [ 6.9788e-02,  1.6916e-02, -4.8475e-02],\n",
              "                        [ 2.2349e-02,  2.8186e-04,  9.6302e-02]],\n",
              "              \n",
              "                       [[ 1.5621e-02,  8.1301e-03,  7.2057e-03],\n",
              "                        [ 5.6079e-02, -1.3024e-03,  9.0351e-02],\n",
              "                        [ 5.4917e-02, -7.9650e-02, -1.2063e-06]],\n",
              "              \n",
              "                       [[-8.9472e-02, -8.0934e-02,  2.0480e-02],\n",
              "                        [ 2.3687e-02, -9.2246e-03,  1.0019e-01],\n",
              "                        [-5.6627e-02, -4.4176e-02, -1.6881e-02]],\n",
              "              \n",
              "                       [[ 6.3911e-04, -8.9284e-03,  9.4909e-02],\n",
              "                        [-4.4519e-02, -5.5137e-02,  9.0599e-03],\n",
              "                        [ 7.9171e-02,  2.5019e-02,  5.6787e-02]],\n",
              "              \n",
              "                       [[ 2.0406e-02,  8.9839e-02,  6.3311e-02],\n",
              "                        [ 7.5428e-02, -1.4198e-02, -8.7268e-02],\n",
              "                        [-5.0002e-02,  3.5910e-02,  7.3950e-02]],\n",
              "              \n",
              "                       [[-4.1184e-02,  8.7218e-02,  1.5150e-02],\n",
              "                        [ 4.1869e-04,  4.1093e-03, -1.8623e-02],\n",
              "                        [ 9.8683e-02,  4.5784e-03,  6.4564e-02]],\n",
              "              \n",
              "                       [[-8.8967e-02, -5.4309e-02,  1.1852e-02],\n",
              "                        [ 8.4169e-02,  5.0184e-02,  2.0076e-02],\n",
              "                        [-1.0414e-01,  1.9816e-03, -6.9581e-02]],\n",
              "              \n",
              "                       [[-9.0006e-02,  1.4414e-02, -6.6693e-02],\n",
              "                        [ 9.5674e-02, -5.7294e-02,  3.3970e-02],\n",
              "                        [ 6.1871e-02, -8.1928e-02,  5.3946e-02]],\n",
              "              \n",
              "                       [[-1.4114e-02,  5.4619e-02,  1.0201e-01],\n",
              "                        [-4.4922e-02, -4.5653e-02,  8.3753e-02],\n",
              "                        [ 1.1722e-02, -1.0513e-02,  7.9971e-02]]],\n",
              "              \n",
              "              \n",
              "                      [[[-5.0928e-02, -5.2047e-03,  7.2403e-02],\n",
              "                        [ 4.1195e-02, -6.8180e-02,  2.7398e-02],\n",
              "                        [-8.0368e-02, -5.7245e-02,  6.7779e-02]],\n",
              "              \n",
              "                       [[-2.8093e-02, -5.3691e-02,  7.4717e-03],\n",
              "                        [ 2.5759e-02, -6.5524e-02, -7.1084e-02],\n",
              "                        [-1.0209e-01,  2.7236e-02, -6.8013e-02]],\n",
              "              \n",
              "                       [[ 8.0331e-03, -2.3576e-02, -6.8923e-02],\n",
              "                        [-3.3636e-02, -8.1027e-02, -5.5797e-02],\n",
              "                        [-3.2857e-03, -9.0116e-02, -9.2447e-02]],\n",
              "              \n",
              "                       [[ 7.8958e-02,  9.9188e-03, -4.6618e-02],\n",
              "                        [-3.5047e-03,  7.8168e-02, -8.7939e-02],\n",
              "                        [-5.5886e-02, -7.6226e-02, -7.6634e-03]],\n",
              "              \n",
              "                       [[-3.6274e-03, -8.2146e-02,  7.3163e-02],\n",
              "                        [-8.0946e-02,  9.8414e-02, -7.2560e-02],\n",
              "                        [-1.4446e-02,  1.9710e-02, -4.6852e-02]],\n",
              "              \n",
              "                       [[ 9.6939e-02, -7.2673e-02, -5.8427e-03],\n",
              "                        [-7.7398e-02,  2.9261e-02,  8.9871e-02],\n",
              "                        [ 9.7776e-02,  1.2514e-02, -5.2773e-02]],\n",
              "              \n",
              "                       [[ 1.0244e-01,  7.8667e-03,  7.1317e-02],\n",
              "                        [-5.4751e-02, -4.8920e-02, -8.7504e-02],\n",
              "                        [ 9.6990e-02,  1.7486e-02, -7.5704e-02]],\n",
              "              \n",
              "                       [[ 9.0535e-03, -4.5211e-02,  5.2659e-03],\n",
              "                        [ 3.4988e-02, -5.2308e-02,  1.8394e-02],\n",
              "                        [-6.6553e-02,  2.0312e-02, -1.0178e-01]],\n",
              "              \n",
              "                       [[ 1.6797e-02,  1.0473e-01,  9.7094e-02],\n",
              "                        [ 3.8451e-02,  7.7563e-02,  1.0248e-01],\n",
              "                        [ 2.9870e-02,  3.5156e-02,  1.3707e-02]],\n",
              "              \n",
              "                       [[ 9.3322e-02,  9.0551e-02, -4.9570e-02],\n",
              "                        [-4.3333e-03, -5.3110e-02,  3.7824e-02],\n",
              "                        [-1.0214e-01,  3.7301e-02, -2.8929e-02]]],\n",
              "              \n",
              "              \n",
              "                      [[[ 3.8227e-02,  3.2899e-02, -5.2454e-02],\n",
              "                        [ 5.4687e-02,  4.4762e-02, -8.9602e-02],\n",
              "                        [ 1.0517e-01,  9.0731e-02,  6.5584e-02]],\n",
              "              \n",
              "                       [[-1.0699e-02,  3.7345e-02, -5.7028e-02],\n",
              "                        [-3.5818e-02,  4.9749e-02,  4.6925e-02],\n",
              "                        [ 4.1741e-02, -1.0053e-01,  8.7350e-02]],\n",
              "              \n",
              "                       [[-4.4028e-02,  9.1223e-02,  8.6852e-02],\n",
              "                        [ 3.9070e-02,  1.0502e-01,  6.0528e-02],\n",
              "                        [ 6.1821e-02, -3.5794e-02,  9.7766e-02]],\n",
              "              \n",
              "                       [[ 2.7627e-02,  6.2280e-02, -2.3834e-02],\n",
              "                        [ 7.6340e-02,  9.3509e-02, -8.0770e-02],\n",
              "                        [ 8.6415e-02, -6.9664e-02, -7.2571e-02]],\n",
              "              \n",
              "                       [[-8.8089e-02,  3.0459e-02, -7.9144e-02],\n",
              "                        [-3.9680e-02, -5.2988e-02,  2.8172e-02],\n",
              "                        [-1.0349e-01, -4.8324e-02,  7.7112e-04]],\n",
              "              \n",
              "                       [[ 9.4660e-03, -4.7605e-02,  3.7764e-02],\n",
              "                        [-6.9544e-02, -8.9270e-02, -1.4986e-02],\n",
              "                        [-5.6989e-02,  6.6443e-02, -7.2049e-02]],\n",
              "              \n",
              "                       [[-8.8494e-03,  4.3782e-02, -9.2311e-02],\n",
              "                        [ 8.1599e-02, -4.7895e-02, -2.8684e-02],\n",
              "                        [-6.4480e-02, -3.9279e-02, -4.0645e-02]],\n",
              "              \n",
              "                       [[-9.3801e-02,  3.6019e-02, -3.3768e-04],\n",
              "                        [ 1.0311e-01,  7.1117e-02,  9.1699e-02],\n",
              "                        [ 3.1014e-02,  5.5388e-02,  9.8704e-02]],\n",
              "              \n",
              "                       [[ 8.6545e-02, -8.0996e-02, -2.3636e-02],\n",
              "                        [-1.0166e-01,  3.9877e-03, -3.7229e-02],\n",
              "                        [ 9.1486e-02,  1.6666e-02,  1.1601e-03]],\n",
              "              \n",
              "                       [[-7.6248e-02, -8.2718e-02,  1.6594e-02],\n",
              "                        [-5.2376e-02, -4.8409e-02,  7.3938e-02],\n",
              "                        [-5.4952e-02, -4.6918e-02,  8.0934e-02]]]], device='cuda:0')),\n",
              "             ('conv_block_2.2.bias',\n",
              "              tensor([ 0.0412, -0.0599,  0.0319,  0.0531, -0.0936,  0.0197,  0.0241, -0.0041,\n",
              "                       0.1011, -0.0697], device='cuda:0')),\n",
              "             ('classifier.1.weight',\n",
              "              tensor([[ 0.0245, -0.0240, -0.0387,  ...,  0.0094, -0.0015, -0.0225],\n",
              "                      [ 0.0228,  0.0067, -0.0439,  ..., -0.0302,  0.0368,  0.0293],\n",
              "                      [ 0.0303,  0.0347, -0.0211,  ...,  0.0207, -0.0423, -0.0240],\n",
              "                      ...,\n",
              "                      [-0.0359, -0.0343,  0.0166,  ...,  0.0324,  0.0113, -0.0143],\n",
              "                      [-0.0294, -0.0316,  0.0251,  ..., -0.0056,  0.0300, -0.0396],\n",
              "                      [-0.0246, -0.0035, -0.0046,  ..., -0.0146, -0.0358,  0.0175]],\n",
              "                     device='cuda:0')),\n",
              "             ('classifier.1.bias',\n",
              "              tensor([ 0.0320, -0.0445,  0.0246, -0.0357, -0.0442,  0.0156, -0.0010, -0.0277,\n",
              "                       0.0404,  0.0037], device='cuda:0'))])"
            ]
          },
          "metadata": {},
          "execution_count": 61
        }
      ]
    },
    {
      "cell_type": "markdown",
      "source": [
        "### 7.4 Training and testing `model_2` using our training and test functions"
      ],
      "metadata": {
        "id": "zMPBIUVwjL20"
      }
    },
    {
      "cell_type": "code",
      "source": [
        "torch.manual_seed(42)\n",
        "\n",
        "# Measure time\n",
        "from timeit import default_timer as timer\n",
        "train_time_start_model_2 = timer()\n",
        "\n",
        "# Train and test model\n",
        "EPOCHS = 3\n",
        "\n",
        "for epoch in tqdm(range(EPOCHS)):\n",
        "    print(f\"Epoch: {epoch}\\n---------\")\n",
        "    train_step(data_loader=train_dataloader,\n",
        "        model=model_2,\n",
        "        loss_fn=loss_fn,\n",
        "        optimizer=optimizer,\n",
        "        accuracy_fn=accuracy_fn,\n",
        "        device=device\n",
        "    )\n",
        "    test_step(data_loader=test_dataloader,\n",
        "        model=model_2,\n",
        "        loss_fn=loss_fn,\n",
        "        accuracy_fn=accuracy_fn,\n",
        "        device=device\n",
        "    )\n",
        "\n",
        "train_time_end_model_2 = timer()\n",
        "total_train_time_model_2 = print_train_time(start=train_time_start_model_2,\n",
        "                                           end=train_time_end_model_2,\n",
        "                                           device=device)"
      ],
      "metadata": {
        "colab": {
          "base_uri": "https://localhost:8080/",
          "height": 335,
          "referenced_widgets": [
            "2feada07a30344c692703c7d74b41860",
            "7d5b647bddb2445a8b5e6714c3db4c7d",
            "08e28a41c52042e49225ec90f43f3dfa",
            "67c8d7008bcc4bc7a536bcb6149005a8",
            "bfcc4497ec704889bebe87f3ef7de197",
            "76b1c02c2ff846fe8d09263b1c832105",
            "fd5d71527dd8402dbe9fe054d70ff243",
            "9e2f44c2800e405f813fb17c2c965cd7",
            "4dee367107bc4d58a04a9ab8d1294ef0",
            "a882d12653a54cdbb9759d5486f5e67a",
            "3aa12caba6db4576886c918d0219088b"
          ]
        },
        "id": "AUDQlamOjCIM",
        "outputId": "33ff6fb2-61c6-415c-cb3e-0468ee244d93"
      },
      "execution_count": 62,
      "outputs": [
        {
          "output_type": "display_data",
          "data": {
            "text/plain": [
              "  0%|          | 0/3 [00:00<?, ?it/s]"
            ],
            "application/vnd.jupyter.widget-view+json": {
              "version_major": 2,
              "version_minor": 0,
              "model_id": "2feada07a30344c692703c7d74b41860"
            }
          },
          "metadata": {}
        },
        {
          "output_type": "stream",
          "name": "stdout",
          "text": [
            "Epoch: 0\n",
            "---------\n",
            "Train loss: 0.59398 | Train acc: 78.35%\n",
            "Test loss: 0.40502 | Test acc: 85.29%\n",
            "\n",
            "Epoch: 1\n",
            "---------\n",
            "Train loss: 0.35622 | Train acc: 87.30%\n",
            "Test loss: 0.35680 | Test acc: 87.16%\n",
            "\n",
            "Epoch: 2\n",
            "---------\n",
            "Train loss: 0.31759 | Train acc: 88.47%\n",
            "Test loss: 0.31803 | Test acc: 88.47%\n",
            "\n",
            "Train time on cuda: 36.851 seconds\n"
          ]
        }
      ]
    },
    {
      "cell_type": "code",
      "source": [
        "# Get model results\n",
        "model_2_results = eval_model(\n",
        "    model=model_2,\n",
        "    data_loader=test_dataloader,\n",
        "    loss_fn=loss_fn,\n",
        "    accuracy_fn=accuracy_fn,\n",
        "    device=device\n",
        ")\n",
        "model_2_results"
      ],
      "metadata": {
        "colab": {
          "base_uri": "https://localhost:8080/",
          "height": 103,
          "referenced_widgets": [
            "d9aba095dba24aca8135edf52e683072",
            "c76c881c00e44933be8f20498091bdac",
            "18ffd527c8e24bae8ac64e208dd303f2",
            "4b56199f067848698278e07b5ec1b70a",
            "8953bd92878f4542ad21c04ef995d912",
            "7adf049822824a648e0a745993aeec59",
            "9531bcce2c334b06949ffb20db7e1d52",
            "2966b2c7c99e44149160e6d4a6c50702",
            "69530d67d2154ae798e26458be388d7c",
            "97a5f1d4a0c44f8a814ed4e75304008b",
            "d792458444ac421f95337909be61582a"
          ]
        },
        "id": "yBtK1KLnlAn0",
        "outputId": "7106d702-1bd5-46c9-b690-88e0eb3d7b29"
      },
      "execution_count": 63,
      "outputs": [
        {
          "output_type": "display_data",
          "data": {
            "text/plain": [
              "  0%|          | 0/313 [00:00<?, ?it/s]"
            ],
            "application/vnd.jupyter.widget-view+json": {
              "version_major": 2,
              "version_minor": 0,
              "model_id": "d9aba095dba24aca8135edf52e683072"
            }
          },
          "metadata": {}
        },
        {
          "output_type": "execute_result",
          "data": {
            "text/plain": [
              "{'model_name': 'FashionMNISTModelV2',\n",
              " 'model_loss': 0.3180343210697174,\n",
              " 'model_acc': 88.46845047923323}"
            ]
          },
          "metadata": {},
          "execution_count": 63
        }
      ]
    },
    {
      "cell_type": "code",
      "source": [
        "import pandas as pd\n",
        "\n",
        "compare_results = pd.DataFrame([model_0_results,\n",
        "                                model_1_results,\n",
        "                                model_2_results])\n",
        "compare_results"
      ],
      "metadata": {
        "colab": {
          "base_uri": "https://localhost:8080/",
          "height": 143
        },
        "id": "8BU6X7Sum1zp",
        "outputId": "af3a0c64-ec69-44dc-df73-178eb4dfa3b3"
      },
      "execution_count": 64,
      "outputs": [
        {
          "output_type": "execute_result",
          "data": {
            "text/plain": [
              "            model_name  model_loss  model_acc\n",
              "0       FashionMNISTV0    0.476639  83.426518\n",
              "1       FashionMNISTV1    0.669140  75.868610\n",
              "2  FashionMNISTModelV2    0.318034  88.468450"
            ],
            "text/html": [
              "\n",
              "  <div id=\"df-8482c5b2-0ef2-4d38-a2b6-f19a8c43f897\" class=\"colab-df-container\">\n",
              "    <div>\n",
              "<style scoped>\n",
              "    .dataframe tbody tr th:only-of-type {\n",
              "        vertical-align: middle;\n",
              "    }\n",
              "\n",
              "    .dataframe tbody tr th {\n",
              "        vertical-align: top;\n",
              "    }\n",
              "\n",
              "    .dataframe thead th {\n",
              "        text-align: right;\n",
              "    }\n",
              "</style>\n",
              "<table border=\"1\" class=\"dataframe\">\n",
              "  <thead>\n",
              "    <tr style=\"text-align: right;\">\n",
              "      <th></th>\n",
              "      <th>model_name</th>\n",
              "      <th>model_loss</th>\n",
              "      <th>model_acc</th>\n",
              "    </tr>\n",
              "  </thead>\n",
              "  <tbody>\n",
              "    <tr>\n",
              "      <th>0</th>\n",
              "      <td>FashionMNISTV0</td>\n",
              "      <td>0.476639</td>\n",
              "      <td>83.426518</td>\n",
              "    </tr>\n",
              "    <tr>\n",
              "      <th>1</th>\n",
              "      <td>FashionMNISTV1</td>\n",
              "      <td>0.669140</td>\n",
              "      <td>75.868610</td>\n",
              "    </tr>\n",
              "    <tr>\n",
              "      <th>2</th>\n",
              "      <td>FashionMNISTModelV2</td>\n",
              "      <td>0.318034</td>\n",
              "      <td>88.468450</td>\n",
              "    </tr>\n",
              "  </tbody>\n",
              "</table>\n",
              "</div>\n",
              "    <div class=\"colab-df-buttons\">\n",
              "\n",
              "  <div class=\"colab-df-container\">\n",
              "    <button class=\"colab-df-convert\" onclick=\"convertToInteractive('df-8482c5b2-0ef2-4d38-a2b6-f19a8c43f897')\"\n",
              "            title=\"Convert this dataframe to an interactive table.\"\n",
              "            style=\"display:none;\">\n",
              "\n",
              "  <svg xmlns=\"http://www.w3.org/2000/svg\" height=\"24px\" viewBox=\"0 -960 960 960\">\n",
              "    <path d=\"M120-120v-720h720v720H120Zm60-500h600v-160H180v160Zm220 220h160v-160H400v160Zm0 220h160v-160H400v160ZM180-400h160v-160H180v160Zm440 0h160v-160H620v160ZM180-180h160v-160H180v160Zm440 0h160v-160H620v160Z\"/>\n",
              "  </svg>\n",
              "    </button>\n",
              "\n",
              "  <style>\n",
              "    .colab-df-container {\n",
              "      display:flex;\n",
              "      gap: 12px;\n",
              "    }\n",
              "\n",
              "    .colab-df-convert {\n",
              "      background-color: #E8F0FE;\n",
              "      border: none;\n",
              "      border-radius: 50%;\n",
              "      cursor: pointer;\n",
              "      display: none;\n",
              "      fill: #1967D2;\n",
              "      height: 32px;\n",
              "      padding: 0 0 0 0;\n",
              "      width: 32px;\n",
              "    }\n",
              "\n",
              "    .colab-df-convert:hover {\n",
              "      background-color: #E2EBFA;\n",
              "      box-shadow: 0px 1px 2px rgba(60, 64, 67, 0.3), 0px 1px 3px 1px rgba(60, 64, 67, 0.15);\n",
              "      fill: #174EA6;\n",
              "    }\n",
              "\n",
              "    .colab-df-buttons div {\n",
              "      margin-bottom: 4px;\n",
              "    }\n",
              "\n",
              "    [theme=dark] .colab-df-convert {\n",
              "      background-color: #3B4455;\n",
              "      fill: #D2E3FC;\n",
              "    }\n",
              "\n",
              "    [theme=dark] .colab-df-convert:hover {\n",
              "      background-color: #434B5C;\n",
              "      box-shadow: 0px 1px 3px 1px rgba(0, 0, 0, 0.15);\n",
              "      filter: drop-shadow(0px 1px 2px rgba(0, 0, 0, 0.3));\n",
              "      fill: #FFFFFF;\n",
              "    }\n",
              "  </style>\n",
              "\n",
              "    <script>\n",
              "      const buttonEl =\n",
              "        document.querySelector('#df-8482c5b2-0ef2-4d38-a2b6-f19a8c43f897 button.colab-df-convert');\n",
              "      buttonEl.style.display =\n",
              "        google.colab.kernel.accessAllowed ? 'block' : 'none';\n",
              "\n",
              "      async function convertToInteractive(key) {\n",
              "        const element = document.querySelector('#df-8482c5b2-0ef2-4d38-a2b6-f19a8c43f897');\n",
              "        const dataTable =\n",
              "          await google.colab.kernel.invokeFunction('convertToInteractive',\n",
              "                                                    [key], {});\n",
              "        if (!dataTable) return;\n",
              "\n",
              "        const docLinkHtml = 'Like what you see? Visit the ' +\n",
              "          '<a target=\"_blank\" href=https://colab.research.google.com/notebooks/data_table.ipynb>data table notebook</a>'\n",
              "          + ' to learn more about interactive tables.';\n",
              "        element.innerHTML = '';\n",
              "        dataTable['output_type'] = 'display_data';\n",
              "        await google.colab.output.renderOutput(dataTable, element);\n",
              "        const docLink = document.createElement('div');\n",
              "        docLink.innerHTML = docLinkHtml;\n",
              "        element.appendChild(docLink);\n",
              "      }\n",
              "    </script>\n",
              "  </div>\n",
              "\n",
              "\n",
              "<div id=\"df-74087899-00be-405a-b582-ec00e18734cf\">\n",
              "  <button class=\"colab-df-quickchart\" onclick=\"quickchart('df-74087899-00be-405a-b582-ec00e18734cf')\"\n",
              "            title=\"Suggest charts\"\n",
              "            style=\"display:none;\">\n",
              "\n",
              "<svg xmlns=\"http://www.w3.org/2000/svg\" height=\"24px\"viewBox=\"0 0 24 24\"\n",
              "     width=\"24px\">\n",
              "    <g>\n",
              "        <path d=\"M19 3H5c-1.1 0-2 .9-2 2v14c0 1.1.9 2 2 2h14c1.1 0 2-.9 2-2V5c0-1.1-.9-2-2-2zM9 17H7v-7h2v7zm4 0h-2V7h2v10zm4 0h-2v-4h2v4z\"/>\n",
              "    </g>\n",
              "</svg>\n",
              "  </button>\n",
              "\n",
              "<style>\n",
              "  .colab-df-quickchart {\n",
              "      --bg-color: #E8F0FE;\n",
              "      --fill-color: #1967D2;\n",
              "      --hover-bg-color: #E2EBFA;\n",
              "      --hover-fill-color: #174EA6;\n",
              "      --disabled-fill-color: #AAA;\n",
              "      --disabled-bg-color: #DDD;\n",
              "  }\n",
              "\n",
              "  [theme=dark] .colab-df-quickchart {\n",
              "      --bg-color: #3B4455;\n",
              "      --fill-color: #D2E3FC;\n",
              "      --hover-bg-color: #434B5C;\n",
              "      --hover-fill-color: #FFFFFF;\n",
              "      --disabled-bg-color: #3B4455;\n",
              "      --disabled-fill-color: #666;\n",
              "  }\n",
              "\n",
              "  .colab-df-quickchart {\n",
              "    background-color: var(--bg-color);\n",
              "    border: none;\n",
              "    border-radius: 50%;\n",
              "    cursor: pointer;\n",
              "    display: none;\n",
              "    fill: var(--fill-color);\n",
              "    height: 32px;\n",
              "    padding: 0;\n",
              "    width: 32px;\n",
              "  }\n",
              "\n",
              "  .colab-df-quickchart:hover {\n",
              "    background-color: var(--hover-bg-color);\n",
              "    box-shadow: 0 1px 2px rgba(60, 64, 67, 0.3), 0 1px 3px 1px rgba(60, 64, 67, 0.15);\n",
              "    fill: var(--button-hover-fill-color);\n",
              "  }\n",
              "\n",
              "  .colab-df-quickchart-complete:disabled,\n",
              "  .colab-df-quickchart-complete:disabled:hover {\n",
              "    background-color: var(--disabled-bg-color);\n",
              "    fill: var(--disabled-fill-color);\n",
              "    box-shadow: none;\n",
              "  }\n",
              "\n",
              "  .colab-df-spinner {\n",
              "    border: 2px solid var(--fill-color);\n",
              "    border-color: transparent;\n",
              "    border-bottom-color: var(--fill-color);\n",
              "    animation:\n",
              "      spin 1s steps(1) infinite;\n",
              "  }\n",
              "\n",
              "  @keyframes spin {\n",
              "    0% {\n",
              "      border-color: transparent;\n",
              "      border-bottom-color: var(--fill-color);\n",
              "      border-left-color: var(--fill-color);\n",
              "    }\n",
              "    20% {\n",
              "      border-color: transparent;\n",
              "      border-left-color: var(--fill-color);\n",
              "      border-top-color: var(--fill-color);\n",
              "    }\n",
              "    30% {\n",
              "      border-color: transparent;\n",
              "      border-left-color: var(--fill-color);\n",
              "      border-top-color: var(--fill-color);\n",
              "      border-right-color: var(--fill-color);\n",
              "    }\n",
              "    40% {\n",
              "      border-color: transparent;\n",
              "      border-right-color: var(--fill-color);\n",
              "      border-top-color: var(--fill-color);\n",
              "    }\n",
              "    60% {\n",
              "      border-color: transparent;\n",
              "      border-right-color: var(--fill-color);\n",
              "    }\n",
              "    80% {\n",
              "      border-color: transparent;\n",
              "      border-right-color: var(--fill-color);\n",
              "      border-bottom-color: var(--fill-color);\n",
              "    }\n",
              "    90% {\n",
              "      border-color: transparent;\n",
              "      border-bottom-color: var(--fill-color);\n",
              "    }\n",
              "  }\n",
              "</style>\n",
              "\n",
              "  <script>\n",
              "    async function quickchart(key) {\n",
              "      const quickchartButtonEl =\n",
              "        document.querySelector('#' + key + ' button');\n",
              "      quickchartButtonEl.disabled = true;  // To prevent multiple clicks.\n",
              "      quickchartButtonEl.classList.add('colab-df-spinner');\n",
              "      try {\n",
              "        const charts = await google.colab.kernel.invokeFunction(\n",
              "            'suggestCharts', [key], {});\n",
              "      } catch (error) {\n",
              "        console.error('Error during call to suggestCharts:', error);\n",
              "      }\n",
              "      quickchartButtonEl.classList.remove('colab-df-spinner');\n",
              "      quickchartButtonEl.classList.add('colab-df-quickchart-complete');\n",
              "    }\n",
              "    (() => {\n",
              "      let quickchartButtonEl =\n",
              "        document.querySelector('#df-74087899-00be-405a-b582-ec00e18734cf button');\n",
              "      quickchartButtonEl.style.display =\n",
              "        google.colab.kernel.accessAllowed ? 'block' : 'none';\n",
              "    })();\n",
              "  </script>\n",
              "</div>\n",
              "\n",
              "  <div id=\"id_b07cfecc-9518-4b1e-9f51-d332631387fc\">\n",
              "    <style>\n",
              "      .colab-df-generate {\n",
              "        background-color: #E8F0FE;\n",
              "        border: none;\n",
              "        border-radius: 50%;\n",
              "        cursor: pointer;\n",
              "        display: none;\n",
              "        fill: #1967D2;\n",
              "        height: 32px;\n",
              "        padding: 0 0 0 0;\n",
              "        width: 32px;\n",
              "      }\n",
              "\n",
              "      .colab-df-generate:hover {\n",
              "        background-color: #E2EBFA;\n",
              "        box-shadow: 0px 1px 2px rgba(60, 64, 67, 0.3), 0px 1px 3px 1px rgba(60, 64, 67, 0.15);\n",
              "        fill: #174EA6;\n",
              "      }\n",
              "\n",
              "      [theme=dark] .colab-df-generate {\n",
              "        background-color: #3B4455;\n",
              "        fill: #D2E3FC;\n",
              "      }\n",
              "\n",
              "      [theme=dark] .colab-df-generate:hover {\n",
              "        background-color: #434B5C;\n",
              "        box-shadow: 0px 1px 3px 1px rgba(0, 0, 0, 0.15);\n",
              "        filter: drop-shadow(0px 1px 2px rgba(0, 0, 0, 0.3));\n",
              "        fill: #FFFFFF;\n",
              "      }\n",
              "    </style>\n",
              "    <button class=\"colab-df-generate\" onclick=\"generateWithVariable('compare_results')\"\n",
              "            title=\"Generate code using this dataframe.\"\n",
              "            style=\"display:none;\">\n",
              "\n",
              "  <svg xmlns=\"http://www.w3.org/2000/svg\" height=\"24px\"viewBox=\"0 0 24 24\"\n",
              "       width=\"24px\">\n",
              "    <path d=\"M7,19H8.4L18.45,9,17,7.55,7,17.6ZM5,21V16.75L18.45,3.32a2,2,0,0,1,2.83,0l1.4,1.43a1.91,1.91,0,0,1,.58,1.4,1.91,1.91,0,0,1-.58,1.4L9.25,21ZM18.45,9,17,7.55Zm-12,3A5.31,5.31,0,0,0,4.9,8.1,5.31,5.31,0,0,0,1,6.5,5.31,5.31,0,0,0,4.9,4.9,5.31,5.31,0,0,0,6.5,1,5.31,5.31,0,0,0,8.1,4.9,5.31,5.31,0,0,0,12,6.5,5.46,5.46,0,0,0,6.5,12Z\"/>\n",
              "  </svg>\n",
              "    </button>\n",
              "    <script>\n",
              "      (() => {\n",
              "      const buttonEl =\n",
              "        document.querySelector('#id_b07cfecc-9518-4b1e-9f51-d332631387fc button.colab-df-generate');\n",
              "      buttonEl.style.display =\n",
              "        google.colab.kernel.accessAllowed ? 'block' : 'none';\n",
              "\n",
              "      buttonEl.onclick = () => {\n",
              "        google.colab.notebook.generateWithVariable('compare_results');\n",
              "      }\n",
              "      })();\n",
              "    </script>\n",
              "  </div>\n",
              "\n",
              "    </div>\n",
              "  </div>\n"
            ],
            "application/vnd.google.colaboratory.intrinsic+json": {
              "type": "dataframe",
              "variable_name": "compare_results",
              "summary": "{\n  \"name\": \"compare_results\",\n  \"rows\": 3,\n  \"fields\": [\n    {\n      \"column\": \"model_name\",\n      \"properties\": {\n        \"dtype\": \"string\",\n        \"num_unique_values\": 3,\n        \"samples\": [\n          \"FashionMNISTV0\",\n          \"FashionMNISTV1\",\n          \"FashionMNISTModelV2\"\n        ],\n        \"semantic_type\": \"\",\n        \"description\": \"\"\n      }\n    },\n    {\n      \"column\": \"model_loss\",\n      \"properties\": {\n        \"dtype\": \"number\",\n        \"std\": 0.1758250769361037,\n        \"min\": 0.3180343210697174,\n        \"max\": 0.6691395044326782,\n        \"num_unique_values\": 3,\n        \"samples\": [\n          0.47663888335227966,\n          0.6691395044326782,\n          0.3180343210697174\n        ],\n        \"semantic_type\": \"\",\n        \"description\": \"\"\n      }\n    },\n    {\n      \"column\": \"model_acc\",\n      \"properties\": {\n        \"dtype\": \"number\",\n        \"std\": 6.34164838446646,\n        \"min\": 75.86861022364218,\n        \"max\": 88.46845047923323,\n        \"num_unique_values\": 3,\n        \"samples\": [\n          83.42651757188499,\n          75.86861022364218,\n          88.46845047923323\n        ],\n        \"semantic_type\": \"\",\n        \"description\": \"\"\n      }\n    }\n  ]\n}"
            }
          },
          "metadata": {},
          "execution_count": 64
        }
      ]
    },
    {
      "cell_type": "code",
      "source": [
        "# Add training time to results comparison\n",
        "compare_results[\"trainin_time\"] = [total_train_time_model_0,\n",
        "                                   total_train_time_model_1,\n",
        "                                   total_train_time_model_2]\n",
        "compare_results"
      ],
      "metadata": {
        "colab": {
          "base_uri": "https://localhost:8080/",
          "height": 143
        },
        "id": "_w9OMZ2xnATc",
        "outputId": "17afda62-b4b0-412c-8073-ccf839716540"
      },
      "execution_count": 65,
      "outputs": [
        {
          "output_type": "execute_result",
          "data": {
            "text/plain": [
              "            model_name  model_loss  model_acc  trainin_time\n",
              "0       FashionMNISTV0    0.476639  83.426518     36.005692\n",
              "1       FashionMNISTV1    0.669140  75.868610     35.993042\n",
              "2  FashionMNISTModelV2    0.318034  88.468450     36.851059"
            ],
            "text/html": [
              "\n",
              "  <div id=\"df-3385ea63-afa0-42cc-bbf1-0c3eb130960f\" class=\"colab-df-container\">\n",
              "    <div>\n",
              "<style scoped>\n",
              "    .dataframe tbody tr th:only-of-type {\n",
              "        vertical-align: middle;\n",
              "    }\n",
              "\n",
              "    .dataframe tbody tr th {\n",
              "        vertical-align: top;\n",
              "    }\n",
              "\n",
              "    .dataframe thead th {\n",
              "        text-align: right;\n",
              "    }\n",
              "</style>\n",
              "<table border=\"1\" class=\"dataframe\">\n",
              "  <thead>\n",
              "    <tr style=\"text-align: right;\">\n",
              "      <th></th>\n",
              "      <th>model_name</th>\n",
              "      <th>model_loss</th>\n",
              "      <th>model_acc</th>\n",
              "      <th>trainin_time</th>\n",
              "    </tr>\n",
              "  </thead>\n",
              "  <tbody>\n",
              "    <tr>\n",
              "      <th>0</th>\n",
              "      <td>FashionMNISTV0</td>\n",
              "      <td>0.476639</td>\n",
              "      <td>83.426518</td>\n",
              "      <td>36.005692</td>\n",
              "    </tr>\n",
              "    <tr>\n",
              "      <th>1</th>\n",
              "      <td>FashionMNISTV1</td>\n",
              "      <td>0.669140</td>\n",
              "      <td>75.868610</td>\n",
              "      <td>35.993042</td>\n",
              "    </tr>\n",
              "    <tr>\n",
              "      <th>2</th>\n",
              "      <td>FashionMNISTModelV2</td>\n",
              "      <td>0.318034</td>\n",
              "      <td>88.468450</td>\n",
              "      <td>36.851059</td>\n",
              "    </tr>\n",
              "  </tbody>\n",
              "</table>\n",
              "</div>\n",
              "    <div class=\"colab-df-buttons\">\n",
              "\n",
              "  <div class=\"colab-df-container\">\n",
              "    <button class=\"colab-df-convert\" onclick=\"convertToInteractive('df-3385ea63-afa0-42cc-bbf1-0c3eb130960f')\"\n",
              "            title=\"Convert this dataframe to an interactive table.\"\n",
              "            style=\"display:none;\">\n",
              "\n",
              "  <svg xmlns=\"http://www.w3.org/2000/svg\" height=\"24px\" viewBox=\"0 -960 960 960\">\n",
              "    <path d=\"M120-120v-720h720v720H120Zm60-500h600v-160H180v160Zm220 220h160v-160H400v160Zm0 220h160v-160H400v160ZM180-400h160v-160H180v160Zm440 0h160v-160H620v160ZM180-180h160v-160H180v160Zm440 0h160v-160H620v160Z\"/>\n",
              "  </svg>\n",
              "    </button>\n",
              "\n",
              "  <style>\n",
              "    .colab-df-container {\n",
              "      display:flex;\n",
              "      gap: 12px;\n",
              "    }\n",
              "\n",
              "    .colab-df-convert {\n",
              "      background-color: #E8F0FE;\n",
              "      border: none;\n",
              "      border-radius: 50%;\n",
              "      cursor: pointer;\n",
              "      display: none;\n",
              "      fill: #1967D2;\n",
              "      height: 32px;\n",
              "      padding: 0 0 0 0;\n",
              "      width: 32px;\n",
              "    }\n",
              "\n",
              "    .colab-df-convert:hover {\n",
              "      background-color: #E2EBFA;\n",
              "      box-shadow: 0px 1px 2px rgba(60, 64, 67, 0.3), 0px 1px 3px 1px rgba(60, 64, 67, 0.15);\n",
              "      fill: #174EA6;\n",
              "    }\n",
              "\n",
              "    .colab-df-buttons div {\n",
              "      margin-bottom: 4px;\n",
              "    }\n",
              "\n",
              "    [theme=dark] .colab-df-convert {\n",
              "      background-color: #3B4455;\n",
              "      fill: #D2E3FC;\n",
              "    }\n",
              "\n",
              "    [theme=dark] .colab-df-convert:hover {\n",
              "      background-color: #434B5C;\n",
              "      box-shadow: 0px 1px 3px 1px rgba(0, 0, 0, 0.15);\n",
              "      filter: drop-shadow(0px 1px 2px rgba(0, 0, 0, 0.3));\n",
              "      fill: #FFFFFF;\n",
              "    }\n",
              "  </style>\n",
              "\n",
              "    <script>\n",
              "      const buttonEl =\n",
              "        document.querySelector('#df-3385ea63-afa0-42cc-bbf1-0c3eb130960f button.colab-df-convert');\n",
              "      buttonEl.style.display =\n",
              "        google.colab.kernel.accessAllowed ? 'block' : 'none';\n",
              "\n",
              "      async function convertToInteractive(key) {\n",
              "        const element = document.querySelector('#df-3385ea63-afa0-42cc-bbf1-0c3eb130960f');\n",
              "        const dataTable =\n",
              "          await google.colab.kernel.invokeFunction('convertToInteractive',\n",
              "                                                    [key], {});\n",
              "        if (!dataTable) return;\n",
              "\n",
              "        const docLinkHtml = 'Like what you see? Visit the ' +\n",
              "          '<a target=\"_blank\" href=https://colab.research.google.com/notebooks/data_table.ipynb>data table notebook</a>'\n",
              "          + ' to learn more about interactive tables.';\n",
              "        element.innerHTML = '';\n",
              "        dataTable['output_type'] = 'display_data';\n",
              "        await google.colab.output.renderOutput(dataTable, element);\n",
              "        const docLink = document.createElement('div');\n",
              "        docLink.innerHTML = docLinkHtml;\n",
              "        element.appendChild(docLink);\n",
              "      }\n",
              "    </script>\n",
              "  </div>\n",
              "\n",
              "\n",
              "<div id=\"df-aded30bb-4d4a-4911-8ae4-23bd75fd4a02\">\n",
              "  <button class=\"colab-df-quickchart\" onclick=\"quickchart('df-aded30bb-4d4a-4911-8ae4-23bd75fd4a02')\"\n",
              "            title=\"Suggest charts\"\n",
              "            style=\"display:none;\">\n",
              "\n",
              "<svg xmlns=\"http://www.w3.org/2000/svg\" height=\"24px\"viewBox=\"0 0 24 24\"\n",
              "     width=\"24px\">\n",
              "    <g>\n",
              "        <path d=\"M19 3H5c-1.1 0-2 .9-2 2v14c0 1.1.9 2 2 2h14c1.1 0 2-.9 2-2V5c0-1.1-.9-2-2-2zM9 17H7v-7h2v7zm4 0h-2V7h2v10zm4 0h-2v-4h2v4z\"/>\n",
              "    </g>\n",
              "</svg>\n",
              "  </button>\n",
              "\n",
              "<style>\n",
              "  .colab-df-quickchart {\n",
              "      --bg-color: #E8F0FE;\n",
              "      --fill-color: #1967D2;\n",
              "      --hover-bg-color: #E2EBFA;\n",
              "      --hover-fill-color: #174EA6;\n",
              "      --disabled-fill-color: #AAA;\n",
              "      --disabled-bg-color: #DDD;\n",
              "  }\n",
              "\n",
              "  [theme=dark] .colab-df-quickchart {\n",
              "      --bg-color: #3B4455;\n",
              "      --fill-color: #D2E3FC;\n",
              "      --hover-bg-color: #434B5C;\n",
              "      --hover-fill-color: #FFFFFF;\n",
              "      --disabled-bg-color: #3B4455;\n",
              "      --disabled-fill-color: #666;\n",
              "  }\n",
              "\n",
              "  .colab-df-quickchart {\n",
              "    background-color: var(--bg-color);\n",
              "    border: none;\n",
              "    border-radius: 50%;\n",
              "    cursor: pointer;\n",
              "    display: none;\n",
              "    fill: var(--fill-color);\n",
              "    height: 32px;\n",
              "    padding: 0;\n",
              "    width: 32px;\n",
              "  }\n",
              "\n",
              "  .colab-df-quickchart:hover {\n",
              "    background-color: var(--hover-bg-color);\n",
              "    box-shadow: 0 1px 2px rgba(60, 64, 67, 0.3), 0 1px 3px 1px rgba(60, 64, 67, 0.15);\n",
              "    fill: var(--button-hover-fill-color);\n",
              "  }\n",
              "\n",
              "  .colab-df-quickchart-complete:disabled,\n",
              "  .colab-df-quickchart-complete:disabled:hover {\n",
              "    background-color: var(--disabled-bg-color);\n",
              "    fill: var(--disabled-fill-color);\n",
              "    box-shadow: none;\n",
              "  }\n",
              "\n",
              "  .colab-df-spinner {\n",
              "    border: 2px solid var(--fill-color);\n",
              "    border-color: transparent;\n",
              "    border-bottom-color: var(--fill-color);\n",
              "    animation:\n",
              "      spin 1s steps(1) infinite;\n",
              "  }\n",
              "\n",
              "  @keyframes spin {\n",
              "    0% {\n",
              "      border-color: transparent;\n",
              "      border-bottom-color: var(--fill-color);\n",
              "      border-left-color: var(--fill-color);\n",
              "    }\n",
              "    20% {\n",
              "      border-color: transparent;\n",
              "      border-left-color: var(--fill-color);\n",
              "      border-top-color: var(--fill-color);\n",
              "    }\n",
              "    30% {\n",
              "      border-color: transparent;\n",
              "      border-left-color: var(--fill-color);\n",
              "      border-top-color: var(--fill-color);\n",
              "      border-right-color: var(--fill-color);\n",
              "    }\n",
              "    40% {\n",
              "      border-color: transparent;\n",
              "      border-right-color: var(--fill-color);\n",
              "      border-top-color: var(--fill-color);\n",
              "    }\n",
              "    60% {\n",
              "      border-color: transparent;\n",
              "      border-right-color: var(--fill-color);\n",
              "    }\n",
              "    80% {\n",
              "      border-color: transparent;\n",
              "      border-right-color: var(--fill-color);\n",
              "      border-bottom-color: var(--fill-color);\n",
              "    }\n",
              "    90% {\n",
              "      border-color: transparent;\n",
              "      border-bottom-color: var(--fill-color);\n",
              "    }\n",
              "  }\n",
              "</style>\n",
              "\n",
              "  <script>\n",
              "    async function quickchart(key) {\n",
              "      const quickchartButtonEl =\n",
              "        document.querySelector('#' + key + ' button');\n",
              "      quickchartButtonEl.disabled = true;  // To prevent multiple clicks.\n",
              "      quickchartButtonEl.classList.add('colab-df-spinner');\n",
              "      try {\n",
              "        const charts = await google.colab.kernel.invokeFunction(\n",
              "            'suggestCharts', [key], {});\n",
              "      } catch (error) {\n",
              "        console.error('Error during call to suggestCharts:', error);\n",
              "      }\n",
              "      quickchartButtonEl.classList.remove('colab-df-spinner');\n",
              "      quickchartButtonEl.classList.add('colab-df-quickchart-complete');\n",
              "    }\n",
              "    (() => {\n",
              "      let quickchartButtonEl =\n",
              "        document.querySelector('#df-aded30bb-4d4a-4911-8ae4-23bd75fd4a02 button');\n",
              "      quickchartButtonEl.style.display =\n",
              "        google.colab.kernel.accessAllowed ? 'block' : 'none';\n",
              "    })();\n",
              "  </script>\n",
              "</div>\n",
              "\n",
              "  <div id=\"id_4a533be6-fff4-4a33-8b78-8066aa5f6f72\">\n",
              "    <style>\n",
              "      .colab-df-generate {\n",
              "        background-color: #E8F0FE;\n",
              "        border: none;\n",
              "        border-radius: 50%;\n",
              "        cursor: pointer;\n",
              "        display: none;\n",
              "        fill: #1967D2;\n",
              "        height: 32px;\n",
              "        padding: 0 0 0 0;\n",
              "        width: 32px;\n",
              "      }\n",
              "\n",
              "      .colab-df-generate:hover {\n",
              "        background-color: #E2EBFA;\n",
              "        box-shadow: 0px 1px 2px rgba(60, 64, 67, 0.3), 0px 1px 3px 1px rgba(60, 64, 67, 0.15);\n",
              "        fill: #174EA6;\n",
              "      }\n",
              "\n",
              "      [theme=dark] .colab-df-generate {\n",
              "        background-color: #3B4455;\n",
              "        fill: #D2E3FC;\n",
              "      }\n",
              "\n",
              "      [theme=dark] .colab-df-generate:hover {\n",
              "        background-color: #434B5C;\n",
              "        box-shadow: 0px 1px 3px 1px rgba(0, 0, 0, 0.15);\n",
              "        filter: drop-shadow(0px 1px 2px rgba(0, 0, 0, 0.3));\n",
              "        fill: #FFFFFF;\n",
              "      }\n",
              "    </style>\n",
              "    <button class=\"colab-df-generate\" onclick=\"generateWithVariable('compare_results')\"\n",
              "            title=\"Generate code using this dataframe.\"\n",
              "            style=\"display:none;\">\n",
              "\n",
              "  <svg xmlns=\"http://www.w3.org/2000/svg\" height=\"24px\"viewBox=\"0 0 24 24\"\n",
              "       width=\"24px\">\n",
              "    <path d=\"M7,19H8.4L18.45,9,17,7.55,7,17.6ZM5,21V16.75L18.45,3.32a2,2,0,0,1,2.83,0l1.4,1.43a1.91,1.91,0,0,1,.58,1.4,1.91,1.91,0,0,1-.58,1.4L9.25,21ZM18.45,9,17,7.55Zm-12,3A5.31,5.31,0,0,0,4.9,8.1,5.31,5.31,0,0,0,1,6.5,5.31,5.31,0,0,0,4.9,4.9,5.31,5.31,0,0,0,6.5,1,5.31,5.31,0,0,0,8.1,4.9,5.31,5.31,0,0,0,12,6.5,5.46,5.46,0,0,0,6.5,12Z\"/>\n",
              "  </svg>\n",
              "    </button>\n",
              "    <script>\n",
              "      (() => {\n",
              "      const buttonEl =\n",
              "        document.querySelector('#id_4a533be6-fff4-4a33-8b78-8066aa5f6f72 button.colab-df-generate');\n",
              "      buttonEl.style.display =\n",
              "        google.colab.kernel.accessAllowed ? 'block' : 'none';\n",
              "\n",
              "      buttonEl.onclick = () => {\n",
              "        google.colab.notebook.generateWithVariable('compare_results');\n",
              "      }\n",
              "      })();\n",
              "    </script>\n",
              "  </div>\n",
              "\n",
              "    </div>\n",
              "  </div>\n"
            ],
            "application/vnd.google.colaboratory.intrinsic+json": {
              "type": "dataframe",
              "variable_name": "compare_results",
              "summary": "{\n  \"name\": \"compare_results\",\n  \"rows\": 3,\n  \"fields\": [\n    {\n      \"column\": \"model_name\",\n      \"properties\": {\n        \"dtype\": \"string\",\n        \"num_unique_values\": 3,\n        \"samples\": [\n          \"FashionMNISTV0\",\n          \"FashionMNISTV1\",\n          \"FashionMNISTModelV2\"\n        ],\n        \"semantic_type\": \"\",\n        \"description\": \"\"\n      }\n    },\n    {\n      \"column\": \"model_loss\",\n      \"properties\": {\n        \"dtype\": \"number\",\n        \"std\": 0.1758250769361037,\n        \"min\": 0.3180343210697174,\n        \"max\": 0.6691395044326782,\n        \"num_unique_values\": 3,\n        \"samples\": [\n          0.47663888335227966,\n          0.6691395044326782,\n          0.3180343210697174\n        ],\n        \"semantic_type\": \"\",\n        \"description\": \"\"\n      }\n    },\n    {\n      \"column\": \"model_acc\",\n      \"properties\": {\n        \"dtype\": \"number\",\n        \"std\": 6.34164838446646,\n        \"min\": 75.86861022364218,\n        \"max\": 88.46845047923323,\n        \"num_unique_values\": 3,\n        \"samples\": [\n          83.42651757188499,\n          75.86861022364218,\n          88.46845047923323\n        ],\n        \"semantic_type\": \"\",\n        \"description\": \"\"\n      }\n    },\n    {\n      \"column\": \"trainin_time\",\n      \"properties\": {\n        \"dtype\": \"number\",\n        \"std\": 0.4917654791774381,\n        \"min\": 35.9930419300008,\n        \"max\": 36.851059265,\n        \"num_unique_values\": 3,\n        \"samples\": [\n          36.00569191900013,\n          35.9930419300008,\n          36.851059265\n        ],\n        \"semantic_type\": \"\",\n        \"description\": \"\"\n      }\n    }\n  ]\n}"
            }
          },
          "metadata": {},
          "execution_count": 65
        }
      ]
    },
    {
      "cell_type": "code",
      "source": [
        "# Visualize our model results\n",
        "compare_results.set_index(\"model_name\")[\"model_acc\"].plot(kind=\"barh\")\n",
        "plt.xlabel(\"accuracy (%)\")\n",
        "plt.ylabel(\"model\")"
      ],
      "metadata": {
        "colab": {
          "base_uri": "https://localhost:8080/",
          "height": 467
        },
        "id": "8GBPThKOrhYm",
        "outputId": "66a19f94-229e-4461-9be3-578eb573a690"
      },
      "execution_count": 67,
      "outputs": [
        {
          "output_type": "execute_result",
          "data": {
            "text/plain": [
              "Text(0, 0.5, 'model')"
            ]
          },
          "metadata": {},
          "execution_count": 67
        },
        {
          "output_type": "display_data",
          "data": {
            "text/plain": [
              "<Figure size 640x480 with 1 Axes>"
            ],
            "image/png": "[encoded data removed]"
          },
          "metadata": {}
        }
      ]
    },
    {
      "cell_type": "markdown",
      "source": [
        "## 9. Make and Evaluate Random Predictions with Best Model\n",
        "\n"
      ],
      "metadata": {
        "id": "5GuhazHBsmIF"
      }
    },
    {
      "cell_type": "code",
      "source": [
        "def make_predictions(model: torch.nn.Module,\n",
        "                     data: list,\n",
        "                     device: torch.device = device):\n",
        "  pred_probs = []\n",
        "  model.to(device)\n",
        "  model.eval()\n",
        "  with torch.inference_mode():\n",
        "    for sample in data:\n",
        "      # Prepare the sample\n",
        "      sample = torch.unsqueeze(sample, dim=0).to(device)\n",
        "      # Forward pass\n",
        "      pred_logit = model(sample)\n",
        "      # Get probabilities\n",
        "      pred_prob = torch.softmax(pred_logit.squeeze(), dim=0)\n",
        "      # Get pred_prob off the GPU for further calculations\n",
        "      pred_probs.append(pred_prob.cpu())\n",
        "\n",
        "  # Stack the pred_probs to turn lits into a tensor\n",
        "  return torch.stack(pred_probs)"
      ],
      "metadata": {
        "id": "fv3_2H_zsGtD"
      },
      "execution_count": 74,
      "outputs": []
    },
    {
      "cell_type": "code",
      "source": [
        "import random\n",
        "#random.seed(42)\n",
        "test_samples = []\n",
        "test_labels = []\n",
        "\n",
        "for sample, label in random.sample(list(test_data), k=9):\n",
        "  test_samples.append(sample)\n",
        "  test_labels.append(label)\n",
        "#View the first sample shape\n",
        "test_samples[0].shape"
      ],
      "metadata": {
        "colab": {
          "base_uri": "https://localhost:8080/"
        },
        "id": "BNYQNonDtmdq",
        "outputId": "a2f17f9b-36b6-491a-d58a-416fc6c771bc"
      },
      "execution_count": 110,
      "outputs": [
        {
          "output_type": "execute_result",
          "data": {
            "text/plain": [
              "torch.Size([1, 28, 28])"
            ]
          },
          "metadata": {},
          "execution_count": 110
        }
      ]
    },
    {
      "cell_type": "code",
      "source": [
        "plt.imshow(test_samples[0].squeeze(), cmap=\"gray\")\n",
        "plt.title(class_names[test_labels[0]])"
      ],
      "metadata": {
        "colab": {
          "base_uri": "https://localhost:8080/",
          "height": 470
        },
        "id": "doHpU39-uLqL",
        "outputId": "d05ab97b-930e-48de-96ad-989d34fde440"
      },
      "execution_count": 111,
      "outputs": [
        {
          "output_type": "execute_result",
          "data": {
            "text/plain": [
              "Text(0.5, 1.0, 'Ankle boot')"
            ]
          },
          "metadata": {},
          "execution_count": 111
        },
        {
          "output_type": "display_data",
          "data": {
            "text/plain": [
              "<Figure size 640x480 with 1 Axes>"
            ],
            "image/png": "[encoded data removed]"
          },
          "metadata": {}
        }
      ]
    },
    {
      "cell_type": "code",
      "source": [
        "# Make predictions\n",
        "pred_probs = make_predictions(model=model_2,\n",
        "                              data=test_samples)\n",
        "\n",
        "# View first two prediction probabilities\n",
        "pred_probs[:2]"
      ],
      "metadata": {
        "colab": {
          "base_uri": "https://localhost:8080/"
        },
        "id": "c9OqZbREuUkz",
        "outputId": "20f19f2c-1abf-46f9-c90c-34c3d48ed085"
      },
      "execution_count": 112,
      "outputs": [
        {
          "output_type": "execute_result",
          "data": {
            "text/plain": [
              "tensor([[1.9827e-06, 1.9097e-07, 2.3516e-06, 1.5226e-06, 4.5854e-07, 2.4479e-02,\n",
              "         9.7959e-06, 6.9983e-05, 9.7820e-04, 9.7446e-01],\n",
              "        [2.6236e-05, 3.8977e-07, 7.0085e-04, 2.7201e-07, 9.9313e-01, 5.2150e-08,\n",
              "         6.1313e-03, 4.2202e-08, 1.4399e-05, 7.3465e-07]])"
            ]
          },
          "metadata": {},
          "execution_count": 112
        }
      ]
    },
    {
      "cell_type": "code",
      "source": [
        "# Conver predictions probabilities to labels\n",
        "pred_classes = pred_probs.argmax(dim=1)\n",
        "pred_classes"
      ],
      "metadata": {
        "colab": {
          "base_uri": "https://localhost:8080/"
        },
        "id": "OSpl0yjzutiG",
        "outputId": "314d907d-003d-4060-b393-55757d428a30"
      },
      "execution_count": 113,
      "outputs": [
        {
          "output_type": "execute_result",
          "data": {
            "text/plain": [
              "tensor([9, 4, 2, 9, 7, 0, 4, 0, 5])"
            ]
          },
          "metadata": {},
          "execution_count": 113
        }
      ]
    },
    {
      "cell_type": "code",
      "source": [
        "test_labels"
      ],
      "metadata": {
        "colab": {
          "base_uri": "https://localhost:8080/"
        },
        "id": "9ODWii9qvRK0",
        "outputId": "10bd47ff-3182-4893-8ebd-dfddcdb4616d"
      },
      "execution_count": 114,
      "outputs": [
        {
          "output_type": "execute_result",
          "data": {
            "text/plain": [
              "[9, 4, 2, 9, 7, 6, 4, 0, 5]"
            ]
          },
          "metadata": {},
          "execution_count": 114
        }
      ]
    },
    {
      "cell_type": "code",
      "source": [
        "# Plot predictions\n",
        "plt.figure(figsize=(9,9))\n",
        "nrows = 3\n",
        "ncols = 3\n",
        "for i, sample in enumerate(test_samples):\n",
        "  # Create subplot\n",
        "  plt.subplot(nrows,ncols, i+1)\n",
        "  # Plot the target image\n",
        "  plt.imshow(sample.squeeze(), cmap=\"gray\")\n",
        "  # Find the prediction\n",
        "  pred_label = class_names[pred_classes[i]]\n",
        "  # Get the truth label\n",
        "  truth_label = class_names[test_labels[i]]\n",
        "  # Create a title for the plot\n",
        "  title_text = f\"Pred: {pred_label} | Truth: {truth_label}\"\n",
        "\n",
        "  # Check for equality\n",
        "  if pred_label == truth_label:\n",
        "    plt.title(title_text, fontsize=10, c=\"g\") # green text if prediction same as truth\n",
        "  else:\n",
        "    plt.title(title_text, fontsize=10, c=\"r\")\n",
        "  plt.axis(False)"
      ],
      "metadata": {
        "colab": {
          "base_uri": "https://localhost:8080/",
          "height": 749
        },
        "id": "cELhmaTovSQx",
        "outputId": "f56e7e19-c7f1-4df3-a27d-c97304ac019e"
      },
      "execution_count": 115,
      "outputs": [
        {
          "output_type": "display_data",
          "data": {
            "text/plain": [
              "<Figure size 900x900 with 9 Axes>"
            ],
            "image/png": "[encoded data removed]"
          },
          "metadata": {}
        }
      ]
    },
    {
      "cell_type": "markdown",
      "source": [
        "## 10. Confusion Matrix for Further Predictions Evaluation\n",
        "\n",
        "1. Make predictions\n",
        "2. Make a confusion matrix `torchmetrics.ConfusionMatrix`\n",
        "3. Plot the confusion matrix using `mlxtend.plotting.plot_confusion_matrix`\n",
        "\n"
      ],
      "metadata": {
        "id": "kxgD-nvh1_iz"
      }
    },
    {
      "cell_type": "code",
      "source": [
        "#!pip install torchmetrics"
      ],
      "metadata": {
        "colab": {
          "base_uri": "https://localhost:8080/"
        },
        "id": "C7zsfGBY4EbZ",
        "outputId": "64a0ec24-101a-4163-862a-35b59a0d2af1"
      },
      "execution_count": 118,
      "outputs": [
        {
          "output_type": "stream",
          "name": "stdout",
          "text": [
            "Collecting torchmetrics\n",
            "  Downloading torchmetrics-1.5.0-py3-none-any.whl.metadata (20 kB)\n",
            "Requirement already satisfied: numpy<2.0,>1.20.0 in /usr/local/lib/python3.10/dist-packages (from torchmetrics) (1.26.4)\n",
            "Requirement already satisfied: packaging>17.1 in /usr/local/lib/python3.10/dist-packages (from torchmetrics) (24.1)\n",
            "Requirement already satisfied: torch>=1.10.0 in /usr/local/lib/python3.10/dist-packages (from torchmetrics) (2.4.1+cu121)\n",
            "Collecting lightning-utilities>=0.8.0 (from torchmetrics)\n",
            "  Downloading lightning_utilities-0.11.8-py3-none-any.whl.metadata (5.2 kB)\n",
            "Requirement already satisfied: setuptools in /usr/local/lib/python3.10/dist-packages (from lightning-utilities>=0.8.0->torchmetrics) (75.1.0)\n",
            "Requirement already satisfied: typing-extensions in /usr/local/lib/python3.10/dist-packages (from lightning-utilities>=0.8.0->torchmetrics) (4.12.2)\n",
            "Requirement already satisfied: filelock in /usr/local/lib/python3.10/dist-packages (from torch>=1.10.0->torchmetrics) (3.16.1)\n",
            "Requirement already satisfied: sympy in /usr/local/lib/python3.10/dist-packages (from torch>=1.10.0->torchmetrics) (1.13.3)\n",
            "Requirement already satisfied: networkx in /usr/local/lib/python3.10/dist-packages (from torch>=1.10.0->torchmetrics) (3.4.1)\n",
            "Requirement already satisfied: jinja2 in /usr/local/lib/python3.10/dist-packages (from torch>=1.10.0->torchmetrics) (3.1.4)\n",
            "Requirement already satisfied: fsspec in /usr/local/lib/python3.10/dist-packages (from torch>=1.10.0->torchmetrics) (2024.6.1)\n",
            "Requirement already satisfied: MarkupSafe>=2.0 in /usr/local/lib/python3.10/dist-packages (from jinja2->torch>=1.10.0->torchmetrics) (3.0.1)\n",
            "Requirement already satisfied: mpmath<1.4,>=1.1.0 in /usr/local/lib/python3.10/dist-packages (from sympy->torch>=1.10.0->torchmetrics) (1.3.0)\n",
            "Downloading torchmetrics-1.5.0-py3-none-any.whl (890 kB)\n",
            "\u001b[2K   \u001b[90m━━━━━━━━━━━━━━━━━━━━━━━━━━━━━━━━━━━━━━━━\u001b[0m \u001b[32m890.5/890.5 kB\u001b[0m \u001b[31m38.7 MB/s\u001b[0m eta \u001b[36m0:00:00\u001b[0m\n",
            "\u001b[?25hDownloading lightning_utilities-0.11.8-py3-none-any.whl (26 kB)\n",
            "Installing collected packages: lightning-utilities, torchmetrics\n",
            "Successfully installed lightning-utilities-0.11.8 torchmetrics-1.5.0\n"
          ]
        }
      ]
    },
    {
      "cell_type": "code",
      "source": [
        "from tqdm.auto import tqdm\n",
        "import mlxtend\n",
        "import torchmetrics\n",
        "\n",
        "# 1. Make Predictions\n",
        "y_preds = []\n",
        "model_2.eval()\n",
        "with torch.inference_mode():\n",
        "  for X, y in tqdm(test_dataloader, desc=\"Making predictions...\"):\n",
        "    # Send the data to target device\n",
        "    X, y = X.to(device), y.to(device)\n",
        "    # Do the forward pass\n",
        "    y_logit = model_2(X)\n",
        "    # Turn predictions from logits -> prediction probs\n",
        "    y_pred = torch.softmax(y_logit.squeeze(), dim=0).argmax(dim=1)\n",
        "    # Put predictions on CPU for evaluation\n",
        "    y_preds.append(y_pred.cpu())\n",
        "\n",
        "y_pred_tensor = torch.cat(y_preds)"
      ],
      "metadata": {
        "colab": {
          "base_uri": "https://localhost:8080/",
          "height": 49,
          "referenced_widgets": [
            "f5dedf1da26947e9a13918130e6d45f5",
            "13a1e948527846f5bcabd2be8196efc7",
            "b4f0466de17a4a1da7e013a3f5262148",
            "cd860ecd0f344a5384a03cd7cf387f86",
            "4f484fdb671147f79971bbdee648ebca",
            "9fb26f41bb43448bb3d4cadedd0fb820",
            "55a07fc4057641a3b8e895676fa798dd",
            "df1e77fb4c8240709886d3be7d0ff1ed",
            "09347ba1d03b40bd96e854f13f0413f0",
            "77a058d5a9cf4848a948b7ec49bd481f",
            "53f6d81dcdde45c582b58206d6df16ba"
          ]
        },
        "id": "g_x9UIl52_C3",
        "outputId": "cb08d5ef-f739-467e-bff0-5215130c846b"
      },
      "execution_count": 119,
      "outputs": [
        {
          "output_type": "display_data",
          "data": {
            "text/plain": [
              "Making predictions...:   0%|          | 0/313 [00:00<?, ?it/s]"
            ],
            "application/vnd.jupyter.widget-view+json": {
              "version_major": 2,
              "version_minor": 0,
              "model_id": "f5dedf1da26947e9a13918130e6d45f5"
            }
          },
          "metadata": {}
        }
      ]
    },
    {
      "cell_type": "code",
      "source": [
        "y_pred_tensor[:5]"
      ],
      "metadata": {
        "colab": {
          "base_uri": "https://localhost:8080/"
        },
        "id": "rEKYFkT848UI",
        "outputId": "0b45f94d-be97-4963-cf99-35a1c72d23ae"
      },
      "execution_count": 122,
      "outputs": [
        {
          "output_type": "execute_result",
          "data": {
            "text/plain": [
              "tensor([9, 2, 1, 1, 6])"
            ]
          },
          "metadata": {},
          "execution_count": 122
        }
      ]
    },
    {
      "cell_type": "code",
      "source": [
        "test_data.targets"
      ],
      "metadata": {
        "colab": {
          "base_uri": "https://localhost:8080/"
        },
        "id": "JFNnd5dR5bfo",
        "outputId": "b28b7099-4506-4025-aeb9-3a9c4b86295e"
      },
      "execution_count": 123,
      "outputs": [
        {
          "output_type": "execute_result",
          "data": {
            "text/plain": [
              "tensor([9, 2, 1,  ..., 8, 1, 5])"
            ]
          },
          "metadata": {},
          "execution_count": 123
        }
      ]
    },
    {
      "cell_type": "code",
      "source": [
        "from torchmetrics import ConfusionMatrix\n",
        "from mlxtend.plotting import plot_confusion_matrix\n",
        "\n",
        "# 2. Setup confusion instance and compare predictions to targets\n",
        "confmat = ConfusionMatrix(num_classes=len(class_names), task=\"multiclass\")\n",
        "confmat_tensor = confmat(preds=y_pred_tensor,\n",
        "                         target = test_data.targets)\n",
        "# 3. Plot the confusion matrix\n",
        "fig, ax = plot_confusion_matrix(\n",
        "    conf_mat = confmat_tensor.numpy(), # matplotlib likes working with numpy\n",
        "    class_names = class_names,\n",
        "    figsize=(10,7)\n",
        "\n",
        ")"
      ],
      "metadata": {
        "colab": {
          "base_uri": "https://localhost:8080/",
          "height": 667
        },
        "id": "13Vk9FCCxBqm",
        "outputId": "98c1d6fc-ec1a-40ab-e639-5d223ebf2b9a"
      },
      "execution_count": 128,
      "outputs": [
        {
          "output_type": "display_data",
          "data": {
            "text/plain": [
              "<Figure size 1000x700 with 1 Axes>"
            ],
            "image/png": "[encoded data removed]"
          },
          "metadata": {}
        }
      ]
    },
    {
      "cell_type": "markdown",
      "source": [
        "## 11. Save and load best performing model"
      ],
      "metadata": {
        "id": "ubfCbE9Y_Ht2"
      }
    },
    {
      "cell_type": "code",
      "source": [
        "from pathlib import Path\n",
        "\n",
        "# Create model directory path\n",
        "MODEL_PATH = Path(\"models\")\n",
        "MODEL_PATH.mkdir(parents=True,\n",
        "                 exist_ok=True)\n",
        "\n",
        "# Create model save\n",
        "MODEL_NAME = \"03_pytorch_computer_vision_model_2.pth\"\n",
        "MODEL_SAVE_PATH = MODEL_PATH / MODEL_NAME\n",
        "\n",
        "# Save the model state dict\n",
        "print(f\"Saving model to: {MODEL_SAVE_PATH}\")\n",
        "torch.save(obj=model_2.state_dict(),\n",
        "           f=MODEL_SAVE_PATH)"
      ],
      "metadata": {
        "colab": {
          "base_uri": "https://localhost:8080/"
        },
        "id": "5ZhTSSuW5d6_",
        "outputId": "829d8c37-06dc-431d-85e0-0cb890cee53b"
      },
      "execution_count": 130,
      "outputs": [
        {
          "output_type": "stream",
          "name": "stdout",
          "text": [
            "Saving model to: models/03_pytorch_computer_vision_model_2.pth\n"
          ]
        }
      ]
    },
    {
      "cell_type": "code",
      "source": [
        "# Create a new instance\n",
        "torch.manual_seed(42)\n",
        "\n",
        "loaded_model_2 = FashionMNISTModelV2(input_shape=1,\n",
        "                                     hidden_units=10,\n",
        "                                     output_shape=len(class_names))\n",
        "\n",
        "# Load in the save state_dict()\n",
        "loaded_model_2.load_state_dict(torch.load(f=MODEL_SAVE_PATH))\n",
        "\n",
        "# Send model to the target device\n",
        "loaded_model_2.to(device)"
      ],
      "metadata": {
        "colab": {
          "base_uri": "https://localhost:8080/"
        },
        "id": "4odRSflf_06t",
        "outputId": "6b4bbc0d-d6f6-4546-ad49-0ecf23419a0b"
      },
      "execution_count": 131,
      "outputs": [
        {
          "output_type": "stream",
          "name": "stderr",
          "text": [
            "<ipython-input-131-d89a0e05bd4a>:9: FutureWarning: You are using `torch.load` with `weights_only=False` (the current default value), which uses the default pickle module implicitly. It is possible to construct malicious pickle data which will execute arbitrary code during unpickling (See https://github.com/pytorch/pytorch/blob/main/SECURITY.md#untrusted-models for more details). In a future release, the default value for `weights_only` will be flipped to `True`. This limits the functions that could be executed during unpickling. Arbitrary objects will no longer be allowed to be loaded via this mode unless they are explicitly allowlisted by the user via `torch.serialization.add_safe_globals`. We recommend you start setting `weights_only=True` for any use case where you don't have full control of the loaded file. Please open an issue on GitHub for any issues related to this experimental feature.\n",
            "  loaded_model_2.load_state_dict(torch.load(f=MODEL_SAVE_PATH))\n"
          ]
        },
        {
          "output_type": "execute_result",
          "data": {
            "text/plain": [
              "FashionMNISTModelV2(\n",
              "  (conv_block_1): Sequential(\n",
              "    (0): Conv2d(1, 10, kernel_size=(3, 3), stride=(1, 1), padding=(1, 1))\n",
              "    (1): ReLU()\n",
              "    (2): Conv2d(10, 10, kernel_size=(3, 3), stride=(1, 1), padding=(1, 1))\n",
              "    (3): ReLU()\n",
              "    (4): MaxPool2d(kernel_size=2, stride=2, padding=0, dilation=1, ceil_mode=False)\n",
              "  )\n",
              "  (conv_block_2): Sequential(\n",
              "    (0): Conv2d(10, 10, kernel_size=(3, 3), stride=(1, 1), padding=(1, 1))\n",
              "    (1): ReLU()\n",
              "    (2): Conv2d(10, 10, kernel_size=(3, 3), stride=(1, 1), padding=(1, 1))\n",
              "    (3): ReLU()\n",
              "    (4): MaxPool2d(kernel_size=2, stride=2, padding=0, dilation=1, ceil_mode=False)\n",
              "  )\n",
              "  (classifier): Sequential(\n",
              "    (0): Flatten(start_dim=1, end_dim=-1)\n",
              "    (1): Linear(in_features=490, out_features=10, bias=True)\n",
              "  )\n",
              ")"
            ]
          },
          "metadata": {},
          "execution_count": 131
        }
      ]
    },
    {
      "cell_type": "code",
      "source": [
        "model_2_results"
      ],
      "metadata": {
        "colab": {
          "base_uri": "https://localhost:8080/"
        },
        "id": "TKBp_Jz2A2p5",
        "outputId": "b7bde63e-085c-48f3-aeb7-6d194c8f81c6"
      },
      "execution_count": 132,
      "outputs": [
        {
          "output_type": "execute_result",
          "data": {
            "text/plain": [
              "{'model_name': 'FashionMNISTModelV2',\n",
              " 'model_loss': 0.3180343210697174,\n",
              " 'model_acc': 88.46845047923323}"
            ]
          },
          "metadata": {},
          "execution_count": 132
        }
      ]
    },
    {
      "cell_type": "code",
      "source": [
        "# Evaluate loaded model\n",
        "torch.manual_seed(42)\n",
        "\n",
        "loaded_model_2_results = eval_model(\n",
        "    model=loaded_model_2,\n",
        "    data_loader=test_dataloader,\n",
        "    loss_fn=loss_fn,\n",
        "    accuracy_fn=accuracy_fn\n",
        ")"
      ],
      "metadata": {
        "colab": {
          "base_uri": "https://localhost:8080/",
          "height": 49,
          "referenced_widgets": [
            "2962afc9c17a4633a013f6c70b577890",
            "1c466eb072a8414080bdf686f7eaadfa",
            "cda67ab6bae24670884bddbeb664830f",
            "4b5343b9522f4a73b58aed3f382c7325",
            "11439c0ceec24d1fb8c2ec58c87e4323",
            "e1d0e7dc3f8f4ebdbac839444acf0d0e",
            "b5367e660e7a49a3bc6c599033b3be13",
            "50a0254ed5e64f11bd06c091cc7dc66d",
            "7b96617f7d2c458785af568a422f8a3f",
            "c178306be5b24594932b5a4d3012ba4a",
            "906f60dd5d754735b2f3636da54e88a4"
          ]
        },
        "id": "jiGXxIv8AzEt",
        "outputId": "0a1382fc-8391-46aa-dd63-3c718ed18dd7"
      },
      "execution_count": 133,
      "outputs": [
        {
          "output_type": "display_data",
          "data": {
            "text/plain": [
              "  0%|          | 0/313 [00:00<?, ?it/s]"
            ],
            "application/vnd.jupyter.widget-view+json": {
              "version_major": 2,
              "version_minor": 0,
              "model_id": "2962afc9c17a4633a013f6c70b577890"
            }
          },
          "metadata": {}
        }
      ]
    },
    {
      "cell_type": "code",
      "source": [
        "loaded_model_2_results"
      ],
      "metadata": {
        "colab": {
          "base_uri": "https://localhost:8080/"
        },
        "id": "r62FiUipBP_F",
        "outputId": "576fd6c8-86bf-4a88-bddd-3bffd2bb0381"
      },
      "execution_count": 135,
      "outputs": [
        {
          "output_type": "execute_result",
          "data": {
            "text/plain": [
              "{'model_name': 'FashionMNISTModelV2',\n",
              " 'model_loss': 0.3180343210697174,\n",
              " 'model_acc': 88.46845047923323}"
            ]
          },
          "metadata": {},
          "execution_count": 135
        }
      ]
    },
    {
      "cell_type": "code",
      "source": [
        "# Check if model results are close to each other\n",
        "torch.isclose(torch.tensor(model_2_results[\"model_loss\"]),\n",
        "              torch.tensor(loaded_model_2_results[\"model_loss\"]),\n",
        "              atol=1e-02 )#tolarance level"
      ],
      "metadata": {
        "colab": {
          "base_uri": "https://localhost:8080/"
        },
        "id": "mQ1TIUkgBShU",
        "outputId": "e0950499-d399-432b-ec53-1901180417a2"
      },
      "execution_count": 136,
      "outputs": [
        {
          "output_type": "execute_result",
          "data": {
            "text/plain": [
              "tensor(True)"
            ]
          },
          "metadata": {},
          "execution_count": 136
        }
      ]
    },
    {
      "cell_type": "code",
      "source": [],
      "metadata": {
        "id": "_cWbXbjzBk-u"
      },
      "execution_count": null,
      "outputs": []
    }
  ]
}