{
  "nbformat": 4,
  "nbformat_minor": 0,
  "metadata": {
    "colab": {
      "provenance": [],
      "gpuType": "T4"
    },
    "kernelspec": {
      "name": "python3",
      "display_name": "Python 3"
    },
    "language_info": {
      "name": "python"
    },
    "accelerator": "GPU"
  },
  "cells": [
    {
      "cell_type": "code",
      "source": [
        "import torch\n",
        "import pandas as pd\n",
        "import numpy as np\n",
        "import matplotlib.pyplot as plt\n",
        "print(torch.__version__)\n",
        "print(torch.cuda.is_available())"
      ],
      "metadata": {
        "colab": {
          "base_uri": "https://localhost:8080/"
        },
        "id": "Ye6NbVG80-Zl",
        "outputId": "4fef9b72-cb1c-47c9-8392-c61b70ae672d"
      },
      "execution_count": 1,
      "outputs": [
        {
          "output_type": "stream",
          "name": "stdout",
          "text": [
            "2.4.0+cu121\n",
            "True\n"
          ]
        }
      ]
    },
    {
      "cell_type": "markdown",
      "source": [
        "## Intro to Tensors\n",
        "\n",
        "In mathematics, a tensor is an algebraic object that describes a multilinear relationship between sets of algebraic objects related to a vector space.\n",
        "\n",
        "Tensors are multi-dimensional arrays with a uniform type (called a dtype).All tensors are immutable like Python numbers and strings: you can never update the contents of a tensor, only create a new one.\n",
        "\n",
        "### Creating Tensors\n",
        "\n",
        "PyTorch tensors are created using `torch.Tensor()`"
      ],
      "metadata": {
        "id": "l1ssVwWZ13jg"
      }
    },
    {
      "cell_type": "code",
      "source": [
        "#Scalar\n",
        "scalar = torch.tensor(7)\n",
        "scalar"
      ],
      "metadata": {
        "colab": {
          "base_uri": "https://localhost:8080/"
        },
        "id": "DEVf75Z71PiY",
        "outputId": "77435dcf-0a2f-4e9e-9799-35cfb8c77051"
      },
      "execution_count": 2,
      "outputs": [
        {
          "output_type": "execute_result",
          "data": {
            "text/plain": [
              "tensor(7)"
            ]
          },
          "metadata": {},
          "execution_count": 2
        }
      ]
    },
    {
      "cell_type": "code",
      "source": [
        "scalar.ndim #has no dimension"
      ],
      "metadata": {
        "colab": {
          "base_uri": "https://localhost:8080/"
        },
        "id": "GXdXAbex23B6",
        "outputId": "bca6668c-345d-4a55-a69f-96e48dd71280"
      },
      "execution_count": 3,
      "outputs": [
        {
          "output_type": "execute_result",
          "data": {
            "text/plain": [
              "0"
            ]
          },
          "metadata": {},
          "execution_count": 3
        }
      ]
    },
    {
      "cell_type": "code",
      "source": [
        "# Get tensor back as Python int\n",
        "scalar.item()"
      ],
      "metadata": {
        "colab": {
          "base_uri": "https://localhost:8080/"
        },
        "id": "ebUvd1W57rMO",
        "outputId": "cf4bffcd-39f1-43dc-c997-bca6b204e9f2"
      },
      "execution_count": 4,
      "outputs": [
        {
          "output_type": "execute_result",
          "data": {
            "text/plain": [
              "7"
            ]
          },
          "metadata": {},
          "execution_count": 4
        }
      ]
    },
    {
      "cell_type": "code",
      "source": [
        "# Vector\n",
        "vector = torch.tensor([7,7])\n",
        "vector"
      ],
      "metadata": {
        "colab": {
          "base_uri": "https://localhost:8080/"
        },
        "id": "6XacGgyF8OKa",
        "outputId": "26c45097-ed74-45f3-ce39-d68f02aadb5f"
      },
      "execution_count": 5,
      "outputs": [
        {
          "output_type": "execute_result",
          "data": {
            "text/plain": [
              "tensor([7, 7])"
            ]
          },
          "metadata": {},
          "execution_count": 5
        }
      ]
    },
    {
      "cell_type": "markdown",
      "source": [
        "Vector has magnitude and direction. Magnitude is length and direction is where its pointing"
      ],
      "metadata": {
        "id": "kknuC-Xn8aoc"
      }
    },
    {
      "cell_type": "code",
      "source": [
        "vector.ndim # has one dimension"
      ],
      "metadata": {
        "colab": {
          "base_uri": "https://localhost:8080/"
        },
        "id": "FSk9RA268XMl",
        "outputId": "2c967479-2292-4a1e-f4d2-cf27e1f50d02"
      },
      "execution_count": 6,
      "outputs": [
        {
          "output_type": "execute_result",
          "data": {
            "text/plain": [
              "1"
            ]
          },
          "metadata": {},
          "execution_count": 6
        }
      ]
    },
    {
      "cell_type": "code",
      "source": [
        "vector.shape"
      ],
      "metadata": {
        "colab": {
          "base_uri": "https://localhost:8080/"
        },
        "id": "icliRG7k8og4",
        "outputId": "7ad1b3d7-5ee5-4af0-cf1d-7f73eabe929d"
      },
      "execution_count": 7,
      "outputs": [
        {
          "output_type": "execute_result",
          "data": {
            "text/plain": [
              "torch.Size([2])"
            ]
          },
          "metadata": {},
          "execution_count": 7
        }
      ]
    },
    {
      "cell_type": "code",
      "source": [
        "# MATRIX\n",
        "\n",
        "MATRIX = torch.tensor([[7,8],\n",
        "                       [9,10]])\n",
        "MATRIX"
      ],
      "metadata": {
        "colab": {
          "base_uri": "https://localhost:8080/"
        },
        "id": "aCI7kxly8uat",
        "outputId": "f8cfc2ce-341b-4dac-9ec0-1bc7b6a782aa"
      },
      "execution_count": 8,
      "outputs": [
        {
          "output_type": "execute_result",
          "data": {
            "text/plain": [
              "tensor([[ 7,  8],\n",
              "        [ 9, 10]])"
            ]
          },
          "metadata": {},
          "execution_count": 8
        }
      ]
    },
    {
      "cell_type": "code",
      "source": [
        "MATRIX.ndim"
      ],
      "metadata": {
        "colab": {
          "base_uri": "https://localhost:8080/"
        },
        "id": "4tJZGQCV89gB",
        "outputId": "a386af0a-71e4-4fe9-d6fa-7e42b4e11707"
      },
      "execution_count": 9,
      "outputs": [
        {
          "output_type": "execute_result",
          "data": {
            "text/plain": [
              "2"
            ]
          },
          "metadata": {},
          "execution_count": 9
        }
      ]
    },
    {
      "cell_type": "code",
      "source": [
        "MATRIX.shape"
      ],
      "metadata": {
        "colab": {
          "base_uri": "https://localhost:8080/"
        },
        "id": "aHF-7tE68_Y_",
        "outputId": "169f1e60-0bd4-417f-c7f6-d185064a36c3"
      },
      "execution_count": 10,
      "outputs": [
        {
          "output_type": "execute_result",
          "data": {
            "text/plain": [
              "torch.Size([2, 2])"
            ]
          },
          "metadata": {},
          "execution_count": 10
        }
      ]
    },
    {
      "cell_type": "code",
      "source": [
        "MATRIX[1]"
      ],
      "metadata": {
        "colab": {
          "base_uri": "https://localhost:8080/"
        },
        "id": "d_CbbYjk9AhL",
        "outputId": "0a846ee2-a456-4adc-f30d-a70db87bee6a"
      },
      "execution_count": 11,
      "outputs": [
        {
          "output_type": "execute_result",
          "data": {
            "text/plain": [
              "tensor([ 9, 10])"
            ]
          },
          "metadata": {},
          "execution_count": 11
        }
      ]
    },
    {
      "cell_type": "code",
      "source": [
        "# TENSOR\n",
        "\n",
        "TENSOR = torch.tensor([[[1,2,3],\n",
        "                        [3,6,9],\n",
        "                        [2,4,5]]])\n",
        "\n",
        "TENSOR"
      ],
      "metadata": {
        "colab": {
          "base_uri": "https://localhost:8080/"
        },
        "id": "Z1b88Wou9c2C",
        "outputId": "b715c45b-6340-457d-80f7-2f705843638b"
      },
      "execution_count": 12,
      "outputs": [
        {
          "output_type": "execute_result",
          "data": {
            "text/plain": [
              "tensor([[[1, 2, 3],\n",
              "         [3, 6, 9],\n",
              "         [2, 4, 5]]])"
            ]
          },
          "metadata": {},
          "execution_count": 12
        }
      ]
    },
    {
      "cell_type": "code",
      "source": [
        "TENSOR.ndim"
      ],
      "metadata": {
        "colab": {
          "base_uri": "https://localhost:8080/"
        },
        "id": "XzgGWtSK99Sm",
        "outputId": "336fa67e-e7ad-4de1-8ab7-88ec841604f2"
      },
      "execution_count": 13,
      "outputs": [
        {
          "output_type": "execute_result",
          "data": {
            "text/plain": [
              "3"
            ]
          },
          "metadata": {},
          "execution_count": 13
        }
      ]
    },
    {
      "cell_type": "code",
      "source": [
        "TENSOR.shape"
      ],
      "metadata": {
        "colab": {
          "base_uri": "https://localhost:8080/"
        },
        "id": "tOyLpzS5-E6Y",
        "outputId": "1172141c-e5f4-4d1f-f1a6-49fcf9006f60"
      },
      "execution_count": 14,
      "outputs": [
        {
          "output_type": "execute_result",
          "data": {
            "text/plain": [
              "torch.Size([1, 3, 3])"
            ]
          },
          "metadata": {},
          "execution_count": 14
        }
      ]
    },
    {
      "cell_type": "code",
      "source": [
        "TENSOR[0]"
      ],
      "metadata": {
        "colab": {
          "base_uri": "https://localhost:8080/"
        },
        "id": "W25oxhOo-JiZ",
        "outputId": "379ed0f2-6091-4ee9-b545-640eb8096220"
      },
      "execution_count": 15,
      "outputs": [
        {
          "output_type": "execute_result",
          "data": {
            "text/plain": [
              "tensor([[1, 2, 3],\n",
              "        [3, 6, 9],\n",
              "        [2, 4, 5]])"
            ]
          },
          "metadata": {},
          "execution_count": 15
        }
      ]
    },
    {
      "cell_type": "code",
      "source": [
        "TENSOR[0][0]"
      ],
      "metadata": {
        "colab": {
          "base_uri": "https://localhost:8080/"
        },
        "id": "SAo7q2HW-Qz0",
        "outputId": "390c1242-0b20-4c7a-8249-da45a4593e7d"
      },
      "execution_count": 16,
      "outputs": [
        {
          "output_type": "execute_result",
          "data": {
            "text/plain": [
              "tensor([1, 2, 3])"
            ]
          },
          "metadata": {},
          "execution_count": 16
        }
      ]
    },
    {
      "cell_type": "code",
      "source": [
        "TENSOR[0][0][0]"
      ],
      "metadata": {
        "colab": {
          "base_uri": "https://localhost:8080/"
        },
        "id": "ACSy3QKI-wO2",
        "outputId": "ed0b6b2b-1138-4490-ad58-b5207d7fe9dd"
      },
      "execution_count": 17,
      "outputs": [
        {
          "output_type": "execute_result",
          "data": {
            "text/plain": [
              "tensor(1)"
            ]
          },
          "metadata": {},
          "execution_count": 17
        }
      ]
    },
    {
      "cell_type": "markdown",
      "source": [
        "![Screenshot 2024-09-03 at 11.22.28.png](data:image/png;base64,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)"
      ],
      "metadata": {
        "id": "jVmTwrhI-nR_"
      }
    },
    {
      "cell_type": "markdown",
      "source": [
        "Generally in papers scalar and vectors shown as lower case, matrix and tensors shown as upper case"
      ],
      "metadata": {
        "id": "_Q4MqudK_WrC"
      }
    },
    {
      "cell_type": "markdown",
      "source": [
        "### Random Tensors\n",
        "\n",
        "Random tensors are important because the way many neural networks learn is that they start with tensors full of random numbers and then adjust those random numbers to better represent the data.\n",
        "\n",
        "\n",
        "\n",
        "```\n",
        "Start with random numbers -> Look at data -> Update random numbers -> Look at data -> Update random numbers\n",
        "```\n",
        "\n"
      ],
      "metadata": {
        "id": "g0GkCM8P_vaS"
      }
    },
    {
      "cell_type": "code",
      "source": [
        "# Create a random tensor of size (3,4)\n",
        "\n",
        "random_tensor = torch.rand(3,4)\n",
        "random_tensor"
      ],
      "metadata": {
        "colab": {
          "base_uri": "https://localhost:8080/"
        },
        "id": "YgR2GwzZ_j7J",
        "outputId": "b827c2f6-e628-4fcf-b166-d6e3ae7c8f6b"
      },
      "execution_count": 18,
      "outputs": [
        {
          "output_type": "execute_result",
          "data": {
            "text/plain": [
              "tensor([[0.5819, 0.2461, 0.4320, 0.3410],\n",
              "        [0.1435, 0.4554, 0.2374, 0.7152],\n",
              "        [0.0942, 0.9750, 0.7347, 0.1566]])"
            ]
          },
          "metadata": {},
          "execution_count": 18
        }
      ]
    },
    {
      "cell_type": "code",
      "source": [
        "# Create a random rensor with similiar shape to an image tensor\n",
        "random_image_size_tensor = torch.rand(size=(3,224,224)) # color channels (R,G,B), height, width\n",
        "random_image_size_tensor.shape, random_image_size_tensor.ndim"
      ],
      "metadata": {
        "colab": {
          "base_uri": "https://localhost:8080/"
        },
        "id": "9O6Sf3TJAr4E",
        "outputId": "f5114060-936d-499a-9048-da2b9b00f68b"
      },
      "execution_count": 19,
      "outputs": [
        {
          "output_type": "execute_result",
          "data": {
            "text/plain": [
              "(torch.Size([3, 224, 224]), 3)"
            ]
          },
          "metadata": {},
          "execution_count": 19
        }
      ]
    },
    {
      "cell_type": "markdown",
      "source": [
        "### Zeros and ones"
      ],
      "metadata": {
        "id": "6wBZBkiTCGsB"
      }
    },
    {
      "cell_type": "code",
      "source": [
        "# Create a tensor of all zeros , useful for masking\n",
        "\n",
        "zeros = torch.zeros(size=(3,4))\n",
        "zeros"
      ],
      "metadata": {
        "colab": {
          "base_uri": "https://localhost:8080/"
        },
        "id": "hgo7Vr5-BbVu",
        "outputId": "097d82da-019c-4861-8ab7-60c7c6e564a3"
      },
      "execution_count": 20,
      "outputs": [
        {
          "output_type": "execute_result",
          "data": {
            "text/plain": [
              "tensor([[0., 0., 0., 0.],\n",
              "        [0., 0., 0., 0.],\n",
              "        [0., 0., 0., 0.]])"
            ]
          },
          "metadata": {},
          "execution_count": 20
        }
      ]
    },
    {
      "cell_type": "code",
      "source": [
        "# Create a tensor of all ones\n",
        "\n",
        "ones = torch.ones(size=(3,4))\n",
        "ones"
      ],
      "metadata": {
        "colab": {
          "base_uri": "https://localhost:8080/"
        },
        "id": "-PIJJ_DdCTfi",
        "outputId": "b9e87c20-72ab-459b-dea4-4477cad8246b"
      },
      "execution_count": 21,
      "outputs": [
        {
          "output_type": "execute_result",
          "data": {
            "text/plain": [
              "tensor([[1., 1., 1., 1.],\n",
              "        [1., 1., 1., 1.],\n",
              "        [1., 1., 1., 1.]])"
            ]
          },
          "metadata": {},
          "execution_count": 21
        }
      ]
    },
    {
      "cell_type": "code",
      "source": [
        "ones.dtype"
      ],
      "metadata": {
        "colab": {
          "base_uri": "https://localhost:8080/"
        },
        "id": "gvOmRVAhCkl-",
        "outputId": "d2afab0f-8cb3-4028-c90d-df336b5b545e"
      },
      "execution_count": 22,
      "outputs": [
        {
          "output_type": "execute_result",
          "data": {
            "text/plain": [
              "torch.float32"
            ]
          },
          "metadata": {},
          "execution_count": 22
        }
      ]
    },
    {
      "cell_type": "code",
      "source": [
        "random_tensor.dtype"
      ],
      "metadata": {
        "colab": {
          "base_uri": "https://localhost:8080/"
        },
        "id": "N7ptvN5dCleT",
        "outputId": "cf912594-6f00-4918-8a98-1ad969867f8f"
      },
      "execution_count": 23,
      "outputs": [
        {
          "output_type": "execute_result",
          "data": {
            "text/plain": [
              "torch.float32"
            ]
          },
          "metadata": {},
          "execution_count": 23
        }
      ]
    },
    {
      "cell_type": "markdown",
      "source": [
        "### Creating a range of tensors and tensors-like"
      ],
      "metadata": {
        "id": "I7M1FIK6DJyb"
      }
    },
    {
      "cell_type": "code",
      "source": [
        "# Use torch.range()\n",
        "\n",
        "one_to_ten = torch.arange(1,11)\n",
        "one_to_ten"
      ],
      "metadata": {
        "colab": {
          "base_uri": "https://localhost:8080/"
        },
        "id": "2g5lASHkCopw",
        "outputId": "089b40b4-cde0-4e38-98f3-4c416cb747d7"
      },
      "execution_count": 24,
      "outputs": [
        {
          "output_type": "execute_result",
          "data": {
            "text/plain": [
              "tensor([ 1,  2,  3,  4,  5,  6,  7,  8,  9, 10])"
            ]
          },
          "metadata": {},
          "execution_count": 24
        }
      ]
    },
    {
      "cell_type": "code",
      "source": [
        "torch.arange(start=1,end=1000,step=77)"
      ],
      "metadata": {
        "colab": {
          "base_uri": "https://localhost:8080/"
        },
        "id": "MT1GEQ18DSQY",
        "outputId": "24f22ced-3fd8-44b7-f8c7-53aa0cea0c35"
      },
      "execution_count": 25,
      "outputs": [
        {
          "output_type": "execute_result",
          "data": {
            "text/plain": [
              "tensor([  1,  78, 155, 232, 309, 386, 463, 540, 617, 694, 771, 848, 925])"
            ]
          },
          "metadata": {},
          "execution_count": 25
        }
      ]
    },
    {
      "cell_type": "code",
      "source": [
        "# Creating tensors like\n",
        "\n",
        "ten_zeros = torch.zeros_like(input=one_to_ten)\n",
        "ten_zeros"
      ],
      "metadata": {
        "colab": {
          "base_uri": "https://localhost:8080/"
        },
        "id": "RhbamjA0DmUo",
        "outputId": "557b59b1-25e7-479c-d78a-30a12ca18a70"
      },
      "execution_count": 26,
      "outputs": [
        {
          "output_type": "execute_result",
          "data": {
            "text/plain": [
              "tensor([0, 0, 0, 0, 0, 0, 0, 0, 0, 0])"
            ]
          },
          "metadata": {},
          "execution_count": 26
        }
      ]
    },
    {
      "cell_type": "markdown",
      "source": [
        "### Tensor datatypes\n",
        "\n",
        "[All datatypes](https://pytorch.org/docs/stable/tensors.html)\n",
        "\n",
        "The bit size in computing refers to the number of bits used to represent data. A higher bit size allows for more precise representation of values. For example:\n",
        "\n",
        "- 8-bit can represent 256 values (0 to 255), providing limited precision.\n",
        "- 16-bit offers 65,536 values, increasing precision.\n",
        "- 32-bit and 64-bit provide exponentially more values, significantly enhancing precision.\n",
        "\n",
        "In floating-point numbers, a larger bit size also reduces rounding errors, allowing for more accurate calculations.\n",
        "\n",
        "**Note:** Tensor datatypes is one of the 3 big errors you'll run into Pytorch and DL:\n",
        "\n",
        "1. Tensors not right datatype\n",
        "2. Tensors not right shape\n",
        "3. Tensors not on right device\n"
      ],
      "metadata": {
        "id": "FQib7fpKEcSS"
      }
    },
    {
      "cell_type": "code",
      "source": [
        "# Float32 Tensor\n",
        "\n",
        "float_32_tensor = torch.tensor([3.0,6.0,9.0],dtype = None, #What datatype is the tensor (e.g. float32 or float16)\n",
        "                               device= None, # Defualt is CPU, operations done with tensors on same device\n",
        "                               requires_grad=False # Track gradients\n",
        "                               )\n",
        "\n",
        "float_32_tensor"
      ],
      "metadata": {
        "colab": {
          "base_uri": "https://localhost:8080/"
        },
        "id": "JfuUVmvlEfQQ",
        "outputId": "1b9136a1-235c-4144-e996-e5c9438c6fce"
      },
      "execution_count": 27,
      "outputs": [
        {
          "output_type": "execute_result",
          "data": {
            "text/plain": [
              "tensor([3., 6., 9.])"
            ]
          },
          "metadata": {},
          "execution_count": 27
        }
      ]
    },
    {
      "cell_type": "code",
      "source": [
        "float_32_tensor.dtype # Because default datatype is float32"
      ],
      "metadata": {
        "colab": {
          "base_uri": "https://localhost:8080/"
        },
        "id": "6sbOkR0KEuVM",
        "outputId": "c72f3a50-4ece-4dba-be30-b16b2013e901"
      },
      "execution_count": 28,
      "outputs": [
        {
          "output_type": "execute_result",
          "data": {
            "text/plain": [
              "torch.float32"
            ]
          },
          "metadata": {},
          "execution_count": 28
        }
      ]
    },
    {
      "cell_type": "code",
      "source": [
        "float_16_tensor = float_32_tensor.type(torch.float16)\n",
        "float_16_tensor"
      ],
      "metadata": {
        "colab": {
          "base_uri": "https://localhost:8080/"
        },
        "id": "NPhuv-v2Ewig",
        "outputId": "689022db-20e5-4c56-b030-a9dc34b42cbc"
      },
      "execution_count": 29,
      "outputs": [
        {
          "output_type": "execute_result",
          "data": {
            "text/plain": [
              "tensor([3., 6., 9.], dtype=torch.float16)"
            ]
          },
          "metadata": {},
          "execution_count": 29
        }
      ]
    },
    {
      "cell_type": "markdown",
      "source": [
        "### Getting Information from Tensors\n",
        "\n",
        "- To get datatype from a tensor,`tensor.dtype`\n",
        "- To get shape from a tensor, `tensor.shape`\n",
        "- To get device from a tensor, `tensor.device`\n",
        "\n",
        "\n"
      ],
      "metadata": {
        "id": "3prfVeFPKMyx"
      }
    },
    {
      "cell_type": "code",
      "source": [
        "some_tensor = torch.rand(3,5)\n",
        "some_tensor"
      ],
      "metadata": {
        "colab": {
          "base_uri": "https://localhost:8080/"
        },
        "id": "5rSQkljlJ0wk",
        "outputId": "1ac2205b-de57-4b04-d914-a2407c1e29f2"
      },
      "execution_count": 30,
      "outputs": [
        {
          "output_type": "execute_result",
          "data": {
            "text/plain": [
              "tensor([[0.1270, 0.0365, 0.5943, 0.7747, 0.2400],\n",
              "        [0.2364, 0.5271, 0.7131, 0.9888, 0.3346],\n",
              "        [0.3057, 0.1955, 0.0160, 0.8980, 0.9213]])"
            ]
          },
          "metadata": {},
          "execution_count": 30
        }
      ]
    },
    {
      "cell_type": "code",
      "source": [
        "# Find out details about it\n",
        "\n",
        "print(some_tensor)\n",
        "print(f\"Datatype of tensor: {some_tensor.dtype}\")\n",
        "print(f\"Shape of tensor: {some_tensor.shape}\")\n",
        "print(f\"Device tensor is on: {some_tensor.device}\")"
      ],
      "metadata": {
        "colab": {
          "base_uri": "https://localhost:8080/"
        },
        "id": "dFDXpsItKwd4",
        "outputId": "24b0b186-97e2-44d5-faf5-5a637c627d6d"
      },
      "execution_count": 31,
      "outputs": [
        {
          "output_type": "stream",
          "name": "stdout",
          "text": [
            "tensor([[0.1270, 0.0365, 0.5943, 0.7747, 0.2400],\n",
            "        [0.2364, 0.5271, 0.7131, 0.9888, 0.3346],\n",
            "        [0.3057, 0.1955, 0.0160, 0.8980, 0.9213]])\n",
            "Datatype of tensor: torch.float32\n",
            "Shape of tensor: torch.Size([3, 5])\n",
            "Device tensor is on: cpu\n"
          ]
        }
      ]
    },
    {
      "cell_type": "markdown",
      "source": [
        "### Manipulating Tensors (Tensor Operations)\n",
        "\n",
        "Tensor operations include:\n",
        "* Addition\n",
        "* Substraction\n",
        "* Multiplication\n",
        "* Division\n",
        "* Matrix Multiplication"
      ],
      "metadata": {
        "id": "MwfJh-ZdLq6I"
      }
    },
    {
      "cell_type": "code",
      "source": [
        "# Create a tensor and add 10 to it\n",
        "tensor = torch.tensor([1,2,3])\n",
        "tensor + 10"
      ],
      "metadata": {
        "colab": {
          "base_uri": "https://localhost:8080/"
        },
        "id": "Y53eO9R2LDgg",
        "outputId": "b7fc65c2-aea1-4fd3-a827-777c377ccf5b"
      },
      "execution_count": 32,
      "outputs": [
        {
          "output_type": "execute_result",
          "data": {
            "text/plain": [
              "tensor([11, 12, 13])"
            ]
          },
          "metadata": {},
          "execution_count": 32
        }
      ]
    },
    {
      "cell_type": "code",
      "source": [
        "# Multiply tensor by 10\n",
        "\n",
        "tensor * 10"
      ],
      "metadata": {
        "colab": {
          "base_uri": "https://localhost:8080/"
        },
        "id": "sdB8o7hkMJME",
        "outputId": "ea8aabea-68ff-4442-dc59-ba9f7abe9dc5"
      },
      "execution_count": 33,
      "outputs": [
        {
          "output_type": "execute_result",
          "data": {
            "text/plain": [
              "tensor([10, 20, 30])"
            ]
          },
          "metadata": {},
          "execution_count": 33
        }
      ]
    },
    {
      "cell_type": "code",
      "source": [
        "# Substract ten\n",
        "tensor - 10"
      ],
      "metadata": {
        "colab": {
          "base_uri": "https://localhost:8080/"
        },
        "id": "DuXl_6WGMLt_",
        "outputId": "f7b5cef4-8fda-4ca8-a408-6679b1397e7e"
      },
      "execution_count": 34,
      "outputs": [
        {
          "output_type": "execute_result",
          "data": {
            "text/plain": [
              "tensor([-9, -8, -7])"
            ]
          },
          "metadata": {},
          "execution_count": 34
        }
      ]
    },
    {
      "cell_type": "code",
      "source": [
        "# Division by ten\n",
        "tensor / 10"
      ],
      "metadata": {
        "colab": {
          "base_uri": "https://localhost:8080/"
        },
        "id": "O-TxlaZ7Mlo5",
        "outputId": "7dc26529-e0ed-4911-e301-bb5cfaaf5d36"
      },
      "execution_count": 35,
      "outputs": [
        {
          "output_type": "execute_result",
          "data": {
            "text/plain": [
              "tensor([0.1000, 0.2000, 0.3000])"
            ]
          },
          "metadata": {},
          "execution_count": 35
        }
      ]
    },
    {
      "cell_type": "code",
      "source": [
        "# Try out PyTorch in-built functions -- Not Common\n",
        "torch.mul(tensor,10)"
      ],
      "metadata": {
        "colab": {
          "base_uri": "https://localhost:8080/"
        },
        "id": "lKJUb2GGMol6",
        "outputId": "2c954297-1a60-4db0-da86-efa792400a41"
      },
      "execution_count": 36,
      "outputs": [
        {
          "output_type": "execute_result",
          "data": {
            "text/plain": [
              "tensor([10, 20, 30])"
            ]
          },
          "metadata": {},
          "execution_count": 36
        }
      ]
    },
    {
      "cell_type": "markdown",
      "source": [
        "#### Matrix Multiplication\n",
        "\n",
        "![Screenshot 2024-09-03 at 12.25.58.png](data:image/png;base64,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)\n",
        "\n",
        "Matrix multiplication involves multiplying two matrices to produce a new matrix. Key points include:\n",
        "\n",
        "**Compatibility:** The number of columns in the first matrix must equal the number of rows in the second matrix.\n",
        "\n",
        "**Element Calculation:** Each element in the resulting matrix is calculated by taking the dot product of the corresponding row from the first matrix and the column from the second matrix.\n",
        "\n",
        "    - The dot product is a mathematical operation that takes two equal-length vectors and returns a single scalar value.\n",
        "    - The dot product is calculated by multiplying corresponding elements of the two vectors and then summing these products.\n",
        "    - The dot product represents the product of the magnitudes of the two vectors and the cosine of the angle between them.\n",
        "    - If the dot product is zero, the vectors are orthogonal."
      ],
      "metadata": {
        "id": "HgRxYKv9Nir8"
      }
    },
    {
      "cell_type": "code",
      "source": [
        "# Element wise multip.\n",
        "\n",
        "print(tensor, \"*\", tensor)\n",
        "print(f\"Equals: {tensor*tensor}\")"
      ],
      "metadata": {
        "colab": {
          "base_uri": "https://localhost:8080/"
        },
        "id": "6g5JsCuBMz-w",
        "outputId": "7034b996-64b2-4284-edb8-a0bf9c811d31"
      },
      "execution_count": 37,
      "outputs": [
        {
          "output_type": "stream",
          "name": "stdout",
          "text": [
            "tensor([1, 2, 3]) * tensor([1, 2, 3])\n",
            "Equals: tensor([1, 4, 9])\n"
          ]
        }
      ]
    },
    {
      "cell_type": "code",
      "source": [
        "# Matrix Multip.\n",
        "\n",
        "torch.matmul(tensor, tensor)"
      ],
      "metadata": {
        "colab": {
          "base_uri": "https://localhost:8080/"
        },
        "id": "82p0JuBUVgvQ",
        "outputId": "01121ce6-5bc2-431b-800a-bc041d9eb9e8"
      },
      "execution_count": 38,
      "outputs": [
        {
          "output_type": "execute_result",
          "data": {
            "text/plain": [
              "tensor(14)"
            ]
          },
          "metadata": {},
          "execution_count": 38
        }
      ]
    },
    {
      "cell_type": "code",
      "source": [
        "%%time\n",
        "value = 0\n",
        "for i in range(len(tensor)):\n",
        "  value += tensor[i] * tensor[i]\n",
        "print(value)"
      ],
      "metadata": {
        "colab": {
          "base_uri": "https://localhost:8080/"
        },
        "id": "mRO3zSH0VudT",
        "outputId": "7c8ab9ee-a965-4edd-ac44-20c9742ce950"
      },
      "execution_count": 39,
      "outputs": [
        {
          "output_type": "stream",
          "name": "stdout",
          "text": [
            "tensor(14)\n",
            "CPU times: user 310 µs, sys: 889 µs, total: 1.2 ms\n",
            "Wall time: 1.48 ms\n"
          ]
        }
      ]
    },
    {
      "cell_type": "code",
      "source": [
        "%%time\n",
        "torch.matmul(tensor, tensor)"
      ],
      "metadata": {
        "colab": {
          "base_uri": "https://localhost:8080/"
        },
        "id": "HtmKUnNsW0Fu",
        "outputId": "df010986-ffc2-48ff-e297-1e45b15c45ac"
      },
      "execution_count": 40,
      "outputs": [
        {
          "output_type": "stream",
          "name": "stdout",
          "text": [
            "CPU times: user 35 µs, sys: 0 ns, total: 35 µs\n",
            "Wall time: 38.4 µs\n"
          ]
        },
        {
          "output_type": "execute_result",
          "data": {
            "text/plain": [
              "tensor(14)"
            ]
          },
          "metadata": {},
          "execution_count": 40
        }
      ]
    },
    {
      "cell_type": "markdown",
      "source": [
        "Much more faster with using PyTorch function"
      ],
      "metadata": {
        "id": "g_VvDuz3W5OJ"
      }
    },
    {
      "cell_type": "markdown",
      "source": [
        "There are two main rules that performing matrix multiplication needs to satisfy:\n",
        "\n",
        "\n",
        "\n",
        "1.   The **inner dimensions** must match:\n",
        "* `(3,2) @ (3,2)` won't work\n",
        "* `(2,3) @ (3,2)` will work\n",
        "2.   The resulting matrix has the shape of the **outer dimensions**:\n",
        "* `(2,3) @ (3,2)` -> `(2,2)`\n",
        "\n"
      ],
      "metadata": {
        "id": "cQX5ju-CXfVq"
      }
    },
    {
      "cell_type": "code",
      "source": [
        "# Shapes for matrix multip.\n",
        "\n",
        "tensor_A = torch.tensor([[1,2],\n",
        "                         [3,4],\n",
        "                         [5,6]])\n",
        "\n",
        "tensor_B = torch.tensor([[7,10],\n",
        "                         [8,11],\n",
        "                         [9,12]])\n",
        "\n",
        "torch.mm(tensor_A, tensor_B) # torch.mm is the same as torch.matmul"
      ],
      "metadata": {
        "colab": {
          "base_uri": "https://localhost:8080/",
          "height": 176
        },
        "id": "wW1OTxaSW2TK",
        "outputId": "069f3ac6-eb05-4d56-875a-bc63d31656f6"
      },
      "execution_count": 41,
      "outputs": [
        {
          "output_type": "error",
          "ename": "RuntimeError",
          "evalue": "mat1 and mat2 shapes cannot be multiplied (3x2 and 3x2)",
          "traceback": [
            "\u001b[0;31m---------------------------------------------------------------------------\u001b[0m",
            "\u001b[0;31mRuntimeError\u001b[0m                              Traceback (most recent call last)",
            "\u001b[0;32m<ipython-input-41-8f9c41804aad>\u001b[0m in \u001b[0;36m<cell line: 11>\u001b[0;34m()\u001b[0m\n\u001b[1;32m      9\u001b[0m                          [9,12]])\n\u001b[1;32m     10\u001b[0m \u001b[0;34m\u001b[0m\u001b[0m\n\u001b[0;32m---> 11\u001b[0;31m \u001b[0mtorch\u001b[0m\u001b[0;34m.\u001b[0m\u001b[0mmm\u001b[0m\u001b[0;34m(\u001b[0m\u001b[0mtensor_A\u001b[0m\u001b[0;34m,\u001b[0m \u001b[0mtensor_B\u001b[0m\u001b[0;34m)\u001b[0m \u001b[0;31m# torch.mm is the same as torch.matmul\u001b[0m\u001b[0;34m\u001b[0m\u001b[0;34m\u001b[0m\u001b[0m\n\u001b[0m",
            "\u001b[0;31mRuntimeError\u001b[0m: mat1 and mat2 shapes cannot be multiplied (3x2 and 3x2)"
          ]
        }
      ]
    },
    {
      "cell_type": "code",
      "source": [
        "print(f\"Shape of A:\" , tensor_A.shape)\n",
        "print(f\"Shape of B:\" , tensor_B.shape)"
      ],
      "metadata": {
        "colab": {
          "base_uri": "https://localhost:8080/"
        },
        "id": "RXfYTgffaE30",
        "outputId": "5ab71fb4-ebc5-4e80-df3d-2f9323bd2389"
      },
      "execution_count": 42,
      "outputs": [
        {
          "output_type": "stream",
          "name": "stdout",
          "text": [
            "Shape of A: torch.Size([3, 2])\n",
            "Shape of B: torch.Size([3, 2])\n"
          ]
        }
      ]
    },
    {
      "cell_type": "markdown",
      "source": [
        "To fix our tensor shape issues, we can manipulate the shape of one of our tensors using a **transpose**.\n",
        "\n",
        "A **transpose** switches the axes or dimensions of a given tensor."
      ],
      "metadata": {
        "id": "v5uk4Ozoadlu"
      }
    },
    {
      "cell_type": "code",
      "source": [
        "tensor_B, tensor_B.shape"
      ],
      "metadata": {
        "colab": {
          "base_uri": "https://localhost:8080/"
        },
        "id": "KoNa95X_a2xn",
        "outputId": "0dc0c656-739a-40b6-9e2f-124b31c385ab"
      },
      "execution_count": 43,
      "outputs": [
        {
          "output_type": "execute_result",
          "data": {
            "text/plain": [
              "(tensor([[ 7, 10],\n",
              "         [ 8, 11],\n",
              "         [ 9, 12]]),\n",
              " torch.Size([3, 2]))"
            ]
          },
          "metadata": {},
          "execution_count": 43
        }
      ]
    },
    {
      "cell_type": "code",
      "source": [
        "tensor_B.T, tensor_B.T.shape"
      ],
      "metadata": {
        "colab": {
          "base_uri": "https://localhost:8080/"
        },
        "id": "m3_PnvXsaNES",
        "outputId": "410aea98-ad9c-459d-daec-667cfb78008b"
      },
      "execution_count": 44,
      "outputs": [
        {
          "output_type": "execute_result",
          "data": {
            "text/plain": [
              "(tensor([[ 7,  8,  9],\n",
              "         [10, 11, 12]]),\n",
              " torch.Size([2, 3]))"
            ]
          },
          "metadata": {},
          "execution_count": 44
        }
      ]
    },
    {
      "cell_type": "code",
      "source": [
        "torch.matmul(tensor_A, tensor_B.T)"
      ],
      "metadata": {
        "colab": {
          "base_uri": "https://localhost:8080/"
        },
        "id": "XfEkvZFNawTl",
        "outputId": "2726da16-02f0-4188-d4f7-d64891c47730"
      },
      "execution_count": 45,
      "outputs": [
        {
          "output_type": "execute_result",
          "data": {
            "text/plain": [
              "tensor([[ 27,  30,  33],\n",
              "        [ 61,  68,  75],\n",
              "        [ 95, 106, 117]])"
            ]
          },
          "metadata": {},
          "execution_count": 45
        }
      ]
    },
    {
      "cell_type": "markdown",
      "source": [
        "## Finding the Min, Max, Mean, Sum, etc (tensor aggregation)"
      ],
      "metadata": {
        "id": "QtwOTZ3_bwRH"
      }
    },
    {
      "cell_type": "code",
      "source": [
        "x = torch.arange(0,100,10)\n",
        "x"
      ],
      "metadata": {
        "id": "voukj4VJcdYq",
        "colab": {
          "base_uri": "https://localhost:8080/"
        },
        "outputId": "9d8cdf4f-f3f8-4c91-d916-8a1cbd7e4dc5"
      },
      "execution_count": 46,
      "outputs": [
        {
          "output_type": "execute_result",
          "data": {
            "text/plain": [
              "tensor([ 0, 10, 20, 30, 40, 50, 60, 70, 80, 90])"
            ]
          },
          "metadata": {},
          "execution_count": 46
        }
      ]
    },
    {
      "cell_type": "code",
      "source": [
        "# Find the min\n",
        "torch.min(x), x.min()"
      ],
      "metadata": {
        "colab": {
          "base_uri": "https://localhost:8080/"
        },
        "id": "FrInMPSgcS6Y",
        "outputId": "a2850657-04e5-4682-830f-d8d4fadcd3c8"
      },
      "execution_count": 47,
      "outputs": [
        {
          "output_type": "execute_result",
          "data": {
            "text/plain": [
              "(tensor(0), tensor(0))"
            ]
          },
          "metadata": {},
          "execution_count": 47
        }
      ]
    },
    {
      "cell_type": "code",
      "source": [
        "# Find the max\n",
        "torch.max(x), x.max()"
      ],
      "metadata": {
        "colab": {
          "base_uri": "https://localhost:8080/"
        },
        "id": "nLbgrbaxcdGW",
        "outputId": "57acf803-5f9f-4aca-8fdf-7ec552c7db47"
      },
      "execution_count": 48,
      "outputs": [
        {
          "output_type": "execute_result",
          "data": {
            "text/plain": [
              "(tensor(90), tensor(90))"
            ]
          },
          "metadata": {},
          "execution_count": 48
        }
      ]
    },
    {
      "cell_type": "code",
      "source": [
        "# Find the mean\n",
        "torch.mean(x)"
      ],
      "metadata": {
        "colab": {
          "base_uri": "https://localhost:8080/",
          "height": 159
        },
        "id": "BWV2IGiWc7ul",
        "outputId": "98292433-40ab-4421-98e3-77509def3fd0"
      },
      "execution_count": 49,
      "outputs": [
        {
          "output_type": "error",
          "ename": "RuntimeError",
          "evalue": "mean(): could not infer output dtype. Input dtype must be either a floating point or complex dtype. Got: Long",
          "traceback": [
            "\u001b[0;31m---------------------------------------------------------------------------\u001b[0m",
            "\u001b[0;31mRuntimeError\u001b[0m                              Traceback (most recent call last)",
            "\u001b[0;32m<ipython-input-49-7519b7c6f2fb>\u001b[0m in \u001b[0;36m<cell line: 2>\u001b[0;34m()\u001b[0m\n\u001b[1;32m      1\u001b[0m \u001b[0;31m# Find the mean\u001b[0m\u001b[0;34m\u001b[0m\u001b[0;34m\u001b[0m\u001b[0m\n\u001b[0;32m----> 2\u001b[0;31m \u001b[0mtorch\u001b[0m\u001b[0;34m.\u001b[0m\u001b[0mmean\u001b[0m\u001b[0;34m(\u001b[0m\u001b[0mx\u001b[0m\u001b[0;34m)\u001b[0m\u001b[0;34m\u001b[0m\u001b[0;34m\u001b[0m\u001b[0m\n\u001b[0m",
            "\u001b[0;31mRuntimeError\u001b[0m: mean(): could not infer output dtype. Input dtype must be either a floating point or complex dtype. Got: Long"
          ]
        }
      ]
    },
    {
      "cell_type": "code",
      "source": [
        "torch.mean(x.type(torch.float32)), x.type(torch.float32).mean()"
      ],
      "metadata": {
        "colab": {
          "base_uri": "https://localhost:8080/"
        },
        "id": "4ZTgU9WSdAgJ",
        "outputId": "6588d5e2-d1bb-4040-d658-d737f96c6753"
      },
      "execution_count": 50,
      "outputs": [
        {
          "output_type": "execute_result",
          "data": {
            "text/plain": [
              "(tensor(45.), tensor(45.))"
            ]
          },
          "metadata": {},
          "execution_count": 50
        }
      ]
    },
    {
      "cell_type": "code",
      "source": [
        "# Find the sum\n",
        "\n",
        "torch.sum(x), x.sum()"
      ],
      "metadata": {
        "colab": {
          "base_uri": "https://localhost:8080/"
        },
        "id": "t86nVgnqdZBH",
        "outputId": "4a547d1b-499f-4f5e-d9ac-31a671cedf50"
      },
      "execution_count": 51,
      "outputs": [
        {
          "output_type": "execute_result",
          "data": {
            "text/plain": [
              "(tensor(450), tensor(450))"
            ]
          },
          "metadata": {},
          "execution_count": 51
        }
      ]
    },
    {
      "cell_type": "markdown",
      "source": [
        "Finding positional min, max, [index value]\n",
        "\n",
        "\n",
        "\n"
      ],
      "metadata": {
        "id": "EVrxgYLKd7LB"
      }
    },
    {
      "cell_type": "code",
      "source": [
        "x.argmin(), x.argmax()"
      ],
      "metadata": {
        "colab": {
          "base_uri": "https://localhost:8080/"
        },
        "id": "Nq2SQQ6JdtyZ",
        "outputId": "080b23c4-75ba-4989-9666-0a1028de40bc"
      },
      "execution_count": 52,
      "outputs": [
        {
          "output_type": "execute_result",
          "data": {
            "text/plain": [
              "(tensor(0), tensor(9))"
            ]
          },
          "metadata": {},
          "execution_count": 52
        }
      ]
    },
    {
      "cell_type": "markdown",
      "source": [
        "## Reshaping, stacking, squeezing and unsqueezing tensors\n",
        "\n",
        "* Reshaping - reshape an input tensor to a defined shape\n",
        "* View - return a view of an input tensor of certain shape but keep the same memory\n",
        "* Stacking - combine multiple tensors on top of each other or side by side\n",
        "* Squeeze -  removes all '1' dim. from a tensor\n",
        "* Unsqueeze - add a '1' dim. to a target tensor\n",
        "* Permute - return a view of the input with dim. permuted (swapped) in a certain way"
      ],
      "metadata": {
        "id": "RkhaCoaygNs7"
      }
    },
    {
      "cell_type": "code",
      "source": [
        "x = torch.arange(1.,10.)\n",
        "x, x.shape"
      ],
      "metadata": {
        "colab": {
          "base_uri": "https://localhost:8080/"
        },
        "id": "cAQg46I6fkQ8",
        "outputId": "fab89266-7386-44d4-bf89-e8e632412431"
      },
      "execution_count": 53,
      "outputs": [
        {
          "output_type": "execute_result",
          "data": {
            "text/plain": [
              "(tensor([1., 2., 3., 4., 5., 6., 7., 8., 9.]), torch.Size([9]))"
            ]
          },
          "metadata": {},
          "execution_count": 53
        }
      ]
    },
    {
      "cell_type": "code",
      "source": [
        "# Add an extra dimension\n",
        "x_reshaped = x.reshape(1,9)\n",
        "x_reshaped, x_reshaped.shape"
      ],
      "metadata": {
        "id": "wf0RODXvhdic",
        "colab": {
          "base_uri": "https://localhost:8080/"
        },
        "outputId": "928412a5-4a5d-4577-a06d-823c3280fa2e"
      },
      "execution_count": 54,
      "outputs": [
        {
          "output_type": "execute_result",
          "data": {
            "text/plain": [
              "(tensor([[1., 2., 3., 4., 5., 6., 7., 8., 9.]]), torch.Size([1, 9]))"
            ]
          },
          "metadata": {},
          "execution_count": 54
        }
      ]
    },
    {
      "cell_type": "code",
      "source": [
        "#Change the view\n",
        "z = x.view(1,9)\n",
        "z, z.shape"
      ],
      "metadata": {
        "id": "f2WxLmCrhiiX",
        "colab": {
          "base_uri": "https://localhost:8080/"
        },
        "outputId": "edf4f641-901d-4029-96c3-c57635f1348a"
      },
      "execution_count": 55,
      "outputs": [
        {
          "output_type": "execute_result",
          "data": {
            "text/plain": [
              "(tensor([[1., 2., 3., 4., 5., 6., 7., 8., 9.]]), torch.Size([1, 9]))"
            ]
          },
          "metadata": {},
          "execution_count": 55
        }
      ]
    },
    {
      "cell_type": "code",
      "source": [
        "# Changing z changes x because a view of a tensor shares the same memory as the original input\n",
        "z[:,0] = 5\n",
        "z,x"
      ],
      "metadata": {
        "id": "VSJFVs2WhjS8",
        "colab": {
          "base_uri": "https://localhost:8080/"
        },
        "outputId": "0437ccd3-c28d-426a-c08d-7afc6f0ac31f"
      },
      "execution_count": 56,
      "outputs": [
        {
          "output_type": "execute_result",
          "data": {
            "text/plain": [
              "(tensor([[5., 2., 3., 4., 5., 6., 7., 8., 9.]]),\n",
              " tensor([5., 2., 3., 4., 5., 6., 7., 8., 9.]))"
            ]
          },
          "metadata": {},
          "execution_count": 56
        }
      ]
    },
    {
      "cell_type": "code",
      "source": [
        "# Stack tensors on top eachother\n",
        "x_stacked = torch.stack([x,x,x,x], dim=0)\n",
        "x_stacked"
      ],
      "metadata": {
        "id": "AJWHxT7NhjrQ",
        "colab": {
          "base_uri": "https://localhost:8080/"
        },
        "outputId": "66ae740e-f8a9-4ed2-c621-a2815bfc5304"
      },
      "execution_count": 57,
      "outputs": [
        {
          "output_type": "execute_result",
          "data": {
            "text/plain": [
              "tensor([[5., 2., 3., 4., 5., 6., 7., 8., 9.],\n",
              "        [5., 2., 3., 4., 5., 6., 7., 8., 9.],\n",
              "        [5., 2., 3., 4., 5., 6., 7., 8., 9.],\n",
              "        [5., 2., 3., 4., 5., 6., 7., 8., 9.]])"
            ]
          },
          "metadata": {},
          "execution_count": 57
        }
      ]
    },
    {
      "cell_type": "code",
      "source": [
        "x_stacked = torch.stack([x,x,x,x], dim=1)\n",
        "x_stacked"
      ],
      "metadata": {
        "id": "lSYFNc60hkJF",
        "colab": {
          "base_uri": "https://localhost:8080/"
        },
        "outputId": "e5c53aa5-bb53-4372-f07c-9de3cdc47d40"
      },
      "execution_count": 58,
      "outputs": [
        {
          "output_type": "execute_result",
          "data": {
            "text/plain": [
              "tensor([[5., 5., 5., 5.],\n",
              "        [2., 2., 2., 2.],\n",
              "        [3., 3., 3., 3.],\n",
              "        [4., 4., 4., 4.],\n",
              "        [5., 5., 5., 5.],\n",
              "        [6., 6., 6., 6.],\n",
              "        [7., 7., 7., 7.],\n",
              "        [8., 8., 8., 8.],\n",
              "        [9., 9., 9., 9.]])"
            ]
          },
          "metadata": {},
          "execution_count": 58
        }
      ]
    },
    {
      "cell_type": "code",
      "source": [
        "# Squeeze tensor\n",
        "x_reshaped, x_reshaped.shape"
      ],
      "metadata": {
        "colab": {
          "base_uri": "https://localhost:8080/"
        },
        "id": "pwBKKyKWpJkC",
        "outputId": "2ecb3ec8-8fc0-4835-a18d-34bd9abd5b2b"
      },
      "execution_count": 59,
      "outputs": [
        {
          "output_type": "execute_result",
          "data": {
            "text/plain": [
              "(tensor([[5., 2., 3., 4., 5., 6., 7., 8., 9.]]), torch.Size([1, 9]))"
            ]
          },
          "metadata": {},
          "execution_count": 59
        }
      ]
    },
    {
      "cell_type": "code",
      "source": [
        "x_reshaped.squeeze(), x_reshaped.squeeze().shape"
      ],
      "metadata": {
        "colab": {
          "base_uri": "https://localhost:8080/"
        },
        "id": "Sy7rYXt5pLM0",
        "outputId": "b13b5492-6518-4448-a6f4-33a93e05f611"
      },
      "execution_count": 60,
      "outputs": [
        {
          "output_type": "execute_result",
          "data": {
            "text/plain": [
              "(tensor([5., 2., 3., 4., 5., 6., 7., 8., 9.]), torch.Size([9]))"
            ]
          },
          "metadata": {},
          "execution_count": 60
        }
      ]
    },
    {
      "cell_type": "code",
      "source": [
        "# Unsqueeze tensor\n",
        "x_squeezed = x_reshaped.squeeze()\n",
        "\n",
        "x_unsqueezed = x_squeezed.unsqueeze(dim=0)\n",
        "x_unsqueezed, x_unsqueezed.shape"
      ],
      "metadata": {
        "colab": {
          "base_uri": "https://localhost:8080/"
        },
        "id": "7VuCaa85pLKA",
        "outputId": "90db7e81-eb92-4944-a5c1-5c45d9311411"
      },
      "execution_count": 61,
      "outputs": [
        {
          "output_type": "execute_result",
          "data": {
            "text/plain": [
              "(tensor([[5., 2., 3., 4., 5., 6., 7., 8., 9.]]), torch.Size([1, 9]))"
            ]
          },
          "metadata": {},
          "execution_count": 61
        }
      ]
    },
    {
      "cell_type": "code",
      "source": [
        "# Permute - rearranges the dim. of a target tensor in a specified order / comman in images\n",
        "\n",
        "x_original = torch.rand(size=(224,224,3)) # [height, width, colour_channels]\n",
        "\n",
        "# Permute the original tensor to reaarange the axis (or dim)\n",
        "x_permuted = x_original.permute(2,0,1) # [colour_channels, height, width]\n",
        "\n",
        "print(f\"Previous shape: {x_original.shape}\")\n",
        "print(f\"New shape: {x_permuted.shape}\")"
      ],
      "metadata": {
        "colab": {
          "base_uri": "https://localhost:8080/"
        },
        "id": "N69Es8TOpLG0",
        "outputId": "5505aa45-a102-45f1-f584-07128ce570b6"
      },
      "execution_count": 62,
      "outputs": [
        {
          "output_type": "stream",
          "name": "stdout",
          "text": [
            "Previous shape: torch.Size([224, 224, 3])\n",
            "New shape: torch.Size([3, 224, 224])\n"
          ]
        }
      ]
    },
    {
      "cell_type": "markdown",
      "source": [
        "### Indexing\n",
        "\n",
        "Selecting data from tensors. Indexing with PyTorch is similar to indexing with Numpy"
      ],
      "metadata": {
        "id": "J-whAIogu_BH"
      }
    },
    {
      "cell_type": "code",
      "source": [
        "x = torch.arange(1,10).reshape(1,3,3)\n",
        "x, x.shape"
      ],
      "metadata": {
        "colab": {
          "base_uri": "https://localhost:8080/"
        },
        "id": "jrm8JP3TpLDo",
        "outputId": "e75bb1df-90b2-41ea-f852-012e3e17c613"
      },
      "execution_count": 63,
      "outputs": [
        {
          "output_type": "execute_result",
          "data": {
            "text/plain": [
              "(tensor([[[1, 2, 3],\n",
              "          [4, 5, 6],\n",
              "          [7, 8, 9]]]),\n",
              " torch.Size([1, 3, 3]))"
            ]
          },
          "metadata": {},
          "execution_count": 63
        }
      ]
    },
    {
      "cell_type": "code",
      "source": [
        "x[0]"
      ],
      "metadata": {
        "colab": {
          "base_uri": "https://localhost:8080/"
        },
        "id": "o9aVfxa4pK82",
        "outputId": "0fe7ae92-0bca-4b86-d700-ad802cd1f460"
      },
      "execution_count": 64,
      "outputs": [
        {
          "output_type": "execute_result",
          "data": {
            "text/plain": [
              "tensor([[1, 2, 3],\n",
              "        [4, 5, 6],\n",
              "        [7, 8, 9]])"
            ]
          },
          "metadata": {},
          "execution_count": 64
        }
      ]
    },
    {
      "cell_type": "code",
      "source": [
        "x[0][0]"
      ],
      "metadata": {
        "colab": {
          "base_uri": "https://localhost:8080/"
        },
        "id": "5YjESEF2pK3F",
        "outputId": "7bda8e66-4276-49d2-8575-499ca913f699"
      },
      "execution_count": 65,
      "outputs": [
        {
          "output_type": "execute_result",
          "data": {
            "text/plain": [
              "tensor([1, 2, 3])"
            ]
          },
          "metadata": {},
          "execution_count": 65
        }
      ]
    },
    {
      "cell_type": "code",
      "source": [
        "x[0][0][0]"
      ],
      "metadata": {
        "colab": {
          "base_uri": "https://localhost:8080/"
        },
        "id": "huQlWJdBvKDm",
        "outputId": "de79b129-c5b7-46b0-8215-6965f6d6a284"
      },
      "execution_count": 66,
      "outputs": [
        {
          "output_type": "execute_result",
          "data": {
            "text/plain": [
              "tensor(1)"
            ]
          },
          "metadata": {},
          "execution_count": 66
        }
      ]
    },
    {
      "cell_type": "code",
      "source": [
        "x[0,1,1]"
      ],
      "metadata": {
        "colab": {
          "base_uri": "https://localhost:8080/"
        },
        "id": "xa7d3AedvKAw",
        "outputId": "0af75238-7883-493e-9c76-ef370f02ec2d"
      },
      "execution_count": 67,
      "outputs": [
        {
          "output_type": "execute_result",
          "data": {
            "text/plain": [
              "tensor(5)"
            ]
          },
          "metadata": {},
          "execution_count": 67
        }
      ]
    },
    {
      "cell_type": "code",
      "source": [
        "# You can also use ':' to seleck \"all\" of a target dimension\n",
        "x[:,0]"
      ],
      "metadata": {
        "colab": {
          "base_uri": "https://localhost:8080/"
        },
        "id": "Mz9_1l9CvJ9n",
        "outputId": "77b84371-d2f4-4561-c8dc-dca76d60c5ac"
      },
      "execution_count": 68,
      "outputs": [
        {
          "output_type": "execute_result",
          "data": {
            "text/plain": [
              "tensor([[1, 2, 3]])"
            ]
          },
          "metadata": {},
          "execution_count": 68
        }
      ]
    },
    {
      "cell_type": "code",
      "source": [
        "x[:,:,1]"
      ],
      "metadata": {
        "colab": {
          "base_uri": "https://localhost:8080/"
        },
        "id": "_adScy5QvJ58",
        "outputId": "fa93c7ea-c6bb-4033-df6e-e33071f95b16"
      },
      "execution_count": 69,
      "outputs": [
        {
          "output_type": "execute_result",
          "data": {
            "text/plain": [
              "tensor([[2, 5, 8]])"
            ]
          },
          "metadata": {},
          "execution_count": 69
        }
      ]
    },
    {
      "cell_type": "code",
      "source": [
        "x[:,1,1]"
      ],
      "metadata": {
        "colab": {
          "base_uri": "https://localhost:8080/"
        },
        "id": "r0qI4x8yvJ3U",
        "outputId": "a2343c80-8a1f-4888-ae14-2fa2fd926e27"
      },
      "execution_count": 70,
      "outputs": [
        {
          "output_type": "execute_result",
          "data": {
            "text/plain": [
              "tensor([5])"
            ]
          },
          "metadata": {},
          "execution_count": 70
        }
      ]
    },
    {
      "cell_type": "code",
      "source": [
        "x[0,0,:]"
      ],
      "metadata": {
        "colab": {
          "base_uri": "https://localhost:8080/"
        },
        "id": "XsZg03Y-wn1-",
        "outputId": "08e3b78d-a526-46fd-d77b-4ac4c4887c94"
      },
      "execution_count": 71,
      "outputs": [
        {
          "output_type": "execute_result",
          "data": {
            "text/plain": [
              "tensor([1, 2, 3])"
            ]
          },
          "metadata": {},
          "execution_count": 71
        }
      ]
    },
    {
      "cell_type": "code",
      "source": [
        "x[0,:,2]"
      ],
      "metadata": {
        "colab": {
          "base_uri": "https://localhost:8080/"
        },
        "id": "DyiJWEffw35l",
        "outputId": "213be9c1-5db2-4399-a895-eb615b5f86b6"
      },
      "execution_count": 72,
      "outputs": [
        {
          "output_type": "execute_result",
          "data": {
            "text/plain": [
              "tensor([3, 6, 9])"
            ]
          },
          "metadata": {},
          "execution_count": 72
        }
      ]
    },
    {
      "cell_type": "code",
      "source": [
        "x[0,2,2]"
      ],
      "metadata": {
        "colab": {
          "base_uri": "https://localhost:8080/"
        },
        "id": "LQr_ievRxGdd",
        "outputId": "525c8e5c-c4c8-4916-b478-1ae6ebe76665"
      },
      "execution_count": 73,
      "outputs": [
        {
          "output_type": "execute_result",
          "data": {
            "text/plain": [
              "tensor(9)"
            ]
          },
          "metadata": {},
          "execution_count": 73
        }
      ]
    },
    {
      "cell_type": "markdown",
      "source": [
        "## Pytorch tensors with Numpy\n",
        "\n",
        "Numpy is a popular scientific Python numerical computing library.\n",
        "\n",
        "And because of this, PyTorch has functionality to interact with it.\n",
        "\n",
        "* Data in Numpy, want in PyTorch tensor -> `torch.from_numpy(ndarray)`\n",
        "* Pytorch tensor -> NumPy -> `torch.Tensor.numpy()`"
      ],
      "metadata": {
        "id": "JIU3TlO9xiF1"
      }
    },
    {
      "cell_type": "code",
      "source": [
        "array = np.arange(1.0,8.0)\n",
        "tensor = torch.from_numpy(array)\n",
        "array, tensor"
      ],
      "metadata": {
        "colab": {
          "base_uri": "https://localhost:8080/"
        },
        "id": "EDpGHmx7xLwl",
        "outputId": "9c45a418-ff32-4988-8c33-acc8d0c82447"
      },
      "execution_count": 74,
      "outputs": [
        {
          "output_type": "execute_result",
          "data": {
            "text/plain": [
              "(array([1., 2., 3., 4., 5., 6., 7.]),\n",
              " tensor([1., 2., 3., 4., 5., 6., 7.], dtype=torch.float64))"
            ]
          },
          "metadata": {},
          "execution_count": 74
        }
      ]
    },
    {
      "cell_type": "code",
      "source": [
        "array.dtype # thats why tensor created from numpy has float64 dtype"
      ],
      "metadata": {
        "colab": {
          "base_uri": "https://localhost:8080/"
        },
        "id": "6O9qA6ifyLtt",
        "outputId": "04853bd8-0db4-4d7b-e785-a7f70268ec4e"
      },
      "execution_count": 75,
      "outputs": [
        {
          "output_type": "execute_result",
          "data": {
            "text/plain": [
              "dtype('float64')"
            ]
          },
          "metadata": {},
          "execution_count": 75
        }
      ]
    },
    {
      "cell_type": "code",
      "source": [
        "# Change the value of arrayi what will this do to 'tensor'?\n",
        "\n",
        "array = array + 1\n",
        "array, tensor"
      ],
      "metadata": {
        "colab": {
          "base_uri": "https://localhost:8080/"
        },
        "id": "SqxjhOERyP7b",
        "outputId": "c37b711a-186d-44f4-da21-d25523bd6231"
      },
      "execution_count": 76,
      "outputs": [
        {
          "output_type": "execute_result",
          "data": {
            "text/plain": [
              "(array([2., 3., 4., 5., 6., 7., 8.]),\n",
              " tensor([1., 2., 3., 4., 5., 6., 7.], dtype=torch.float64))"
            ]
          },
          "metadata": {},
          "execution_count": 76
        }
      ]
    },
    {
      "cell_type": "code",
      "source": [
        "# Tensor to Numpy array\n",
        "\n",
        "tensor = torch.ones(7)\n",
        "numpy_tensor = tensor.numpy()\n",
        "tensor, numpy_tensor"
      ],
      "metadata": {
        "colab": {
          "base_uri": "https://localhost:8080/"
        },
        "id": "692cB6bUywQx",
        "outputId": "2ede6c43-3c83-41fd-f7cf-cd827bc500cd"
      },
      "execution_count": 77,
      "outputs": [
        {
          "output_type": "execute_result",
          "data": {
            "text/plain": [
              "(tensor([1., 1., 1., 1., 1., 1., 1.]),\n",
              " array([1., 1., 1., 1., 1., 1., 1.], dtype=float32))"
            ]
          },
          "metadata": {},
          "execution_count": 77
        }
      ]
    },
    {
      "cell_type": "code",
      "source": [
        "numpy_tensor.dtype"
      ],
      "metadata": {
        "colab": {
          "base_uri": "https://localhost:8080/"
        },
        "id": "LK3pJLzsy_yz",
        "outputId": "c62b8653-05cb-4e43-e9ba-3cc87d2e0b50"
      },
      "execution_count": 78,
      "outputs": [
        {
          "output_type": "execute_result",
          "data": {
            "text/plain": [
              "dtype('float32')"
            ]
          },
          "metadata": {},
          "execution_count": 78
        }
      ]
    },
    {
      "cell_type": "code",
      "source": [
        "# Change the tensor, what happens to 'numpy_tensor'?\n",
        "\n",
        "tensor = tensor + 1\n",
        "tensor, numpy_tensor #Means they do not share memory"
      ],
      "metadata": {
        "colab": {
          "base_uri": "https://localhost:8080/"
        },
        "id": "Ib4nxrpJzGqv",
        "outputId": "e9d5f7c9-629e-4ace-f622-5d03941256ae"
      },
      "execution_count": 79,
      "outputs": [
        {
          "output_type": "execute_result",
          "data": {
            "text/plain": [
              "(tensor([2., 2., 2., 2., 2., 2., 2.]),\n",
              " array([1., 1., 1., 1., 1., 1., 1.], dtype=float32))"
            ]
          },
          "metadata": {},
          "execution_count": 79
        }
      ]
    },
    {
      "cell_type": "markdown",
      "source": [
        "## Reproducibility (trying to take the random out of random)\n",
        "\n",
        "In short how a neural network work learns:\n",
        "\n",
        "`start with random numbers -> tensor operations -> update random numbers to try and make them better representations of the data -> again -> again ->...`\n",
        "\n",
        "To reduce randomness in NN and pytorch comes the concept of a **random seed**.\n",
        "\n",
        "Essentially what the random seed does is \"flaour\" the randomnees."
      ],
      "metadata": {
        "id": "X7qLd2A0zrFN"
      }
    },
    {
      "cell_type": "code",
      "source": [
        "# Create two random tensors\n",
        "random_tensor_A = torch.rand(3,4)\n",
        "random_tensor_B = torch.rand(3,4)\n",
        "\n",
        "print(random_tensor_A)\n",
        "print(random_tensor_B)\n",
        "\n",
        "print(random_tensor_A == random_tensor_B)"
      ],
      "metadata": {
        "colab": {
          "base_uri": "https://localhost:8080/"
        },
        "id": "gp17p_e8zRQV",
        "outputId": "7791ec1d-492a-4952-fadd-ca1d0a0c4d11"
      },
      "execution_count": 80,
      "outputs": [
        {
          "output_type": "stream",
          "name": "stdout",
          "text": [
            "tensor([[0.0325, 0.8086, 0.2467, 0.6071],\n",
            "        [0.0889, 0.4689, 0.7645, 0.4846],\n",
            "        [0.3319, 0.4955, 0.8029, 0.0715]])\n",
            "tensor([[0.2489, 0.1961, 0.4693, 0.5434],\n",
            "        [0.5331, 0.1822, 0.9798, 0.0178],\n",
            "        [0.0876, 0.3553, 0.8529, 0.1942]])\n",
            "tensor([[False, False, False, False],\n",
            "        [False, False, False, False],\n",
            "        [False, False, False, False]])\n"
          ]
        }
      ]
    },
    {
      "cell_type": "code",
      "source": [
        "# Random but reproducible tensors\n",
        "\n",
        "#Set the random seed\n",
        "RANDOM_SEED = 42\n",
        "\n",
        "torch.manual_seed(RANDOM_SEED)\n",
        "random_tensor_C = torch.rand(3,4)\n",
        "\n",
        "torch.manual_seed(RANDOM_SEED) #only works one block of code\n",
        "random_tensor_D = torch.rand(3,4)\n",
        "\n",
        "print(random_tensor_C)\n",
        "print(random_tensor_D)\n",
        "\n",
        "print(random_tensor_C == random_tensor_D)"
      ],
      "metadata": {
        "colab": {
          "base_uri": "https://localhost:8080/"
        },
        "id": "5MHPILc20TVV",
        "outputId": "ed48cc03-13e3-4bc4-dd5f-77fb156ef86a"
      },
      "execution_count": 81,
      "outputs": [
        {
          "output_type": "stream",
          "name": "stdout",
          "text": [
            "tensor([[0.8823, 0.9150, 0.3829, 0.9593],\n",
            "        [0.3904, 0.6009, 0.2566, 0.7936],\n",
            "        [0.9408, 0.1332, 0.9346, 0.5936]])\n",
            "tensor([[0.8823, 0.9150, 0.3829, 0.9593],\n",
            "        [0.3904, 0.6009, 0.2566, 0.7936],\n",
            "        [0.9408, 0.1332, 0.9346, 0.5936]])\n",
            "tensor([[True, True, True, True],\n",
            "        [True, True, True, True],\n",
            "        [True, True, True, True]])\n"
          ]
        }
      ]
    },
    {
      "cell_type": "markdown",
      "source": [
        "## Running tensors and PyTorch objects on GPUs\n",
        "\n",
        "GPUs = faster computation on numbers\n",
        "\n",
        "### 1. Getting a GPU\n",
        "\n",
        "- Easiest - Use Google Colab\n",
        "- Use your own GPU\n",
        "- Use cloud computing, GCP, AWS, Azure, etc.\n"
      ],
      "metadata": {
        "id": "NNG1bgaJ2MOb"
      }
    },
    {
      "cell_type": "code",
      "source": [
        "!nvidia-smi"
      ],
      "metadata": {
        "colab": {
          "base_uri": "https://localhost:8080/"
        },
        "id": "uOEG_ezl0TSL",
        "outputId": "5b23a8c8-a96f-4294-cbcc-84c7502a9503"
      },
      "execution_count": 82,
      "outputs": [
        {
          "output_type": "stream",
          "name": "stdout",
          "text": [
            "Fri Sep  6 10:55:26 2024       \n",
            "+---------------------------------------------------------------------------------------+\n",
            "| NVIDIA-SMI 535.104.05             Driver Version: 535.104.05   CUDA Version: 12.2     |\n",
            "|-----------------------------------------+----------------------+----------------------+\n",
            "| GPU  Name                 Persistence-M | Bus-Id        Disp.A | Volatile Uncorr. ECC |\n",
            "| Fan  Temp   Perf          Pwr:Usage/Cap |         Memory-Usage | GPU-Util  Compute M. |\n",
            "|                                         |                      |               MIG M. |\n",
            "|=========================================+======================+======================|\n",
            "|   0  Tesla T4                       Off | 00000000:00:04.0 Off |                    0 |\n",
            "| N/A   46C    P8              10W /  70W |      3MiB / 15360MiB |      0%      Default |\n",
            "|                                         |                      |                  N/A |\n",
            "+-----------------------------------------+----------------------+----------------------+\n",
            "                                                                                         \n",
            "+---------------------------------------------------------------------------------------+\n",
            "| Processes:                                                                            |\n",
            "|  GPU   GI   CI        PID   Type   Process name                            GPU Memory |\n",
            "|        ID   ID                                                             Usage      |\n",
            "|=======================================================================================|\n",
            "|  No running processes found                                                           |\n",
            "+---------------------------------------------------------------------------------------+\n"
          ]
        }
      ]
    },
    {
      "cell_type": "markdown",
      "source": [
        "### Check for GPU access with PyTorch\n",
        "\n"
      ],
      "metadata": {
        "id": "eBZx_deI4Co4"
      }
    },
    {
      "cell_type": "code",
      "source": [
        "torch.cuda.is_available() # Now False because we spend our daily limit"
      ],
      "metadata": {
        "colab": {
          "base_uri": "https://localhost:8080/"
        },
        "id": "QeWPYh_A0TPj",
        "outputId": "d5211347-9ec6-42d0-9eaf-5b386a2d1cdd"
      },
      "execution_count": 83,
      "outputs": [
        {
          "output_type": "execute_result",
          "data": {
            "text/plain": [
              "True"
            ]
          },
          "metadata": {},
          "execution_count": 83
        }
      ]
    },
    {
      "cell_type": "markdown",
      "source": [
        "For PyTorch since it's capable of running compute on the GPU or CPU, it's best practise to setup device agnostic code:\n",
        "\n",
        "[CUDA Semantics](https://pytorch.org/docs/stable/notes/cuda.html)\n",
        "\n",
        "E.G. run on GPU if availablei else defualt to CPU"
      ],
      "metadata": {
        "id": "APOFrD9E-B1Z"
      }
    },
    {
      "cell_type": "code",
      "source": [
        "# Setup device agnostic code\n",
        "\n",
        "device = 'cuda' if torch.cuda.is_available() else 'cpu'\n",
        "device"
      ],
      "metadata": {
        "colab": {
          "base_uri": "https://localhost:8080/",
          "height": 35
        },
        "id": "QFCjKAW60TMs",
        "outputId": "6820e76c-d17c-4a23-f476-1629a8cf12ab"
      },
      "execution_count": 84,
      "outputs": [
        {
          "output_type": "execute_result",
          "data": {
            "text/plain": [
              "'cuda'"
            ],
            "application/vnd.google.colaboratory.intrinsic+json": {
              "type": "string"
            }
          },
          "metadata": {},
          "execution_count": 84
        }
      ]
    },
    {
      "cell_type": "code",
      "source": [
        "# Count number of devices\n",
        "\n",
        "torch.cuda.device_count()"
      ],
      "metadata": {
        "colab": {
          "base_uri": "https://localhost:8080/"
        },
        "id": "DURx5Q4-0TKI",
        "outputId": "9ddd52b8-6de5-4ced-cd4d-0d00aca4e0d5"
      },
      "execution_count": 85,
      "outputs": [
        {
          "output_type": "execute_result",
          "data": {
            "text/plain": [
              "1"
            ]
          },
          "metadata": {},
          "execution_count": 85
        }
      ]
    },
    {
      "cell_type": "markdown",
      "source": [
        "## Putting tensors (or models) on the GPU\n",
        "\n",
        "The reason we want our tensors/models on the GPU is because using a GPU results in faster computations."
      ],
      "metadata": {
        "id": "WiXhbpXO-sAw"
      }
    },
    {
      "cell_type": "code",
      "source": [
        "# Create a tensor (defualt on CPU)\n",
        "\n",
        "tensor = torch.tensor([1,2,3])\n",
        "\n",
        "print(tensor, tensor.device)"
      ],
      "metadata": {
        "colab": {
          "base_uri": "https://localhost:8080/"
        },
        "id": "wAurhLKg0TG9",
        "outputId": "a7339de4-a392-4945-ec2c-3142868cfca4"
      },
      "execution_count": 86,
      "outputs": [
        {
          "output_type": "stream",
          "name": "stdout",
          "text": [
            "tensor([1, 2, 3]) cpu\n"
          ]
        }
      ]
    },
    {
      "cell_type": "code",
      "source": [
        "# Move tensor to GPU (if available)\n",
        "\n",
        "tensor_on_gpu = tensor.to(device)\n",
        "tensor_on_gpu, tensor_on_gpu.device"
      ],
      "metadata": {
        "colab": {
          "base_uri": "https://localhost:8080/"
        },
        "id": "ExtsfM4V0TEI",
        "outputId": "014ad903-b057-4c84-a5d5-c1ade134d9da"
      },
      "execution_count": 87,
      "outputs": [
        {
          "output_type": "execute_result",
          "data": {
            "text/plain": [
              "(tensor([1, 2, 3], device='cuda:0'), device(type='cuda', index=0))"
            ]
          },
          "metadata": {},
          "execution_count": 87
        }
      ]
    },
    {
      "cell_type": "markdown",
      "source": [
        "### 4. Moving tensors back to CPU\n",
        "\n",
        "If tensor on GPU can't transform it to Numpy"
      ],
      "metadata": {
        "id": "UydBZwqP_l31"
      }
    },
    {
      "cell_type": "code",
      "source": [
        "tensor_back_on_cpu = tensor_on_gpu.cpu().numpy()\n",
        "tensor_back_on_cpu"
      ],
      "metadata": {
        "colab": {
          "base_uri": "https://localhost:8080/"
        },
        "id": "DO4_3tW50TBS",
        "outputId": "123676cb-8c90-41b0-bcb5-ab7414c08a3b"
      },
      "execution_count": 88,
      "outputs": [
        {
          "output_type": "execute_result",
          "data": {
            "text/plain": [
              "array([1, 2, 3])"
            ]
          },
          "metadata": {},
          "execution_count": 88
        }
      ]
    },
    {
      "cell_type": "markdown",
      "source": [
        "## Exercises\n",
        "\n",
        "1- Create a random tensor with shape (7, 7). Perform a matrix multiplication on the tensor from 2 with another random tensor with shape (1, 7) (hint: you may have to transpose the second tensor)."
      ],
      "metadata": {
        "id": "esMHdBU9-cYC"
      }
    },
    {
      "cell_type": "code",
      "source": [
        "tensor_A = torch.rand(size=(7,7))\n",
        "tensor_B = torch.rand(size=(1,7))\n",
        "\n",
        "torch.matmul(tensor_A, tensor_B.T)"
      ],
      "metadata": {
        "id": "UCQ_SzT30S9g",
        "colab": {
          "base_uri": "https://localhost:8080/"
        },
        "outputId": "0b17d4e8-f66e-454e-b0f4-eaa3fba31b26"
      },
      "execution_count": 94,
      "outputs": [
        {
          "output_type": "execute_result",
          "data": {
            "text/plain": [
              "tensor([[2.5413],\n",
              "        [2.3552],\n",
              "        [1.9176],\n",
              "        [1.4100],\n",
              "        [1.7897],\n",
              "        [1.8680],\n",
              "        [2.0831]])"
            ]
          },
          "metadata": {},
          "execution_count": 94
        }
      ]
    },
    {
      "cell_type": "markdown",
      "source": [
        "2- Set the random seed to 0. and do calc. again."
      ],
      "metadata": {
        "id": "bc_-8AIG_Vmi"
      }
    },
    {
      "cell_type": "code",
      "source": [
        "RANDOM_SEED = 0\n",
        "\n",
        "torch.manual_seed(RANDOM_SEED)\n",
        "tensor_A = torch.rand(size=(7,7))\n",
        "\n",
        "torch.manual_seed(RANDOM_SEED)\n",
        "tensor_B = torch.rand(size=(1,7))\n",
        "\n",
        "torch.matmul(tensor_A, tensor_B.T)"
      ],
      "metadata": {
        "colab": {
          "base_uri": "https://localhost:8080/"
        },
        "id": "tg_d69Ls--x7",
        "outputId": "dabafee2-704d-4c96-eb4b-afff2b34667c"
      },
      "execution_count": 97,
      "outputs": [
        {
          "output_type": "execute_result",
          "data": {
            "text/plain": [
              "tensor([[1.5985],\n",
              "        [1.1173],\n",
              "        [1.2741],\n",
              "        [1.6838],\n",
              "        [0.8279],\n",
              "        [1.0347],\n",
              "        [1.2498]])"
            ]
          },
          "metadata": {},
          "execution_count": 97
        }
      ]
    },
    {
      "cell_type": "markdown",
      "source": [
        "Speaking of random seeds, we saw how to set it with torch.manual_seed() but is there a GPU equivalent? (hint: you'll need to look into the documentation for torch.cuda for this one)\n",
        "* If there is, set the GPU random seed to 1234."
      ],
      "metadata": {
        "id": "QudzQ-JgATnC"
      }
    },
    {
      "cell_type": "code",
      "source": [
        "torch.cuda.initial_seed()"
      ],
      "metadata": {
        "colab": {
          "base_uri": "https://localhost:8080/"
        },
        "id": "Bp6zKIp4_wQd",
        "outputId": "779befd9-e620-4549-f666-3dcc6bf6ea1c"
      },
      "execution_count": 96,
      "outputs": [
        {
          "output_type": "execute_result",
          "data": {
            "text/plain": [
              "0"
            ]
          },
          "metadata": {},
          "execution_count": 96
        }
      ]
    },
    {
      "cell_type": "code",
      "source": [
        "torch.cuda.manual_seed(1234)"
      ],
      "metadata": {
        "id": "3KtM76hBASOD"
      },
      "execution_count": 98,
      "outputs": []
    },
    {
      "cell_type": "markdown",
      "source": [
        "Create two random tensors of shape (2, 3) and send them both to the GPU (you'll need access to a GPU for this). Set torch.manual_seed(1234) when creating the tensors (this doesn't have to be the GPU random seed)."
      ],
      "metadata": {
        "id": "fbEzp6WIBLWY"
      }
    },
    {
      "cell_type": "code",
      "source": [
        "torch.manual_seed(1234)\n",
        "\n",
        "tensor_A = torch.rand(size=(2,3)).to(device)\n",
        "tensor_B = torch.rand(size=(2,3)).to(device)\n",
        "\n",
        "tensor_A, tensor_B"
      ],
      "metadata": {
        "colab": {
          "base_uri": "https://localhost:8080/"
        },
        "id": "pM7hBizJA82-",
        "outputId": "4c3e2aff-488e-4e1d-b56f-9e90a5a618c1"
      },
      "execution_count": 99,
      "outputs": [
        {
          "output_type": "execute_result",
          "data": {
            "text/plain": [
              "(tensor([[0.0290, 0.4019, 0.2598],\n",
              "         [0.3666, 0.0583, 0.7006]], device='cuda:0'),\n",
              " tensor([[0.0518, 0.4681, 0.6738],\n",
              "         [0.3315, 0.7837, 0.5631]], device='cuda:0'))"
            ]
          },
          "metadata": {},
          "execution_count": 99
        }
      ]
    },
    {
      "cell_type": "markdown",
      "source": [
        "Perform a matrix multiplication on the tensors you created in 6 (again, you may have to adjust the shapes of one of the tensors)."
      ],
      "metadata": {
        "id": "cWL6oSiXBhI2"
      }
    },
    {
      "cell_type": "code",
      "source": [
        "torch.matmul(tensor_A, tensor_B.T)"
      ],
      "metadata": {
        "colab": {
          "base_uri": "https://localhost:8080/"
        },
        "id": "3J_vNmvIBapa",
        "outputId": "15475451-0875-438a-d3ab-482e522cd8a9"
      },
      "execution_count": 101,
      "outputs": [
        {
          "output_type": "execute_result",
          "data": {
            "text/plain": [
              "tensor([[0.3647, 0.4709],\n",
              "        [0.5184, 0.5617]], device='cuda:0')"
            ]
          },
          "metadata": {},
          "execution_count": 101
        }
      ]
    },
    {
      "cell_type": "markdown",
      "source": [
        "Find the maximum and minimum values of the output"
      ],
      "metadata": {
        "id": "aXraGVm8B4sG"
      }
    },
    {
      "cell_type": "code",
      "source": [
        "answer = torch.matmul(tensor_A, tensor_B.T)"
      ],
      "metadata": {
        "id": "53qmvs0MBvMP"
      },
      "execution_count": 102,
      "outputs": []
    },
    {
      "cell_type": "code",
      "source": [
        "torch.min(answer), torch.max(answer)"
      ],
      "metadata": {
        "colab": {
          "base_uri": "https://localhost:8080/"
        },
        "id": "OeJIGlJKBkVU",
        "outputId": "a8e89ccd-0a8d-4cc6-d3c9-754736c46891"
      },
      "execution_count": 104,
      "outputs": [
        {
          "output_type": "execute_result",
          "data": {
            "text/plain": [
              "(tensor(0.3647, device='cuda:0'), tensor(0.5617, device='cuda:0'))"
            ]
          },
          "metadata": {},
          "execution_count": 104
        }
      ]
    },
    {
      "cell_type": "markdown",
      "source": [
        "Find the maximum and minimum index values of the output"
      ],
      "metadata": {
        "id": "MaBIknHNB90o"
      }
    },
    {
      "cell_type": "code",
      "source": [
        "torch.argmin(answer), torch.argmax(answer)"
      ],
      "metadata": {
        "colab": {
          "base_uri": "https://localhost:8080/"
        },
        "id": "MREQyE_2BybF",
        "outputId": "f34b72e5-cf34-4076-96f0-0038ee637858"
      },
      "execution_count": 105,
      "outputs": [
        {
          "output_type": "execute_result",
          "data": {
            "text/plain": [
              "(tensor(0, device='cuda:0'), tensor(3, device='cuda:0'))"
            ]
          },
          "metadata": {},
          "execution_count": 105
        }
      ]
    },
    {
      "cell_type": "markdown",
      "source": [
        "Make a random tensor with shape (1, 1, 1, 10) and then create a new tensor with all the 1 dimensions removed to be left with a tensor of shape (10). Set the seed to 7 when you create it and print out the first tensor and it's shape as well as the second tensor and it's shape.\n",
        "The output should look like:\n",
        "\n",
        "\n",
        "\n",
        "```\n",
        "tensor([[[[0.5349, 0.1988, 0.6592, 0.6569, 0.2328, 0.4251, 0.2071, 0.6297,\n",
        "           0.3653, 0.8513]]]]) torch.Size([1, 1, 1, 10])\n",
        "tensor([0.5349, 0.1988, 0.6592, 0.6569, 0.2328, 0.4251, 0.2071, 0.6297, 0.3653,\n",
        "        0.8513]) torch.Size([10])\n",
        "```\n",
        "\n"
      ],
      "metadata": {
        "id": "3P-3JYq5CKGZ"
      }
    },
    {
      "cell_type": "code",
      "source": [
        "SEED = 7\n",
        "\n",
        "torch.manual_seed(SEED)\n",
        "\n",
        "tensor = torch.rand(size=(1,1,1,10))\n",
        "tensor, tensor.shape\n"
      ],
      "metadata": {
        "colab": {
          "base_uri": "https://localhost:8080/"
        },
        "id": "PBGvju1xCBr7",
        "outputId": "2babb22f-e8b9-4969-d85c-910d8037c463"
      },
      "execution_count": 106,
      "outputs": [
        {
          "output_type": "execute_result",
          "data": {
            "text/plain": [
              "(tensor([[[[0.5349, 0.1988, 0.6592, 0.6569, 0.2328, 0.4251, 0.2071, 0.6297,\n",
              "            0.3653, 0.8513]]]]),\n",
              " torch.Size([1, 1, 1, 10]))"
            ]
          },
          "metadata": {},
          "execution_count": 106
        }
      ]
    },
    {
      "cell_type": "code",
      "source": [
        "tensor.squeeze(), tensor.squeeze().shape"
      ],
      "metadata": {
        "colab": {
          "base_uri": "https://localhost:8080/"
        },
        "id": "rIzLWgsVCn1G",
        "outputId": "b8e40af8-4dc5-49a4-9fca-278af77aa2a5"
      },
      "execution_count": 107,
      "outputs": [
        {
          "output_type": "execute_result",
          "data": {
            "text/plain": [
              "(tensor([0.5349, 0.1988, 0.6592, 0.6569, 0.2328, 0.4251, 0.2071, 0.6297, 0.3653,\n",
              "         0.8513]),\n",
              " torch.Size([10]))"
            ]
          },
          "metadata": {},
          "execution_count": 107
        }
      ]
    },
    {
      "cell_type": "code",
      "source": [],
      "metadata": {
        "id": "VNOKNqo-Cu0M"
      },
      "execution_count": null,
      "outputs": []
    }
  ]
}